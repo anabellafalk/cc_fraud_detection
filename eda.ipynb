{
 "cells": [
  {
   "cell_type": "markdown",
   "id": "21576bd3",
   "metadata": {},
   "source": [
    "Import Libraries"
   ]
  },
  {
   "cell_type": "code",
   "execution_count": null,
   "id": "f9d61acc",
   "metadata": {},
   "outputs": [],
   "source": [
    "import pandas as pd\n",
    "import numpy as np\n",
    "import matplotlib.pyplot as plt\n",
    "import seaborn as sns"
   ]
  },
  {
   "cell_type": "markdown",
   "id": "53098c3e",
   "metadata": {},
   "source": [
    "Import Data"
   ]
  },
  {
   "cell_type": "code",
   "execution_count": 2,
   "id": "697aae18",
   "metadata": {},
   "outputs": [
    {
     "name": "stdout",
     "output_type": "stream",
     "text": [
      "Path to dataset files: /Users/anabellafalk/.cache/kagglehub/datasets/kartik2112/fraud-detection/versions/1\n"
     ]
    }
   ],
   "source": [
    "import kagglehub\n",
    "\n",
    "# Download latest version\n",
    "path = kagglehub.dataset_download(\"kartik2112/fraud-detection\")\n",
    "\n",
    "print(\"Path to dataset files:\", path)\n",
    "\n",
    "file = \"/fraudTrain.csv\"\n",
    "dat = pd.read_csv(path + file)"
   ]
  },
  {
   "cell_type": "markdown",
   "id": "e66b39dc",
   "metadata": {},
   "source": [
    "View Data"
   ]
  },
  {
   "cell_type": "code",
   "execution_count": 9,
   "id": "c034b375",
   "metadata": {},
   "outputs": [
    {
     "data": {
      "text/html": [
       "<div>\n",
       "<style scoped>\n",
       "    .dataframe tbody tr th:only-of-type {\n",
       "        vertical-align: middle;\n",
       "    }\n",
       "\n",
       "    .dataframe tbody tr th {\n",
       "        vertical-align: top;\n",
       "    }\n",
       "\n",
       "    .dataframe thead th {\n",
       "        text-align: right;\n",
       "    }\n",
       "</style>\n",
       "<table border=\"1\" class=\"dataframe\">\n",
       "  <thead>\n",
       "    <tr style=\"text-align: right;\">\n",
       "      <th></th>\n",
       "      <th>trans_date_trans_time</th>\n",
       "      <th>cc_num</th>\n",
       "      <th>merchant</th>\n",
       "      <th>category</th>\n",
       "      <th>amt</th>\n",
       "      <th>first</th>\n",
       "      <th>last</th>\n",
       "      <th>gender</th>\n",
       "      <th>street</th>\n",
       "      <th>city</th>\n",
       "      <th>...</th>\n",
       "      <th>lat</th>\n",
       "      <th>long</th>\n",
       "      <th>city_pop</th>\n",
       "      <th>job</th>\n",
       "      <th>dob</th>\n",
       "      <th>trans_num</th>\n",
       "      <th>unix_time</th>\n",
       "      <th>merch_lat</th>\n",
       "      <th>merch_long</th>\n",
       "      <th>is_fraud</th>\n",
       "    </tr>\n",
       "  </thead>\n",
       "  <tbody>\n",
       "    <tr>\n",
       "      <th>0</th>\n",
       "      <td>2019-01-01 00:00:18</td>\n",
       "      <td>2703186189652095</td>\n",
       "      <td>fraud_Rippin, Kub and Mann</td>\n",
       "      <td>misc_net</td>\n",
       "      <td>4.97</td>\n",
       "      <td>Jennifer</td>\n",
       "      <td>Banks</td>\n",
       "      <td>F</td>\n",
       "      <td>561 Perry Cove</td>\n",
       "      <td>Moravian Falls</td>\n",
       "      <td>...</td>\n",
       "      <td>36.0788</td>\n",
       "      <td>-81.1781</td>\n",
       "      <td>3495</td>\n",
       "      <td>Psychologist, counselling</td>\n",
       "      <td>1988-03-09</td>\n",
       "      <td>0b242abb623afc578575680df30655b9</td>\n",
       "      <td>1325376018</td>\n",
       "      <td>36.011293</td>\n",
       "      <td>-82.048315</td>\n",
       "      <td>0</td>\n",
       "    </tr>\n",
       "    <tr>\n",
       "      <th>1</th>\n",
       "      <td>2019-01-01 00:00:44</td>\n",
       "      <td>630423337322</td>\n",
       "      <td>fraud_Heller, Gutmann and Zieme</td>\n",
       "      <td>grocery_pos</td>\n",
       "      <td>107.23</td>\n",
       "      <td>Stephanie</td>\n",
       "      <td>Gill</td>\n",
       "      <td>F</td>\n",
       "      <td>43039 Riley Greens Suite 393</td>\n",
       "      <td>Orient</td>\n",
       "      <td>...</td>\n",
       "      <td>48.8878</td>\n",
       "      <td>-118.2105</td>\n",
       "      <td>149</td>\n",
       "      <td>Special educational needs teacher</td>\n",
       "      <td>1978-06-21</td>\n",
       "      <td>1f76529f8574734946361c461b024d99</td>\n",
       "      <td>1325376044</td>\n",
       "      <td>49.159047</td>\n",
       "      <td>-118.186462</td>\n",
       "      <td>0</td>\n",
       "    </tr>\n",
       "    <tr>\n",
       "      <th>2</th>\n",
       "      <td>2019-01-01 00:00:51</td>\n",
       "      <td>38859492057661</td>\n",
       "      <td>fraud_Lind-Buckridge</td>\n",
       "      <td>entertainment</td>\n",
       "      <td>220.11</td>\n",
       "      <td>Edward</td>\n",
       "      <td>Sanchez</td>\n",
       "      <td>M</td>\n",
       "      <td>594 White Dale Suite 530</td>\n",
       "      <td>Malad City</td>\n",
       "      <td>...</td>\n",
       "      <td>42.1808</td>\n",
       "      <td>-112.2620</td>\n",
       "      <td>4154</td>\n",
       "      <td>Nature conservation officer</td>\n",
       "      <td>1962-01-19</td>\n",
       "      <td>a1a22d70485983eac12b5b88dad1cf95</td>\n",
       "      <td>1325376051</td>\n",
       "      <td>43.150704</td>\n",
       "      <td>-112.154481</td>\n",
       "      <td>0</td>\n",
       "    </tr>\n",
       "    <tr>\n",
       "      <th>3</th>\n",
       "      <td>2019-01-01 00:01:16</td>\n",
       "      <td>3534093764340240</td>\n",
       "      <td>fraud_Kutch, Hermiston and Farrell</td>\n",
       "      <td>gas_transport</td>\n",
       "      <td>45.00</td>\n",
       "      <td>Jeremy</td>\n",
       "      <td>White</td>\n",
       "      <td>M</td>\n",
       "      <td>9443 Cynthia Court Apt. 038</td>\n",
       "      <td>Boulder</td>\n",
       "      <td>...</td>\n",
       "      <td>46.2306</td>\n",
       "      <td>-112.1138</td>\n",
       "      <td>1939</td>\n",
       "      <td>Patent attorney</td>\n",
       "      <td>1967-01-12</td>\n",
       "      <td>6b849c168bdad6f867558c3793159a81</td>\n",
       "      <td>1325376076</td>\n",
       "      <td>47.034331</td>\n",
       "      <td>-112.561071</td>\n",
       "      <td>0</td>\n",
       "    </tr>\n",
       "    <tr>\n",
       "      <th>4</th>\n",
       "      <td>2019-01-01 00:03:06</td>\n",
       "      <td>375534208663984</td>\n",
       "      <td>fraud_Keeling-Crist</td>\n",
       "      <td>misc_pos</td>\n",
       "      <td>41.96</td>\n",
       "      <td>Tyler</td>\n",
       "      <td>Garcia</td>\n",
       "      <td>M</td>\n",
       "      <td>408 Bradley Rest</td>\n",
       "      <td>Doe Hill</td>\n",
       "      <td>...</td>\n",
       "      <td>38.4207</td>\n",
       "      <td>-79.4629</td>\n",
       "      <td>99</td>\n",
       "      <td>Dance movement psychotherapist</td>\n",
       "      <td>1986-03-28</td>\n",
       "      <td>a41d7549acf90789359a9aa5346dcb46</td>\n",
       "      <td>1325376186</td>\n",
       "      <td>38.674999</td>\n",
       "      <td>-78.632459</td>\n",
       "      <td>0</td>\n",
       "    </tr>\n",
       "  </tbody>\n",
       "</table>\n",
       "<p>5 rows × 22 columns</p>\n",
       "</div>"
      ],
      "text/plain": [
       "  trans_date_trans_time            cc_num                            merchant  \\\n",
       "0   2019-01-01 00:00:18  2703186189652095          fraud_Rippin, Kub and Mann   \n",
       "1   2019-01-01 00:00:44      630423337322     fraud_Heller, Gutmann and Zieme   \n",
       "2   2019-01-01 00:00:51    38859492057661                fraud_Lind-Buckridge   \n",
       "3   2019-01-01 00:01:16  3534093764340240  fraud_Kutch, Hermiston and Farrell   \n",
       "4   2019-01-01 00:03:06   375534208663984                 fraud_Keeling-Crist   \n",
       "\n",
       "        category     amt      first     last gender  \\\n",
       "0       misc_net    4.97   Jennifer    Banks      F   \n",
       "1    grocery_pos  107.23  Stephanie     Gill      F   \n",
       "2  entertainment  220.11     Edward  Sanchez      M   \n",
       "3  gas_transport   45.00     Jeremy    White      M   \n",
       "4       misc_pos   41.96      Tyler   Garcia      M   \n",
       "\n",
       "                         street            city  ...      lat      long  \\\n",
       "0                561 Perry Cove  Moravian Falls  ...  36.0788  -81.1781   \n",
       "1  43039 Riley Greens Suite 393          Orient  ...  48.8878 -118.2105   \n",
       "2      594 White Dale Suite 530      Malad City  ...  42.1808 -112.2620   \n",
       "3   9443 Cynthia Court Apt. 038         Boulder  ...  46.2306 -112.1138   \n",
       "4              408 Bradley Rest        Doe Hill  ...  38.4207  -79.4629   \n",
       "\n",
       "   city_pop                                job         dob  \\\n",
       "0      3495          Psychologist, counselling  1988-03-09   \n",
       "1       149  Special educational needs teacher  1978-06-21   \n",
       "2      4154        Nature conservation officer  1962-01-19   \n",
       "3      1939                    Patent attorney  1967-01-12   \n",
       "4        99     Dance movement psychotherapist  1986-03-28   \n",
       "\n",
       "                          trans_num   unix_time  merch_lat  merch_long  \\\n",
       "0  0b242abb623afc578575680df30655b9  1325376018  36.011293  -82.048315   \n",
       "1  1f76529f8574734946361c461b024d99  1325376044  49.159047 -118.186462   \n",
       "2  a1a22d70485983eac12b5b88dad1cf95  1325376051  43.150704 -112.154481   \n",
       "3  6b849c168bdad6f867558c3793159a81  1325376076  47.034331 -112.561071   \n",
       "4  a41d7549acf90789359a9aa5346dcb46  1325376186  38.674999  -78.632459   \n",
       "\n",
       "   is_fraud  \n",
       "0         0  \n",
       "1         0  \n",
       "2         0  \n",
       "3         0  \n",
       "4         0  \n",
       "\n",
       "[5 rows x 22 columns]"
      ]
     },
     "execution_count": 9,
     "metadata": {},
     "output_type": "execute_result"
    }
   ],
   "source": [
    "dat.head()"
   ]
  },
  {
   "cell_type": "code",
   "execution_count": 9,
   "id": "7e1c791a",
   "metadata": {},
   "outputs": [
    {
     "data": {
      "text/plain": [
       "(1296674, 23)"
      ]
     },
     "execution_count": 9,
     "metadata": {},
     "output_type": "execute_result"
    }
   ],
   "source": [
    "dat.shape"
   ]
  },
  {
   "cell_type": "code",
   "execution_count": 10,
   "id": "f1e57c4e",
   "metadata": {},
   "outputs": [
    {
     "data": {
      "text/plain": [
       "Index(['Unnamed: 0', 'trans_date_trans_time', 'cc_num', 'merchant', 'category',\n",
       "       'amt', 'first', 'last', 'gender', 'street', 'city', 'state', 'zip',\n",
       "       'lat', 'long', 'city_pop', 'job', 'dob', 'trans_num', 'unix_time',\n",
       "       'merch_lat', 'merch_long', 'is_fraud'],\n",
       "      dtype='object')"
      ]
     },
     "execution_count": 10,
     "metadata": {},
     "output_type": "execute_result"
    }
   ],
   "source": [
    "dat.columns"
   ]
  },
  {
   "cell_type": "code",
   "execution_count": 3,
   "id": "1b0486a2",
   "metadata": {},
   "outputs": [],
   "source": [
    "dat = dat.drop('Unnamed: 0', axis = 1)"
   ]
  },
  {
   "cell_type": "code",
   "execution_count": 34,
   "id": "3141c96f",
   "metadata": {},
   "outputs": [
    {
     "data": {
      "text/plain": [
       "(1296675, 22)"
      ]
     },
     "execution_count": 34,
     "metadata": {},
     "output_type": "execute_result"
    }
   ],
   "source": [
    "dat.shape"
   ]
  },
  {
   "cell_type": "markdown",
   "id": "b209ef0a",
   "metadata": {},
   "source": [
    "## Split into Training and Validation"
   ]
  },
  {
   "cell_type": "code",
   "execution_count": 4,
   "id": "a95a4bbd",
   "metadata": {},
   "outputs": [
    {
     "name": "stdout",
     "output_type": "stream",
     "text": [
      "Numer of unique cc #s: 983\n"
     ]
    }
   ],
   "source": [
    "n_cc = dat[\"cc_num\"].nunique()\n",
    "print(\"Numer of unique cc #s: \" + str(n_cc))"
   ]
  },
  {
   "cell_type": "code",
   "execution_count": 5,
   "id": "86f84237",
   "metadata": {},
   "outputs": [],
   "source": [
    "# Randomly sample cc #s for validation\n",
    "np.random.seed(42)  # set seed\n",
    "unique_cc = dat[\"cc_num\"].unique()\n",
    "cc_val = np.random.choice(unique_cc, size = int(0.3 * n_cc))"
   ]
  },
  {
   "cell_type": "code",
   "execution_count": 6,
   "id": "cba037ef",
   "metadata": {},
   "outputs": [],
   "source": [
    "# Split data\n",
    "dat_val = dat[dat[\"cc_num\"].isin(cc_val)]\n",
    "dat_tr = dat[~dat[\"cc_num\"].isin(cc_val)]"
   ]
  },
  {
   "cell_type": "code",
   "execution_count": 38,
   "id": "8d033e92",
   "metadata": {},
   "outputs": [
    {
     "name": "stdout",
     "output_type": "stream",
     "text": [
      "Shape of validation set: (319622, 22)\n",
      "Shape of training set: (977053, 22)\n"
     ]
    }
   ],
   "source": [
    "print(\"Shape of validation set: \" + str(dat_val.shape))\n",
    "print(\"Shape of training set: \" + str(dat_tr.shape))"
   ]
  },
  {
   "cell_type": "code",
   "execution_count": 8,
   "id": "98086e34",
   "metadata": {},
   "outputs": [
    {
     "data": {
      "text/plain": [
       "0.2464935315325737"
      ]
     },
     "execution_count": 8,
     "metadata": {},
     "output_type": "execute_result"
    }
   ],
   "source": [
    "# Check proportion in validation\n",
    "dat_val.shape[0] / dat.shape[0]"
   ]
  },
  {
   "cell_type": "code",
   "execution_count": 15,
   "id": "8702e7c4",
   "metadata": {},
   "outputs": [
    {
     "name": "stdout",
     "output_type": "stream",
     "text": [
      "Training fraud counts:\n",
      "0    971432\n",
      "1      5621\n",
      "Name: is_fraud, dtype: int64\n",
      "\n",
      "\n",
      "Validation fraud counts:\n",
      "0    317737\n",
      "1      1885\n",
      "Name: is_fraud, dtype: int64\n"
     ]
    }
   ],
   "source": [
    "fraud_counts_tr = dat_tr['is_fraud'].value_counts()\n",
    "fraud_counts_val = dat_val['is_fraud'].value_counts()\n",
    "\n",
    "print(\"Training fraud counts:\")\n",
    "print(fraud_counts_tr)\n",
    "print(\"\\n\")\n",
    "print(\"Validation fraud counts:\")\n",
    "print(fraud_counts_val)"
   ]
  },
  {
   "cell_type": "code",
   "execution_count": 20,
   "id": "bed4bdfc",
   "metadata": {},
   "outputs": [
    {
     "name": "stdout",
     "output_type": "stream",
     "text": [
      "Proportion of training data that are fraud: 0.0058\n",
      "Proportion of validation data that are fraud: 0.0059\n"
     ]
    }
   ],
   "source": [
    "print(\"Proportion of training data that are fraud: \" + str(round(fraud_counts_tr[1]/fraud_counts_tr[0], ndigits = 4)))\n",
    "print(\"Proportion of validation data that are fraud: \" + str(round(fraud_counts_val[1]/fraud_counts_val[0], ndigits = 4)))"
   ]
  },
  {
   "cell_type": "code",
   "execution_count": null,
   "id": "b3c13ddc",
   "metadata": {},
   "outputs": [
    {
     "data": {
      "image/png": "[encoded data removed]",
      "text/plain": [
       "<Figure size 864x360 with 2 Axes>"
      ]
     },
     "metadata": {
      "needs_background": "light"
     },
     "output_type": "display_data"
    }
   ],
   "source": [
    "# Check distribution of target in training and validation\n",
    "fig, axs = plt.subplots(1, 2, figsize=(12, 5))  # Two plots side by side\n",
    "\n",
    "axs[0].bar(fraud_counts_tr.index, fraud_counts_tr.values)\n",
    "axs[0].set_title('Train')\n",
    "\n",
    "axs[1].bar(fraud_counts_val.index, fraud_counts_val.values)\n",
    "axs[1].set_title('Validation')\n",
    "\n",
    "plt.tight_layout()\n",
    "plt.show()"
   ]
  },
  {
   "cell_type": "markdown",
   "id": "c8226363",
   "metadata": {},
   "source": [
    "## Explore Predictor Variables"
   ]
  },
  {
   "cell_type": "markdown",
   "id": "665795c2",
   "metadata": {},
   "source": [
    "Check number of years"
   ]
  },
  {
   "cell_type": "code",
   "execution_count": 48,
   "id": "5978ad80",
   "metadata": {},
   "outputs": [
    {
     "data": {
      "text/plain": [
       "str"
      ]
     },
     "execution_count": 48,
     "metadata": {},
     "output_type": "execute_result"
    }
   ],
   "source": [
    "type(dat_tr['trans_date_trans_time'][0])"
   ]
  },
  {
   "cell_type": "code",
   "execution_count": 53,
   "id": "f808361f",
   "metadata": {},
   "outputs": [
    {
     "name": "stderr",
     "output_type": "stream",
     "text": [
      "/var/folders/4s/wcc0tbwn4_149r662n1p67x80000gp/T/ipykernel_21458/1991342242.py:1: SettingWithCopyWarning: \n",
      "A value is trying to be set on a copy of a slice from a DataFrame.\n",
      "Try using .loc[row_indexer,col_indexer] = value instead\n",
      "\n",
      "See the caveats in the documentation: https://pandas.pydata.org/pandas-docs/stable/user_guide/indexing.html#returning-a-view-versus-a-copy\n",
      "  dat_tr['trans_year'] = dat_tr['trans_date_trans_time'].apply(lambda x: x[:4])\n"
     ]
    }
   ],
   "source": [
    "dat_tr['trans_year'] = dat_tr['trans_date_trans_time'].apply(lambda x: x[:4])"
   ]
  },
  {
   "cell_type": "code",
   "execution_count": 54,
   "id": "94e339d8",
   "metadata": {},
   "outputs": [
    {
     "data": {
      "text/plain": [
       "0          2019\n",
       "2          2019\n",
       "3          2019\n",
       "5          2019\n",
       "6          2019\n",
       "           ... \n",
       "1296669    2020\n",
       "1296670    2020\n",
       "1296671    2020\n",
       "1296673    2020\n",
       "1296674    2020\n",
       "Name: trans_year, Length: 977053, dtype: object"
      ]
     },
     "execution_count": 54,
     "metadata": {},
     "output_type": "execute_result"
    }
   ],
   "source": [
    "dat_tr['trans_year']"
   ]
  },
  {
   "cell_type": "code",
   "execution_count": 58,
   "id": "66bf6192",
   "metadata": {},
   "outputs": [
    {
     "data": {
      "text/plain": [
       "2019    696732\n",
       "2020    280321\n",
       "Name: trans_year, dtype: int64"
      ]
     },
     "execution_count": 58,
     "metadata": {},
     "output_type": "execute_result"
    }
   ],
   "source": [
    "dat_tr['trans_year'].value_counts()"
   ]
  },
  {
   "cell_type": "markdown",
   "id": "4f319191",
   "metadata": {},
   "source": [
    "Explore data per cc_num"
   ]
  },
  {
   "cell_type": "code",
   "execution_count": 38,
   "id": "6843147d",
   "metadata": {},
   "outputs": [
    {
     "data": {
      "text/plain": [
       "739"
      ]
     },
     "execution_count": 38,
     "metadata": {},
     "output_type": "execute_result"
    }
   ],
   "source": [
    "dat_tr['cc_num'].nunique()"
   ]
  },
  {
   "cell_type": "code",
   "execution_count": 40,
   "id": "9ef840bb",
   "metadata": {},
   "outputs": [
    {
     "data": {
      "text/plain": [
       "977053"
      ]
     },
     "execution_count": 40,
     "metadata": {},
     "output_type": "execute_result"
    }
   ],
   "source": [
    "dat_tr.shape[0]"
   ]
  },
  {
   "cell_type": "code",
   "execution_count": 43,
   "id": "7920cb84",
   "metadata": {},
   "outputs": [
    {
     "name": "stdout",
     "output_type": "stream",
     "text": [
      "Mean number of rows per cc_num: 1322.128552097429\n"
     ]
    }
   ],
   "source": [
    "print(\"Mean number of rows per cc_num: \" + str(dat_tr.shape[0]/dat_tr['cc_num'].nunique()))"
   ]
  },
  {
   "cell_type": "code",
   "execution_count": 37,
   "id": "83a7e670",
   "metadata": {},
   "outputs": [
    {
     "name": "stdout",
     "output_type": "stream",
     "text": [
      "(2028, 22)\n"
     ]
    },
    {
     "data": {
      "text/html": [
       "<div>\n",
       "<style scoped>\n",
       "    .dataframe tbody tr th:only-of-type {\n",
       "        vertical-align: middle;\n",
       "    }\n",
       "\n",
       "    .dataframe tbody tr th {\n",
       "        vertical-align: top;\n",
       "    }\n",
       "\n",
       "    .dataframe thead th {\n",
       "        text-align: right;\n",
       "    }\n",
       "</style>\n",
       "<table border=\"1\" class=\"dataframe\">\n",
       "  <thead>\n",
       "    <tr style=\"text-align: right;\">\n",
       "      <th></th>\n",
       "      <th>trans_date_trans_time</th>\n",
       "      <th>cc_num</th>\n",
       "      <th>merchant</th>\n",
       "      <th>category</th>\n",
       "      <th>amt</th>\n",
       "      <th>first</th>\n",
       "      <th>last</th>\n",
       "      <th>gender</th>\n",
       "      <th>street</th>\n",
       "      <th>city</th>\n",
       "      <th>...</th>\n",
       "      <th>lat</th>\n",
       "      <th>long</th>\n",
       "      <th>city_pop</th>\n",
       "      <th>job</th>\n",
       "      <th>dob</th>\n",
       "      <th>trans_num</th>\n",
       "      <th>unix_time</th>\n",
       "      <th>merch_lat</th>\n",
       "      <th>merch_long</th>\n",
       "      <th>is_fraud</th>\n",
       "    </tr>\n",
       "  </thead>\n",
       "  <tbody>\n",
       "    <tr>\n",
       "      <th>0</th>\n",
       "      <td>2019-01-01 00:00:18</td>\n",
       "      <td>2703186189652095</td>\n",
       "      <td>fraud_Rippin, Kub and Mann</td>\n",
       "      <td>misc_net</td>\n",
       "      <td>4.97</td>\n",
       "      <td>Jennifer</td>\n",
       "      <td>Banks</td>\n",
       "      <td>F</td>\n",
       "      <td>561 Perry Cove</td>\n",
       "      <td>Moravian Falls</td>\n",
       "      <td>...</td>\n",
       "      <td>36.0788</td>\n",
       "      <td>-81.1781</td>\n",
       "      <td>3495</td>\n",
       "      <td>Psychologist, counselling</td>\n",
       "      <td>1988-03-09</td>\n",
       "      <td>0b242abb623afc578575680df30655b9</td>\n",
       "      <td>1325376018</td>\n",
       "      <td>36.011293</td>\n",
       "      <td>-82.048315</td>\n",
       "      <td>0</td>\n",
       "    </tr>\n",
       "    <tr>\n",
       "      <th>1565</th>\n",
       "      <td>2019-01-01 16:53:34</td>\n",
       "      <td>2703186189652095</td>\n",
       "      <td>fraud_Ruecker-Mayert</td>\n",
       "      <td>kids_pets</td>\n",
       "      <td>114.79</td>\n",
       "      <td>Jennifer</td>\n",
       "      <td>Banks</td>\n",
       "      <td>F</td>\n",
       "      <td>561 Perry Cove</td>\n",
       "      <td>Moravian Falls</td>\n",
       "      <td>...</td>\n",
       "      <td>36.0788</td>\n",
       "      <td>-81.1781</td>\n",
       "      <td>3495</td>\n",
       "      <td>Psychologist, counselling</td>\n",
       "      <td>1988-03-09</td>\n",
       "      <td>fadb4dafef079a1a0381360bbe80b3c0</td>\n",
       "      <td>1325436814</td>\n",
       "      <td>35.083586</td>\n",
       "      <td>-80.625951</td>\n",
       "      <td>0</td>\n",
       "    </tr>\n",
       "    <tr>\n",
       "      <th>2299</th>\n",
       "      <td>2019-01-01 23:02:37</td>\n",
       "      <td>2703186189652095</td>\n",
       "      <td>fraud_Pacocha-Weissnat</td>\n",
       "      <td>kids_pets</td>\n",
       "      <td>16.55</td>\n",
       "      <td>Jennifer</td>\n",
       "      <td>Banks</td>\n",
       "      <td>F</td>\n",
       "      <td>561 Perry Cove</td>\n",
       "      <td>Moravian Falls</td>\n",
       "      <td>...</td>\n",
       "      <td>36.0788</td>\n",
       "      <td>-81.1781</td>\n",
       "      <td>3495</td>\n",
       "      <td>Psychologist, counselling</td>\n",
       "      <td>1988-03-09</td>\n",
       "      <td>1318500aff9644abe2e4a8c562eab7bc</td>\n",
       "      <td>1325458957</td>\n",
       "      <td>35.532409</td>\n",
       "      <td>-82.170017</td>\n",
       "      <td>0</td>\n",
       "    </tr>\n",
       "    <tr>\n",
       "      <th>3606</th>\n",
       "      <td>2019-01-03 01:40:38</td>\n",
       "      <td>2703186189652095</td>\n",
       "      <td>fraud_Kuhn LLC</td>\n",
       "      <td>misc_net</td>\n",
       "      <td>27.70</td>\n",
       "      <td>Jennifer</td>\n",
       "      <td>Banks</td>\n",
       "      <td>F</td>\n",
       "      <td>561 Perry Cove</td>\n",
       "      <td>Moravian Falls</td>\n",
       "      <td>...</td>\n",
       "      <td>36.0788</td>\n",
       "      <td>-81.1781</td>\n",
       "      <td>3495</td>\n",
       "      <td>Psychologist, counselling</td>\n",
       "      <td>1988-03-09</td>\n",
       "      <td>bcc4f7493418d8937162bfec626216cc</td>\n",
       "      <td>1325554838</td>\n",
       "      <td>35.315851</td>\n",
       "      <td>-80.666723</td>\n",
       "      <td>0</td>\n",
       "    </tr>\n",
       "    <tr>\n",
       "      <th>4227</th>\n",
       "      <td>2019-01-03 15:24:11</td>\n",
       "      <td>2703186189652095</td>\n",
       "      <td>fraud_Nicolas, Hills and McGlynn</td>\n",
       "      <td>entertainment</td>\n",
       "      <td>43.72</td>\n",
       "      <td>Jennifer</td>\n",
       "      <td>Banks</td>\n",
       "      <td>F</td>\n",
       "      <td>561 Perry Cove</td>\n",
       "      <td>Moravian Falls</td>\n",
       "      <td>...</td>\n",
       "      <td>36.0788</td>\n",
       "      <td>-81.1781</td>\n",
       "      <td>3495</td>\n",
       "      <td>Psychologist, counselling</td>\n",
       "      <td>1988-03-09</td>\n",
       "      <td>0f63b8ad4ac9bc6b77e60197ffa6aa24</td>\n",
       "      <td>1325604251</td>\n",
       "      <td>36.956094</td>\n",
       "      <td>-80.343520</td>\n",
       "      <td>0</td>\n",
       "    </tr>\n",
       "  </tbody>\n",
       "</table>\n",
       "<p>5 rows × 22 columns</p>\n",
       "</div>"
      ],
      "text/plain": [
       "     trans_date_trans_time            cc_num  \\\n",
       "0      2019-01-01 00:00:18  2703186189652095   \n",
       "1565   2019-01-01 16:53:34  2703186189652095   \n",
       "2299   2019-01-01 23:02:37  2703186189652095   \n",
       "3606   2019-01-03 01:40:38  2703186189652095   \n",
       "4227   2019-01-03 15:24:11  2703186189652095   \n",
       "\n",
       "                              merchant       category     amt     first  \\\n",
       "0           fraud_Rippin, Kub and Mann       misc_net    4.97  Jennifer   \n",
       "1565              fraud_Ruecker-Mayert      kids_pets  114.79  Jennifer   \n",
       "2299            fraud_Pacocha-Weissnat      kids_pets   16.55  Jennifer   \n",
       "3606                    fraud_Kuhn LLC       misc_net   27.70  Jennifer   \n",
       "4227  fraud_Nicolas, Hills and McGlynn  entertainment   43.72  Jennifer   \n",
       "\n",
       "       last gender          street            city  ...      lat     long  \\\n",
       "0     Banks      F  561 Perry Cove  Moravian Falls  ...  36.0788 -81.1781   \n",
       "1565  Banks      F  561 Perry Cove  Moravian Falls  ...  36.0788 -81.1781   \n",
       "2299  Banks      F  561 Perry Cove  Moravian Falls  ...  36.0788 -81.1781   \n",
       "3606  Banks      F  561 Perry Cove  Moravian Falls  ...  36.0788 -81.1781   \n",
       "4227  Banks      F  561 Perry Cove  Moravian Falls  ...  36.0788 -81.1781   \n",
       "\n",
       "      city_pop                        job         dob  \\\n",
       "0         3495  Psychologist, counselling  1988-03-09   \n",
       "1565      3495  Psychologist, counselling  1988-03-09   \n",
       "2299      3495  Psychologist, counselling  1988-03-09   \n",
       "3606      3495  Psychologist, counselling  1988-03-09   \n",
       "4227      3495  Psychologist, counselling  1988-03-09   \n",
       "\n",
       "                             trans_num   unix_time  merch_lat  merch_long  \\\n",
       "0     0b242abb623afc578575680df30655b9  1325376018  36.011293  -82.048315   \n",
       "1565  fadb4dafef079a1a0381360bbe80b3c0  1325436814  35.083586  -80.625951   \n",
       "2299  1318500aff9644abe2e4a8c562eab7bc  1325458957  35.532409  -82.170017   \n",
       "3606  bcc4f7493418d8937162bfec626216cc  1325554838  35.315851  -80.666723   \n",
       "4227  0f63b8ad4ac9bc6b77e60197ffa6aa24  1325604251  36.956094  -80.343520   \n",
       "\n",
       "      is_fraud  \n",
       "0            0  \n",
       "1565         0  \n",
       "2299         0  \n",
       "3606         0  \n",
       "4227         0  \n",
       "\n",
       "[5 rows x 22 columns]"
      ]
     },
     "execution_count": 37,
     "metadata": {},
     "output_type": "execute_result"
    }
   ],
   "source": [
    "example_card = dat_tr[dat_tr['cc_num'] == 2703186189652095]\n",
    "print(example_card.shape)\n",
    "example_card.head()"
   ]
  },
  {
   "cell_type": "markdown",
   "id": "3bc17fb0",
   "metadata": {},
   "source": [
    "Check if following variables are consistent between each cc_num"
   ]
  },
  {
   "cell_type": "code",
   "execution_count": 60,
   "id": "73fc8579",
   "metadata": {},
   "outputs": [],
   "source": [
    "identity_cols = ['first', 'last', 'gender', 'dob']\n",
    "territory_cols = ['street', 'city', 'state', 'zip', 'lat', 'long', 'city_pop']\n",
    "career_cols = ['job']"
   ]
  },
  {
   "cell_type": "code",
   "execution_count": null,
   "id": "c5701a76",
   "metadata": {},
   "outputs": [
    {
     "data": {
      "text/html": [
       "<div>\n",
       "<style scoped>\n",
       "    .dataframe tbody tr th:only-of-type {\n",
       "        vertical-align: middle;\n",
       "    }\n",
       "\n",
       "    .dataframe tbody tr th {\n",
       "        vertical-align: top;\n",
       "    }\n",
       "\n",
       "    .dataframe thead th {\n",
       "        text-align: right;\n",
       "    }\n",
       "</style>\n",
       "<table border=\"1\" class=\"dataframe\">\n",
       "  <thead>\n",
       "    <tr style=\"text-align: right;\">\n",
       "      <th></th>\n",
       "      <th>first</th>\n",
       "      <th>last</th>\n",
       "      <th>gender</th>\n",
       "      <th>dob</th>\n",
       "    </tr>\n",
       "    <tr>\n",
       "      <th>cc_num</th>\n",
       "      <th></th>\n",
       "      <th></th>\n",
       "      <th></th>\n",
       "      <th></th>\n",
       "    </tr>\n",
       "  </thead>\n",
       "  <tbody>\n",
       "    <tr>\n",
       "      <th>60422928733</th>\n",
       "      <td>1</td>\n",
       "      <td>1</td>\n",
       "      <td>1</td>\n",
       "      <td>1</td>\n",
       "    </tr>\n",
       "    <tr>\n",
       "      <th>60423098130</th>\n",
       "      <td>1</td>\n",
       "      <td>1</td>\n",
       "      <td>1</td>\n",
       "      <td>1</td>\n",
       "    </tr>\n",
       "    <tr>\n",
       "      <th>60427851591</th>\n",
       "      <td>1</td>\n",
       "      <td>1</td>\n",
       "      <td>1</td>\n",
       "      <td>1</td>\n",
       "    </tr>\n",
       "    <tr>\n",
       "      <th>501802953619</th>\n",
       "      <td>1</td>\n",
       "      <td>1</td>\n",
       "      <td>1</td>\n",
       "      <td>1</td>\n",
       "    </tr>\n",
       "    <tr>\n",
       "      <th>501818133297</th>\n",
       "      <td>1</td>\n",
       "      <td>1</td>\n",
       "      <td>1</td>\n",
       "      <td>1</td>\n",
       "    </tr>\n",
       "    <tr>\n",
       "      <th>...</th>\n",
       "      <td>...</td>\n",
       "      <td>...</td>\n",
       "      <td>...</td>\n",
       "      <td>...</td>\n",
       "    </tr>\n",
       "    <tr>\n",
       "      <th>4911818930706644725</th>\n",
       "      <td>1</td>\n",
       "      <td>1</td>\n",
       "      <td>1</td>\n",
       "      <td>1</td>\n",
       "    </tr>\n",
       "    <tr>\n",
       "      <th>4956828990005111019</th>\n",
       "      <td>1</td>\n",
       "      <td>1</td>\n",
       "      <td>1</td>\n",
       "      <td>1</td>\n",
       "    </tr>\n",
       "    <tr>\n",
       "      <th>4958589671582726883</th>\n",
       "      <td>1</td>\n",
       "      <td>1</td>\n",
       "      <td>1</td>\n",
       "      <td>1</td>\n",
       "    </tr>\n",
       "    <tr>\n",
       "      <th>4989847570577635369</th>\n",
       "      <td>1</td>\n",
       "      <td>1</td>\n",
       "      <td>1</td>\n",
       "      <td>1</td>\n",
       "    </tr>\n",
       "    <tr>\n",
       "      <th>4992346398065154184</th>\n",
       "      <td>1</td>\n",
       "      <td>1</td>\n",
       "      <td>1</td>\n",
       "      <td>1</td>\n",
       "    </tr>\n",
       "  </tbody>\n",
       "</table>\n",
       "<p>739 rows × 4 columns</p>\n",
       "</div>"
      ],
      "text/plain": [
       "                     first  last  gender  dob\n",
       "cc_num                                       \n",
       "60422928733              1     1       1    1\n",
       "60423098130              1     1       1    1\n",
       "60427851591              1     1       1    1\n",
       "501802953619             1     1       1    1\n",
       "501818133297             1     1       1    1\n",
       "...                    ...   ...     ...  ...\n",
       "4911818930706644725      1     1       1    1\n",
       "4956828990005111019      1     1       1    1\n",
       "4958589671582726883      1     1       1    1\n",
       "4989847570577635369      1     1       1    1\n",
       "4992346398065154184      1     1       1    1\n",
       "\n",
       "[739 rows x 4 columns]"
      ]
     },
     "execution_count": 65,
     "metadata": {},
     "output_type": "execute_result"
    }
   ],
   "source": [
    "# Aggregate data by cc_num then check identity is the same\n",
    "dat_tr.groupby('cc_num')[identity_cols].nunique()"
   ]
  },
  {
   "cell_type": "code",
   "execution_count": 67,
   "id": "7fbddd57",
   "metadata": {},
   "outputs": [
    {
     "data": {
      "text/plain": [
       "first     True\n",
       "last      True\n",
       "gender    True\n",
       "dob       True\n",
       "dtype: bool"
      ]
     },
     "execution_count": 67,
     "metadata": {},
     "output_type": "execute_result"
    }
   ],
   "source": [
    "(dat_tr.groupby('cc_num')[identity_cols].nunique()[identity_cols] == 1).all()"
   ]
  },
  {
   "cell_type": "code",
   "execution_count": null,
   "id": "41596534",
   "metadata": {},
   "outputs": [
    {
     "data": {
      "text/html": [
       "<div>\n",
       "<style scoped>\n",
       "    .dataframe tbody tr th:only-of-type {\n",
       "        vertical-align: middle;\n",
       "    }\n",
       "\n",
       "    .dataframe tbody tr th {\n",
       "        vertical-align: top;\n",
       "    }\n",
       "\n",
       "    .dataframe thead th {\n",
       "        text-align: right;\n",
       "    }\n",
       "</style>\n",
       "<table border=\"1\" class=\"dataframe\">\n",
       "  <thead>\n",
       "    <tr style=\"text-align: right;\">\n",
       "      <th></th>\n",
       "      <th>street</th>\n",
       "      <th>city</th>\n",
       "      <th>state</th>\n",
       "      <th>zip</th>\n",
       "      <th>lat</th>\n",
       "      <th>long</th>\n",
       "      <th>city_pop</th>\n",
       "    </tr>\n",
       "    <tr>\n",
       "      <th>cc_num</th>\n",
       "      <th></th>\n",
       "      <th></th>\n",
       "      <th></th>\n",
       "      <th></th>\n",
       "      <th></th>\n",
       "      <th></th>\n",
       "      <th></th>\n",
       "    </tr>\n",
       "  </thead>\n",
       "  <tbody>\n",
       "    <tr>\n",
       "      <th>60422928733</th>\n",
       "      <td>1</td>\n",
       "      <td>1</td>\n",
       "      <td>1</td>\n",
       "      <td>1</td>\n",
       "      <td>1</td>\n",
       "      <td>1</td>\n",
       "      <td>1</td>\n",
       "    </tr>\n",
       "    <tr>\n",
       "      <th>60423098130</th>\n",
       "      <td>1</td>\n",
       "      <td>1</td>\n",
       "      <td>1</td>\n",
       "      <td>1</td>\n",
       "      <td>1</td>\n",
       "      <td>1</td>\n",
       "      <td>1</td>\n",
       "    </tr>\n",
       "    <tr>\n",
       "      <th>60427851591</th>\n",
       "      <td>1</td>\n",
       "      <td>1</td>\n",
       "      <td>1</td>\n",
       "      <td>1</td>\n",
       "      <td>1</td>\n",
       "      <td>1</td>\n",
       "      <td>1</td>\n",
       "    </tr>\n",
       "    <tr>\n",
       "      <th>501802953619</th>\n",
       "      <td>1</td>\n",
       "      <td>1</td>\n",
       "      <td>1</td>\n",
       "      <td>1</td>\n",
       "      <td>1</td>\n",
       "      <td>1</td>\n",
       "      <td>1</td>\n",
       "    </tr>\n",
       "    <tr>\n",
       "      <th>501818133297</th>\n",
       "      <td>1</td>\n",
       "      <td>1</td>\n",
       "      <td>1</td>\n",
       "      <td>1</td>\n",
       "      <td>1</td>\n",
       "      <td>1</td>\n",
       "      <td>1</td>\n",
       "    </tr>\n",
       "    <tr>\n",
       "      <th>...</th>\n",
       "      <td>...</td>\n",
       "      <td>...</td>\n",
       "      <td>...</td>\n",
       "      <td>...</td>\n",
       "      <td>...</td>\n",
       "      <td>...</td>\n",
       "      <td>...</td>\n",
       "    </tr>\n",
       "    <tr>\n",
       "      <th>4911818930706644725</th>\n",
       "      <td>1</td>\n",
       "      <td>1</td>\n",
       "      <td>1</td>\n",
       "      <td>1</td>\n",
       "      <td>1</td>\n",
       "      <td>1</td>\n",
       "      <td>1</td>\n",
       "    </tr>\n",
       "    <tr>\n",
       "      <th>4956828990005111019</th>\n",
       "      <td>1</td>\n",
       "      <td>1</td>\n",
       "      <td>1</td>\n",
       "      <td>1</td>\n",
       "      <td>1</td>\n",
       "      <td>1</td>\n",
       "      <td>1</td>\n",
       "    </tr>\n",
       "    <tr>\n",
       "      <th>4958589671582726883</th>\n",
       "      <td>1</td>\n",
       "      <td>1</td>\n",
       "      <td>1</td>\n",
       "      <td>1</td>\n",
       "      <td>1</td>\n",
       "      <td>1</td>\n",
       "      <td>1</td>\n",
       "    </tr>\n",
       "    <tr>\n",
       "      <th>4989847570577635369</th>\n",
       "      <td>1</td>\n",
       "      <td>1</td>\n",
       "      <td>1</td>\n",
       "      <td>1</td>\n",
       "      <td>1</td>\n",
       "      <td>1</td>\n",
       "      <td>1</td>\n",
       "    </tr>\n",
       "    <tr>\n",
       "      <th>4992346398065154184</th>\n",
       "      <td>1</td>\n",
       "      <td>1</td>\n",
       "      <td>1</td>\n",
       "      <td>1</td>\n",
       "      <td>1</td>\n",
       "      <td>1</td>\n",
       "      <td>1</td>\n",
       "    </tr>\n",
       "  </tbody>\n",
       "</table>\n",
       "<p>739 rows × 7 columns</p>\n",
       "</div>"
      ],
      "text/plain": [
       "                     street  city  state  zip  lat  long  city_pop\n",
       "cc_num                                                            \n",
       "60422928733               1     1      1    1    1     1         1\n",
       "60423098130               1     1      1    1    1     1         1\n",
       "60427851591               1     1      1    1    1     1         1\n",
       "501802953619              1     1      1    1    1     1         1\n",
       "501818133297              1     1      1    1    1     1         1\n",
       "...                     ...   ...    ...  ...  ...   ...       ...\n",
       "4911818930706644725       1     1      1    1    1     1         1\n",
       "4956828990005111019       1     1      1    1    1     1         1\n",
       "4958589671582726883       1     1      1    1    1     1         1\n",
       "4989847570577635369       1     1      1    1    1     1         1\n",
       "4992346398065154184       1     1      1    1    1     1         1\n",
       "\n",
       "[739 rows x 7 columns]"
      ]
     },
     "execution_count": 68,
     "metadata": {},
     "output_type": "execute_result"
    }
   ],
   "source": [
    "# Aggregate data by cc_num then check territory is the same\n",
    "dat_tr.groupby('cc_num')[territory_cols].nunique()"
   ]
  },
  {
   "cell_type": "code",
   "execution_count": 69,
   "id": "f45cabfb",
   "metadata": {},
   "outputs": [
    {
     "data": {
      "text/plain": [
       "street      True\n",
       "city        True\n",
       "state       True\n",
       "zip         True\n",
       "lat         True\n",
       "long        True\n",
       "city_pop    True\n",
       "dtype: bool"
      ]
     },
     "execution_count": 69,
     "metadata": {},
     "output_type": "execute_result"
    }
   ],
   "source": [
    "(dat_tr.groupby('cc_num')[territory_cols].nunique()[territory_cols] == 1).all()"
   ]
  },
  {
   "cell_type": "code",
   "execution_count": 70,
   "id": "55eeedb7",
   "metadata": {},
   "outputs": [
    {
     "data": {
      "text/html": [
       "<div>\n",
       "<style scoped>\n",
       "    .dataframe tbody tr th:only-of-type {\n",
       "        vertical-align: middle;\n",
       "    }\n",
       "\n",
       "    .dataframe tbody tr th {\n",
       "        vertical-align: top;\n",
       "    }\n",
       "\n",
       "    .dataframe thead th {\n",
       "        text-align: right;\n",
       "    }\n",
       "</style>\n",
       "<table border=\"1\" class=\"dataframe\">\n",
       "  <thead>\n",
       "    <tr style=\"text-align: right;\">\n",
       "      <th></th>\n",
       "      <th>job</th>\n",
       "    </tr>\n",
       "    <tr>\n",
       "      <th>cc_num</th>\n",
       "      <th></th>\n",
       "    </tr>\n",
       "  </thead>\n",
       "  <tbody>\n",
       "    <tr>\n",
       "      <th>60422928733</th>\n",
       "      <td>1</td>\n",
       "    </tr>\n",
       "    <tr>\n",
       "      <th>60423098130</th>\n",
       "      <td>1</td>\n",
       "    </tr>\n",
       "    <tr>\n",
       "      <th>60427851591</th>\n",
       "      <td>1</td>\n",
       "    </tr>\n",
       "    <tr>\n",
       "      <th>501802953619</th>\n",
       "      <td>1</td>\n",
       "    </tr>\n",
       "    <tr>\n",
       "      <th>501818133297</th>\n",
       "      <td>1</td>\n",
       "    </tr>\n",
       "    <tr>\n",
       "      <th>...</th>\n",
       "      <td>...</td>\n",
       "    </tr>\n",
       "    <tr>\n",
       "      <th>4911818930706644725</th>\n",
       "      <td>1</td>\n",
       "    </tr>\n",
       "    <tr>\n",
       "      <th>4956828990005111019</th>\n",
       "      <td>1</td>\n",
       "    </tr>\n",
       "    <tr>\n",
       "      <th>4958589671582726883</th>\n",
       "      <td>1</td>\n",
       "    </tr>\n",
       "    <tr>\n",
       "      <th>4989847570577635369</th>\n",
       "      <td>1</td>\n",
       "    </tr>\n",
       "    <tr>\n",
       "      <th>4992346398065154184</th>\n",
       "      <td>1</td>\n",
       "    </tr>\n",
       "  </tbody>\n",
       "</table>\n",
       "<p>739 rows × 1 columns</p>\n",
       "</div>"
      ],
      "text/plain": [
       "                     job\n",
       "cc_num                  \n",
       "60422928733            1\n",
       "60423098130            1\n",
       "60427851591            1\n",
       "501802953619           1\n",
       "501818133297           1\n",
       "...                  ...\n",
       "4911818930706644725    1\n",
       "4956828990005111019    1\n",
       "4958589671582726883    1\n",
       "4989847570577635369    1\n",
       "4992346398065154184    1\n",
       "\n",
       "[739 rows x 1 columns]"
      ]
     },
     "execution_count": 70,
     "metadata": {},
     "output_type": "execute_result"
    }
   ],
   "source": [
    "# Aggregate data by cc_num then check career is the same\n",
    "dat_tr.groupby('cc_num')[career_cols].nunique()"
   ]
  },
  {
   "cell_type": "code",
   "execution_count": 71,
   "id": "158f9616",
   "metadata": {},
   "outputs": [
    {
     "data": {
      "text/plain": [
       "job    True\n",
       "dtype: bool"
      ]
     },
     "execution_count": 71,
     "metadata": {},
     "output_type": "execute_result"
    }
   ],
   "source": [
    "(dat_tr.groupby('cc_num')[career_cols].nunique()[career_cols] == 1).all()"
   ]
  },
  {
   "cell_type": "markdown",
   "id": "43d2c9da",
   "metadata": {},
   "source": [
    "We know that each credit card is owned by the same person. Therefore, any demographic information about the owner, including information on their identity, geographical surrounding, or career are consistent between each credit card number. Instead of analyzing each credit card individually, we can find broader information, like geographic info, to give some information on the credit card owner to help determine fraud. Using broader information will prevent the model from fitting to specific individuals, but instead fit to groups of individuals categorized by some characteristic. We must be careful choosing this characteristic to avoid bias and discimination towards a certain group of people."
   ]
  },
  {
   "cell_type": "markdown",
   "id": "49f81136",
   "metadata": {},
   "source": [
    "### Variables that may need binning"
   ]
  },
  {
   "cell_type": "markdown",
   "id": "9eb21c9a",
   "metadata": {},
   "source": [
    "#### Merchant Variables"
   ]
  },
  {
   "cell_type": "code",
   "execution_count": 26,
   "id": "1c79d5a9",
   "metadata": {},
   "outputs": [
    {
     "data": {
      "text/plain": [
       "693"
      ]
     },
     "execution_count": 26,
     "metadata": {},
     "output_type": "execute_result"
    }
   ],
   "source": [
    "dat_tr['merchant'].nunique()"
   ]
  },
  {
   "cell_type": "code",
   "execution_count": 27,
   "id": "bdd1e8b0",
   "metadata": {},
   "outputs": [
    {
     "data": {
      "text/plain": [
       "14"
      ]
     },
     "execution_count": 27,
     "metadata": {},
     "output_type": "execute_result"
    }
   ],
   "source": [
    "dat_tr['category'].nunique()"
   ]
  },
  {
   "cell_type": "code",
   "execution_count": 28,
   "id": "e73a8b04",
   "metadata": {},
   "outputs": [
    {
     "data": {
      "text/html": [
       "<div>\n",
       "<style scoped>\n",
       "    .dataframe tbody tr th:only-of-type {\n",
       "        vertical-align: middle;\n",
       "    }\n",
       "\n",
       "    .dataframe tbody tr th {\n",
       "        vertical-align: top;\n",
       "    }\n",
       "\n",
       "    .dataframe thead th {\n",
       "        text-align: right;\n",
       "    }\n",
       "</style>\n",
       "<table border=\"1\" class=\"dataframe\">\n",
       "  <thead>\n",
       "    <tr style=\"text-align: right;\">\n",
       "      <th></th>\n",
       "      <th>merchant</th>\n",
       "      <th>category</th>\n",
       "    </tr>\n",
       "  </thead>\n",
       "  <tbody>\n",
       "    <tr>\n",
       "      <th>0</th>\n",
       "      <td>fraud_Rippin, Kub and Mann</td>\n",
       "      <td>misc_net</td>\n",
       "    </tr>\n",
       "    <tr>\n",
       "      <th>2</th>\n",
       "      <td>fraud_Lind-Buckridge</td>\n",
       "      <td>entertainment</td>\n",
       "    </tr>\n",
       "    <tr>\n",
       "      <th>3</th>\n",
       "      <td>fraud_Kutch, Hermiston and Farrell</td>\n",
       "      <td>gas_transport</td>\n",
       "    </tr>\n",
       "    <tr>\n",
       "      <th>5</th>\n",
       "      <td>fraud_Stroman, Hudson and Erdman</td>\n",
       "      <td>gas_transport</td>\n",
       "    </tr>\n",
       "    <tr>\n",
       "      <th>6</th>\n",
       "      <td>fraud_Rowe-Vandervort</td>\n",
       "      <td>grocery_net</td>\n",
       "    </tr>\n",
       "    <tr>\n",
       "      <th>7</th>\n",
       "      <td>fraud_Corwin-Collins</td>\n",
       "      <td>gas_transport</td>\n",
       "    </tr>\n",
       "    <tr>\n",
       "      <th>8</th>\n",
       "      <td>fraud_Herzog Ltd</td>\n",
       "      <td>misc_pos</td>\n",
       "    </tr>\n",
       "    <tr>\n",
       "      <th>9</th>\n",
       "      <td>fraud_Schoen, Kuphal and Nitzsche</td>\n",
       "      <td>grocery_pos</td>\n",
       "    </tr>\n",
       "    <tr>\n",
       "      <th>10</th>\n",
       "      <td>fraud_Rutherford-Mertz</td>\n",
       "      <td>grocery_pos</td>\n",
       "    </tr>\n",
       "  </tbody>\n",
       "</table>\n",
       "</div>"
      ],
      "text/plain": [
       "                              merchant       category\n",
       "0           fraud_Rippin, Kub and Mann       misc_net\n",
       "2                 fraud_Lind-Buckridge  entertainment\n",
       "3   fraud_Kutch, Hermiston and Farrell  gas_transport\n",
       "5     fraud_Stroman, Hudson and Erdman  gas_transport\n",
       "6                fraud_Rowe-Vandervort    grocery_net\n",
       "7                 fraud_Corwin-Collins  gas_transport\n",
       "8                     fraud_Herzog Ltd       misc_pos\n",
       "9    fraud_Schoen, Kuphal and Nitzsche    grocery_pos\n",
       "10              fraud_Rutherford-Mertz    grocery_pos"
      ]
     },
     "execution_count": 28,
     "metadata": {},
     "output_type": "execute_result"
    }
   ],
   "source": [
    "dat_tr.loc[:10, ['merchant', 'category']]"
   ]
  },
  {
   "cell_type": "code",
   "execution_count": 29,
   "id": "e999b75d",
   "metadata": {},
   "outputs": [
    {
     "data": {
      "text/plain": [
       "array(['misc_net', 'entertainment', 'gas_transport', 'grocery_net',\n",
       "       'misc_pos', 'grocery_pos', 'shopping_net', 'shopping_pos',\n",
       "       'food_dining', 'personal_care', 'health_fitness', 'travel',\n",
       "       'kids_pets', 'home'], dtype=object)"
      ]
     },
     "execution_count": 29,
     "metadata": {},
     "output_type": "execute_result"
    }
   ],
   "source": [
    "dat_tr['category'].unique()"
   ]
  },
  {
   "cell_type": "markdown",
   "id": "ec99e8ed",
   "metadata": {},
   "source": [
    "#### Territory Variables"
   ]
  },
  {
   "cell_type": "code",
   "execution_count": 30,
   "id": "bbd41e6a",
   "metadata": {},
   "outputs": [
    {
     "data": {
      "text/plain": [
       "739"
      ]
     },
     "execution_count": 30,
     "metadata": {},
     "output_type": "execute_result"
    }
   ],
   "source": [
    "dat_tr['street'].nunique()"
   ]
  },
  {
   "cell_type": "code",
   "execution_count": 31,
   "id": "98a893a2",
   "metadata": {},
   "outputs": [
    {
     "data": {
      "text/plain": [
       "678"
      ]
     },
     "execution_count": 31,
     "metadata": {},
     "output_type": "execute_result"
    }
   ],
   "source": [
    "dat_tr['city'].nunique()"
   ]
  },
  {
   "cell_type": "code",
   "execution_count": 32,
   "id": "5ec598da",
   "metadata": {},
   "outputs": [
    {
     "data": {
      "text/plain": [
       "731"
      ]
     },
     "execution_count": 32,
     "metadata": {},
     "output_type": "execute_result"
    }
   ],
   "source": [
    "dat_tr['zip'].nunique()"
   ]
  },
  {
   "cell_type": "code",
   "execution_count": 33,
   "id": "2734fd30",
   "metadata": {},
   "outputs": [
    {
     "data": {
      "text/plain": [
       "50"
      ]
     },
     "execution_count": 33,
     "metadata": {},
     "output_type": "execute_result"
    }
   ],
   "source": [
    "dat_tr['state'].nunique()"
   ]
  },
  {
   "cell_type": "markdown",
   "id": "30e65c02",
   "metadata": {},
   "source": [
    "#### Other"
   ]
  },
  {
   "cell_type": "code",
   "execution_count": 24,
   "id": "77115a46",
   "metadata": {},
   "outputs": [
    {
     "data": {
      "text/plain": [
       "426"
      ]
     },
     "execution_count": 24,
     "metadata": {},
     "output_type": "execute_result"
    }
   ],
   "source": [
    "dat_tr['job'].nunique()"
   ]
  },
  {
   "cell_type": "code",
   "execution_count": 72,
   "id": "e5474741",
   "metadata": {},
   "outputs": [
    {
     "data": {
      "text/plain": [
       "Index(['trans_date_trans_time', 'cc_num', 'merchant', 'category', 'amt',\n",
       "       'first', 'last', 'gender', 'street', 'city', 'state', 'zip', 'lat',\n",
       "       'long', 'city_pop', 'job', 'dob', 'trans_num', 'unix_time', 'merch_lat',\n",
       "       'merch_long', 'is_fraud', 'trans_year'],\n",
       "      dtype='object')"
      ]
     },
     "execution_count": 72,
     "metadata": {},
     "output_type": "execute_result"
    }
   ],
   "source": [
    "dat_tr.columns"
   ]
  },
  {
   "cell_type": "markdown",
   "id": "29af615e",
   "metadata": {},
   "source": [
    "Identity  \\\n",
    "    drop: first, last \\\n",
    "    further analysis: gender, dob -> age \n",
    "\n",
    "Territory \\\n",
    "    drop: street, zip \\\n",
    "    further analysis: long/lat -> distance from merchant, city pop, state, city -> county? \n",
    "      \n",
    "Career \\\n",
    "    further analysis: job -> categorize type of job"
   ]
  },
  {
   "cell_type": "markdown",
   "id": "ca21f0f5",
   "metadata": {},
   "source": [
    "### Identity"
   ]
  },
  {
   "cell_type": "markdown",
   "id": "47f99e62",
   "metadata": {},
   "source": [
    "#### Gender"
   ]
  },
  {
   "cell_type": "markdown",
   "id": "f3c8eaaf",
   "metadata": {},
   "source": [
    "Look at Distribution of Fraud between Genders"
   ]
  },
  {
   "cell_type": "code",
   "execution_count": 109,
   "id": "62ba9fb3",
   "metadata": {},
   "outputs": [
    {
     "data": {
      "text/plain": [
       "F    533919\n",
       "M    443134\n",
       "Name: gender, dtype: int64"
      ]
     },
     "execution_count": 109,
     "metadata": {},
     "output_type": "execute_result"
    }
   ],
   "source": [
    "count_gender = dat_tr['gender'].value_counts()\n",
    "count_gender"
   ]
  },
  {
   "cell_type": "code",
   "execution_count": 117,
   "id": "d209c4c7",
   "metadata": {},
   "outputs": [
    {
     "data": {
      "text/plain": [
       "gender  is_fraud\n",
       "F       0           0.994812\n",
       "        1           0.005188\n",
       "M       0           0.993566\n",
       "        1           0.006434\n",
       "Name: is_fraud, dtype: float64"
      ]
     },
     "execution_count": 117,
     "metadata": {},
     "output_type": "execute_result"
    }
   ],
   "source": [
    "fraud_gender = dat_tr.groupby('gender')['is_fraud'].value_counts(normalize = True)\n",
    "fraud_gender"
   ]
  },
  {
   "cell_type": "code",
   "execution_count": 118,
   "id": "dab7b872",
   "metadata": {},
   "outputs": [
    {
     "data": {
      "image/png": "[encoded data removed]",
      "text/plain": [
       "<Figure size 432x288 with 1 Axes>"
      ]
     },
     "metadata": {
      "needs_background": "light"
     },
     "output_type": "display_data"
    }
   ],
   "source": [
    "x = np.arange(2)  # the label locations\n",
    "width = 0.35  # the width of the bars\n",
    "\n",
    "fig, ax = plt.subplots()\n",
    "rects1 = ax.bar(x - width/2, fraud_gender[2:], width, label='Male')\n",
    "rects2 = ax.bar(x + width/2, fraud_gender[:2], width, label='Female')\n",
    "\n",
    "# Add some text for labels, title and custom x-axis tick labels, etc.\n",
    "ax.set_ylabel('Proportion of Transactions')\n",
    "ax.set_title('Proportion of Fraud Transactions Between Genders')\n",
    "ax.set_xticks(x)\n",
    "ax.set_xticklabels(['Valid', 'Fraud'])\n",
    "ax.legend()\n",
    "\n",
    "plt.show()"
   ]
  },
  {
   "cell_type": "markdown",
   "id": "e85a919e",
   "metadata": {},
   "source": [
    "Appears to be no significant difference between genders"
   ]
  },
  {
   "cell_type": "markdown",
   "id": "caa04df5",
   "metadata": {},
   "source": [
    "#### Age"
   ]
  },
  {
   "cell_type": "markdown",
   "id": "54543e85",
   "metadata": {},
   "source": [
    "Look at Distribution of Fraud over Ages"
   ]
  },
  {
   "cell_type": "code",
   "execution_count": 95,
   "id": "08fb7685",
   "metadata": {},
   "outputs": [
    {
     "name": "stderr",
     "output_type": "stream",
     "text": [
      "/var/folders/4s/wcc0tbwn4_149r662n1p67x80000gp/T/ipykernel_21458/2717249210.py:1: SettingWithCopyWarning: \n",
      "A value is trying to be set on a copy of a slice from a DataFrame.\n",
      "Try using .loc[row_indexer,col_indexer] = value instead\n",
      "\n",
      "See the caveats in the documentation: https://pandas.pydata.org/pandas-docs/stable/user_guide/indexing.html#returning-a-view-versus-a-copy\n",
      "  dat_tr['trans_date'] = pd.to_datetime(dat_tr['trans_date_trans_time'].apply(lambda x: x[:10]))\n"
     ]
    },
    {
     "data": {
      "text/plain": [
       "0         2019-01-01\n",
       "2         2019-01-01\n",
       "3         2019-01-01\n",
       "5         2019-01-01\n",
       "6         2019-01-01\n",
       "             ...    \n",
       "1296669   2020-06-21\n",
       "1296670   2020-06-21\n",
       "1296671   2020-06-21\n",
       "1296673   2020-06-21\n",
       "1296674   2020-06-21\n",
       "Name: trans_date, Length: 977053, dtype: datetime64[ns]"
      ]
     },
     "execution_count": 95,
     "metadata": {},
     "output_type": "execute_result"
    }
   ],
   "source": [
    "dat_tr['trans_date'] = pd.to_datetime(dat_tr['trans_date_trans_time'].apply(lambda x: x[:10]))\n",
    "dat_tr['trans_date']"
   ]
  },
  {
   "cell_type": "code",
   "execution_count": 94,
   "id": "645bfb34",
   "metadata": {},
   "outputs": [
    {
     "name": "stderr",
     "output_type": "stream",
     "text": [
      "/var/folders/4s/wcc0tbwn4_149r662n1p67x80000gp/T/ipykernel_21458/1938366.py:1: SettingWithCopyWarning: \n",
      "A value is trying to be set on a copy of a slice from a DataFrame.\n",
      "Try using .loc[row_indexer,col_indexer] = value instead\n",
      "\n",
      "See the caveats in the documentation: https://pandas.pydata.org/pandas-docs/stable/user_guide/indexing.html#returning-a-view-versus-a-copy\n",
      "  dat_tr['dob'] = pd.to_datetime(dat_tr['dob'])\n"
     ]
    },
    {
     "data": {
      "text/plain": [
       "0         1988-03-09\n",
       "2         1962-01-19\n",
       "3         1967-01-12\n",
       "5         1961-06-19\n",
       "6         1993-08-16\n",
       "             ...    \n",
       "1296669   1980-09-15\n",
       "1296670   1961-11-24\n",
       "1296671   1979-12-11\n",
       "1296673   1980-08-18\n",
       "1296674   1995-08-16\n",
       "Name: dob, Length: 977053, dtype: datetime64[ns]"
      ]
     },
     "execution_count": 94,
     "metadata": {},
     "output_type": "execute_result"
    }
   ],
   "source": [
    "dat_tr['dob'] = pd.to_datetime(dat_tr['dob'])\n",
    "dat_tr['dob']"
   ]
  },
  {
   "cell_type": "code",
   "execution_count": 99,
   "id": "dee58585",
   "metadata": {},
   "outputs": [
    {
     "name": "stderr",
     "output_type": "stream",
     "text": [
      "/var/folders/4s/wcc0tbwn4_149r662n1p67x80000gp/T/ipykernel_21458/901124337.py:1: SettingWithCopyWarning: \n",
      "A value is trying to be set on a copy of a slice from a DataFrame.\n",
      "Try using .loc[row_indexer,col_indexer] = value instead\n",
      "\n",
      "See the caveats in the documentation: https://pandas.pydata.org/pandas-docs/stable/user_guide/indexing.html#returning-a-view-versus-a-copy\n",
      "  dat_tr['age_at_trans'] = (dat_tr['trans_date'] - dat_tr['dob']).dt.days // 365\n"
     ]
    },
    {
     "data": {
      "text/plain": [
       "0          30\n",
       "2          56\n",
       "3          52\n",
       "5          57\n",
       "6          25\n",
       "           ..\n",
       "1296669    39\n",
       "1296670    58\n",
       "1296671    40\n",
       "1296673    39\n",
       "1296674    24\n",
       "Name: age_at_trans, Length: 977053, dtype: int64"
      ]
     },
     "execution_count": 99,
     "metadata": {},
     "output_type": "execute_result"
    }
   ],
   "source": [
    "dat_tr['age_at_trans'] = (dat_tr['trans_date'] - dat_tr['dob']).dt.days // 365\n",
    "dat_tr['age_at_trans']"
   ]
  },
  {
   "cell_type": "code",
   "execution_count": 100,
   "id": "8ece903f",
   "metadata": {},
   "outputs": [
    {
     "data": {
      "text/plain": [
       "82"
      ]
     },
     "execution_count": 100,
     "metadata": {},
     "output_type": "execute_result"
    }
   ],
   "source": [
    "dat_tr['age_at_trans'].nunique()"
   ]
  },
  {
   "cell_type": "code",
   "execution_count": 103,
   "id": "ec258b9b",
   "metadata": {},
   "outputs": [
    {
     "name": "stdout",
     "output_type": "stream",
     "text": [
      "Max age: 95\n",
      "Min age: 14\n"
     ]
    }
   ],
   "source": [
    "print(\"Max age: \" + str(dat_tr['age_at_trans'].max()))\n",
    "print(\"Min age: \" + str(dat_tr['age_at_trans'].min()))"
   ]
  },
  {
   "cell_type": "code",
   "execution_count": 123,
   "id": "f39daabc",
   "metadata": {},
   "outputs": [
    {
     "data": {
      "text/plain": [
       "age_at_trans  is_fraud\n",
       "14            0           0.997929\n",
       "              1           0.002071\n",
       "15            0           0.996911\n",
       "              1           0.003089\n",
       "16            0           0.993274\n",
       "                            ...   \n",
       "92            1           0.012226\n",
       "93            0           0.974057\n",
       "              1           0.025943\n",
       "94            0           1.000000\n",
       "95            0           1.000000\n",
       "Name: is_fraud, Length: 162, dtype: float64"
      ]
     },
     "execution_count": 123,
     "metadata": {},
     "output_type": "execute_result"
    }
   ],
   "source": [
    "fraud_age = dat_tr.groupby('age_at_trans')['is_fraud'].value_counts(normalize = True)\n",
    "fraud_age"
   ]
  },
  {
   "cell_type": "code",
   "execution_count": 221,
   "id": "fb73b948",
   "metadata": {},
   "outputs": [
    {
     "data": {
      "text/plain": [
       "age_at_trans\n",
       "14    0.002071\n",
       "15    0.003089\n",
       "16    0.006726\n",
       "17    0.021875\n",
       "18    0.004267\n",
       "        ...   \n",
       "91    0.010403\n",
       "92    0.012226\n",
       "93    0.025943\n",
       "94    0.000000\n",
       "95    0.000000\n",
       "Name: is_fraud, Length: 82, dtype: float64"
      ]
     },
     "execution_count": 221,
     "metadata": {},
     "output_type": "execute_result"
    }
   ],
   "source": [
    "dat_tr.groupby('age_at_trans')['is_fraud'].mean()"
   ]
  },
  {
   "cell_type": "code",
   "execution_count": 140,
   "id": "260fc3d6",
   "metadata": {},
   "outputs": [
    {
     "data": {
      "text/plain": [
       "<matplotlib.lines.Line2D at 0x7fa6583baaf0>"
      ]
     },
     "execution_count": 140,
     "metadata": {},
     "output_type": "execute_result"
    },
    {
     "data": {
      "image/png": "[encoded data removed]",
      "text/plain": [
       "<Figure size 432x288 with 1 Axes>"
      ]
     },
     "metadata": {
      "needs_background": "light"
     },
     "output_type": "display_data"
    }
   ],
   "source": [
    "plt.plot(fraud_age.loc[:, 1])\n",
    "plt.title('Proportion of Fraudulent Transactions by Age')\n",
    "plt.xlabel('Age')\n",
    "plt.ylabel('Proportion of Transactions')\n",
    "\n",
    "plt.axhline(y=fraud_age.loc[:, 1].mean(), color='r', linestyle='--', label='Average')"
   ]
  },
  {
   "cell_type": "code",
   "execution_count": 156,
   "id": "c4e61073",
   "metadata": {},
   "outputs": [
    {
     "name": "stderr",
     "output_type": "stream",
     "text": [
      "/Applications/anaconda3/lib/python3.9/site-packages/seaborn/distributions.py:2619: FutureWarning: `distplot` is a deprecated function and will be removed in a future version. Please adapt your code to use either `displot` (a figure-level function with similar flexibility) or `histplot` (an axes-level function for histograms).\n",
      "  warnings.warn(msg, FutureWarning)\n"
     ]
    },
    {
     "data": {
      "image/png": "[encoded data removed]",
      "text/plain": [
       "<Figure size 432x288 with 1 Axes>"
      ]
     },
     "metadata": {
      "needs_background": "light"
     },
     "output_type": "display_data"
    }
   ],
   "source": [
    "sns.distplot(dat_tr['age_at_trans'])\n",
    "plt.title('Age Density')\n",
    "plt.show()"
   ]
  },
  {
   "cell_type": "code",
   "execution_count": 210,
   "id": "40b438c8",
   "metadata": {},
   "outputs": [
    {
     "data": {
      "text/plain": [
       "is_fraud\n",
       "0    45.543533\n",
       "1    48.517524\n",
       "Name: age_at_trans, dtype: float64"
      ]
     },
     "execution_count": 210,
     "metadata": {},
     "output_type": "execute_result"
    }
   ],
   "source": [
    "dat_tr.groupby('is_fraud')['age_at_trans'].mean()"
   ]
  },
  {
   "cell_type": "markdown",
   "id": "374fd8e3",
   "metadata": {},
   "source": [
    "Difference in proportions between age may be dependent on the number of observations for each age."
   ]
  },
  {
   "cell_type": "markdown",
   "id": "230a324b",
   "metadata": {},
   "source": [
    "### Territory"
   ]
  },
  {
   "cell_type": "markdown",
   "id": "24a0ce84",
   "metadata": {},
   "source": [
    "#### City Population"
   ]
  },
  {
   "cell_type": "code",
   "execution_count": 189,
   "id": "8c4d85c3",
   "metadata": {},
   "outputs": [
    {
     "data": {
      "image/png": "[encoded data removed]",
      "text/plain": [
       "<Figure size 720x432 with 1 Axes>"
      ]
     },
     "metadata": {
      "needs_background": "light"
     },
     "output_type": "display_data"
    }
   ],
   "source": [
    "plt.figure(figsize=(10, 6))\n",
    "\n",
    "plt.hist(dat_tr[dat_tr['is_fraud'] == 0]['city_pop'], bins = 30, alpha = 0.5, density = True, color = 'blue', label = 'Valid')\n",
    "plt.hist(dat_tr[dat_tr['is_fraud'] == 1]['city_pop'], bins = 30, alpha = 0.5, density = True, color = 'red', label = 'Fraud')\n",
    "\n",
    "plt.xlabel('City Population')\n",
    "plt.ylabel('Frequency')\n",
    "plt.title('Distribution of City Populations by Fraud')\n",
    "plt.legend()\n",
    "plt.grid(True, linestyle='--', alpha=0.7)\n",
    "\n",
    "plt.show()"
   ]
  },
  {
   "cell_type": "code",
   "execution_count": 208,
   "id": "621fcef9",
   "metadata": {},
   "outputs": [
    {
     "data": {
      "text/plain": [
       "is_fraud\n",
       "0    100974.689871\n",
       "1    109108.786693\n",
       "Name: city_pop, dtype: float64"
      ]
     },
     "execution_count": 208,
     "metadata": {},
     "output_type": "execute_result"
    }
   ],
   "source": [
    "dat_tr.groupby('is_fraud')['city_pop'].mean()"
   ]
  },
  {
   "cell_type": "markdown",
   "id": "c2f2c5ac",
   "metadata": {},
   "source": [
    "City population seems to have no direct impact on fraud. However, could still be useful for distinguishing credit cards."
   ]
  },
  {
   "cell_type": "markdown",
   "id": "6a53675a",
   "metadata": {},
   "source": [
    "#### Distance"
   ]
  },
  {
   "cell_type": "code",
   "execution_count": null,
   "id": "b4308a8e",
   "metadata": {},
   "outputs": [
    {
     "name": "stderr",
     "output_type": "stream",
     "text": [
      "/var/folders/4s/wcc0tbwn4_149r662n1p67x80000gp/T/ipykernel_21458/440025206.py:1: SettingWithCopyWarning: \n",
      "A value is trying to be set on a copy of a slice from a DataFrame.\n",
      "Try using .loc[row_indexer,col_indexer] = value instead\n",
      "\n",
      "See the caveats in the documentation: https://pandas.pydata.org/pandas-docs/stable/user_guide/indexing.html#returning-a-view-versus-a-copy\n",
      "  dat_tr['distance'] = np.sqrt((dat_tr['merch_lat'] - dat_tr['lat'])**2 + (dat_tr['merch_long'] - dat_tr['long'])**2)\n"
     ]
    }
   ],
   "source": [
    "# Calculate manhattan distance using coords\n",
    "dat_tr['distance'] = np.sqrt((dat_tr['merch_lat'] - dat_tr['lat'])**2 + (dat_tr['merch_long'] - dat_tr['long'])**2)"
   ]
  },
  {
   "cell_type": "code",
   "execution_count": 196,
   "id": "0eea8c4f",
   "metadata": {},
   "outputs": [
    {
     "data": {
      "text/plain": [
       "0          0.872830\n",
       "2          0.975845\n",
       "3          0.919802\n",
       "5          0.988189\n",
       "6          1.178276\n",
       "             ...   \n",
       "1296669    0.343524\n",
       "1296670    1.177732\n",
       "1296671    0.819632\n",
       "1296673    0.898775\n",
       "1296674    0.786883\n",
       "Name: distance, Length: 977053, dtype: float64"
      ]
     },
     "execution_count": 196,
     "metadata": {},
     "output_type": "execute_result"
    }
   ],
   "source": [
    "dat_tr['distance']"
   ]
  },
  {
   "cell_type": "code",
   "execution_count": 200,
   "id": "4b26d632",
   "metadata": {},
   "outputs": [
    {
     "data": {
      "image/png": "[encoded data removed]",
      "text/plain": [
       "<Figure size 720x432 with 1 Axes>"
      ]
     },
     "metadata": {
      "needs_background": "light"
     },
     "output_type": "display_data"
    }
   ],
   "source": [
    "plt.figure(figsize=(10, 6))\n",
    "\n",
    "plt.hist(dat_tr[dat_tr['is_fraud'] == 0]['distance'], bins = 30, alpha = 0.5, density = True, color = 'blue', label = 'Valid')\n",
    "plt.hist(dat_tr[dat_tr['is_fraud'] == 1]['distance'], bins = 30, alpha = 0.5, density = True, color = 'red', label = 'Fraud')\n",
    "\n",
    "plt.xlabel('Distance')\n",
    "plt.ylabel('Frequency')\n",
    "plt.title('Distribution of Distance by Fraud')\n",
    "plt.legend()\n",
    "plt.grid(True, linestyle='--', alpha=0.7)\n",
    "\n",
    "plt.show()"
   ]
  },
  {
   "cell_type": "code",
   "execution_count": 203,
   "id": "d370a8aa",
   "metadata": {},
   "outputs": [
    {
     "data": {
      "text/plain": [
       "is_fraud\n",
       "0    0.765656\n",
       "1    0.763249\n",
       "Name: distance, dtype: float64"
      ]
     },
     "execution_count": 203,
     "metadata": {},
     "output_type": "execute_result"
    }
   ],
   "source": [
    "dat_tr.groupby('is_fraud')['distance'].mean()"
   ]
  },
  {
   "cell_type": "code",
   "execution_count": null,
   "id": "9f4f2d24",
   "metadata": {},
   "outputs": [
    {
     "name": "stderr",
     "output_type": "stream",
     "text": [
      "/var/folders/4s/wcc0tbwn4_149r662n1p67x80000gp/T/ipykernel_21458/604032899.py:1: SettingWithCopyWarning: \n",
      "A value is trying to be set on a copy of a slice from a DataFrame.\n",
      "Try using .loc[row_indexer,col_indexer] = value instead\n",
      "\n",
      "See the caveats in the documentation: https://pandas.pydata.org/pandas-docs/stable/user_guide/indexing.html#returning-a-view-versus-a-copy\n",
      "  dat_tr['distance_bin'] = pd.cut(dat_tr['distance'], bins=[0,0.25,0.5,0.75,1,1.25,1.5])\n"
     ]
    },
    {
     "data": {
      "text/plain": [
       "distance_bin\n",
       "(0.0, 0.25]    0.005639\n",
       "(0.25, 0.5]    0.005753\n",
       "(0.5, 0.75]    0.005918\n",
       "(0.75, 1.0]    0.005744\n",
       "(1.0, 1.25]    0.005640\n",
       "(1.25, 1.5]    0.005366\n",
       "Name: is_fraud, dtype: float64"
      ]
     },
     "execution_count": 217,
     "metadata": {},
     "output_type": "execute_result"
    }
   ],
   "source": [
    "dat_tr['distance_bin'] = pd.cut(dat_tr['distance'], bins=[0,0.25,0.5,0.75,1,1.25,1.5])\n",
    "fraud_by_bin = dat_tr.groupby('distance_bin')['is_fraud'].mean()\n",
    "fraud_by_bin"
   ]
  },
  {
   "cell_type": "markdown",
   "id": "6abc028a",
   "metadata": {},
   "source": [
    "Distance from merchant seems to have no direct impact on fraud."
   ]
  },
  {
   "cell_type": "markdown",
   "id": "1093a51f",
   "metadata": {},
   "source": [
    "#### State"
   ]
  },
  {
   "cell_type": "code",
   "execution_count": 232,
   "id": "5f37342e",
   "metadata": {},
   "outputs": [
    {
     "data": {
      "image/png": "[encoded data removed]",
      "text/plain": [
       "<Figure size 864x432 with 1 Axes>"
      ]
     },
     "metadata": {
      "needs_background": "light"
     },
     "output_type": "display_data"
    }
   ],
   "source": [
    "fraud_state = dat_tr.groupby('state')['is_fraud'].mean()\n",
    "\n",
    "plt.figure(figsize=(12, 6))\n",
    "plt.bar(fraud_state.index, fraud_state.values)\n",
    "plt.xticks(rotation=90)\n",
    "plt.title('Proportions of Fraudulent Transactions by State')\n",
    "plt.xlabel('State')\n",
    "plt.ylabel('Proportion of Transactions')\n",
    "plt.show()\n"
   ]
  },
  {
   "cell_type": "code",
   "execution_count": 230,
   "id": "90345f82",
   "metadata": {},
   "outputs": [
    {
     "data": {
      "text/html": [
       "<div>\n",
       "<style scoped>\n",
       "    .dataframe tbody tr th:only-of-type {\n",
       "        vertical-align: middle;\n",
       "    }\n",
       "\n",
       "    .dataframe tbody tr th {\n",
       "        vertical-align: top;\n",
       "    }\n",
       "\n",
       "    .dataframe thead th {\n",
       "        text-align: right;\n",
       "    }\n",
       "</style>\n",
       "<table border=\"1\" class=\"dataframe\">\n",
       "  <thead>\n",
       "    <tr style=\"text-align: right;\">\n",
       "      <th></th>\n",
       "      <th>trans_date_trans_time</th>\n",
       "      <th>cc_num</th>\n",
       "      <th>merchant</th>\n",
       "      <th>category</th>\n",
       "      <th>amt</th>\n",
       "      <th>first</th>\n",
       "      <th>last</th>\n",
       "      <th>gender</th>\n",
       "      <th>street</th>\n",
       "      <th>city</th>\n",
       "      <th>...</th>\n",
       "      <th>trans_num</th>\n",
       "      <th>unix_time</th>\n",
       "      <th>merch_lat</th>\n",
       "      <th>merch_long</th>\n",
       "      <th>is_fraud</th>\n",
       "      <th>trans_year</th>\n",
       "      <th>trans_date</th>\n",
       "      <th>age_at_trans</th>\n",
       "      <th>distance</th>\n",
       "      <th>distance_bin</th>\n",
       "    </tr>\n",
       "  </thead>\n",
       "  <tbody>\n",
       "    <tr>\n",
       "      <th>233631</th>\n",
       "      <td>2019-04-28 00:41:37</td>\n",
       "      <td>6011826317034777</td>\n",
       "      <td>fraud_Schamberger-O'Keefe</td>\n",
       "      <td>grocery_pos</td>\n",
       "      <td>294.91</td>\n",
       "      <td>Christine</td>\n",
       "      <td>Johnson</td>\n",
       "      <td>F</td>\n",
       "      <td>9612 Robert Light Apt. 340</td>\n",
       "      <td>Georgetown</td>\n",
       "      <td>...</td>\n",
       "      <td>8f85e701f609911b99bea627eb71aa49</td>\n",
       "      <td>1335573697</td>\n",
       "      <td>38.166715</td>\n",
       "      <td>-75.023367</td>\n",
       "      <td>1</td>\n",
       "      <td>2019</td>\n",
       "      <td>2019-04-28</td>\n",
       "      <td>19</td>\n",
       "      <td>0.631833</td>\n",
       "      <td>(0.5, 0.75]</td>\n",
       "    </tr>\n",
       "    <tr>\n",
       "      <th>233744</th>\n",
       "      <td>2019-04-28 01:49:28</td>\n",
       "      <td>6011826317034777</td>\n",
       "      <td>fraud_Kuphal-Predovic</td>\n",
       "      <td>misc_net</td>\n",
       "      <td>868.29</td>\n",
       "      <td>Christine</td>\n",
       "      <td>Johnson</td>\n",
       "      <td>F</td>\n",
       "      <td>9612 Robert Light Apt. 340</td>\n",
       "      <td>Georgetown</td>\n",
       "      <td>...</td>\n",
       "      <td>8c941f2849ccac44d32ef08ea784fc67</td>\n",
       "      <td>1335577768</td>\n",
       "      <td>38.910900</td>\n",
       "      <td>-74.856625</td>\n",
       "      <td>1</td>\n",
       "      <td>2019</td>\n",
       "      <td>2019-04-28</td>\n",
       "      <td>19</td>\n",
       "      <td>0.584543</td>\n",
       "      <td>(0.5, 0.75]</td>\n",
       "    </tr>\n",
       "    <tr>\n",
       "      <th>233826</th>\n",
       "      <td>2019-04-28 02:33:09</td>\n",
       "      <td>6011826317034777</td>\n",
       "      <td>fraud_Goodwin-Nitzsche</td>\n",
       "      <td>grocery_pos</td>\n",
       "      <td>280.26</td>\n",
       "      <td>Christine</td>\n",
       "      <td>Johnson</td>\n",
       "      <td>F</td>\n",
       "      <td>9612 Robert Light Apt. 340</td>\n",
       "      <td>Georgetown</td>\n",
       "      <td>...</td>\n",
       "      <td>0fc1109cb9a10961595e79736ccc1293</td>\n",
       "      <td>1335580389</td>\n",
       "      <td>38.523208</td>\n",
       "      <td>-74.460889</td>\n",
       "      <td>1</td>\n",
       "      <td>2019</td>\n",
       "      <td>2019-04-28</td>\n",
       "      <td>19</td>\n",
       "      <td>0.945238</td>\n",
       "      <td>(0.75, 1.0]</td>\n",
       "    </tr>\n",
       "    <tr>\n",
       "      <th>234625</th>\n",
       "      <td>2019-04-28 10:24:34</td>\n",
       "      <td>6011826317034777</td>\n",
       "      <td>fraud_Huel, Hammes and Witting</td>\n",
       "      <td>grocery_pos</td>\n",
       "      <td>296.25</td>\n",
       "      <td>Christine</td>\n",
       "      <td>Johnson</td>\n",
       "      <td>F</td>\n",
       "      <td>9612 Robert Light Apt. 340</td>\n",
       "      <td>Georgetown</td>\n",
       "      <td>...</td>\n",
       "      <td>b4248cfc8b44fec6193767918d49b334</td>\n",
       "      <td>1335608674</td>\n",
       "      <td>38.593896</td>\n",
       "      <td>-76.031493</td>\n",
       "      <td>1</td>\n",
       "      <td>2019</td>\n",
       "      <td>2019-04-28</td>\n",
       "      <td>19</td>\n",
       "      <td>0.643941</td>\n",
       "      <td>(0.5, 0.75]</td>\n",
       "    </tr>\n",
       "    <tr>\n",
       "      <th>236522</th>\n",
       "      <td>2019-04-28 23:03:24</td>\n",
       "      <td>6011826317034777</td>\n",
       "      <td>fraud_Waters-Cruickshank</td>\n",
       "      <td>health_fitness</td>\n",
       "      <td>20.58</td>\n",
       "      <td>Christine</td>\n",
       "      <td>Johnson</td>\n",
       "      <td>F</td>\n",
       "      <td>9612 Robert Light Apt. 340</td>\n",
       "      <td>Georgetown</td>\n",
       "      <td>...</td>\n",
       "      <td>567ed9b2d7d10ad519cdd697cd338f70</td>\n",
       "      <td>1335654204</td>\n",
       "      <td>39.003922</td>\n",
       "      <td>-75.852152</td>\n",
       "      <td>1</td>\n",
       "      <td>2019</td>\n",
       "      <td>2019-04-28</td>\n",
       "      <td>19</td>\n",
       "      <td>0.562327</td>\n",
       "      <td>(0.5, 0.75]</td>\n",
       "    </tr>\n",
       "    <tr>\n",
       "      <th>236643</th>\n",
       "      <td>2019-04-28 23:41:43</td>\n",
       "      <td>6011826317034777</td>\n",
       "      <td>fraud_Cormier LLC</td>\n",
       "      <td>shopping_net</td>\n",
       "      <td>1012.77</td>\n",
       "      <td>Christine</td>\n",
       "      <td>Johnson</td>\n",
       "      <td>F</td>\n",
       "      <td>9612 Robert Light Apt. 340</td>\n",
       "      <td>Georgetown</td>\n",
       "      <td>...</td>\n",
       "      <td>00d158609d7ac753da792e9d0eb88a0b</td>\n",
       "      <td>1335656503</td>\n",
       "      <td>39.596186</td>\n",
       "      <td>-75.559281</td>\n",
       "      <td>1</td>\n",
       "      <td>2019</td>\n",
       "      <td>2019-04-28</td>\n",
       "      <td>19</td>\n",
       "      <td>0.932101</td>\n",
       "      <td>(0.75, 1.0]</td>\n",
       "    </tr>\n",
       "    <tr>\n",
       "      <th>237095</th>\n",
       "      <td>2019-04-29 03:29:41</td>\n",
       "      <td>6011826317034777</td>\n",
       "      <td>fraud_Ruecker Group</td>\n",
       "      <td>misc_net</td>\n",
       "      <td>885.96</td>\n",
       "      <td>Christine</td>\n",
       "      <td>Johnson</td>\n",
       "      <td>F</td>\n",
       "      <td>9612 Robert Light Apt. 340</td>\n",
       "      <td>Georgetown</td>\n",
       "      <td>...</td>\n",
       "      <td>e0613e4142b2d05867299832ac453e01</td>\n",
       "      <td>1335670181</td>\n",
       "      <td>39.666374</td>\n",
       "      <td>-76.358642</td>\n",
       "      <td>1</td>\n",
       "      <td>2019</td>\n",
       "      <td>2019-04-29</td>\n",
       "      <td>19</td>\n",
       "      <td>1.380937</td>\n",
       "      <td>(1.25, 1.5]</td>\n",
       "    </tr>\n",
       "    <tr>\n",
       "      <th>237740</th>\n",
       "      <td>2019-04-29 10:13:47</td>\n",
       "      <td>6011826317034777</td>\n",
       "      <td>fraud_Smitham-Schiller</td>\n",
       "      <td>grocery_net</td>\n",
       "      <td>10.93</td>\n",
       "      <td>Christine</td>\n",
       "      <td>Johnson</td>\n",
       "      <td>F</td>\n",
       "      <td>9612 Robert Light Apt. 340</td>\n",
       "      <td>Georgetown</td>\n",
       "      <td>...</td>\n",
       "      <td>788a8fea8199a4e8a6a47ffab824e571</td>\n",
       "      <td>1335694427</td>\n",
       "      <td>37.691598</td>\n",
       "      <td>-76.058416</td>\n",
       "      <td>1</td>\n",
       "      <td>2019</td>\n",
       "      <td>2019-04-29</td>\n",
       "      <td>19</td>\n",
       "      <td>1.190578</td>\n",
       "      <td>(1.0, 1.25]</td>\n",
       "    </tr>\n",
       "    <tr>\n",
       "      <th>239854</th>\n",
       "      <td>2019-04-29 23:51:22</td>\n",
       "      <td>6011826317034777</td>\n",
       "      <td>fraud_Baumbach, Feeney and Morar</td>\n",
       "      <td>shopping_net</td>\n",
       "      <td>960.49</td>\n",
       "      <td>Christine</td>\n",
       "      <td>Johnson</td>\n",
       "      <td>F</td>\n",
       "      <td>9612 Robert Light Apt. 340</td>\n",
       "      <td>Georgetown</td>\n",
       "      <td>...</td>\n",
       "      <td>4193b953223a1c9432f9d3c380e67be9</td>\n",
       "      <td>1335743482</td>\n",
       "      <td>39.073319</td>\n",
       "      <td>-75.545153</td>\n",
       "      <td>1</td>\n",
       "      <td>2019</td>\n",
       "      <td>2019-04-29</td>\n",
       "      <td>19</td>\n",
       "      <td>0.422584</td>\n",
       "      <td>(0.25, 0.5]</td>\n",
       "    </tr>\n",
       "  </tbody>\n",
       "</table>\n",
       "<p>9 rows × 27 columns</p>\n",
       "</div>"
      ],
      "text/plain": [
       "       trans_date_trans_time            cc_num  \\\n",
       "233631   2019-04-28 00:41:37  6011826317034777   \n",
       "233744   2019-04-28 01:49:28  6011826317034777   \n",
       "233826   2019-04-28 02:33:09  6011826317034777   \n",
       "234625   2019-04-28 10:24:34  6011826317034777   \n",
       "236522   2019-04-28 23:03:24  6011826317034777   \n",
       "236643   2019-04-28 23:41:43  6011826317034777   \n",
       "237095   2019-04-29 03:29:41  6011826317034777   \n",
       "237740   2019-04-29 10:13:47  6011826317034777   \n",
       "239854   2019-04-29 23:51:22  6011826317034777   \n",
       "\n",
       "                                merchant        category      amt      first  \\\n",
       "233631         fraud_Schamberger-O'Keefe     grocery_pos   294.91  Christine   \n",
       "233744             fraud_Kuphal-Predovic        misc_net   868.29  Christine   \n",
       "233826            fraud_Goodwin-Nitzsche     grocery_pos   280.26  Christine   \n",
       "234625    fraud_Huel, Hammes and Witting     grocery_pos   296.25  Christine   \n",
       "236522          fraud_Waters-Cruickshank  health_fitness    20.58  Christine   \n",
       "236643                 fraud_Cormier LLC    shopping_net  1012.77  Christine   \n",
       "237095               fraud_Ruecker Group        misc_net   885.96  Christine   \n",
       "237740            fraud_Smitham-Schiller     grocery_net    10.93  Christine   \n",
       "239854  fraud_Baumbach, Feeney and Morar    shopping_net   960.49  Christine   \n",
       "\n",
       "           last gender                      street        city  ...  \\\n",
       "233631  Johnson      F  9612 Robert Light Apt. 340  Georgetown  ...   \n",
       "233744  Johnson      F  9612 Robert Light Apt. 340  Georgetown  ...   \n",
       "233826  Johnson      F  9612 Robert Light Apt. 340  Georgetown  ...   \n",
       "234625  Johnson      F  9612 Robert Light Apt. 340  Georgetown  ...   \n",
       "236522  Johnson      F  9612 Robert Light Apt. 340  Georgetown  ...   \n",
       "236643  Johnson      F  9612 Robert Light Apt. 340  Georgetown  ...   \n",
       "237095  Johnson      F  9612 Robert Light Apt. 340  Georgetown  ...   \n",
       "237740  Johnson      F  9612 Robert Light Apt. 340  Georgetown  ...   \n",
       "239854  Johnson      F  9612 Robert Light Apt. 340  Georgetown  ...   \n",
       "\n",
       "                               trans_num   unix_time  merch_lat  merch_long  \\\n",
       "233631  8f85e701f609911b99bea627eb71aa49  1335573697  38.166715  -75.023367   \n",
       "233744  8c941f2849ccac44d32ef08ea784fc67  1335577768  38.910900  -74.856625   \n",
       "233826  0fc1109cb9a10961595e79736ccc1293  1335580389  38.523208  -74.460889   \n",
       "234625  b4248cfc8b44fec6193767918d49b334  1335608674  38.593896  -76.031493   \n",
       "236522  567ed9b2d7d10ad519cdd697cd338f70  1335654204  39.003922  -75.852152   \n",
       "236643  00d158609d7ac753da792e9d0eb88a0b  1335656503  39.596186  -75.559281   \n",
       "237095  e0613e4142b2d05867299832ac453e01  1335670181  39.666374  -76.358642   \n",
       "237740  788a8fea8199a4e8a6a47ffab824e571  1335694427  37.691598  -76.058416   \n",
       "239854  4193b953223a1c9432f9d3c380e67be9  1335743482  39.073319  -75.545153   \n",
       "\n",
       "        is_fraud trans_year trans_date age_at_trans  distance  distance_bin  \n",
       "233631         1       2019 2019-04-28           19  0.631833   (0.5, 0.75]  \n",
       "233744         1       2019 2019-04-28           19  0.584543   (0.5, 0.75]  \n",
       "233826         1       2019 2019-04-28           19  0.945238   (0.75, 1.0]  \n",
       "234625         1       2019 2019-04-28           19  0.643941   (0.5, 0.75]  \n",
       "236522         1       2019 2019-04-28           19  0.562327   (0.5, 0.75]  \n",
       "236643         1       2019 2019-04-28           19  0.932101   (0.75, 1.0]  \n",
       "237095         1       2019 2019-04-29           19  1.380937   (1.25, 1.5]  \n",
       "237740         1       2019 2019-04-29           19  1.190578   (1.0, 1.25]  \n",
       "239854         1       2019 2019-04-29           19  0.422584   (0.25, 0.5]  \n",
       "\n",
       "[9 rows x 27 columns]"
      ]
     },
     "execution_count": 230,
     "metadata": {},
     "output_type": "execute_result"
    }
   ],
   "source": [
    "dat_tr[dat_tr['state'] == 'DE']"
   ]
  },
  {
   "cell_type": "code",
   "execution_count": 239,
   "id": "381edbe5",
   "metadata": {},
   "outputs": [
    {
     "data": {
      "image/png": "[encoded data removed]",
      "text/plain": [
       "<Figure size 864x432 with 1 Axes>"
      ]
     },
     "metadata": {
      "needs_background": "light"
     },
     "output_type": "display_data"
    }
   ],
   "source": [
    "plt.figure(figsize=(12, 6))\n",
    "plt.bar(fraud_state.index, fraud_state.values)\n",
    "plt.xticks(rotation=90)\n",
    "plt.title('Proportions of Fraudulent Transactions by State')\n",
    "plt.xlabel('State')\n",
    "plt.ylabel('Proportion of Transactions')\n",
    "plt.ylim(0,0.02)\n",
    "plt.show()"
   ]
  },
  {
   "cell_type": "code",
   "execution_count": 255,
   "id": "a18a9878",
   "metadata": {},
   "outputs": [
    {
     "data": {
      "image/png": "[encoded data removed]",
      "text/plain": [
       "<Figure size 864x432 with 1 Axes>"
      ]
     },
     "metadata": {
      "needs_background": "light"
     },
     "output_type": "display_data"
    }
   ],
   "source": [
    "count_state = dat_tr['state'].value_counts().sort_index()\n",
    "\n",
    "plt.figure(figsize=(12, 6))\n",
    "plt.bar(count_state.index, count_state.values)\n",
    "plt.xticks(rotation=90)\n",
    "plt.title('Frequency of Transactions by State')\n",
    "plt.xlabel('State')\n",
    "plt.ylabel('Frequency')\n",
    "plt.show()"
   ]
  },
  {
   "cell_type": "markdown",
   "id": "758bc0b1",
   "metadata": {},
   "source": [
    "### Transaction Info"
   ]
  },
  {
   "cell_type": "markdown",
   "id": "122d075b",
   "metadata": {},
   "source": [
    "#### Category"
   ]
  },
  {
   "cell_type": "code",
   "execution_count": 282,
   "id": "e258eed9",
   "metadata": {},
   "outputs": [
    {
     "data": {
      "text/plain": [
       "category\n",
       "entertainment     0.002437\n",
       "food_dining       0.001649\n",
       "gas_transport     0.004553\n",
       "grocery_net       0.003001\n",
       "grocery_pos       0.014133\n",
       "health_fitness    0.001598\n",
       "home              0.001455\n",
       "kids_pets         0.002100\n",
       "misc_net          0.014220\n",
       "misc_pos          0.003004\n",
       "personal_care     0.002251\n",
       "shopping_net      0.017982\n",
       "shopping_pos      0.007231\n",
       "travel            0.002807\n",
       "Name: is_fraud, dtype: float64"
      ]
     },
     "execution_count": 282,
     "metadata": {},
     "output_type": "execute_result"
    }
   ],
   "source": [
    "fraud_cat = dat_tr.groupby('category')['is_fraud'].mean()\n",
    "fraud_cat"
   ]
  },
  {
   "cell_type": "code",
   "execution_count": 284,
   "id": "1700571c",
   "metadata": {},
   "outputs": [
    {
     "data": {
      "image/png": "[encoded data removed]",
      "text/plain": [
       "<Figure size 864x432 with 1 Axes>"
      ]
     },
     "metadata": {
      "needs_background": "light"
     },
     "output_type": "display_data"
    }
   ],
   "source": [
    "plt.figure(figsize=(12, 6))\n",
    "plt.bar(fraud_cat.index, fraud_cat.values)\n",
    "plt.xticks(rotation=90)\n",
    "plt.title('Proportion of Fraudulent Transactions by Category')\n",
    "plt.xlabel('Category')\n",
    "plt.ylabel('Proportion of Transactions')\n",
    "plt.show()"
   ]
  },
  {
   "cell_type": "markdown",
   "id": "406fd650",
   "metadata": {},
   "source": [
    "#### Amt"
   ]
  },
  {
   "cell_type": "code",
   "execution_count": 258,
   "id": "80a0017b",
   "metadata": {},
   "outputs": [
    {
     "data": {
      "text/plain": [
       "is_fraud\n",
       "0     67.269795\n",
       "1    536.368566\n",
       "Name: amt, dtype: float64"
      ]
     },
     "execution_count": 258,
     "metadata": {},
     "output_type": "execute_result"
    }
   ],
   "source": [
    "dat_tr.groupby('is_fraud')['amt'].mean()"
   ]
  },
  {
   "cell_type": "code",
   "execution_count": null,
   "id": "1d2ad7f9",
   "metadata": {},
   "outputs": [
    {
     "data": {
      "image/png": "[encoded data removed]",
      "text/plain": [
       "<Figure size 720x432 with 1 Axes>"
      ]
     },
     "metadata": {
      "needs_background": "light"
     },
     "output_type": "display_data"
    }
   ],
   "source": [
    "plt.figure(figsize=(10, 6))\n",
    "\n",
    "plt.hist(dat_tr[dat_tr['is_fraud'] == 0]['amt'], bins = 40, alpha = 0.5, density = True, color = 'blue', label = 'Valid')\n",
    "\n",
    "plt.xlabel('Amount Spent')\n",
    "plt.ylabel('Frequency')\n",
    "plt.title('Distribution of Amount Spent Not Fraud')\n",
    "plt.legend()\n",
    "plt.grid(True, linestyle='--', alpha=0.7)\n",
    "\n",
    "plt.show()"
   ]
  },
  {
   "cell_type": "code",
   "execution_count": null,
   "id": "63b93958",
   "metadata": {},
   "outputs": [
    {
     "data": {
      "image/png": "[encoded data removed]",
      "text/plain": [
       "<Figure size 720x432 with 1 Axes>"
      ]
     },
     "metadata": {
      "needs_background": "light"
     },
     "output_type": "display_data"
    }
   ],
   "source": [
    "plt.figure(figsize=(10, 6))\n",
    "\n",
    "plt.hist(dat_tr[dat_tr['is_fraud'] == 1]['amt'], bins = 40, alpha = 0.5, density = True, color = 'red', label = 'Fraud')\n",
    "\n",
    "plt.xlabel('Amount Spent')\n",
    "plt.ylabel('Frequency')\n",
    "plt.title('Distribution of Amount Spent Fraud')\n",
    "plt.legend()\n",
    "plt.grid(True, linestyle='--', alpha=0.7)\n",
    "\n",
    "plt.show()"
   ]
  },
  {
   "cell_type": "markdown",
   "id": "03c87330",
   "metadata": {},
   "source": [
    "Amount spent for fraudulent transactions varies a lot more than valid transactions"
   ]
  },
  {
   "cell_type": "code",
   "execution_count": 279,
   "id": "1f44ab29",
   "metadata": {},
   "outputs": [],
   "source": [
    "# bin amt"
   ]
  },
  {
   "cell_type": "markdown",
   "id": "420dc3ad",
   "metadata": {},
   "source": [
    "#### Year"
   ]
  },
  {
   "cell_type": "code",
   "execution_count": 286,
   "id": "ce006b5d",
   "metadata": {},
   "outputs": [
    {
     "data": {
      "text/plain": [
       "trans_year\n",
       "2019    0.005674\n",
       "2020    0.005950\n",
       "Name: is_fraud, dtype: float64"
      ]
     },
     "execution_count": 286,
     "metadata": {},
     "output_type": "execute_result"
    }
   ],
   "source": [
    "fraud_yr = dat_tr.groupby('trans_year')['is_fraud'].mean()\n",
    "fraud_yr"
   ]
  },
  {
   "cell_type": "code",
   "execution_count": 287,
   "id": "da3ed4f6",
   "metadata": {},
   "outputs": [
    {
     "data": {
      "image/png": "[encoded data removed]",
      "text/plain": [
       "<Figure size 864x432 with 1 Axes>"
      ]
     },
     "metadata": {
      "needs_background": "light"
     },
     "output_type": "display_data"
    }
   ],
   "source": [
    "plt.figure(figsize=(12, 6))\n",
    "plt.bar(fraud_yr.index, fraud_yr.values)\n",
    "plt.xticks(rotation=90)\n",
    "plt.title('Proportion of Fraudulent Transactions by Year')\n",
    "plt.xlabel('Year')\n",
    "plt.ylabel('Proportion of Transactions')\n",
    "plt.show()"
   ]
  },
  {
   "cell_type": "markdown",
   "id": "9666dc98",
   "metadata": {},
   "source": [
    "#### Month"
   ]
  },
  {
   "cell_type": "code",
   "execution_count": 288,
   "id": "57dd9fc6",
   "metadata": {},
   "outputs": [
    {
     "data": {
      "text/plain": [
       "0          2019-01-01 00:00:18\n",
       "2          2019-01-01 00:00:51\n",
       "3          2019-01-01 00:01:16\n",
       "5          2019-01-01 00:04:08\n",
       "6          2019-01-01 00:04:42\n",
       "                  ...         \n",
       "1296669    2020-06-21 12:11:36\n",
       "1296670    2020-06-21 12:12:08\n",
       "1296671    2020-06-21 12:12:19\n",
       "1296673    2020-06-21 12:13:36\n",
       "1296674    2020-06-21 12:13:37\n",
       "Name: trans_date_trans_time, Length: 977053, dtype: object"
      ]
     },
     "execution_count": 288,
     "metadata": {},
     "output_type": "execute_result"
    }
   ],
   "source": [
    "dat_tr['trans_date_trans_time']"
   ]
  },
  {
   "cell_type": "code",
   "execution_count": 295,
   "id": "aa099102",
   "metadata": {},
   "outputs": [
    {
     "name": "stderr",
     "output_type": "stream",
     "text": [
      "/var/folders/4s/wcc0tbwn4_149r662n1p67x80000gp/T/ipykernel_21458/2592846120.py:1: SettingWithCopyWarning: \n",
      "A value is trying to be set on a copy of a slice from a DataFrame.\n",
      "Try using .loc[row_indexer,col_indexer] = value instead\n",
      "\n",
      "See the caveats in the documentation: https://pandas.pydata.org/pandas-docs/stable/user_guide/indexing.html#returning-a-view-versus-a-copy\n",
      "  dat_tr['trans_month'] = dat_tr['trans_date_trans_time'].apply(lambda x: int(x[5:7]))\n"
     ]
    },
    {
     "data": {
      "text/plain": [
       "0          1\n",
       "2          1\n",
       "3          1\n",
       "5          1\n",
       "6          1\n",
       "          ..\n",
       "1296669    6\n",
       "1296670    6\n",
       "1296671    6\n",
       "1296673    6\n",
       "1296674    6\n",
       "Name: trans_month, Length: 977053, dtype: int64"
      ]
     },
     "execution_count": 295,
     "metadata": {},
     "output_type": "execute_result"
    }
   ],
   "source": [
    "dat_tr['trans_month'] = dat_tr['trans_date_trans_time'].apply(lambda x: int(x[5:7]))\n",
    "dat_tr['trans_month']"
   ]
  },
  {
   "cell_type": "code",
   "execution_count": 297,
   "id": "d1032bab",
   "metadata": {},
   "outputs": [
    {
     "data": {
      "text/plain": [
       "trans_month\n",
       "1     0.008417\n",
       "2     0.008770\n",
       "3     0.006643\n",
       "4     0.004648\n",
       "5     0.006232\n",
       "6     0.004755\n",
       "7     0.003980\n",
       "8     0.004221\n",
       "9     0.006315\n",
       "10    0.006847\n",
       "11    0.005201\n",
       "12    0.003855\n",
       "Name: is_fraud, dtype: float64"
      ]
     },
     "execution_count": 297,
     "metadata": {},
     "output_type": "execute_result"
    }
   ],
   "source": [
    "fraud_month = dat_tr.groupby('trans_month')['is_fraud'].mean()\n",
    "fraud_month"
   ]
  },
  {
   "cell_type": "code",
   "execution_count": 298,
   "id": "125e63ba",
   "metadata": {},
   "outputs": [
    {
     "data": {
      "image/png": "[encoded data removed]",
      "text/plain": [
       "<Figure size 864x432 with 1 Axes>"
      ]
     },
     "metadata": {
      "needs_background": "light"
     },
     "output_type": "display_data"
    }
   ],
   "source": [
    "plt.figure(figsize=(12, 6))\n",
    "plt.bar(fraud_month.index, fraud_month.values)\n",
    "plt.xticks(rotation=90)\n",
    "plt.title('Proportions of Fraudulent Transactions by Month')\n",
    "plt.xlabel('Month')\n",
    "plt.ylabel('Proportion of Transactions')\n",
    "plt.show()"
   ]
  },
  {
   "cell_type": "markdown",
   "id": "a9fb3571",
   "metadata": {},
   "source": [
    "#### Month and Year"
   ]
  },
  {
   "cell_type": "code",
   "execution_count": 301,
   "id": "b7294f85",
   "metadata": {},
   "outputs": [
    {
     "name": "stderr",
     "output_type": "stream",
     "text": [
      "/var/folders/4s/wcc0tbwn4_149r662n1p67x80000gp/T/ipykernel_21458/3291881212.py:1: SettingWithCopyWarning: \n",
      "A value is trying to be set on a copy of a slice from a DataFrame.\n",
      "Try using .loc[row_indexer,col_indexer] = value instead\n",
      "\n",
      "See the caveats in the documentation: https://pandas.pydata.org/pandas-docs/stable/user_guide/indexing.html#returning-a-view-versus-a-copy\n",
      "  dat_tr['trans_month_year'] = dat_tr['trans_date_trans_time'].apply(lambda x: x[:7])\n"
     ]
    },
    {
     "data": {
      "text/plain": [
       "0          2019-01\n",
       "2          2019-01\n",
       "3          2019-01\n",
       "5          2019-01\n",
       "6          2019-01\n",
       "            ...   \n",
       "1296669    2020-06\n",
       "1296670    2020-06\n",
       "1296671    2020-06\n",
       "1296673    2020-06\n",
       "1296674    2020-06\n",
       "Name: trans_month_year, Length: 977053, dtype: object"
      ]
     },
     "execution_count": 301,
     "metadata": {},
     "output_type": "execute_result"
    }
   ],
   "source": [
    "dat_tr['trans_month_year'] = dat_tr['trans_date_trans_time'].apply(lambda x: x[:7])\n",
    "dat_tr['trans_month_year']"
   ]
  },
  {
   "cell_type": "code",
   "execution_count": 303,
   "id": "3ec64ae9",
   "metadata": {},
   "outputs": [
    {
     "data": {
      "text/plain": [
       "trans_month_year\n",
       "2019-01    0.010382\n",
       "2019-02    0.009986\n",
       "2019-03    0.007348\n",
       "2019-04    0.005428\n",
       "2019-05    0.005478\n",
       "2019-06    0.004367\n",
       "2019-07    0.003980\n",
       "2019-08    0.004221\n",
       "2019-09    0.006315\n",
       "2019-10    0.006847\n",
       "2019-11    0.005201\n",
       "2019-12    0.003855\n",
       "2020-01    0.006448\n",
       "2020-02    0.007501\n",
       "2020-03    0.005956\n",
       "2020-04    0.003852\n",
       "2020-05    0.006964\n",
       "2020-06    0.005331\n",
       "Name: is_fraud, dtype: float64"
      ]
     },
     "execution_count": 303,
     "metadata": {},
     "output_type": "execute_result"
    }
   ],
   "source": [
    "fraud_month_yr = dat_tr.groupby('trans_month_year')['is_fraud'].mean()\n",
    "fraud_month_yr"
   ]
  },
  {
   "cell_type": "code",
   "execution_count": 304,
   "id": "c5247ae9",
   "metadata": {},
   "outputs": [
    {
     "data": {
      "image/png": "[encoded data removed]",
      "text/plain": [
       "<Figure size 864x432 with 1 Axes>"
      ]
     },
     "metadata": {
      "needs_background": "light"
     },
     "output_type": "display_data"
    }
   ],
   "source": [
    "plt.figure(figsize=(12, 6))\n",
    "plt.bar(fraud_month_yr.index, fraud_month_yr.values)\n",
    "plt.xticks(rotation=90)\n",
    "plt.title('Proportions of Fraudulent Transactions by Month per Year')\n",
    "plt.xlabel('Month and Year')\n",
    "plt.ylabel('Proportion of Transactions')\n",
    "plt.show()"
   ]
  },
  {
   "cell_type": "markdown",
   "id": "31cfdfcc",
   "metadata": {},
   "source": [
    "### Conclusion"
   ]
  },
  {
   "cell_type": "markdown",
   "id": "58e981a9",
   "metadata": {},
   "source": [
    "Potentially Significant predictors: category, amt, month/year\n",
    "\n",
    "Controls/Identifiers: age, state, city pop, job?\n",
    "\n",
    "Others to consider: distance"
   ]
  },
  {
   "cell_type": "code",
   "execution_count": 299,
   "id": "133cdaaf",
   "metadata": {},
   "outputs": [
    {
     "data": {
      "text/plain": [
       "Index(['trans_date_trans_time', 'cc_num', 'merchant', 'category', 'amt',\n",
       "       'first', 'last', 'gender', 'street', 'city', 'state', 'zip', 'lat',\n",
       "       'long', 'city_pop', 'job', 'dob', 'trans_num', 'unix_time', 'merch_lat',\n",
       "       'merch_long', 'is_fraud', 'trans_year', 'trans_date', 'age_at_trans',\n",
       "       'distance', 'distance_bin', 'trans_month'],\n",
       "      dtype='object')"
      ]
     },
     "execution_count": 299,
     "metadata": {},
     "output_type": "execute_result"
    }
   ],
   "source": [
    "dat_tr.columns"
   ]
  },
  {
   "cell_type": "code",
   "execution_count": null,
   "id": "1177b058",
   "metadata": {},
   "outputs": [],
   "source": []
  }
 ],
 "metadata": {
  "kernelspec": {
   "display_name": "base",
   "language": "python",
   "name": "python3"
  },
  "language_info": {
   "codemirror_mode": {
    "name": "ipython",
    "version": 3
   },
   "file_extension": ".py",
   "mimetype": "text/x-python",
   "name": "python",
   "nbconvert_exporter": "python",
   "pygments_lexer": "ipython3",
   "version": "3.9.12"
  }
 },
 "nbformat": 4,
 "nbformat_minor": 5
}
