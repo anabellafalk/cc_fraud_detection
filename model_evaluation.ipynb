{
 "cells": [
  {
   "cell_type": "code",
   "execution_count": 2,
   "id": "6511e51a",
   "metadata": {},
   "outputs": [],
   "source": [
    "import kagglehub\n",
    "import numpy as np\n",
    "import pandas as pd\n",
    "\n",
    "import data_prep as dp\n",
    "\n",
    "from sklearn.ensemble import RandomForestClassifier\n",
    "from sklearn.metrics import roc_auc_score, precision_score, recall_score"
   ]
  },
  {
   "cell_type": "markdown",
   "id": "ab61ce89",
   "metadata": {},
   "source": [
    "## Import Data"
   ]
  },
  {
   "cell_type": "code",
   "execution_count": 3,
   "id": "39597c8f",
   "metadata": {},
   "outputs": [
    {
     "name": "stdout",
     "output_type": "stream",
     "text": [
      "Path to dataset files: /Users/anabellafalk/.cache/kagglehub/datasets/kartik2112/fraud-detection/versions/1\n"
     ]
    }
   ],
   "source": [
    "path = kagglehub.dataset_download(\"kartik2112/fraud-detection\")\n",
    "\n",
    "print(\"Path to dataset files:\", path)\n",
    "\n",
    "file = \"/fraudTest.csv\"\n",
    "dat = pd.read_csv(path + file)\n",
    "\n",
    "dat_tst = dat.drop('Unnamed: 0', axis = 1)"
   ]
  },
  {
   "cell_type": "code",
   "execution_count": 4,
   "id": "7d6d97e2",
   "metadata": {},
   "outputs": [
    {
     "name": "stdout",
     "output_type": "stream",
     "text": [
      "Path to dataset files: /Users/anabellafalk/.cache/kagglehub/datasets/kartik2112/fraud-detection/versions/1\n"
     ]
    }
   ],
   "source": [
    "dat_tr = dp.load_train()"
   ]
  },
  {
   "cell_type": "markdown",
   "id": "390dc1a8",
   "metadata": {},
   "source": [
    "## Prepare Data"
   ]
  },
  {
   "cell_type": "markdown",
   "id": "947ee6c8",
   "metadata": {},
   "source": [
    "### Extract Age"
   ]
  },
  {
   "cell_type": "code",
   "execution_count": 5,
   "id": "5ed3075c",
   "metadata": {},
   "outputs": [],
   "source": [
    "# Calculate and create age column\n",
    "dp.extract_age(dat_tr)\n",
    "dp.extract_age(dat_tst)"
   ]
  },
  {
   "cell_type": "markdown",
   "id": "c92d8ded",
   "metadata": {},
   "source": [
    "### Extract Distance"
   ]
  },
  {
   "cell_type": "code",
   "execution_count": 6,
   "id": "bb1d8c53",
   "metadata": {},
   "outputs": [],
   "source": [
    "# Calculate and create distance column\n",
    "dp.extract_distance(dat_tr)\n",
    "dp.extract_distance(dat_tst)"
   ]
  },
  {
   "cell_type": "markdown",
   "id": "c739c32e",
   "metadata": {},
   "source": [
    "### Encode Category"
   ]
  },
  {
   "cell_type": "code",
   "execution_count": 7,
   "id": "6a4ab55c",
   "metadata": {},
   "outputs": [],
   "source": [
    "category_encoder = dp.fit_col_encoder(dat_tr, 'category')\n",
    "category_enc_tr = dp.encode_col(dat_tr, 'category', category_encoder)\n",
    "category_enc = dp.encode_col(dat_tst, 'category', category_encoder)"
   ]
  },
  {
   "cell_type": "markdown",
   "id": "4702fbfc",
   "metadata": {},
   "source": [
    "### Encode Year"
   ]
  },
  {
   "cell_type": "code",
   "execution_count": 8,
   "id": "75ed0bd0",
   "metadata": {},
   "outputs": [],
   "source": [
    "# Create year column\n",
    "dp.extract_year(dat_tr)\n",
    "dp.extract_year(dat_tst)"
   ]
  },
  {
   "cell_type": "code",
   "execution_count": 9,
   "id": "d9444c9c",
   "metadata": {},
   "outputs": [],
   "source": [
    "year_encoder = dp.fit_col_encoder(dat_tr, 'trans_year')\n",
    "year_enc_tr = dp.encode_col(dat_tr, 'trans_year', year_encoder)\n",
    "year_enc = dp.encode_col(dat_tst, 'trans_year', year_encoder)"
   ]
  },
  {
   "cell_type": "markdown",
   "id": "4b8dc02f",
   "metadata": {},
   "source": [
    "### Encode Month"
   ]
  },
  {
   "cell_type": "code",
   "execution_count": 10,
   "id": "e67f23bb",
   "metadata": {},
   "outputs": [],
   "source": [
    "# Create month column\n",
    "dp.extract_month(dat_tr)\n",
    "dp.extract_month(dat_tst)"
   ]
  },
  {
   "cell_type": "code",
   "execution_count": 11,
   "id": "894685fa",
   "metadata": {},
   "outputs": [],
   "source": [
    "dat_tr['trans_month'] = dat_tr['trans_month'].astype(str)\n",
    "dat_tst['trans_month'] = dat_tst['trans_month'].astype(str)"
   ]
  },
  {
   "cell_type": "code",
   "execution_count": 12,
   "id": "5610dc2a",
   "metadata": {},
   "outputs": [],
   "source": [
    "month_encoder = dp.fit_col_encoder(dat_tr, 'trans_month')\n",
    "month_enc_tr = dp.encode_col(dat_tr, 'trans_month', month_encoder)\n",
    "month_enc = dp.encode_col(dat_tst, 'trans_month', month_encoder)"
   ]
  },
  {
   "cell_type": "markdown",
   "id": "c73db603",
   "metadata": {},
   "source": [
    "### Encode and Bin Jobs"
   ]
  },
  {
   "cell_type": "code",
   "execution_count": 13,
   "id": "15f06c42",
   "metadata": {},
   "outputs": [],
   "source": [
    "# Fit binning on training data\n",
    "job_binner = dp.fit_job_bins(dat_tr)"
   ]
  },
  {
   "cell_type": "code",
   "execution_count": 14,
   "id": "2d45c585",
   "metadata": {},
   "outputs": [],
   "source": [
    "# Apply bins to training data\n",
    "dp.bin_jobs(dat_tr, job_binner)\n",
    "dp.bin_jobs(dat_tst, job_binner)"
   ]
  },
  {
   "cell_type": "code",
   "execution_count": 15,
   "id": "9b37516d",
   "metadata": {},
   "outputs": [],
   "source": [
    "dat_tr['job_bin'] = dat_tr['job_bin'].astype(str)\n",
    "dat_tst['job_bin'] = dat_tst['job_bin'].astype(str)"
   ]
  },
  {
   "cell_type": "code",
   "execution_count": 16,
   "id": "45740973",
   "metadata": {},
   "outputs": [],
   "source": [
    "job_bin_encoder = dp.fit_col_encoder(dat_tr, 'job_bin')\n",
    "job_bin_enc_tr = dp.encode_col(dat_tr, 'job_bin', job_bin_encoder)\n",
    "job_bin_enc = dp.encode_col(dat_tst, 'job_bin', job_bin_encoder)"
   ]
  },
  {
   "cell_type": "markdown",
   "id": "559db045",
   "metadata": {},
   "source": [
    "### Create Model Dataframe"
   ]
  },
  {
   "cell_type": "code",
   "execution_count": 17,
   "id": "b0a37d1e",
   "metadata": {},
   "outputs": [],
   "source": [
    "model_dat = pd.concat([\n",
    "    dat_tr[['is_fraud'] + ['amt'] + ['age_at_trans', 'city_pop', 'distance']].reset_index(drop=True),\n",
    "    category_enc_tr.reset_index(drop=True),\n",
    "    year_enc_tr.reset_index(drop=True),\n",
    "    month_enc_tr.reset_index(drop=True),\n",
    "    job_bin_enc_tr.reset_index(drop=True)\n",
    "], axis=1)"
   ]
  },
  {
   "cell_type": "code",
   "execution_count": 24,
   "id": "3d512ab9",
   "metadata": {},
   "outputs": [],
   "source": [
    "test_dat = pd.concat([\n",
    "    dat_tst[['is_fraud'] + ['amt'] + ['age_at_trans', 'city_pop', 'distance']].reset_index(drop=True),\n",
    "    category_enc.reset_index(drop=True),\n",
    "    year_enc.reset_index(drop=True),\n",
    "    month_enc.reset_index(drop=True),\n",
    "    job_bin_enc.reset_index(drop=True)\n",
    "], axis=1)"
   ]
  },
  {
   "cell_type": "markdown",
   "id": "80a680df",
   "metadata": {},
   "source": [
    "## Fit Model"
   ]
  },
  {
   "cell_type": "code",
   "execution_count": 31,
   "id": "11c21a04",
   "metadata": {},
   "outputs": [],
   "source": [
    "rfc = RandomForestClassifier(class_weight='balanced', min_samples_leaf=9, min_samples_split=2, n_estimators=500)"
   ]
  },
  {
   "cell_type": "code",
   "execution_count": 32,
   "id": "903fa789",
   "metadata": {},
   "outputs": [
    {
     "data": {
      "text/plain": [
       "RandomForestClassifier(class_weight='balanced', min_samples_leaf=9,\n",
       "                       n_estimators=500)"
      ]
     },
     "execution_count": 32,
     "metadata": {},
     "output_type": "execute_result"
    }
   ],
   "source": [
    "rfc.fit(model_dat.drop('is_fraud', axis=1), model_dat['is_fraud'])"
   ]
  },
  {
   "cell_type": "markdown",
   "id": "c4c4b493",
   "metadata": {},
   "source": [
    "## Evaluate Model"
   ]
  },
  {
   "cell_type": "code",
   "execution_count": 33,
   "id": "f0d2675b",
   "metadata": {},
   "outputs": [],
   "source": [
    "rfc_true = test_dat['is_fraud']\n",
    "rfc_pred = rfc.predict(test_dat.drop('is_fraud', axis=1))"
   ]
  },
  {
   "cell_type": "code",
   "execution_count": 34,
   "id": "8434a821",
   "metadata": {},
   "outputs": [
    {
     "data": {
      "text/plain": [
       "0.9931030355716125"
      ]
     },
     "execution_count": 34,
     "metadata": {},
     "output_type": "execute_result"
    }
   ],
   "source": [
    "roc_auc_score(test_dat['is_fraud'], rfc.predict_proba(test_dat.drop('is_fraud', axis=1))[:,1])"
   ]
  },
  {
   "cell_type": "code",
   "execution_count": 35,
   "id": "fab135bb",
   "metadata": {},
   "outputs": [
    {
     "data": {
      "text/plain": [
       "array([0.99925208, 0.49218528])"
      ]
     },
     "execution_count": 35,
     "metadata": {},
     "output_type": "execute_result"
    }
   ],
   "source": [
    "precision_score(rfc_true, rfc_pred, average=None)"
   ]
  },
  {
   "cell_type": "code",
   "execution_count": 36,
   "id": "f83cd03e",
   "metadata": {},
   "outputs": [
    {
     "data": {
      "text/plain": [
       "array([0.99677189, 0.80745921])"
      ]
     },
     "execution_count": 36,
     "metadata": {},
     "output_type": "execute_result"
    }
   ],
   "source": [
    "recall_score(rfc_true, rfc_pred, average=None)"
   ]
  },
  {
   "cell_type": "code",
   "execution_count": null,
   "id": "b59c945f",
   "metadata": {},
   "outputs": [],
   "source": []
  }
 ],
 "metadata": {
  "kernelspec": {
   "display_name": "base",
   "language": "python",
   "name": "python3"
  },
  "language_info": {
   "codemirror_mode": {
    "name": "ipython",
    "version": 3
   },
   "file_extension": ".py",
   "mimetype": "text/x-python",
   "name": "python",
   "nbconvert_exporter": "python",
   "pygments_lexer": "ipython3",
   "version": "3.9.12"
  }
 },
 "nbformat": 4,
 "nbformat_minor": 5
}
