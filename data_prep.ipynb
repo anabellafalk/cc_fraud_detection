{
 "cells": [
  {
   "cell_type": "markdown",
   "id": "fb0fb69e",
   "metadata": {},
   "source": [
    "Import Libraries"
   ]
  },
  {
   "cell_type": "code",
   "execution_count": 4,
   "id": "3b8a7ee4",
   "metadata": {},
   "outputs": [],
   "source": [
    "import pandas as pd\n",
    "import matplotlib.pyplot as plt"
   ]
  },
  {
   "cell_type": "code",
   "execution_count": 5,
   "id": "78cef538",
   "metadata": {},
   "outputs": [],
   "source": [
    "import data_prep as dp"
   ]
  },
  {
   "cell_type": "markdown",
   "id": "6fe55388",
   "metadata": {},
   "source": [
    "Import Data"
   ]
  },
  {
   "cell_type": "code",
   "execution_count": 6,
   "id": "e3a5d611",
   "metadata": {},
   "outputs": [
    {
     "name": "stdout",
     "output_type": "stream",
     "text": [
      "Path to dataset files: /Users/anabellafalk/.cache/kagglehub/datasets/kartik2112/fraud-detection/versions/1\n"
     ]
    }
   ],
   "source": [
    "dat_val, dat_tr = dp.load_train_split()"
   ]
  },
  {
   "cell_type": "code",
   "execution_count": 8,
   "id": "7dc67251",
   "metadata": {},
   "outputs": [
    {
     "data": {
      "text/html": [
       "<div>\n",
       "<style scoped>\n",
       "    .dataframe tbody tr th:only-of-type {\n",
       "        vertical-align: middle;\n",
       "    }\n",
       "\n",
       "    .dataframe tbody tr th {\n",
       "        vertical-align: top;\n",
       "    }\n",
       "\n",
       "    .dataframe thead th {\n",
       "        text-align: right;\n",
       "    }\n",
       "</style>\n",
       "<table border=\"1\" class=\"dataframe\">\n",
       "  <thead>\n",
       "    <tr style=\"text-align: right;\">\n",
       "      <th></th>\n",
       "      <th>trans_date_trans_time</th>\n",
       "      <th>cc_num</th>\n",
       "      <th>merchant</th>\n",
       "      <th>category</th>\n",
       "      <th>amt</th>\n",
       "      <th>first</th>\n",
       "      <th>last</th>\n",
       "      <th>gender</th>\n",
       "      <th>street</th>\n",
       "      <th>city</th>\n",
       "      <th>...</th>\n",
       "      <th>lat</th>\n",
       "      <th>long</th>\n",
       "      <th>city_pop</th>\n",
       "      <th>job</th>\n",
       "      <th>dob</th>\n",
       "      <th>trans_num</th>\n",
       "      <th>unix_time</th>\n",
       "      <th>merch_lat</th>\n",
       "      <th>merch_long</th>\n",
       "      <th>is_fraud</th>\n",
       "    </tr>\n",
       "  </thead>\n",
       "  <tbody>\n",
       "    <tr>\n",
       "      <th>1</th>\n",
       "      <td>2019-01-01 00:00:44</td>\n",
       "      <td>630423337322</td>\n",
       "      <td>fraud_Heller, Gutmann and Zieme</td>\n",
       "      <td>grocery_pos</td>\n",
       "      <td>107.23</td>\n",
       "      <td>Stephanie</td>\n",
       "      <td>Gill</td>\n",
       "      <td>F</td>\n",
       "      <td>43039 Riley Greens Suite 393</td>\n",
       "      <td>Orient</td>\n",
       "      <td>...</td>\n",
       "      <td>48.8878</td>\n",
       "      <td>-118.2105</td>\n",
       "      <td>149</td>\n",
       "      <td>Special educational needs teacher</td>\n",
       "      <td>1978-06-21</td>\n",
       "      <td>1f76529f8574734946361c461b024d99</td>\n",
       "      <td>1325376044</td>\n",
       "      <td>49.159047</td>\n",
       "      <td>-118.186462</td>\n",
       "      <td>0</td>\n",
       "    </tr>\n",
       "    <tr>\n",
       "      <th>4</th>\n",
       "      <td>2019-01-01 00:03:06</td>\n",
       "      <td>375534208663984</td>\n",
       "      <td>fraud_Keeling-Crist</td>\n",
       "      <td>misc_pos</td>\n",
       "      <td>41.96</td>\n",
       "      <td>Tyler</td>\n",
       "      <td>Garcia</td>\n",
       "      <td>M</td>\n",
       "      <td>408 Bradley Rest</td>\n",
       "      <td>Doe Hill</td>\n",
       "      <td>...</td>\n",
       "      <td>38.4207</td>\n",
       "      <td>-79.4629</td>\n",
       "      <td>99</td>\n",
       "      <td>Dance movement psychotherapist</td>\n",
       "      <td>1986-03-28</td>\n",
       "      <td>a41d7549acf90789359a9aa5346dcb46</td>\n",
       "      <td>1325376186</td>\n",
       "      <td>38.674999</td>\n",
       "      <td>-78.632459</td>\n",
       "      <td>0</td>\n",
       "    </tr>\n",
       "    <tr>\n",
       "      <th>13</th>\n",
       "      <td>2019-01-01 00:07:27</td>\n",
       "      <td>5559857416065248</td>\n",
       "      <td>fraud_Kiehn Inc</td>\n",
       "      <td>grocery_pos</td>\n",
       "      <td>96.29</td>\n",
       "      <td>Jack</td>\n",
       "      <td>Hill</td>\n",
       "      <td>M</td>\n",
       "      <td>5916 Susan Bridge Apt. 939</td>\n",
       "      <td>Grenada</td>\n",
       "      <td>...</td>\n",
       "      <td>41.6125</td>\n",
       "      <td>-122.5258</td>\n",
       "      <td>589</td>\n",
       "      <td>Systems analyst</td>\n",
       "      <td>1945-12-21</td>\n",
       "      <td>413636e759663f264aae1819a4d4f231</td>\n",
       "      <td>1325376447</td>\n",
       "      <td>41.657520</td>\n",
       "      <td>-122.230347</td>\n",
       "      <td>0</td>\n",
       "    </tr>\n",
       "    <tr>\n",
       "      <th>14</th>\n",
       "      <td>2019-01-01 00:09:03</td>\n",
       "      <td>3514865930894695</td>\n",
       "      <td>fraud_Beier-Hyatt</td>\n",
       "      <td>shopping_pos</td>\n",
       "      <td>7.77</td>\n",
       "      <td>Christopher</td>\n",
       "      <td>Castaneda</td>\n",
       "      <td>M</td>\n",
       "      <td>1632 Cohen Drive Suite 639</td>\n",
       "      <td>High Rolls Mountain Park</td>\n",
       "      <td>...</td>\n",
       "      <td>32.9396</td>\n",
       "      <td>-105.8189</td>\n",
       "      <td>899</td>\n",
       "      <td>Naval architect</td>\n",
       "      <td>1967-08-30</td>\n",
       "      <td>8a6293af5ed278dea14448ded2685fea</td>\n",
       "      <td>1325376543</td>\n",
       "      <td>32.863258</td>\n",
       "      <td>-106.520205</td>\n",
       "      <td>0</td>\n",
       "    </tr>\n",
       "    <tr>\n",
       "      <th>20</th>\n",
       "      <td>2019-01-01 00:13:08</td>\n",
       "      <td>4469777115158234880</td>\n",
       "      <td>fraud_Bauch-Raynor</td>\n",
       "      <td>grocery_pos</td>\n",
       "      <td>57.34</td>\n",
       "      <td>Gregory</td>\n",
       "      <td>Graham</td>\n",
       "      <td>M</td>\n",
       "      <td>4005 Dana Glens</td>\n",
       "      <td>Methuen</td>\n",
       "      <td>...</td>\n",
       "      <td>42.7280</td>\n",
       "      <td>-71.1810</td>\n",
       "      <td>47249</td>\n",
       "      <td>Market researcher</td>\n",
       "      <td>1980-11-22</td>\n",
       "      <td>139a1bee15be607d79fe173bfcb2502a</td>\n",
       "      <td>1325376788</td>\n",
       "      <td>42.268760</td>\n",
       "      <td>-71.217297</td>\n",
       "      <td>0</td>\n",
       "    </tr>\n",
       "  </tbody>\n",
       "</table>\n",
       "<p>5 rows × 22 columns</p>\n",
       "</div>"
      ],
      "text/plain": [
       "   trans_date_trans_time               cc_num  \\\n",
       "1    2019-01-01 00:00:44         630423337322   \n",
       "4    2019-01-01 00:03:06      375534208663984   \n",
       "13   2019-01-01 00:07:27     5559857416065248   \n",
       "14   2019-01-01 00:09:03     3514865930894695   \n",
       "20   2019-01-01 00:13:08  4469777115158234880   \n",
       "\n",
       "                           merchant      category     amt        first  \\\n",
       "1   fraud_Heller, Gutmann and Zieme   grocery_pos  107.23    Stephanie   \n",
       "4               fraud_Keeling-Crist      misc_pos   41.96        Tyler   \n",
       "13                  fraud_Kiehn Inc   grocery_pos   96.29         Jack   \n",
       "14                fraud_Beier-Hyatt  shopping_pos    7.77  Christopher   \n",
       "20               fraud_Bauch-Raynor   grocery_pos   57.34      Gregory   \n",
       "\n",
       "         last gender                        street                      city  \\\n",
       "1        Gill      F  43039 Riley Greens Suite 393                    Orient   \n",
       "4      Garcia      M              408 Bradley Rest                  Doe Hill   \n",
       "13       Hill      M    5916 Susan Bridge Apt. 939                   Grenada   \n",
       "14  Castaneda      M    1632 Cohen Drive Suite 639  High Rolls Mountain Park   \n",
       "20     Graham      M               4005 Dana Glens                   Methuen   \n",
       "\n",
       "    ...      lat      long  city_pop                                job  \\\n",
       "1   ...  48.8878 -118.2105       149  Special educational needs teacher   \n",
       "4   ...  38.4207  -79.4629        99     Dance movement psychotherapist   \n",
       "13  ...  41.6125 -122.5258       589                    Systems analyst   \n",
       "14  ...  32.9396 -105.8189       899                    Naval architect   \n",
       "20  ...  42.7280  -71.1810     47249                  Market researcher   \n",
       "\n",
       "           dob                         trans_num   unix_time  merch_lat  \\\n",
       "1   1978-06-21  1f76529f8574734946361c461b024d99  1325376044  49.159047   \n",
       "4   1986-03-28  a41d7549acf90789359a9aa5346dcb46  1325376186  38.674999   \n",
       "13  1945-12-21  413636e759663f264aae1819a4d4f231  1325376447  41.657520   \n",
       "14  1967-08-30  8a6293af5ed278dea14448ded2685fea  1325376543  32.863258   \n",
       "20  1980-11-22  139a1bee15be607d79fe173bfcb2502a  1325376788  42.268760   \n",
       "\n",
       "    merch_long  is_fraud  \n",
       "1  -118.186462         0  \n",
       "4   -78.632459         0  \n",
       "13 -122.230347         0  \n",
       "14 -106.520205         0  \n",
       "20  -71.217297         0  \n",
       "\n",
       "[5 rows x 22 columns]"
      ]
     },
     "execution_count": 8,
     "metadata": {},
     "output_type": "execute_result"
    }
   ],
   "source": [
    "dat_tr.head()"
   ]
  },
  {
   "cell_type": "markdown",
   "id": "486d69f6",
   "metadata": {},
   "source": [
    "Potentially Significant predictors: category, amt, month/year\n",
    "\n",
    "Controls/Identifiers: age, city pop, state?, job?\n",
    "\n",
    "Others to consider: distance"
   ]
  },
  {
   "cell_type": "markdown",
   "id": "1f75ab1d",
   "metadata": {},
   "source": [
    "### Extract Extra Columns"
   ]
  },
  {
   "cell_type": "markdown",
   "id": "3f688457",
   "metadata": {},
   "source": [
    "#### Extract Age"
   ]
  },
  {
   "cell_type": "code",
   "execution_count": 24,
   "id": "39347b83",
   "metadata": {},
   "outputs": [],
   "source": [
    "# Calculate and create age column\n",
    "dp.extract_age(dat_tr)\n",
    "dp.extract_age(dat_val)"
   ]
  },
  {
   "cell_type": "markdown",
   "id": "ab686554",
   "metadata": {},
   "source": [
    "#### Extract Distance"
   ]
  },
  {
   "cell_type": "code",
   "execution_count": 106,
   "id": "99daef84",
   "metadata": {},
   "outputs": [],
   "source": [
    "# Calculate and create distance column\n",
    "dp.extract_distance(dat_tr)\n",
    "dp.extract_distance(dat_val)"
   ]
  },
  {
   "cell_type": "markdown",
   "id": "ca4412cc",
   "metadata": {},
   "source": [
    "### Bin Categorical Variables"
   ]
  },
  {
   "cell_type": "markdown",
   "id": "11c3308c",
   "metadata": {},
   "source": [
    "#### Bin Jobs into Smaller Categories"
   ]
  },
  {
   "cell_type": "code",
   "execution_count": 15,
   "id": "38ff285e",
   "metadata": {},
   "outputs": [
    {
     "data": {
      "text/plain": [
       "Water engineer                           6164\n",
       "Petroleum engineer                       5161\n",
       "Chartered loss adjuster                  5135\n",
       "Radio broadcast assistant                4583\n",
       "Surgeon                                  4138\n",
       "                                         ... \n",
       "Chief of Staff                             11\n",
       "Architect                                  11\n",
       "Industrial buyer                           10\n",
       "Development worker, international aid      10\n",
       "Aeronautical engineer                       7\n",
       "Name: job, Length: 192, dtype: int64"
      ]
     },
     "execution_count": 15,
     "metadata": {},
     "output_type": "execute_result"
    }
   ],
   "source": [
    "dat_tr['job'].value_counts()"
   ]
  },
  {
   "cell_type": "code",
   "execution_count": 17,
   "id": "a88c95b8",
   "metadata": {},
   "outputs": [
    {
     "data": {
      "text/plain": [
       "job\n",
       "Administrator, charities/voluntary organisations    0.001981\n",
       "Administrator, local government                     0.000000\n",
       "Advertising account executive                       0.000000\n",
       "Advice worker                                       0.000000\n",
       "Aeronautical engineer                               1.000000\n",
       "                                                      ...   \n",
       "Toxicologist                                        0.000000\n",
       "Trade mark attorney                                 0.005258\n",
       "Video editor                                        0.000000\n",
       "Water engineer                                      0.000000\n",
       "Wellsite geologist                                  0.010711\n",
       "Name: is_fraud, Length: 192, dtype: float64"
      ]
     },
     "execution_count": 17,
     "metadata": {},
     "output_type": "execute_result"
    }
   ],
   "source": [
    "fraud_job = dat_tr.groupby('job')['is_fraud'].mean()\n",
    "fraud_job"
   ]
  },
  {
   "cell_type": "code",
   "execution_count": 26,
   "id": "93c905fc",
   "metadata": {},
   "outputs": [
    {
     "data": {
      "text/plain": [
       "(array([134.,  37.,  13.,   1.,   0.,   0.,   0.,   0.,   0.,   0.,   0.,\n",
       "          0.,   0.,   0.,   0.,   0.,   0.,   0.,   0.,   0.,   0.,   0.,\n",
       "          0.,   0.,   0.,   0.,   0.,   0.,   0.,   0.,   0.,   0.,   0.,\n",
       "          0.,   0.,   0.,   0.,   0.,   0.,   0.,   0.,   0.,   0.,   0.,\n",
       "          0.,   0.,   0.,   0.,   0.,   0.,   0.,   0.,   0.,   0.,   0.,\n",
       "          0.,   0.,   0.,   0.,   0.,   0.,   0.,   0.,   0.,   0.,   0.,\n",
       "          0.,   0.,   0.,   0.,   0.,   0.,   0.,   0.,   0.,   0.,   0.,\n",
       "          0.,   0.,   0.,   0.,   0.,   0.,   0.,   0.,   0.,   0.,   0.,\n",
       "          0.,   0.,   0.,   0.,   0.,   0.,   0.,   0.,   0.,   0.,   0.,\n",
       "          7.]),\n",
       " array([0.  , 0.01, 0.02, 0.03, 0.04, 0.05, 0.06, 0.07, 0.08, 0.09, 0.1 ,\n",
       "        0.11, 0.12, 0.13, 0.14, 0.15, 0.16, 0.17, 0.18, 0.19, 0.2 , 0.21,\n",
       "        0.22, 0.23, 0.24, 0.25, 0.26, 0.27, 0.28, 0.29, 0.3 , 0.31, 0.32,\n",
       "        0.33, 0.34, 0.35, 0.36, 0.37, 0.38, 0.39, 0.4 , 0.41, 0.42, 0.43,\n",
       "        0.44, 0.45, 0.46, 0.47, 0.48, 0.49, 0.5 , 0.51, 0.52, 0.53, 0.54,\n",
       "        0.55, 0.56, 0.57, 0.58, 0.59, 0.6 , 0.61, 0.62, 0.63, 0.64, 0.65,\n",
       "        0.66, 0.67, 0.68, 0.69, 0.7 , 0.71, 0.72, 0.73, 0.74, 0.75, 0.76,\n",
       "        0.77, 0.78, 0.79, 0.8 , 0.81, 0.82, 0.83, 0.84, 0.85, 0.86, 0.87,\n",
       "        0.88, 0.89, 0.9 , 0.91, 0.92, 0.93, 0.94, 0.95, 0.96, 0.97, 0.98,\n",
       "        0.99, 1.  ]),\n",
       " <BarContainer object of 100 artists>)"
      ]
     },
     "execution_count": 26,
     "metadata": {},
     "output_type": "execute_result"
    },
    {
     "data": {
      "image/png": "[encoded data removed]",
      "text/plain": [
       "<Figure size 432x288 with 1 Axes>"
      ]
     },
     "metadata": {
      "needs_background": "light"
     },
     "output_type": "display_data"
    }
   ],
   "source": [
    "plt.hist(fraud_job.values, bins = 100)"
   ]
  },
  {
   "cell_type": "markdown",
   "id": "73da7c00",
   "metadata": {},
   "source": [
    "##### Use Kmeans"
   ]
  },
  {
   "cell_type": "code",
   "execution_count": 57,
   "id": "0f1cbed6",
   "metadata": {},
   "outputs": [],
   "source": [
    "from sklearn.cluster import KMeans\n",
    "cluster = KMeans(3)"
   ]
  },
  {
   "cell_type": "code",
   "execution_count": 47,
   "id": "29a0502d",
   "metadata": {},
   "outputs": [
    {
     "data": {
      "text/plain": [
       "array([2, 2, 2, 2, 1, 2, 0, 2, 2, 2, 1, 2, 0, 0, 0, 2, 0, 2, 2, 2, 2, 2,\n",
       "       2, 2, 2, 2, 2, 2, 1, 2, 2, 0, 2, 2, 2, 2, 2, 2, 2, 2, 2, 2, 2, 1,\n",
       "       2, 2, 2, 1, 2, 2, 2, 2, 2, 2, 2, 2, 2, 0, 0, 0, 2, 2, 0, 2, 2, 0,\n",
       "       2, 2, 2, 2, 2, 2, 2, 2, 2, 2, 2, 2, 2, 2, 2, 2, 2, 2, 2, 2, 2, 1,\n",
       "       2, 2, 2, 0, 2, 2, 2, 0, 2, 1, 2, 2, 2, 2, 2, 0, 2, 0, 0, 0, 2, 0,\n",
       "       2, 2, 2, 2, 2, 2, 0, 2, 2, 0, 2, 2, 2, 2, 2, 2, 2, 2, 2, 2, 0, 2,\n",
       "       2, 2, 2, 2, 2, 2, 2, 2, 2, 2, 0, 2, 2, 2, 2, 2, 2, 2, 0, 2, 0, 0,\n",
       "       2, 2, 2, 2, 2, 2, 0, 2, 2, 0, 2, 2, 2, 2, 2, 2, 2, 0, 2, 2, 2, 2,\n",
       "       0, 2, 2, 2, 2, 2, 2, 0, 2, 2, 2, 2, 2, 2, 2, 2], dtype=int32)"
      ]
     },
     "execution_count": 47,
     "metadata": {},
     "output_type": "execute_result"
    }
   ],
   "source": [
    "clusterings = cluster.fit_predict(fraud_job.values.reshape(-1,1))\n",
    "clusterings"
   ]
  },
  {
   "cell_type": "code",
   "execution_count": 48,
   "id": "69064233",
   "metadata": {},
   "outputs": [
    {
     "data": {
      "text/plain": [
       "array([[0.02015378],\n",
       "       [1.        ],\n",
       "       [0.00540699]])"
      ]
     },
     "execution_count": 48,
     "metadata": {},
     "output_type": "execute_result"
    }
   ],
   "source": [
    "cluster.cluster_centers_"
   ]
  },
  {
   "cell_type": "code",
   "execution_count": 30,
   "id": "280cd127",
   "metadata": {},
   "outputs": [
    {
     "data": {
      "text/plain": [
       "(192,)"
      ]
     },
     "execution_count": 30,
     "metadata": {},
     "output_type": "execute_result"
    }
   ],
   "source": [
    "fraud_job.shape"
   ]
  },
  {
   "cell_type": "code",
   "execution_count": 49,
   "id": "7fe2b46f",
   "metadata": {},
   "outputs": [
    {
     "data": {
      "text/plain": [
       "(192,)"
      ]
     },
     "execution_count": 49,
     "metadata": {},
     "output_type": "execute_result"
    }
   ],
   "source": [
    "clusterings.shape"
   ]
  },
  {
   "cell_type": "code",
   "execution_count": null,
   "id": "19b087bd",
   "metadata": {},
   "outputs": [
    {
     "data": {
      "text/plain": [
       "job\n",
       "Administrator, charities/voluntary organisations    2\n",
       "Administrator, local government                     2\n",
       "Advertising account executive                       2\n",
       "Advice worker                                       2\n",
       "Aeronautical engineer                               1\n",
       "                                                   ..\n",
       "Toxicologist                                        2\n",
       "Trade mark attorney                                 2\n",
       "Video editor                                        2\n",
       "Water engineer                                      2\n",
       "Wellsite geologist                                  2\n",
       "Length: 192, dtype: int32"
      ]
     },
     "execution_count": 69,
     "metadata": {},
     "output_type": "execute_result"
    }
   ],
   "source": [
    "job_bin = pd.Series(clusterings)\n",
    "job_bin.index = fraud_job.index\n",
    "job_bin"
   ]
  },
  {
   "cell_type": "code",
   "execution_count": 71,
   "id": "ff3b1726",
   "metadata": {},
   "outputs": [],
   "source": [
    "dat_tr['job_bin'] = dat_tr['job'].apply(lambda x: job_bin.loc[x])"
   ]
  },
  {
   "cell_type": "code",
   "execution_count": 74,
   "id": "ffd1cd71",
   "metadata": {},
   "outputs": [
    {
     "data": {
      "text/html": [
       "<div>\n",
       "<style scoped>\n",
       "    .dataframe tbody tr th:only-of-type {\n",
       "        vertical-align: middle;\n",
       "    }\n",
       "\n",
       "    .dataframe tbody tr th {\n",
       "        vertical-align: top;\n",
       "    }\n",
       "\n",
       "    .dataframe thead th {\n",
       "        text-align: right;\n",
       "    }\n",
       "</style>\n",
       "<table border=\"1\" class=\"dataframe\">\n",
       "  <thead>\n",
       "    <tr style=\"text-align: right;\">\n",
       "      <th></th>\n",
       "      <th>job</th>\n",
       "      <th>job_bin</th>\n",
       "    </tr>\n",
       "  </thead>\n",
       "  <tbody>\n",
       "    <tr>\n",
       "      <th>1</th>\n",
       "      <td>Special educational needs teacher</td>\n",
       "      <td>2</td>\n",
       "    </tr>\n",
       "    <tr>\n",
       "      <th>4</th>\n",
       "      <td>Dance movement psychotherapist</td>\n",
       "      <td>2</td>\n",
       "    </tr>\n",
       "    <tr>\n",
       "      <th>13</th>\n",
       "      <td>Systems analyst</td>\n",
       "      <td>2</td>\n",
       "    </tr>\n",
       "    <tr>\n",
       "      <th>14</th>\n",
       "      <td>Naval architect</td>\n",
       "      <td>2</td>\n",
       "    </tr>\n",
       "    <tr>\n",
       "      <th>20</th>\n",
       "      <td>Market researcher</td>\n",
       "      <td>2</td>\n",
       "    </tr>\n",
       "    <tr>\n",
       "      <th>...</th>\n",
       "      <td>...</td>\n",
       "      <td>...</td>\n",
       "    </tr>\n",
       "    <tr>\n",
       "      <th>1296647</th>\n",
       "      <td>Further education lecturer</td>\n",
       "      <td>2</td>\n",
       "    </tr>\n",
       "    <tr>\n",
       "      <th>1296652</th>\n",
       "      <td>Facilities manager</td>\n",
       "      <td>2</td>\n",
       "    </tr>\n",
       "    <tr>\n",
       "      <th>1296661</th>\n",
       "      <td>Administrator, local government</td>\n",
       "      <td>2</td>\n",
       "    </tr>\n",
       "    <tr>\n",
       "      <th>1296667</th>\n",
       "      <td>Exercise physiologist</td>\n",
       "      <td>2</td>\n",
       "    </tr>\n",
       "    <tr>\n",
       "      <th>1296672</th>\n",
       "      <td>Naval architect</td>\n",
       "      <td>2</td>\n",
       "    </tr>\n",
       "  </tbody>\n",
       "</table>\n",
       "<p>319622 rows × 2 columns</p>\n",
       "</div>"
      ],
      "text/plain": [
       "                                       job  job_bin\n",
       "1        Special educational needs teacher        2\n",
       "4           Dance movement psychotherapist        2\n",
       "13                         Systems analyst        2\n",
       "14                         Naval architect        2\n",
       "20                       Market researcher        2\n",
       "...                                    ...      ...\n",
       "1296647         Further education lecturer        2\n",
       "1296652                 Facilities manager        2\n",
       "1296661    Administrator, local government        2\n",
       "1296667              Exercise physiologist        2\n",
       "1296672                    Naval architect        2\n",
       "\n",
       "[319622 rows x 2 columns]"
      ]
     },
     "execution_count": 74,
     "metadata": {},
     "output_type": "execute_result"
    }
   ],
   "source": [
    "dat_tr[['job','job_bin']]"
   ]
  },
  {
   "cell_type": "code",
   "execution_count": 75,
   "id": "a4aad8c4",
   "metadata": {},
   "outputs": [
    {
     "data": {
      "text/plain": [
       "2"
      ]
     },
     "execution_count": 75,
     "metadata": {},
     "output_type": "execute_result"
    }
   ],
   "source": [
    "job_bin.loc['Naval architect']"
   ]
  },
  {
   "cell_type": "markdown",
   "id": "26967ea5",
   "metadata": {},
   "source": [
    "With more data consider binning by median job salary or salary ratio to transaction amount"
   ]
  },
  {
   "cell_type": "markdown",
   "id": "d13cac58",
   "metadata": {},
   "source": [
    "### Bin Numeric Variables"
   ]
  },
  {
   "cell_type": "markdown",
   "id": "e312caf9",
   "metadata": {},
   "source": [
    "#### Bin Age to reduce levels"
   ]
  },
  {
   "cell_type": "markdown",
   "id": "cf879e0d",
   "metadata": {},
   "source": [
    "##### Quantile Binning"
   ]
  },
  {
   "cell_type": "code",
   "execution_count": 72,
   "id": "bef64059",
   "metadata": {},
   "outputs": [
    {
     "data": {
      "text/plain": [
       "1            (34.0, 41.0]\n",
       "4            (29.0, 34.0]\n",
       "13           (64.0, 94.0]\n",
       "14           (46.0, 53.0]\n",
       "20           (34.0, 41.0]\n",
       "                ...      \n",
       "1296647      (53.0, 64.0]\n",
       "1296652    (12.999, 29.0]\n",
       "1296661    (12.999, 29.0]\n",
       "1296667    (12.999, 29.0]\n",
       "1296672      (46.0, 53.0]\n",
       "Name: age_bin, Length: 319622, dtype: category\n",
       "Categories (7, interval[float64, right]): [(12.999, 29.0] < (29.0, 34.0] < (34.0, 41.0] < (41.0, 46.0] < (46.0, 53.0] < (53.0, 64.0] < (64.0, 94.0]]"
      ]
     },
     "execution_count": 72,
     "metadata": {},
     "output_type": "execute_result"
    }
   ],
   "source": [
    "dat_tr['age_bin'] = pd.qcut(dat_tr['age_at_trans'].values, 7)\n",
    "dat_tr['age_bin']"
   ]
  },
  {
   "cell_type": "markdown",
   "id": "a148d448",
   "metadata": {},
   "source": [
    "Use quantile bins fit by training data to transform validation data"
   ]
  },
  {
   "cell_type": "code",
   "execution_count": null,
   "id": "3448fe3c",
   "metadata": {},
   "outputs": [
    {
     "data": {
      "text/plain": [
       "[Interval(12.999, 29.0, closed='right'),\n",
       " Interval(29.0, 34.0, closed='right'),\n",
       " Interval(34.0, 41.0, closed='right'),\n",
       " Interval(41.0, 46.0, closed='right'),\n",
       " Interval(46.0, 53.0, closed='right'),\n",
       " Interval(53.0, 64.0, closed='right'),\n",
       " Interval(64.0, 94.0, closed='right')]"
      ]
     },
     "execution_count": 93,
     "metadata": {},
     "output_type": "execute_result"
    }
   ],
   "source": [
    "lst = []\n",
    "for x in dat_tr['age_bin'].unique():\n",
    "    lst = lst + [x]\n",
    "lst.sort()\n",
    "lst"
   ]
  },
  {
   "cell_type": "code",
   "execution_count": 95,
   "id": "bb4235c4",
   "metadata": {},
   "outputs": [
    {
     "data": {
      "text/plain": [
       "[12.999, 29.0, 34.0, 41.0, 46.0, 53.0, 64.0, 94.0]"
      ]
     },
     "execution_count": 95,
     "metadata": {},
     "output_type": "execute_result"
    }
   ],
   "source": [
    "bins = []\n",
    "for x in lst:\n",
    "    bins = bins + [x.left]\n",
    "bins.append(lst[len(lst)-1].right)\n",
    "bins"
   ]
  },
  {
   "cell_type": "code",
   "execution_count": 97,
   "id": "cb41b80b",
   "metadata": {},
   "outputs": [
    {
     "data": {
      "text/plain": [
       "0            (29.0, 34.0]\n",
       "2            (53.0, 64.0]\n",
       "3            (46.0, 53.0]\n",
       "5            (53.0, 64.0]\n",
       "6          (12.999, 29.0]\n",
       "                ...      \n",
       "1296669      (34.0, 41.0]\n",
       "1296670      (53.0, 64.0]\n",
       "1296671      (34.0, 41.0]\n",
       "1296673      (34.0, 41.0]\n",
       "1296674    (12.999, 29.0]\n",
       "Name: age_bin, Length: 977053, dtype: category\n",
       "Categories (7, interval[float64, right]): [(12.999, 29.0] < (29.0, 34.0] < (34.0, 41.0] < (41.0, 46.0] < (46.0, 53.0] < (53.0, 64.0] < (64.0, 94.0]]"
      ]
     },
     "execution_count": 97,
     "metadata": {},
     "output_type": "execute_result"
    }
   ],
   "source": [
    "dat_val['age_bin'] = pd.cut(dat_val['age_at_trans'], bins=bins)\n",
    "dat_val['age_bin']"
   ]
  },
  {
   "cell_type": "markdown",
   "id": "28b9fe5d",
   "metadata": {},
   "source": [
    "Cap values to be within bin ranges"
   ]
  },
  {
   "cell_type": "code",
   "execution_count": 98,
   "id": "9675e541",
   "metadata": {},
   "outputs": [
    {
     "data": {
      "text/plain": [
       "[(29.0, 34.0], (53.0, 64.0], (46.0, 53.0], (12.999, 29.0], (64.0, 94.0], (41.0, 46.0], (34.0, 41.0], NaN]\n",
       "Categories (7, interval[float64, right]): [(12.999, 29.0] < (29.0, 34.0] < (34.0, 41.0] < (41.0, 46.0] < (46.0, 53.0] < (53.0, 64.0] < (64.0, 94.0]]"
      ]
     },
     "execution_count": 98,
     "metadata": {},
     "output_type": "execute_result"
    }
   ],
   "source": [
    "dat_val['age_bin'].unique()"
   ]
  },
  {
   "cell_type": "code",
   "execution_count": 99,
   "id": "e8ae0dff",
   "metadata": {},
   "outputs": [
    {
     "data": {
      "text/plain": [
       "array([30, 56, 52, 57, 25, 71, 77, 44, 28, 29, 53, 66, 80, 72, 38, 73, 47,\n",
       "       54, 41, 48, 34, 20, 31, 46, 32, 65, 24, 42, 37, 82, 21, 63, 51, 35,\n",
       "       40, 18, 64, 83, 43, 23, 61, 91, 90, 92, 67, 33, 60, 17, 89, 68, 55,\n",
       "       70, 50, 45, 59, 19, 15, 49, 87, 26, 36, 79, 58, 84, 14, 81, 62, 76,\n",
       "       27, 39, 69, 75, 78, 88, 86, 22, 85, 74, 94, 93, 16, 95])"
      ]
     },
     "execution_count": 99,
     "metadata": {},
     "output_type": "execute_result"
    }
   ],
   "source": [
    "dat_val['age_at_trans'].unique()"
   ]
  },
  {
   "cell_type": "code",
   "execution_count": 101,
   "id": "1457cb07",
   "metadata": {},
   "outputs": [
    {
     "data": {
      "text/html": [
       "<div>\n",
       "<style scoped>\n",
       "    .dataframe tbody tr th:only-of-type {\n",
       "        vertical-align: middle;\n",
       "    }\n",
       "\n",
       "    .dataframe tbody tr th {\n",
       "        vertical-align: top;\n",
       "    }\n",
       "\n",
       "    .dataframe thead th {\n",
       "        text-align: right;\n",
       "    }\n",
       "</style>\n",
       "<table border=\"1\" class=\"dataframe\">\n",
       "  <thead>\n",
       "    <tr style=\"text-align: right;\">\n",
       "      <th></th>\n",
       "      <th>trans_date_trans_time</th>\n",
       "      <th>cc_num</th>\n",
       "      <th>merchant</th>\n",
       "      <th>category</th>\n",
       "      <th>amt</th>\n",
       "      <th>first</th>\n",
       "      <th>last</th>\n",
       "      <th>gender</th>\n",
       "      <th>street</th>\n",
       "      <th>city</th>\n",
       "      <th>...</th>\n",
       "      <th>trans_num</th>\n",
       "      <th>unix_time</th>\n",
       "      <th>merch_lat</th>\n",
       "      <th>merch_long</th>\n",
       "      <th>is_fraud</th>\n",
       "      <th>amt_scale</th>\n",
       "      <th>city_pop_scale</th>\n",
       "      <th>age_at_trans</th>\n",
       "      <th>age_at_trans_scale</th>\n",
       "      <th>age_bin</th>\n",
       "    </tr>\n",
       "  </thead>\n",
       "  <tbody>\n",
       "    <tr>\n",
       "      <th>658858</th>\n",
       "      <td>2019-10-07 13:08:44</td>\n",
       "      <td>2358122155477959</td>\n",
       "      <td>fraud_Sporer-Keebler</td>\n",
       "      <td>personal_care</td>\n",
       "      <td>13.05</td>\n",
       "      <td>Mike</td>\n",
       "      <td>Tran</td>\n",
       "      <td>M</td>\n",
       "      <td>17355 Mendoza Bypass Suite 059</td>\n",
       "      <td>Linthicum Heights</td>\n",
       "      <td>...</td>\n",
       "      <td>f99e34be19f943c849010bf60a7c5e13</td>\n",
       "      <td>1349615324</td>\n",
       "      <td>40.158239</td>\n",
       "      <td>-76.748198</td>\n",
       "      <td>0</td>\n",
       "      <td>-0.355868</td>\n",
       "      <td>-0.218921</td>\n",
       "      <td>95</td>\n",
       "      <td>2.993261</td>\n",
       "      <td>NaN</td>\n",
       "    </tr>\n",
       "    <tr>\n",
       "      <th>659585</th>\n",
       "      <td>2019-10-07 17:35:20</td>\n",
       "      <td>2358122155477959</td>\n",
       "      <td>fraud_Denesik, Powlowski and Pouros</td>\n",
       "      <td>home</td>\n",
       "      <td>37.50</td>\n",
       "      <td>Mike</td>\n",
       "      <td>Tran</td>\n",
       "      <td>M</td>\n",
       "      <td>17355 Mendoza Bypass Suite 059</td>\n",
       "      <td>Linthicum Heights</td>\n",
       "      <td>...</td>\n",
       "      <td>badee0cae6dbe9374a82760bda10370e</td>\n",
       "      <td>1349631320</td>\n",
       "      <td>38.548975</td>\n",
       "      <td>-76.800262</td>\n",
       "      <td>0</td>\n",
       "      <td>-0.207058</td>\n",
       "      <td>-0.218921</td>\n",
       "      <td>95</td>\n",
       "      <td>2.993261</td>\n",
       "      <td>NaN</td>\n",
       "    </tr>\n",
       "    <tr>\n",
       "      <th>660820</th>\n",
       "      <td>2019-10-08 04:59:27</td>\n",
       "      <td>2358122155477959</td>\n",
       "      <td>fraud_O'Keefe-Hudson</td>\n",
       "      <td>grocery_pos</td>\n",
       "      <td>78.89</td>\n",
       "      <td>Mike</td>\n",
       "      <td>Tran</td>\n",
       "      <td>M</td>\n",
       "      <td>17355 Mendoza Bypass Suite 059</td>\n",
       "      <td>Linthicum Heights</td>\n",
       "      <td>...</td>\n",
       "      <td>e2c43e375bf0c96feeee0cc0ac6aa42b</td>\n",
       "      <td>1349672367</td>\n",
       "      <td>38.228932</td>\n",
       "      <td>-77.436400</td>\n",
       "      <td>0</td>\n",
       "      <td>0.044854</td>\n",
       "      <td>-0.218921</td>\n",
       "      <td>95</td>\n",
       "      <td>2.993261</td>\n",
       "      <td>NaN</td>\n",
       "    </tr>\n",
       "    <tr>\n",
       "      <th>662898</th>\n",
       "      <td>2019-10-09 14:43:06</td>\n",
       "      <td>2358122155477959</td>\n",
       "      <td>fraud_Lubowitz-Walter</td>\n",
       "      <td>kids_pets</td>\n",
       "      <td>93.17</td>\n",
       "      <td>Mike</td>\n",
       "      <td>Tran</td>\n",
       "      <td>M</td>\n",
       "      <td>17355 Mendoza Bypass Suite 059</td>\n",
       "      <td>Linthicum Heights</td>\n",
       "      <td>...</td>\n",
       "      <td>57803ffa109966e23d86ba4ce8b1a10f</td>\n",
       "      <td>1349793786</td>\n",
       "      <td>39.560235</td>\n",
       "      <td>-77.357184</td>\n",
       "      <td>0</td>\n",
       "      <td>0.131766</td>\n",
       "      <td>-0.218921</td>\n",
       "      <td>95</td>\n",
       "      <td>2.993261</td>\n",
       "      <td>NaN</td>\n",
       "    </tr>\n",
       "    <tr>\n",
       "      <th>664397</th>\n",
       "      <td>2019-10-10 11:03:59</td>\n",
       "      <td>2358122155477959</td>\n",
       "      <td>fraud_Schmitt Inc</td>\n",
       "      <td>gas_transport</td>\n",
       "      <td>54.79</td>\n",
       "      <td>Mike</td>\n",
       "      <td>Tran</td>\n",
       "      <td>M</td>\n",
       "      <td>17355 Mendoza Bypass Suite 059</td>\n",
       "      <td>Linthicum Heights</td>\n",
       "      <td>...</td>\n",
       "      <td>29eab710b0749ae147b8b74f0c10f638</td>\n",
       "      <td>1349867039</td>\n",
       "      <td>38.636951</td>\n",
       "      <td>-75.744072</td>\n",
       "      <td>0</td>\n",
       "      <td>-0.101826</td>\n",
       "      <td>-0.218921</td>\n",
       "      <td>95</td>\n",
       "      <td>2.993261</td>\n",
       "      <td>NaN</td>\n",
       "    </tr>\n",
       "    <tr>\n",
       "      <th>...</th>\n",
       "      <td>...</td>\n",
       "      <td>...</td>\n",
       "      <td>...</td>\n",
       "      <td>...</td>\n",
       "      <td>...</td>\n",
       "      <td>...</td>\n",
       "      <td>...</td>\n",
       "      <td>...</td>\n",
       "      <td>...</td>\n",
       "      <td>...</td>\n",
       "      <td>...</td>\n",
       "      <td>...</td>\n",
       "      <td>...</td>\n",
       "      <td>...</td>\n",
       "      <td>...</td>\n",
       "      <td>...</td>\n",
       "      <td>...</td>\n",
       "      <td>...</td>\n",
       "      <td>...</td>\n",
       "      <td>...</td>\n",
       "      <td>...</td>\n",
       "    </tr>\n",
       "    <tr>\n",
       "      <th>1276619</th>\n",
       "      <td>2020-06-14 11:48:02</td>\n",
       "      <td>2358122155477959</td>\n",
       "      <td>fraud_Nienow, Ankunding and Collier</td>\n",
       "      <td>misc_pos</td>\n",
       "      <td>22.38</td>\n",
       "      <td>Mike</td>\n",
       "      <td>Tran</td>\n",
       "      <td>M</td>\n",
       "      <td>17355 Mendoza Bypass Suite 059</td>\n",
       "      <td>Linthicum Heights</td>\n",
       "      <td>...</td>\n",
       "      <td>8c031efea540913831513961592c5fce</td>\n",
       "      <td>1371210482</td>\n",
       "      <td>38.984146</td>\n",
       "      <td>-76.340649</td>\n",
       "      <td>0</td>\n",
       "      <td>-0.299083</td>\n",
       "      <td>-0.218921</td>\n",
       "      <td>95</td>\n",
       "      <td>2.993261</td>\n",
       "      <td>NaN</td>\n",
       "    </tr>\n",
       "    <tr>\n",
       "      <th>1286815</th>\n",
       "      <td>2020-06-17 02:11:33</td>\n",
       "      <td>2358122155477959</td>\n",
       "      <td>fraud_Kris-Padberg</td>\n",
       "      <td>shopping_pos</td>\n",
       "      <td>7.66</td>\n",
       "      <td>Mike</td>\n",
       "      <td>Tran</td>\n",
       "      <td>M</td>\n",
       "      <td>17355 Mendoza Bypass Suite 059</td>\n",
       "      <td>Linthicum Heights</td>\n",
       "      <td>...</td>\n",
       "      <td>240788841f8ce6321a69ee820f6c3c6e</td>\n",
       "      <td>1371435093</td>\n",
       "      <td>39.578162</td>\n",
       "      <td>-76.091060</td>\n",
       "      <td>0</td>\n",
       "      <td>-0.388673</td>\n",
       "      <td>-0.218921</td>\n",
       "      <td>95</td>\n",
       "      <td>2.993261</td>\n",
       "      <td>NaN</td>\n",
       "    </tr>\n",
       "    <tr>\n",
       "      <th>1289248</th>\n",
       "      <td>2020-06-18 11:13:08</td>\n",
       "      <td>2358122155477959</td>\n",
       "      <td>fraud_Hermann and Sons</td>\n",
       "      <td>shopping_pos</td>\n",
       "      <td>4.32</td>\n",
       "      <td>Mike</td>\n",
       "      <td>Tran</td>\n",
       "      <td>M</td>\n",
       "      <td>17355 Mendoza Bypass Suite 059</td>\n",
       "      <td>Linthicum Heights</td>\n",
       "      <td>...</td>\n",
       "      <td>1ac51306a67707b941ce1231aab4063b</td>\n",
       "      <td>1371553988</td>\n",
       "      <td>39.465638</td>\n",
       "      <td>-77.302455</td>\n",
       "      <td>0</td>\n",
       "      <td>-0.409001</td>\n",
       "      <td>-0.218921</td>\n",
       "      <td>95</td>\n",
       "      <td>2.993261</td>\n",
       "      <td>NaN</td>\n",
       "    </tr>\n",
       "    <tr>\n",
       "      <th>1289669</th>\n",
       "      <td>2020-06-18 15:37:54</td>\n",
       "      <td>2358122155477959</td>\n",
       "      <td>fraud_Dietrich-Fadel</td>\n",
       "      <td>health_fitness</td>\n",
       "      <td>5.45</td>\n",
       "      <td>Mike</td>\n",
       "      <td>Tran</td>\n",
       "      <td>M</td>\n",
       "      <td>17355 Mendoza Bypass Suite 059</td>\n",
       "      <td>Linthicum Heights</td>\n",
       "      <td>...</td>\n",
       "      <td>e2be26f329bf52f204970462106cb8a7</td>\n",
       "      <td>1371569874</td>\n",
       "      <td>38.358012</td>\n",
       "      <td>-75.702870</td>\n",
       "      <td>0</td>\n",
       "      <td>-0.402124</td>\n",
       "      <td>-0.218921</td>\n",
       "      <td>95</td>\n",
       "      <td>2.993261</td>\n",
       "      <td>NaN</td>\n",
       "    </tr>\n",
       "    <tr>\n",
       "      <th>1293815</th>\n",
       "      <td>2020-06-20 11:19:30</td>\n",
       "      <td>2358122155477959</td>\n",
       "      <td>fraud_Strosin-Cruickshank</td>\n",
       "      <td>grocery_pos</td>\n",
       "      <td>109.41</td>\n",
       "      <td>Mike</td>\n",
       "      <td>Tran</td>\n",
       "      <td>M</td>\n",
       "      <td>17355 Mendoza Bypass Suite 059</td>\n",
       "      <td>Linthicum Heights</td>\n",
       "      <td>...</td>\n",
       "      <td>45eaa56919164770d717ab3771f2b539</td>\n",
       "      <td>1371727170</td>\n",
       "      <td>38.677074</td>\n",
       "      <td>-75.679723</td>\n",
       "      <td>0</td>\n",
       "      <td>0.230608</td>\n",
       "      <td>-0.218921</td>\n",
       "      <td>95</td>\n",
       "      <td>2.993261</td>\n",
       "      <td>NaN</td>\n",
       "    </tr>\n",
       "  </tbody>\n",
       "</table>\n",
       "<p>256 rows × 27 columns</p>\n",
       "</div>"
      ],
      "text/plain": [
       "        trans_date_trans_time            cc_num  \\\n",
       "658858    2019-10-07 13:08:44  2358122155477959   \n",
       "659585    2019-10-07 17:35:20  2358122155477959   \n",
       "660820    2019-10-08 04:59:27  2358122155477959   \n",
       "662898    2019-10-09 14:43:06  2358122155477959   \n",
       "664397    2019-10-10 11:03:59  2358122155477959   \n",
       "...                       ...               ...   \n",
       "1276619   2020-06-14 11:48:02  2358122155477959   \n",
       "1286815   2020-06-17 02:11:33  2358122155477959   \n",
       "1289248   2020-06-18 11:13:08  2358122155477959   \n",
       "1289669   2020-06-18 15:37:54  2358122155477959   \n",
       "1293815   2020-06-20 11:19:30  2358122155477959   \n",
       "\n",
       "                                    merchant        category     amt first  \\\n",
       "658858                  fraud_Sporer-Keebler   personal_care   13.05  Mike   \n",
       "659585   fraud_Denesik, Powlowski and Pouros            home   37.50  Mike   \n",
       "660820                  fraud_O'Keefe-Hudson     grocery_pos   78.89  Mike   \n",
       "662898                 fraud_Lubowitz-Walter       kids_pets   93.17  Mike   \n",
       "664397                     fraud_Schmitt Inc   gas_transport   54.79  Mike   \n",
       "...                                      ...             ...     ...   ...   \n",
       "1276619  fraud_Nienow, Ankunding and Collier        misc_pos   22.38  Mike   \n",
       "1286815                   fraud_Kris-Padberg    shopping_pos    7.66  Mike   \n",
       "1289248               fraud_Hermann and Sons    shopping_pos    4.32  Mike   \n",
       "1289669                 fraud_Dietrich-Fadel  health_fitness    5.45  Mike   \n",
       "1293815            fraud_Strosin-Cruickshank     grocery_pos  109.41  Mike   \n",
       "\n",
       "         last gender                          street               city  ...  \\\n",
       "658858   Tran      M  17355 Mendoza Bypass Suite 059  Linthicum Heights  ...   \n",
       "659585   Tran      M  17355 Mendoza Bypass Suite 059  Linthicum Heights  ...   \n",
       "660820   Tran      M  17355 Mendoza Bypass Suite 059  Linthicum Heights  ...   \n",
       "662898   Tran      M  17355 Mendoza Bypass Suite 059  Linthicum Heights  ...   \n",
       "664397   Tran      M  17355 Mendoza Bypass Suite 059  Linthicum Heights  ...   \n",
       "...       ...    ...                             ...                ...  ...   \n",
       "1276619  Tran      M  17355 Mendoza Bypass Suite 059  Linthicum Heights  ...   \n",
       "1286815  Tran      M  17355 Mendoza Bypass Suite 059  Linthicum Heights  ...   \n",
       "1289248  Tran      M  17355 Mendoza Bypass Suite 059  Linthicum Heights  ...   \n",
       "1289669  Tran      M  17355 Mendoza Bypass Suite 059  Linthicum Heights  ...   \n",
       "1293815  Tran      M  17355 Mendoza Bypass Suite 059  Linthicum Heights  ...   \n",
       "\n",
       "                                trans_num   unix_time  merch_lat  merch_long  \\\n",
       "658858   f99e34be19f943c849010bf60a7c5e13  1349615324  40.158239  -76.748198   \n",
       "659585   badee0cae6dbe9374a82760bda10370e  1349631320  38.548975  -76.800262   \n",
       "660820   e2c43e375bf0c96feeee0cc0ac6aa42b  1349672367  38.228932  -77.436400   \n",
       "662898   57803ffa109966e23d86ba4ce8b1a10f  1349793786  39.560235  -77.357184   \n",
       "664397   29eab710b0749ae147b8b74f0c10f638  1349867039  38.636951  -75.744072   \n",
       "...                                   ...         ...        ...         ...   \n",
       "1276619  8c031efea540913831513961592c5fce  1371210482  38.984146  -76.340649   \n",
       "1286815  240788841f8ce6321a69ee820f6c3c6e  1371435093  39.578162  -76.091060   \n",
       "1289248  1ac51306a67707b941ce1231aab4063b  1371553988  39.465638  -77.302455   \n",
       "1289669  e2be26f329bf52f204970462106cb8a7  1371569874  38.358012  -75.702870   \n",
       "1293815  45eaa56919164770d717ab3771f2b539  1371727170  38.677074  -75.679723   \n",
       "\n",
       "         is_fraud amt_scale city_pop_scale age_at_trans  age_at_trans_scale  \\\n",
       "658858          0 -0.355868      -0.218921           95            2.993261   \n",
       "659585          0 -0.207058      -0.218921           95            2.993261   \n",
       "660820          0  0.044854      -0.218921           95            2.993261   \n",
       "662898          0  0.131766      -0.218921           95            2.993261   \n",
       "664397          0 -0.101826      -0.218921           95            2.993261   \n",
       "...           ...       ...            ...          ...                 ...   \n",
       "1276619         0 -0.299083      -0.218921           95            2.993261   \n",
       "1286815         0 -0.388673      -0.218921           95            2.993261   \n",
       "1289248         0 -0.409001      -0.218921           95            2.993261   \n",
       "1289669         0 -0.402124      -0.218921           95            2.993261   \n",
       "1293815         0  0.230608      -0.218921           95            2.993261   \n",
       "\n",
       "         age_bin  \n",
       "658858       NaN  \n",
       "659585       NaN  \n",
       "660820       NaN  \n",
       "662898       NaN  \n",
       "664397       NaN  \n",
       "...          ...  \n",
       "1276619      NaN  \n",
       "1286815      NaN  \n",
       "1289248      NaN  \n",
       "1289669      NaN  \n",
       "1293815      NaN  \n",
       "\n",
       "[256 rows x 27 columns]"
      ]
     },
     "execution_count": 101,
     "metadata": {},
     "output_type": "execute_result"
    }
   ],
   "source": [
    "dat_val[dat_val['age_at_trans'] == 95]"
   ]
  },
  {
   "cell_type": "code",
   "execution_count": null,
   "id": "eb87ab8f",
   "metadata": {},
   "outputs": [
    {
     "data": {
      "text/plain": [
       "0          30.0\n",
       "2          56.0\n",
       "3          52.0\n",
       "5          57.0\n",
       "6          29.0\n",
       "           ... \n",
       "1296669    39.0\n",
       "1296670    58.0\n",
       "1296671    40.0\n",
       "1296673    39.0\n",
       "1296674    29.0\n",
       "Name: age_at_trans, Length: 977053, dtype: float64"
      ]
     },
     "execution_count": 100,
     "metadata": {},
     "output_type": "execute_result"
    }
   ],
   "source": [
    "# cap age based on bin edges\n",
    "dat_val['age_at_trans'].clip(29.0, 94.0)"
   ]
  },
  {
   "cell_type": "code",
   "execution_count": 104,
   "id": "27552368",
   "metadata": {},
   "outputs": [
    {
     "data": {
      "text/plain": [
       "21"
      ]
     },
     "execution_count": 104,
     "metadata": {},
     "output_type": "execute_result"
    }
   ],
   "source": [
    "dat_val['age_at_trans'].iloc[658858]"
   ]
  },
  {
   "cell_type": "code",
   "execution_count": null,
   "id": "d62869e3",
   "metadata": {},
   "outputs": [
    {
     "data": {
      "text/plain": [
       "29.0"
      ]
     },
     "execution_count": 103,
     "metadata": {},
     "output_type": "execute_result"
    }
   ],
   "source": [
    "# check row got capped\n",
    "dat_val['age_at_trans'].clip(29.0, 94.0).iloc[658858]"
   ]
  },
  {
   "cell_type": "markdown",
   "id": "c6e08d55",
   "metadata": {},
   "source": [
    "Visualize fraudulent transactions over age bins"
   ]
  },
  {
   "cell_type": "code",
   "execution_count": null,
   "id": "c4ddbd47",
   "metadata": {},
   "outputs": [
    {
     "data": {
      "text/plain": [
       "age_bins\n",
       "(12.999, 29.0]    0.007678\n",
       "(29.0, 34.0]      0.003505\n",
       "(34.0, 41.0]      0.003885\n",
       "(41.0, 46.0]      0.004251\n",
       "(46.0, 53.0]      0.006127\n",
       "(53.0, 64.0]      0.007736\n",
       "(64.0, 94.0]      0.008441\n",
       "Name: is_fraud, dtype: float64"
      ]
     },
     "execution_count": 50,
     "metadata": {},
     "output_type": "execute_result"
    }
   ],
   "source": [
    "fraud_age_bins = dat_tr.groupby('age_bin')['is_fraud'].mean()\n",
    "fraud_age_bins"
   ]
  },
  {
   "cell_type": "code",
   "execution_count": 51,
   "id": "a1f14b0c",
   "metadata": {},
   "outputs": [
    {
     "data": {
      "text/plain": [
       "CategoricalIndex([(12.999, 29.0],   (29.0, 34.0],   (34.0, 41.0],\n",
       "                    (41.0, 46.0],   (46.0, 53.0],   (53.0, 64.0],\n",
       "                    (64.0, 94.0]],\n",
       "                 categories=[(12.999, 29.0], (29.0, 34.0], (34.0, 41.0], (41.0, 46.0], (46.0, 53.0], (53.0, 64.0], (64.0, 94.0]], ordered=True, dtype='category', name='age_bins')"
      ]
     },
     "execution_count": 51,
     "metadata": {},
     "output_type": "execute_result"
    }
   ],
   "source": [
    "fraud_age_bins.index"
   ]
  },
  {
   "cell_type": "code",
   "execution_count": 52,
   "id": "7fbd81fe",
   "metadata": {},
   "outputs": [
    {
     "data": {
      "image/png": "[encoded data removed]",
      "text/plain": [
       "<Figure size 864x432 with 1 Axes>"
      ]
     },
     "metadata": {
      "needs_background": "light"
     },
     "output_type": "display_data"
    }
   ],
   "source": [
    "labels = [f\"({interval.left}-{interval.right}]\" for interval in fraud_age_bins.index]\n",
    "\n",
    "plt.figure(figsize=(12, 6))\n",
    "plt.bar(labels, fraud_age_bins.values)\n",
    "plt.xticks(rotation=90)\n",
    "plt.title('Proportion of Fraudulent Transactions by Age')\n",
    "plt.xlabel('Age')\n",
    "plt.ylabel('Proportion of Transactions')\n",
    "plt.ylim(0,0.1)\n",
    "plt.show()"
   ]
  },
  {
   "cell_type": "markdown",
   "id": "535a1d2b",
   "metadata": {},
   "source": [
    "##### KMeans Binning"
   ]
  },
  {
   "cell_type": "code",
   "execution_count": 58,
   "id": "bdc6579b",
   "metadata": {},
   "outputs": [],
   "source": [
    "age_cluster = KMeans(5)"
   ]
  },
  {
   "cell_type": "code",
   "execution_count": 59,
   "id": "44a2d9c2",
   "metadata": {},
   "outputs": [],
   "source": [
    "fraud_age = dat_tr.groupby('age_at_trans')['is_fraud'].mean()"
   ]
  },
  {
   "cell_type": "code",
   "execution_count": 62,
   "id": "d5e2f674",
   "metadata": {},
   "outputs": [
    {
     "data": {
      "text/plain": [
       "array([4, 1, 0, 4, 2, 4, 4, 0, 0, 1, 0, 1, 4, 0, 1, 1, 0, 4, 4, 1, 1, 4,\n",
       "       1, 4, 0, 1, 4, 1, 4, 1, 1, 4, 1, 1, 1, 0, 0, 4, 1, 1, 0, 0, 1, 0,\n",
       "       1, 0, 1, 3, 4, 3, 1, 1, 1, 2, 3, 1, 1, 0, 1, 0, 0, 4, 4, 3, 3, 0,\n",
       "       0, 0, 0, 4, 3, 3, 2, 4, 4, 4, 4, 3, 3, 4, 1, 4], dtype=int32)"
      ]
     },
     "execution_count": 62,
     "metadata": {},
     "output_type": "execute_result"
    }
   ],
   "source": [
    "age_clusterings = age_cluster.fit_predict(fraud_age.values.reshape(-1,1))\n",
    "age_clusterings"
   ]
  },
  {
   "cell_type": "code",
   "execution_count": 63,
   "id": "a5c7af12",
   "metadata": {},
   "outputs": [],
   "source": [
    "age_bin = pd.Series(age_clusterings)\n",
    "age_bin.index = fraud_age.index"
   ]
  },
  {
   "cell_type": "code",
   "execution_count": 67,
   "id": "dbea170e",
   "metadata": {},
   "outputs": [
    {
     "data": {
      "text/plain": [
       "age_at_trans\n",
       "13    4\n",
       "14    1\n",
       "15    0\n",
       "16    4\n",
       "17    2\n",
       "18    4\n",
       "19    4\n",
       "20    0\n",
       "21    0\n",
       "22    1\n",
       "23    0\n",
       "24    1\n",
       "25    4\n",
       "26    0\n",
       "27    1\n",
       "28    1\n",
       "29    0\n",
       "30    4\n",
       "31    4\n",
       "32    1\n",
       "dtype: int32"
      ]
     },
     "execution_count": 67,
     "metadata": {},
     "output_type": "execute_result"
    }
   ],
   "source": [
    "age_bin[:20]"
   ]
  },
  {
   "cell_type": "code",
   "execution_count": 65,
   "id": "448e511c",
   "metadata": {},
   "outputs": [
    {
     "data": {
      "text/plain": [
       "1          1\n",
       "4          1\n",
       "13         0\n",
       "14         1\n",
       "20         1\n",
       "          ..\n",
       "1296647    0\n",
       "1296652    0\n",
       "1296661    4\n",
       "1296667    0\n",
       "1296672    1\n",
       "Name: age_at_trans, Length: 319622, dtype: int32"
      ]
     },
     "execution_count": 65,
     "metadata": {},
     "output_type": "execute_result"
    }
   ],
   "source": [
    "dat_tr['age_at_trans'].apply(lambda x: age_bin.loc[x])"
   ]
  },
  {
   "cell_type": "markdown",
   "id": "46e5386e",
   "metadata": {},
   "source": [
    "#### Bin Distance"
   ]
  },
  {
   "cell_type": "code",
   "execution_count": 114,
   "id": "6b472e6c",
   "metadata": {},
   "outputs": [
    {
     "data": {
      "text/plain": [
       "1          (0.0005200000000000001, 0.358]\n",
       "4                          (0.798, 0.874]\n",
       "13         (0.0005200000000000001, 0.358]\n",
       "14                         (0.619, 0.715]\n",
       "20                         (0.358, 0.506]\n",
       "                        ...              \n",
       "1296647                    (0.358, 0.506]\n",
       "1296652    (0.0005200000000000001, 0.358]\n",
       "1296661    (0.0005200000000000001, 0.358]\n",
       "1296667                    (0.506, 0.619]\n",
       "1296672                     (0.944, 1.01]\n",
       "Name: distance_bin, Length: 319622, dtype: category\n",
       "Categories (10, interval[float64, right]): [(0.0005200000000000001, 0.358] < (0.358, 0.506] < (0.506, 0.619] < (0.619, 0.715] ... (0.874, 0.944] < (0.944, 1.01] < (1.01, 1.115] < (1.115, 1.413]]"
      ]
     },
     "execution_count": 114,
     "metadata": {},
     "output_type": "execute_result"
    }
   ],
   "source": [
    "dat_tr['distance_bin'] = pd.qcut(dat_tr['distance'].values, 10)\n",
    "dat_tr['distance_bin']"
   ]
  },
  {
   "cell_type": "code",
   "execution_count": 115,
   "id": "b4a996e0",
   "metadata": {},
   "outputs": [
    {
     "data": {
      "text/plain": [
       "distance_bin\n",
       "(0.0005200000000000001, 0.358]    0.005600\n",
       "(0.358, 0.506]                    0.005381\n",
       "(0.506, 0.619]                    0.005882\n",
       "(0.619, 0.715]                    0.005819\n",
       "(0.715, 0.798]                    0.005663\n",
       "(0.798, 0.874]                    0.005851\n",
       "(0.874, 0.944]                    0.006070\n",
       "(0.944, 1.01]                     0.005663\n",
       "(1.01, 1.115]                     0.006602\n",
       "(1.115, 1.413]                    0.006445\n",
       "Name: is_fraud, dtype: float64"
      ]
     },
     "execution_count": 115,
     "metadata": {},
     "output_type": "execute_result"
    }
   ],
   "source": [
    "fraud_dist_bins = dat_tr.groupby('distance_bin')['is_fraud'].mean()\n",
    "fraud_dist_bins"
   ]
  },
  {
   "cell_type": "code",
   "execution_count": 116,
   "id": "3b6a9702",
   "metadata": {},
   "outputs": [
    {
     "data": {
      "image/png": "[encoded data removed]",
      "text/plain": [
       "<Figure size 864x432 with 1 Axes>"
      ]
     },
     "metadata": {
      "needs_background": "light"
     },
     "output_type": "display_data"
    }
   ],
   "source": [
    "labels = [f\"({interval.left}-{interval.right}]\" for interval in fraud_dist_bins.index]\n",
    "\n",
    "plt.figure(figsize=(12, 6))\n",
    "plt.bar(labels, fraud_dist_bins.values)\n",
    "plt.xticks(rotation=90)\n",
    "plt.title('Proportion of Fraudulent Transactions by Distance')\n",
    "plt.xlabel('Distance')\n",
    "plt.ylabel('Proportion of Transactions')\n",
    "plt.ylim(0,0.01)\n",
    "plt.show()"
   ]
  },
  {
   "cell_type": "markdown",
   "id": "7e01f0e9",
   "metadata": {},
   "source": [
    "#### Bin City Population"
   ]
  },
  {
   "cell_type": "code",
   "execution_count": 131,
   "id": "696209a7",
   "metadata": {},
   "outputs": [
    {
     "data": {
      "text/plain": [
       "1               (48.999, 513.0]\n",
       "4               (48.999, 513.0]\n",
       "13              (513.0, 1324.0]\n",
       "14              (513.0, 1324.0]\n",
       "20         (21437.0, 1526206.0]\n",
       "                   ...         \n",
       "1296647         (48.999, 513.0]\n",
       "1296652         (48.999, 513.0]\n",
       "1296661        (1324.0, 3289.0]\n",
       "1296667    (21437.0, 1526206.0]\n",
       "1296672         (513.0, 1324.0]\n",
       "Name: city_pop_bin, Length: 319622, dtype: category\n",
       "Categories (5, interval[float64, right]): [(48.999, 513.0] < (513.0, 1324.0] < (1324.0, 3289.0] < (3289.0, 21437.0] < (21437.0, 1526206.0]]"
      ]
     },
     "execution_count": 131,
     "metadata": {},
     "output_type": "execute_result"
    }
   ],
   "source": [
    "dat_tr['city_pop_bin'] = pd.qcut(dat_tr['city_pop'].values, 5)\n",
    "dat_tr['city_pop_bin']"
   ]
  },
  {
   "cell_type": "code",
   "execution_count": 132,
   "id": "6bc6f4f8",
   "metadata": {},
   "outputs": [
    {
     "data": {
      "text/plain": [
       "city_pop_bin\n",
       "(48.999, 513.0]         0.006673\n",
       "(513.0, 1324.0]         0.005143\n",
       "(1324.0, 3289.0]        0.004751\n",
       "(3289.0, 21437.0]       0.005916\n",
       "(21437.0, 1526206.0]    0.006991\n",
       "Name: is_fraud, dtype: float64"
      ]
     },
     "execution_count": 132,
     "metadata": {},
     "output_type": "execute_result"
    }
   ],
   "source": [
    "fraud_city_pop_bins = dat_tr.groupby('city_pop_bin')['is_fraud'].mean()\n",
    "fraud_city_pop_bins"
   ]
  },
  {
   "cell_type": "code",
   "execution_count": 133,
   "id": "18abb334",
   "metadata": {},
   "outputs": [
    {
     "data": {
      "image/png": "[encoded data removed]",
      "text/plain": [
       "<Figure size 864x432 with 1 Axes>"
      ]
     },
     "metadata": {
      "needs_background": "light"
     },
     "output_type": "display_data"
    }
   ],
   "source": [
    "labels = [f\"({interval.left}-{interval.right}]\" for interval in fraud_city_pop_bins.index]\n",
    "\n",
    "plt.figure(figsize=(12, 6))\n",
    "plt.bar(labels, fraud_city_pop_bins.values)\n",
    "plt.xticks(rotation=90)\n",
    "plt.title('Proportion of Fraudulent Transactions by City Population')\n",
    "plt.xlabel('City Population')\n",
    "plt.ylabel('Proportion of Transactions')\n",
    "plt.ylim(0,0.01)\n",
    "plt.show()"
   ]
  },
  {
   "cell_type": "markdown",
   "id": "71aca0ac",
   "metadata": {},
   "source": [
    "#### Bin Transaction Amt"
   ]
  },
  {
   "cell_type": "code",
   "execution_count": 137,
   "id": "16ab4e47",
   "metadata": {},
   "outputs": [
    {
     "data": {
      "text/plain": [
       "1          (96.46, 139.18]\n",
       "4            (33.4, 48.49]\n",
       "13          (75.94, 96.46]\n",
       "14             (4.2, 7.96]\n",
       "20          (48.49, 62.06]\n",
       "                ...       \n",
       "1296647      (7.96, 16.83]\n",
       "1296652    (96.46, 139.18]\n",
       "1296661     (75.94, 96.46]\n",
       "1296667      (16.83, 33.4]\n",
       "1296672    (96.46, 139.18]\n",
       "Name: amt_bin, Length: 319622, dtype: category\n",
       "Categories (10, interval[float64, right]): [(0.999, 4.2] < (4.2, 7.96] < (7.96, 16.83] < (16.83, 33.4] ... (62.06, 75.94] < (75.94, 96.46] < (96.46, 139.18] < (139.18, 26544.12]]"
      ]
     },
     "execution_count": 137,
     "metadata": {},
     "output_type": "execute_result"
    }
   ],
   "source": [
    "dat_tr['amt_bin'] = pd.qcut(dat_tr['amt'].values, 10)\n",
    "dat_tr['amt_bin']"
   ]
  },
  {
   "cell_type": "code",
   "execution_count": 138,
   "id": "82d4d5af",
   "metadata": {},
   "outputs": [
    {
     "data": {
      "text/plain": [
       "amt_bin\n",
       "(0.999, 4.2]          0.000125\n",
       "(4.2, 7.96]           0.001535\n",
       "(7.96, 16.83]         0.006010\n",
       "(16.83, 33.4]         0.005257\n",
       "(33.4, 48.49]         0.000156\n",
       "(48.49, 62.06]        0.000532\n",
       "(62.06, 75.94]        0.000000\n",
       "(75.94, 96.46]        0.000000\n",
       "(96.46, 139.18]       0.001064\n",
       "(139.18, 26544.12]    0.044310\n",
       "Name: is_fraud, dtype: float64"
      ]
     },
     "execution_count": 138,
     "metadata": {},
     "output_type": "execute_result"
    }
   ],
   "source": [
    "fraud_amt_bins = dat_tr.groupby('amt_bin')['is_fraud'].mean()\n",
    "fraud_amt_bins"
   ]
  },
  {
   "cell_type": "code",
   "execution_count": 140,
   "id": "ee90dc3b",
   "metadata": {},
   "outputs": [
    {
     "data": {
      "image/png": "[encoded data removed]",
      "text/plain": [
       "<Figure size 864x432 with 1 Axes>"
      ]
     },
     "metadata": {
      "needs_background": "light"
     },
     "output_type": "display_data"
    }
   ],
   "source": [
    "labels = [f\"({interval.left}-{interval.right}]\" for interval in fraud_amt_bins.index]\n",
    "\n",
    "plt.figure(figsize=(12, 6))\n",
    "plt.bar(labels, fraud_amt_bins.values)\n",
    "plt.xticks(rotation=90)\n",
    "plt.title('Proportion of Fraudulent Transactions by Transaction Amount')\n",
    "plt.xlabel('Transaction Amount')\n",
    "plt.ylabel('Proportion of Transactions')\n",
    "plt.ylim(0,0.1)\n",
    "plt.show()"
   ]
  },
  {
   "cell_type": "markdown",
   "id": "da2ac78d",
   "metadata": {},
   "source": [
    "### Scale Numeric Variables"
   ]
  },
  {
   "cell_type": "code",
   "execution_count": 1,
   "id": "cd181d72",
   "metadata": {},
   "outputs": [],
   "source": [
    "from sklearn.preprocessing import StandardScaler"
   ]
  },
  {
   "cell_type": "markdown",
   "id": "3c5911fe",
   "metadata": {},
   "source": [
    "#### Scale Age"
   ]
  },
  {
   "cell_type": "code",
   "execution_count": 25,
   "id": "9debe6c4",
   "metadata": {},
   "outputs": [],
   "source": [
    "age_scaler = StandardScaler()"
   ]
  },
  {
   "cell_type": "code",
   "execution_count": 28,
   "id": "8057d527",
   "metadata": {},
   "outputs": [
    {
     "data": {
      "text/plain": [
       "StandardScaler()"
      ]
     },
     "execution_count": 28,
     "metadata": {},
     "output_type": "execute_result"
    }
   ],
   "source": [
    "age_scaler.fit(dat_tr['age_at_trans'].values.reshape(-1,1))"
   ]
  },
  {
   "cell_type": "code",
   "execution_count": null,
   "id": "feda7d4a",
   "metadata": {},
   "outputs": [
    {
     "data": {
      "text/plain": [
       "1         -0.327829\n",
       "4         -0.810897\n",
       "13         1.664825\n",
       "14         0.336389\n",
       "20        -0.448596\n",
       "             ...   \n",
       "1296647    0.638306\n",
       "1296652   -1.837416\n",
       "1296661   -1.233581\n",
       "1296667   -0.992047\n",
       "1296672    0.396772\n",
       "Name: age_scale, Length: 319622, dtype: float64"
      ]
     },
     "execution_count": 29,
     "metadata": {},
     "output_type": "execute_result"
    }
   ],
   "source": [
    "dat_tr['age_at_trans_scale'] = age_scaler.transform(dat_tr['age_at_trans'].values.reshape(-1,1))\n",
    "dat_tr['age_at_trans_scale']"
   ]
  },
  {
   "cell_type": "code",
   "execution_count": 30,
   "id": "38538cee",
   "metadata": {},
   "outputs": [
    {
     "data": {
      "text/plain": [
       "0         -0.931664\n",
       "2          0.638306\n",
       "3          0.396772\n",
       "5          0.698689\n",
       "6         -1.233581\n",
       "             ...   \n",
       "1296669   -0.388213\n",
       "1296670    0.759073\n",
       "1296671   -0.327829\n",
       "1296673   -0.388213\n",
       "1296674   -1.293965\n",
       "Name: age_at_trans_scale, Length: 977053, dtype: float64"
      ]
     },
     "execution_count": 30,
     "metadata": {},
     "output_type": "execute_result"
    }
   ],
   "source": [
    "dat_val['age_at_trans_scale'] = age_scaler.transform(dat_val['age_at_trans'].values.reshape(-1,1))\n",
    "dat_val['age_at_trans_scale']"
   ]
  },
  {
   "cell_type": "markdown",
   "id": "4faa05de",
   "metadata": {},
   "source": [
    "#### Scale Distance"
   ]
  },
  {
   "cell_type": "markdown",
   "id": "00043cb0",
   "metadata": {},
   "source": [
    "#### Scale City Population"
   ]
  },
  {
   "cell_type": "code",
   "execution_count": 21,
   "id": "618b319d",
   "metadata": {},
   "outputs": [
    {
     "data": {
      "text/plain": [
       "StandardScaler()"
      ]
     },
     "execution_count": 21,
     "metadata": {},
     "output_type": "execute_result"
    }
   ],
   "source": [
    "city_pop_scaler = StandardScaler()\n",
    "city_pop_scaler.fit(dat_tr['city_pop'].values.reshape(-1,1))"
   ]
  },
  {
   "cell_type": "code",
   "execution_count": 22,
   "id": "260b89df",
   "metadata": {},
   "outputs": [
    {
     "data": {
      "text/plain": [
       "1         -0.269437\n",
       "4         -0.269699\n",
       "13        -0.267130\n",
       "14        -0.265505\n",
       "20        -0.022494\n",
       "             ...   \n",
       "1296647   -0.269212\n",
       "1296652   -0.268818\n",
       "1296661   -0.260938\n",
       "1296667   -0.092985\n",
       "1296672   -0.265505\n",
       "Name: city_pop_scale, Length: 319622, dtype: float64"
      ]
     },
     "execution_count": 22,
     "metadata": {},
     "output_type": "execute_result"
    }
   ],
   "source": [
    "dat_tr['city_pop_scale'] = city_pop_scaler.transform(dat_tr['city_pop'].values.reshape(-1,1))\n",
    "dat_tr['city_pop_scale']"
   ]
  },
  {
   "cell_type": "code",
   "execution_count": 23,
   "id": "3ae6d5f7",
   "metadata": {},
   "outputs": [
    {
     "data": {
      "text/plain": [
       "0         -0.251894\n",
       "2         -0.248439\n",
       "3         -0.260052\n",
       "5         -0.258904\n",
       "6         -0.256109\n",
       "             ...   \n",
       "1296669   -0.267550\n",
       "1296670   -0.268866\n",
       "1296671   -0.269694\n",
       "1296673   -0.264315\n",
       "1296674   -0.269075\n",
       "Name: city_pop_scale, Length: 977053, dtype: float64"
      ]
     },
     "execution_count": 23,
     "metadata": {},
     "output_type": "execute_result"
    }
   ],
   "source": [
    "dat_val['city_pop_scale'] = city_pop_scaler.transform(dat_val['city_pop'].values.reshape(-1,1))\n",
    "dat_val['city_pop_scale']"
   ]
  },
  {
   "cell_type": "markdown",
   "id": "10487981",
   "metadata": {},
   "source": [
    "#### Scale Transaction Amount"
   ]
  },
  {
   "cell_type": "code",
   "execution_count": 10,
   "id": "1441d339",
   "metadata": {},
   "outputs": [],
   "source": [
    "amt_scaler = StandardScaler()"
   ]
  },
  {
   "cell_type": "code",
   "execution_count": 14,
   "id": "1f44401c",
   "metadata": {},
   "outputs": [
    {
     "data": {
      "text/plain": [
       "StandardScaler()"
      ]
     },
     "execution_count": 14,
     "metadata": {},
     "output_type": "execute_result"
    }
   ],
   "source": [
    "amt_scaler.fit(dat_tr['amt'].values.reshape(-1,1))"
   ]
  },
  {
   "cell_type": "code",
   "execution_count": 18,
   "id": "b218fc26",
   "metadata": {},
   "outputs": [
    {
     "data": {
      "text/plain": [
       "1          0.217340\n",
       "4         -0.179913\n",
       "13         0.150756\n",
       "14        -0.388003\n",
       "20        -0.086306\n",
       "             ...   \n",
       "1296647   -0.373579\n",
       "1296652    0.326345\n",
       "1296661    0.038403\n",
       "1296667   -0.315333\n",
       "1296672    0.209427\n",
       "Name: amt_scale, Length: 319622, dtype: float64"
      ]
     },
     "execution_count": 18,
     "metadata": {},
     "output_type": "execute_result"
    }
   ],
   "source": [
    "dat_tr['amt_scale'] = amt_scaler.transform(dat_tr['amt'].values.reshape(-1,1))\n",
    "dat_tr['amt_scale']"
   ]
  },
  {
   "cell_type": "code",
   "execution_count": 19,
   "id": "d04a640e",
   "metadata": {},
   "outputs": [
    {
     "data": {
      "text/plain": [
       "0         -0.405045\n",
       "2          0.904361\n",
       "3         -0.161411\n",
       "5          0.140652\n",
       "6         -0.164210\n",
       "             ...   \n",
       "1296669   -0.207788\n",
       "1296670   -0.340591\n",
       "1296671   -0.120632\n",
       "1296673    0.020570\n",
       "1296674   -0.409123\n",
       "Name: amt_scale, Length: 977053, dtype: float64"
      ]
     },
     "execution_count": 19,
     "metadata": {},
     "output_type": "execute_result"
    }
   ],
   "source": [
    "dat_val['amt_scale'] = amt_scaler.transform(dat_val['amt'].values.reshape(-1,1))\n",
    "dat_val['amt_scale']"
   ]
  },
  {
   "cell_type": "markdown",
   "id": "6880f067",
   "metadata": {},
   "source": [
    "### Encode Categorical Variables"
   ]
  },
  {
   "cell_type": "code",
   "execution_count": 101,
   "id": "a5c715cb",
   "metadata": {},
   "outputs": [],
   "source": [
    "from sklearn.preprocessing import OneHotEncoder"
   ]
  },
  {
   "cell_type": "markdown",
   "id": "58f6d3df",
   "metadata": {},
   "source": [
    "#### Encode Category"
   ]
  },
  {
   "cell_type": "code",
   "execution_count": 102,
   "id": "74809757",
   "metadata": {},
   "outputs": [],
   "source": [
    "# Initialize one hot encoder\n",
    "category_encoder = OneHotEncoder(sparse=False)"
   ]
  },
  {
   "cell_type": "code",
   "execution_count": 97,
   "id": "ccd302d2",
   "metadata": {},
   "outputs": [
    {
     "data": {
      "text/plain": [
       "array([[0., 0., 0., ..., 0., 0., 0.],\n",
       "       [0., 0., 0., ..., 0., 0., 0.],\n",
       "       [0., 0., 0., ..., 0., 0., 0.],\n",
       "       ...,\n",
       "       [0., 0., 0., ..., 0., 0., 0.],\n",
       "       [0., 0., 0., ..., 0., 0., 1.],\n",
       "       [0., 1., 0., ..., 0., 0., 0.]])"
      ]
     },
     "execution_count": 97,
     "metadata": {},
     "output_type": "execute_result"
    }
   ],
   "source": [
    "# Encode categories\n",
    "category_enc = category_encoder.fit_transform(dat_tr['category'].values.reshape(-1,1))\n",
    "category_enc"
   ]
  },
  {
   "cell_type": "code",
   "execution_count": 98,
   "id": "066957e9",
   "metadata": {},
   "outputs": [
    {
     "data": {
      "text/plain": [
       "(319622, 14)"
      ]
     },
     "execution_count": 98,
     "metadata": {},
     "output_type": "execute_result"
    }
   ],
   "source": [
    "category_enc.shape"
   ]
  },
  {
   "cell_type": "code",
   "execution_count": 99,
   "id": "4803f86d",
   "metadata": {},
   "outputs": [
    {
     "data": {
      "text/plain": [
       "[array(['entertainment', 'food_dining', 'gas_transport', 'grocery_net',\n",
       "        'grocery_pos', 'health_fitness', 'home', 'kids_pets', 'misc_net',\n",
       "        'misc_pos', 'personal_care', 'shopping_net', 'shopping_pos',\n",
       "        'travel'], dtype=object)]"
      ]
     },
     "execution_count": 99,
     "metadata": {},
     "output_type": "execute_result"
    }
   ],
   "source": [
    "category_encoder.categories_"
   ]
  },
  {
   "cell_type": "code",
   "execution_count": null,
   "id": "44cb1a5d",
   "metadata": {},
   "outputs": [
    {
     "data": {
      "text/html": [
       "<div>\n",
       "<style scoped>\n",
       "    .dataframe tbody tr th:only-of-type {\n",
       "        vertical-align: middle;\n",
       "    }\n",
       "\n",
       "    .dataframe tbody tr th {\n",
       "        vertical-align: top;\n",
       "    }\n",
       "\n",
       "    .dataframe thead th {\n",
       "        text-align: right;\n",
       "    }\n",
       "</style>\n",
       "<table border=\"1\" class=\"dataframe\">\n",
       "  <thead>\n",
       "    <tr style=\"text-align: right;\">\n",
       "      <th></th>\n",
       "      <th>category.entertainment</th>\n",
       "      <th>category.food_dining</th>\n",
       "      <th>category.gas_transport</th>\n",
       "      <th>category.grocery_net</th>\n",
       "      <th>category.grocery_pos</th>\n",
       "      <th>category.health_fitness</th>\n",
       "      <th>category.home</th>\n",
       "      <th>category.kids_pets</th>\n",
       "      <th>category.misc_net</th>\n",
       "      <th>category.misc_pos</th>\n",
       "      <th>category.personal_care</th>\n",
       "      <th>category.shopping_net</th>\n",
       "      <th>category.shopping_pos</th>\n",
       "      <th>category.travel</th>\n",
       "    </tr>\n",
       "  </thead>\n",
       "  <tbody>\n",
       "    <tr>\n",
       "      <th>0</th>\n",
       "      <td>0.0</td>\n",
       "      <td>0.0</td>\n",
       "      <td>0.0</td>\n",
       "      <td>0.0</td>\n",
       "      <td>1.0</td>\n",
       "      <td>0.0</td>\n",
       "      <td>0.0</td>\n",
       "      <td>0.0</td>\n",
       "      <td>0.0</td>\n",
       "      <td>0.0</td>\n",
       "      <td>0.0</td>\n",
       "      <td>0.0</td>\n",
       "      <td>0.0</td>\n",
       "      <td>0.0</td>\n",
       "    </tr>\n",
       "    <tr>\n",
       "      <th>1</th>\n",
       "      <td>0.0</td>\n",
       "      <td>0.0</td>\n",
       "      <td>0.0</td>\n",
       "      <td>0.0</td>\n",
       "      <td>0.0</td>\n",
       "      <td>0.0</td>\n",
       "      <td>0.0</td>\n",
       "      <td>0.0</td>\n",
       "      <td>0.0</td>\n",
       "      <td>1.0</td>\n",
       "      <td>0.0</td>\n",
       "      <td>0.0</td>\n",
       "      <td>0.0</td>\n",
       "      <td>0.0</td>\n",
       "    </tr>\n",
       "    <tr>\n",
       "      <th>2</th>\n",
       "      <td>0.0</td>\n",
       "      <td>0.0</td>\n",
       "      <td>0.0</td>\n",
       "      <td>0.0</td>\n",
       "      <td>1.0</td>\n",
       "      <td>0.0</td>\n",
       "      <td>0.0</td>\n",
       "      <td>0.0</td>\n",
       "      <td>0.0</td>\n",
       "      <td>0.0</td>\n",
       "      <td>0.0</td>\n",
       "      <td>0.0</td>\n",
       "      <td>0.0</td>\n",
       "      <td>0.0</td>\n",
       "    </tr>\n",
       "    <tr>\n",
       "      <th>3</th>\n",
       "      <td>0.0</td>\n",
       "      <td>0.0</td>\n",
       "      <td>0.0</td>\n",
       "      <td>0.0</td>\n",
       "      <td>0.0</td>\n",
       "      <td>0.0</td>\n",
       "      <td>0.0</td>\n",
       "      <td>0.0</td>\n",
       "      <td>0.0</td>\n",
       "      <td>0.0</td>\n",
       "      <td>0.0</td>\n",
       "      <td>0.0</td>\n",
       "      <td>1.0</td>\n",
       "      <td>0.0</td>\n",
       "    </tr>\n",
       "    <tr>\n",
       "      <th>4</th>\n",
       "      <td>0.0</td>\n",
       "      <td>0.0</td>\n",
       "      <td>0.0</td>\n",
       "      <td>0.0</td>\n",
       "      <td>1.0</td>\n",
       "      <td>0.0</td>\n",
       "      <td>0.0</td>\n",
       "      <td>0.0</td>\n",
       "      <td>0.0</td>\n",
       "      <td>0.0</td>\n",
       "      <td>0.0</td>\n",
       "      <td>0.0</td>\n",
       "      <td>0.0</td>\n",
       "      <td>0.0</td>\n",
       "    </tr>\n",
       "    <tr>\n",
       "      <th>...</th>\n",
       "      <td>...</td>\n",
       "      <td>...</td>\n",
       "      <td>...</td>\n",
       "      <td>...</td>\n",
       "      <td>...</td>\n",
       "      <td>...</td>\n",
       "      <td>...</td>\n",
       "      <td>...</td>\n",
       "      <td>...</td>\n",
       "      <td>...</td>\n",
       "      <td>...</td>\n",
       "      <td>...</td>\n",
       "      <td>...</td>\n",
       "      <td>...</td>\n",
       "    </tr>\n",
       "    <tr>\n",
       "      <th>319617</th>\n",
       "      <td>0.0</td>\n",
       "      <td>1.0</td>\n",
       "      <td>0.0</td>\n",
       "      <td>0.0</td>\n",
       "      <td>0.0</td>\n",
       "      <td>0.0</td>\n",
       "      <td>0.0</td>\n",
       "      <td>0.0</td>\n",
       "      <td>0.0</td>\n",
       "      <td>0.0</td>\n",
       "      <td>0.0</td>\n",
       "      <td>0.0</td>\n",
       "      <td>0.0</td>\n",
       "      <td>0.0</td>\n",
       "    </tr>\n",
       "    <tr>\n",
       "      <th>319618</th>\n",
       "      <td>1.0</td>\n",
       "      <td>0.0</td>\n",
       "      <td>0.0</td>\n",
       "      <td>0.0</td>\n",
       "      <td>0.0</td>\n",
       "      <td>0.0</td>\n",
       "      <td>0.0</td>\n",
       "      <td>0.0</td>\n",
       "      <td>0.0</td>\n",
       "      <td>0.0</td>\n",
       "      <td>0.0</td>\n",
       "      <td>0.0</td>\n",
       "      <td>0.0</td>\n",
       "      <td>0.0</td>\n",
       "    </tr>\n",
       "    <tr>\n",
       "      <th>319619</th>\n",
       "      <td>0.0</td>\n",
       "      <td>0.0</td>\n",
       "      <td>0.0</td>\n",
       "      <td>0.0</td>\n",
       "      <td>0.0</td>\n",
       "      <td>0.0</td>\n",
       "      <td>1.0</td>\n",
       "      <td>0.0</td>\n",
       "      <td>0.0</td>\n",
       "      <td>0.0</td>\n",
       "      <td>0.0</td>\n",
       "      <td>0.0</td>\n",
       "      <td>0.0</td>\n",
       "      <td>0.0</td>\n",
       "    </tr>\n",
       "    <tr>\n",
       "      <th>319620</th>\n",
       "      <td>0.0</td>\n",
       "      <td>0.0</td>\n",
       "      <td>0.0</td>\n",
       "      <td>0.0</td>\n",
       "      <td>0.0</td>\n",
       "      <td>0.0</td>\n",
       "      <td>0.0</td>\n",
       "      <td>0.0</td>\n",
       "      <td>0.0</td>\n",
       "      <td>0.0</td>\n",
       "      <td>0.0</td>\n",
       "      <td>0.0</td>\n",
       "      <td>0.0</td>\n",
       "      <td>1.0</td>\n",
       "    </tr>\n",
       "    <tr>\n",
       "      <th>319621</th>\n",
       "      <td>0.0</td>\n",
       "      <td>1.0</td>\n",
       "      <td>0.0</td>\n",
       "      <td>0.0</td>\n",
       "      <td>0.0</td>\n",
       "      <td>0.0</td>\n",
       "      <td>0.0</td>\n",
       "      <td>0.0</td>\n",
       "      <td>0.0</td>\n",
       "      <td>0.0</td>\n",
       "      <td>0.0</td>\n",
       "      <td>0.0</td>\n",
       "      <td>0.0</td>\n",
       "      <td>0.0</td>\n",
       "    </tr>\n",
       "  </tbody>\n",
       "</table>\n",
       "<p>319622 rows × 14 columns</p>\n",
       "</div>"
      ],
      "text/plain": [
       "        category.entertainment  category.food_dining  category.gas_transport  \\\n",
       "0                          0.0                   0.0                     0.0   \n",
       "1                          0.0                   0.0                     0.0   \n",
       "2                          0.0                   0.0                     0.0   \n",
       "3                          0.0                   0.0                     0.0   \n",
       "4                          0.0                   0.0                     0.0   \n",
       "...                        ...                   ...                     ...   \n",
       "319617                     0.0                   1.0                     0.0   \n",
       "319618                     1.0                   0.0                     0.0   \n",
       "319619                     0.0                   0.0                     0.0   \n",
       "319620                     0.0                   0.0                     0.0   \n",
       "319621                     0.0                   1.0                     0.0   \n",
       "\n",
       "        category.grocery_net  category.grocery_pos  category.health_fitness  \\\n",
       "0                        0.0                   1.0                      0.0   \n",
       "1                        0.0                   0.0                      0.0   \n",
       "2                        0.0                   1.0                      0.0   \n",
       "3                        0.0                   0.0                      0.0   \n",
       "4                        0.0                   1.0                      0.0   \n",
       "...                      ...                   ...                      ...   \n",
       "319617                   0.0                   0.0                      0.0   \n",
       "319618                   0.0                   0.0                      0.0   \n",
       "319619                   0.0                   0.0                      0.0   \n",
       "319620                   0.0                   0.0                      0.0   \n",
       "319621                   0.0                   0.0                      0.0   \n",
       "\n",
       "        category.home  category.kids_pets  category.misc_net  \\\n",
       "0                 0.0                 0.0                0.0   \n",
       "1                 0.0                 0.0                0.0   \n",
       "2                 0.0                 0.0                0.0   \n",
       "3                 0.0                 0.0                0.0   \n",
       "4                 0.0                 0.0                0.0   \n",
       "...               ...                 ...                ...   \n",
       "319617            0.0                 0.0                0.0   \n",
       "319618            0.0                 0.0                0.0   \n",
       "319619            1.0                 0.0                0.0   \n",
       "319620            0.0                 0.0                0.0   \n",
       "319621            0.0                 0.0                0.0   \n",
       "\n",
       "        category.misc_pos  category.personal_care  category.shopping_net  \\\n",
       "0                     0.0                     0.0                    0.0   \n",
       "1                     1.0                     0.0                    0.0   \n",
       "2                     0.0                     0.0                    0.0   \n",
       "3                     0.0                     0.0                    0.0   \n",
       "4                     0.0                     0.0                    0.0   \n",
       "...                   ...                     ...                    ...   \n",
       "319617                0.0                     0.0                    0.0   \n",
       "319618                0.0                     0.0                    0.0   \n",
       "319619                0.0                     0.0                    0.0   \n",
       "319620                0.0                     0.0                    0.0   \n",
       "319621                0.0                     0.0                    0.0   \n",
       "\n",
       "        category.shopping_pos  category.travel  \n",
       "0                         0.0              0.0  \n",
       "1                         0.0              0.0  \n",
       "2                         0.0              0.0  \n",
       "3                         1.0              0.0  \n",
       "4                         0.0              0.0  \n",
       "...                       ...              ...  \n",
       "319617                    0.0              0.0  \n",
       "319618                    0.0              0.0  \n",
       "319619                    0.0              0.0  \n",
       "319620                    0.0              1.0  \n",
       "319621                    0.0              0.0  \n",
       "\n",
       "[319622 rows x 14 columns]"
      ]
     },
     "execution_count": 100,
     "metadata": {},
     "output_type": "execute_result"
    }
   ],
   "source": [
    "category_enc = pd.DataFrame(category_enc)\n",
    "category_enc.columns = \"category.\" + category_encoder.categories_[0]\n",
    "\n",
    "category_enc"
   ]
  },
  {
   "cell_type": "markdown",
   "id": "c7cb8152",
   "metadata": {},
   "source": [
    "#### Encode State"
   ]
  },
  {
   "cell_type": "markdown",
   "id": "009769c7",
   "metadata": {},
   "source": []
  }
 ],
 "metadata": {
  "kernelspec": {
   "display_name": "base",
   "language": "python",
   "name": "python3"
  },
  "language_info": {
   "codemirror_mode": {
    "name": "ipython",
    "version": 3
   },
   "file_extension": ".py",
   "mimetype": "text/x-python",
   "name": "python",
   "nbconvert_exporter": "python",
   "pygments_lexer": "ipython3",
   "version": "3.9.12"
  }
 },
 "nbformat": 4,
 "nbformat_minor": 5
}
