{
 "cells": [
  {
   "cell_type": "markdown",
   "id": "fb0fb69e",
   "metadata": {},
   "source": [
    "Import Libraries"
   ]
  },
  {
   "cell_type": "code",
   "execution_count": 1,
   "id": "3b8a7ee4",
   "metadata": {},
   "outputs": [],
   "source": [
    "import pandas as pd\n",
    "import numpy as np\n",
    "import matplotlib.pyplot as plt\n",
    "import seaborn as sns"
   ]
  },
  {
   "cell_type": "code",
   "execution_count": 6,
   "id": "78cef538",
   "metadata": {},
   "outputs": [],
   "source": [
    "import data_prep as dp"
   ]
  },
  {
   "cell_type": "markdown",
   "id": "6fe55388",
   "metadata": {},
   "source": [
    "Import Data"
   ]
  },
  {
   "cell_type": "code",
   "execution_count": 7,
   "id": "e3a5d611",
   "metadata": {},
   "outputs": [
    {
     "name": "stdout",
     "output_type": "stream",
     "text": [
      "Path to dataset files: /Users/anabellafalk/.cache/kagglehub/datasets/kartik2112/fraud-detection/versions/1\n"
     ]
    }
   ],
   "source": [
    "dat_val, dat_tr = dp.load_train_split()"
   ]
  },
  {
   "cell_type": "code",
   "execution_count": 8,
   "id": "7dc67251",
   "metadata": {},
   "outputs": [
    {
     "data": {
      "text/html": [
       "<div>\n",
       "<style scoped>\n",
       "    .dataframe tbody tr th:only-of-type {\n",
       "        vertical-align: middle;\n",
       "    }\n",
       "\n",
       "    .dataframe tbody tr th {\n",
       "        vertical-align: top;\n",
       "    }\n",
       "\n",
       "    .dataframe thead th {\n",
       "        text-align: right;\n",
       "    }\n",
       "</style>\n",
       "<table border=\"1\" class=\"dataframe\">\n",
       "  <thead>\n",
       "    <tr style=\"text-align: right;\">\n",
       "      <th></th>\n",
       "      <th>trans_date_trans_time</th>\n",
       "      <th>cc_num</th>\n",
       "      <th>merchant</th>\n",
       "      <th>category</th>\n",
       "      <th>amt</th>\n",
       "      <th>first</th>\n",
       "      <th>last</th>\n",
       "      <th>gender</th>\n",
       "      <th>street</th>\n",
       "      <th>city</th>\n",
       "      <th>...</th>\n",
       "      <th>lat</th>\n",
       "      <th>long</th>\n",
       "      <th>city_pop</th>\n",
       "      <th>job</th>\n",
       "      <th>dob</th>\n",
       "      <th>trans_num</th>\n",
       "      <th>unix_time</th>\n",
       "      <th>merch_lat</th>\n",
       "      <th>merch_long</th>\n",
       "      <th>is_fraud</th>\n",
       "    </tr>\n",
       "  </thead>\n",
       "  <tbody>\n",
       "    <tr>\n",
       "      <th>1</th>\n",
       "      <td>2019-01-01 00:00:44</td>\n",
       "      <td>630423337322</td>\n",
       "      <td>fraud_Heller, Gutmann and Zieme</td>\n",
       "      <td>grocery_pos</td>\n",
       "      <td>107.23</td>\n",
       "      <td>Stephanie</td>\n",
       "      <td>Gill</td>\n",
       "      <td>F</td>\n",
       "      <td>43039 Riley Greens Suite 393</td>\n",
       "      <td>Orient</td>\n",
       "      <td>...</td>\n",
       "      <td>48.8878</td>\n",
       "      <td>-118.2105</td>\n",
       "      <td>149</td>\n",
       "      <td>Special educational needs teacher</td>\n",
       "      <td>1978-06-21</td>\n",
       "      <td>1f76529f8574734946361c461b024d99</td>\n",
       "      <td>1325376044</td>\n",
       "      <td>49.159047</td>\n",
       "      <td>-118.186462</td>\n",
       "      <td>0</td>\n",
       "    </tr>\n",
       "    <tr>\n",
       "      <th>4</th>\n",
       "      <td>2019-01-01 00:03:06</td>\n",
       "      <td>375534208663984</td>\n",
       "      <td>fraud_Keeling-Crist</td>\n",
       "      <td>misc_pos</td>\n",
       "      <td>41.96</td>\n",
       "      <td>Tyler</td>\n",
       "      <td>Garcia</td>\n",
       "      <td>M</td>\n",
       "      <td>408 Bradley Rest</td>\n",
       "      <td>Doe Hill</td>\n",
       "      <td>...</td>\n",
       "      <td>38.4207</td>\n",
       "      <td>-79.4629</td>\n",
       "      <td>99</td>\n",
       "      <td>Dance movement psychotherapist</td>\n",
       "      <td>1986-03-28</td>\n",
       "      <td>a41d7549acf90789359a9aa5346dcb46</td>\n",
       "      <td>1325376186</td>\n",
       "      <td>38.674999</td>\n",
       "      <td>-78.632459</td>\n",
       "      <td>0</td>\n",
       "    </tr>\n",
       "    <tr>\n",
       "      <th>13</th>\n",
       "      <td>2019-01-01 00:07:27</td>\n",
       "      <td>5559857416065248</td>\n",
       "      <td>fraud_Kiehn Inc</td>\n",
       "      <td>grocery_pos</td>\n",
       "      <td>96.29</td>\n",
       "      <td>Jack</td>\n",
       "      <td>Hill</td>\n",
       "      <td>M</td>\n",
       "      <td>5916 Susan Bridge Apt. 939</td>\n",
       "      <td>Grenada</td>\n",
       "      <td>...</td>\n",
       "      <td>41.6125</td>\n",
       "      <td>-122.5258</td>\n",
       "      <td>589</td>\n",
       "      <td>Systems analyst</td>\n",
       "      <td>1945-12-21</td>\n",
       "      <td>413636e759663f264aae1819a4d4f231</td>\n",
       "      <td>1325376447</td>\n",
       "      <td>41.657520</td>\n",
       "      <td>-122.230347</td>\n",
       "      <td>0</td>\n",
       "    </tr>\n",
       "    <tr>\n",
       "      <th>14</th>\n",
       "      <td>2019-01-01 00:09:03</td>\n",
       "      <td>3514865930894695</td>\n",
       "      <td>fraud_Beier-Hyatt</td>\n",
       "      <td>shopping_pos</td>\n",
       "      <td>7.77</td>\n",
       "      <td>Christopher</td>\n",
       "      <td>Castaneda</td>\n",
       "      <td>M</td>\n",
       "      <td>1632 Cohen Drive Suite 639</td>\n",
       "      <td>High Rolls Mountain Park</td>\n",
       "      <td>...</td>\n",
       "      <td>32.9396</td>\n",
       "      <td>-105.8189</td>\n",
       "      <td>899</td>\n",
       "      <td>Naval architect</td>\n",
       "      <td>1967-08-30</td>\n",
       "      <td>8a6293af5ed278dea14448ded2685fea</td>\n",
       "      <td>1325376543</td>\n",
       "      <td>32.863258</td>\n",
       "      <td>-106.520205</td>\n",
       "      <td>0</td>\n",
       "    </tr>\n",
       "    <tr>\n",
       "      <th>20</th>\n",
       "      <td>2019-01-01 00:13:08</td>\n",
       "      <td>4469777115158234880</td>\n",
       "      <td>fraud_Bauch-Raynor</td>\n",
       "      <td>grocery_pos</td>\n",
       "      <td>57.34</td>\n",
       "      <td>Gregory</td>\n",
       "      <td>Graham</td>\n",
       "      <td>M</td>\n",
       "      <td>4005 Dana Glens</td>\n",
       "      <td>Methuen</td>\n",
       "      <td>...</td>\n",
       "      <td>42.7280</td>\n",
       "      <td>-71.1810</td>\n",
       "      <td>47249</td>\n",
       "      <td>Market researcher</td>\n",
       "      <td>1980-11-22</td>\n",
       "      <td>139a1bee15be607d79fe173bfcb2502a</td>\n",
       "      <td>1325376788</td>\n",
       "      <td>42.268760</td>\n",
       "      <td>-71.217297</td>\n",
       "      <td>0</td>\n",
       "    </tr>\n",
       "  </tbody>\n",
       "</table>\n",
       "<p>5 rows × 22 columns</p>\n",
       "</div>"
      ],
      "text/plain": [
       "   trans_date_trans_time               cc_num  \\\n",
       "1    2019-01-01 00:00:44         630423337322   \n",
       "4    2019-01-01 00:03:06      375534208663984   \n",
       "13   2019-01-01 00:07:27     5559857416065248   \n",
       "14   2019-01-01 00:09:03     3514865930894695   \n",
       "20   2019-01-01 00:13:08  4469777115158234880   \n",
       "\n",
       "                           merchant      category     amt        first  \\\n",
       "1   fraud_Heller, Gutmann and Zieme   grocery_pos  107.23    Stephanie   \n",
       "4               fraud_Keeling-Crist      misc_pos   41.96        Tyler   \n",
       "13                  fraud_Kiehn Inc   grocery_pos   96.29         Jack   \n",
       "14                fraud_Beier-Hyatt  shopping_pos    7.77  Christopher   \n",
       "20               fraud_Bauch-Raynor   grocery_pos   57.34      Gregory   \n",
       "\n",
       "         last gender                        street                      city  \\\n",
       "1        Gill      F  43039 Riley Greens Suite 393                    Orient   \n",
       "4      Garcia      M              408 Bradley Rest                  Doe Hill   \n",
       "13       Hill      M    5916 Susan Bridge Apt. 939                   Grenada   \n",
       "14  Castaneda      M    1632 Cohen Drive Suite 639  High Rolls Mountain Park   \n",
       "20     Graham      M               4005 Dana Glens                   Methuen   \n",
       "\n",
       "    ...      lat      long  city_pop                                job  \\\n",
       "1   ...  48.8878 -118.2105       149  Special educational needs teacher   \n",
       "4   ...  38.4207  -79.4629        99     Dance movement psychotherapist   \n",
       "13  ...  41.6125 -122.5258       589                    Systems analyst   \n",
       "14  ...  32.9396 -105.8189       899                    Naval architect   \n",
       "20  ...  42.7280  -71.1810     47249                  Market researcher   \n",
       "\n",
       "           dob                         trans_num   unix_time  merch_lat  \\\n",
       "1   1978-06-21  1f76529f8574734946361c461b024d99  1325376044  49.159047   \n",
       "4   1986-03-28  a41d7549acf90789359a9aa5346dcb46  1325376186  38.674999   \n",
       "13  1945-12-21  413636e759663f264aae1819a4d4f231  1325376447  41.657520   \n",
       "14  1967-08-30  8a6293af5ed278dea14448ded2685fea  1325376543  32.863258   \n",
       "20  1980-11-22  139a1bee15be607d79fe173bfcb2502a  1325376788  42.268760   \n",
       "\n",
       "    merch_long  is_fraud  \n",
       "1  -118.186462         0  \n",
       "4   -78.632459         0  \n",
       "13 -122.230347         0  \n",
       "14 -106.520205         0  \n",
       "20  -71.217297         0  \n",
       "\n",
       "[5 rows x 22 columns]"
      ]
     },
     "execution_count": 8,
     "metadata": {},
     "output_type": "execute_result"
    }
   ],
   "source": [
    "dat_tr.head()"
   ]
  },
  {
   "cell_type": "markdown",
   "id": "486d69f6",
   "metadata": {},
   "source": [
    "Potentially Significant predictors: category, amt, month/year\n",
    "\n",
    "Controls/Identifiers: age, state, city pop, job?\n",
    "\n",
    "Others to consider: distance"
   ]
  },
  {
   "cell_type": "markdown",
   "id": "11c3308c",
   "metadata": {},
   "source": [
    "### Bin Jobs into Smaller Categories"
   ]
  },
  {
   "cell_type": "code",
   "execution_count": 15,
   "id": "38ff285e",
   "metadata": {},
   "outputs": [
    {
     "data": {
      "text/plain": [
       "Water engineer                           6164\n",
       "Petroleum engineer                       5161\n",
       "Chartered loss adjuster                  5135\n",
       "Radio broadcast assistant                4583\n",
       "Surgeon                                  4138\n",
       "                                         ... \n",
       "Chief of Staff                             11\n",
       "Architect                                  11\n",
       "Industrial buyer                           10\n",
       "Development worker, international aid      10\n",
       "Aeronautical engineer                       7\n",
       "Name: job, Length: 192, dtype: int64"
      ]
     },
     "execution_count": 15,
     "metadata": {},
     "output_type": "execute_result"
    }
   ],
   "source": [
    "dat_tr['job'].value_counts()"
   ]
  },
  {
   "cell_type": "code",
   "execution_count": 17,
   "id": "a88c95b8",
   "metadata": {},
   "outputs": [
    {
     "data": {
      "text/plain": [
       "job\n",
       "Administrator, charities/voluntary organisations    0.001981\n",
       "Administrator, local government                     0.000000\n",
       "Advertising account executive                       0.000000\n",
       "Advice worker                                       0.000000\n",
       "Aeronautical engineer                               1.000000\n",
       "                                                      ...   \n",
       "Toxicologist                                        0.000000\n",
       "Trade mark attorney                                 0.005258\n",
       "Video editor                                        0.000000\n",
       "Water engineer                                      0.000000\n",
       "Wellsite geologist                                  0.010711\n",
       "Name: is_fraud, Length: 192, dtype: float64"
      ]
     },
     "execution_count": 17,
     "metadata": {},
     "output_type": "execute_result"
    }
   ],
   "source": [
    "fraud_job = dat_tr.groupby('job')['is_fraud'].mean()\n",
    "fraud_job"
   ]
  },
  {
   "cell_type": "code",
   "execution_count": 26,
   "id": "93c905fc",
   "metadata": {},
   "outputs": [
    {
     "data": {
      "text/plain": [
       "(array([134.,  37.,  13.,   1.,   0.,   0.,   0.,   0.,   0.,   0.,   0.,\n",
       "          0.,   0.,   0.,   0.,   0.,   0.,   0.,   0.,   0.,   0.,   0.,\n",
       "          0.,   0.,   0.,   0.,   0.,   0.,   0.,   0.,   0.,   0.,   0.,\n",
       "          0.,   0.,   0.,   0.,   0.,   0.,   0.,   0.,   0.,   0.,   0.,\n",
       "          0.,   0.,   0.,   0.,   0.,   0.,   0.,   0.,   0.,   0.,   0.,\n",
       "          0.,   0.,   0.,   0.,   0.,   0.,   0.,   0.,   0.,   0.,   0.,\n",
       "          0.,   0.,   0.,   0.,   0.,   0.,   0.,   0.,   0.,   0.,   0.,\n",
       "          0.,   0.,   0.,   0.,   0.,   0.,   0.,   0.,   0.,   0.,   0.,\n",
       "          0.,   0.,   0.,   0.,   0.,   0.,   0.,   0.,   0.,   0.,   0.,\n",
       "          7.]),\n",
       " array([0.  , 0.01, 0.02, 0.03, 0.04, 0.05, 0.06, 0.07, 0.08, 0.09, 0.1 ,\n",
       "        0.11, 0.12, 0.13, 0.14, 0.15, 0.16, 0.17, 0.18, 0.19, 0.2 , 0.21,\n",
       "        0.22, 0.23, 0.24, 0.25, 0.26, 0.27, 0.28, 0.29, 0.3 , 0.31, 0.32,\n",
       "        0.33, 0.34, 0.35, 0.36, 0.37, 0.38, 0.39, 0.4 , 0.41, 0.42, 0.43,\n",
       "        0.44, 0.45, 0.46, 0.47, 0.48, 0.49, 0.5 , 0.51, 0.52, 0.53, 0.54,\n",
       "        0.55, 0.56, 0.57, 0.58, 0.59, 0.6 , 0.61, 0.62, 0.63, 0.64, 0.65,\n",
       "        0.66, 0.67, 0.68, 0.69, 0.7 , 0.71, 0.72, 0.73, 0.74, 0.75, 0.76,\n",
       "        0.77, 0.78, 0.79, 0.8 , 0.81, 0.82, 0.83, 0.84, 0.85, 0.86, 0.87,\n",
       "        0.88, 0.89, 0.9 , 0.91, 0.92, 0.93, 0.94, 0.95, 0.96, 0.97, 0.98,\n",
       "        0.99, 1.  ]),\n",
       " <BarContainer object of 100 artists>)"
      ]
     },
     "execution_count": 26,
     "metadata": {},
     "output_type": "execute_result"
    },
    {
     "data": {
      "image/png": "[encoded data removed]",
      "text/plain": [
       "<Figure size 432x288 with 1 Axes>"
      ]
     },
     "metadata": {
      "needs_background": "light"
     },
     "output_type": "display_data"
    }
   ],
   "source": [
    "plt.hist(fraud_job.values, bins = 100)"
   ]
  },
  {
   "cell_type": "markdown",
   "id": "73da7c00",
   "metadata": {},
   "source": [
    "#### Use Kmeans"
   ]
  },
  {
   "cell_type": "code",
   "execution_count": 44,
   "id": "0f1cbed6",
   "metadata": {},
   "outputs": [],
   "source": [
    "from sklearn.cluster import KMeans\n",
    "cluster = KMeans(3)"
   ]
  },
  {
   "cell_type": "code",
   "execution_count": 47,
   "id": "29a0502d",
   "metadata": {},
   "outputs": [
    {
     "data": {
      "text/plain": [
       "array([2, 2, 2, 2, 1, 2, 0, 2, 2, 2, 1, 2, 0, 0, 0, 2, 0, 2, 2, 2, 2, 2,\n",
       "       2, 2, 2, 2, 2, 2, 1, 2, 2, 0, 2, 2, 2, 2, 2, 2, 2, 2, 2, 2, 2, 1,\n",
       "       2, 2, 2, 1, 2, 2, 2, 2, 2, 2, 2, 2, 2, 0, 0, 0, 2, 2, 0, 2, 2, 0,\n",
       "       2, 2, 2, 2, 2, 2, 2, 2, 2, 2, 2, 2, 2, 2, 2, 2, 2, 2, 2, 2, 2, 1,\n",
       "       2, 2, 2, 0, 2, 2, 2, 0, 2, 1, 2, 2, 2, 2, 2, 0, 2, 0, 0, 0, 2, 0,\n",
       "       2, 2, 2, 2, 2, 2, 0, 2, 2, 0, 2, 2, 2, 2, 2, 2, 2, 2, 2, 2, 0, 2,\n",
       "       2, 2, 2, 2, 2, 2, 2, 2, 2, 2, 0, 2, 2, 2, 2, 2, 2, 2, 0, 2, 0, 0,\n",
       "       2, 2, 2, 2, 2, 2, 0, 2, 2, 0, 2, 2, 2, 2, 2, 2, 2, 0, 2, 2, 2, 2,\n",
       "       0, 2, 2, 2, 2, 2, 2, 0, 2, 2, 2, 2, 2, 2, 2, 2], dtype=int32)"
      ]
     },
     "execution_count": 47,
     "metadata": {},
     "output_type": "execute_result"
    }
   ],
   "source": [
    "clusterings = cluster.fit_predict(fraud_job.values.reshape(-1,1))\n",
    "clusterings"
   ]
  },
  {
   "cell_type": "code",
   "execution_count": 48,
   "id": "69064233",
   "metadata": {},
   "outputs": [
    {
     "data": {
      "text/plain": [
       "array([[0.02015378],\n",
       "       [1.        ],\n",
       "       [0.00540699]])"
      ]
     },
     "execution_count": 48,
     "metadata": {},
     "output_type": "execute_result"
    }
   ],
   "source": [
    "cluster.cluster_centers_"
   ]
  },
  {
   "cell_type": "code",
   "execution_count": 30,
   "id": "280cd127",
   "metadata": {},
   "outputs": [
    {
     "data": {
      "text/plain": [
       "(192,)"
      ]
     },
     "execution_count": 30,
     "metadata": {},
     "output_type": "execute_result"
    }
   ],
   "source": [
    "fraud_job.shape"
   ]
  },
  {
   "cell_type": "code",
   "execution_count": 49,
   "id": "7fe2b46f",
   "metadata": {},
   "outputs": [
    {
     "data": {
      "text/plain": [
       "(192,)"
      ]
     },
     "execution_count": 49,
     "metadata": {},
     "output_type": "execute_result"
    }
   ],
   "source": [
    "clusterings.shape"
   ]
  },
  {
   "cell_type": "code",
   "execution_count": 69,
   "id": "19b087bd",
   "metadata": {},
   "outputs": [
    {
     "data": {
      "text/plain": [
       "job\n",
       "Administrator, charities/voluntary organisations    2\n",
       "Administrator, local government                     2\n",
       "Advertising account executive                       2\n",
       "Advice worker                                       2\n",
       "Aeronautical engineer                               1\n",
       "                                                   ..\n",
       "Toxicologist                                        2\n",
       "Trade mark attorney                                 2\n",
       "Video editor                                        2\n",
       "Water engineer                                      2\n",
       "Wellsite geologist                                  2\n",
       "Length: 192, dtype: int32"
      ]
     },
     "execution_count": 69,
     "metadata": {},
     "output_type": "execute_result"
    }
   ],
   "source": [
    "job_bin = pd.Series(clusterings)\n",
    "job_bin.index=fraud_job.index\n",
    "job_bin"
   ]
  },
  {
   "cell_type": "code",
   "execution_count": 71,
   "id": "ff3b1726",
   "metadata": {},
   "outputs": [],
   "source": [
    "dat_tr['job_bin'] = dat_tr['job'].apply(lambda x: job_bin.loc[x])"
   ]
  },
  {
   "cell_type": "code",
   "execution_count": 74,
   "id": "ffd1cd71",
   "metadata": {},
   "outputs": [
    {
     "data": {
      "text/html": [
       "<div>\n",
       "<style scoped>\n",
       "    .dataframe tbody tr th:only-of-type {\n",
       "        vertical-align: middle;\n",
       "    }\n",
       "\n",
       "    .dataframe tbody tr th {\n",
       "        vertical-align: top;\n",
       "    }\n",
       "\n",
       "    .dataframe thead th {\n",
       "        text-align: right;\n",
       "    }\n",
       "</style>\n",
       "<table border=\"1\" class=\"dataframe\">\n",
       "  <thead>\n",
       "    <tr style=\"text-align: right;\">\n",
       "      <th></th>\n",
       "      <th>job</th>\n",
       "      <th>job_bin</th>\n",
       "    </tr>\n",
       "  </thead>\n",
       "  <tbody>\n",
       "    <tr>\n",
       "      <th>1</th>\n",
       "      <td>Special educational needs teacher</td>\n",
       "      <td>2</td>\n",
       "    </tr>\n",
       "    <tr>\n",
       "      <th>4</th>\n",
       "      <td>Dance movement psychotherapist</td>\n",
       "      <td>2</td>\n",
       "    </tr>\n",
       "    <tr>\n",
       "      <th>13</th>\n",
       "      <td>Systems analyst</td>\n",
       "      <td>2</td>\n",
       "    </tr>\n",
       "    <tr>\n",
       "      <th>14</th>\n",
       "      <td>Naval architect</td>\n",
       "      <td>2</td>\n",
       "    </tr>\n",
       "    <tr>\n",
       "      <th>20</th>\n",
       "      <td>Market researcher</td>\n",
       "      <td>2</td>\n",
       "    </tr>\n",
       "    <tr>\n",
       "      <th>...</th>\n",
       "      <td>...</td>\n",
       "      <td>...</td>\n",
       "    </tr>\n",
       "    <tr>\n",
       "      <th>1296647</th>\n",
       "      <td>Further education lecturer</td>\n",
       "      <td>2</td>\n",
       "    </tr>\n",
       "    <tr>\n",
       "      <th>1296652</th>\n",
       "      <td>Facilities manager</td>\n",
       "      <td>2</td>\n",
       "    </tr>\n",
       "    <tr>\n",
       "      <th>1296661</th>\n",
       "      <td>Administrator, local government</td>\n",
       "      <td>2</td>\n",
       "    </tr>\n",
       "    <tr>\n",
       "      <th>1296667</th>\n",
       "      <td>Exercise physiologist</td>\n",
       "      <td>2</td>\n",
       "    </tr>\n",
       "    <tr>\n",
       "      <th>1296672</th>\n",
       "      <td>Naval architect</td>\n",
       "      <td>2</td>\n",
       "    </tr>\n",
       "  </tbody>\n",
       "</table>\n",
       "<p>319622 rows × 2 columns</p>\n",
       "</div>"
      ],
      "text/plain": [
       "                                       job  job_bin\n",
       "1        Special educational needs teacher        2\n",
       "4           Dance movement psychotherapist        2\n",
       "13                         Systems analyst        2\n",
       "14                         Naval architect        2\n",
       "20                       Market researcher        2\n",
       "...                                    ...      ...\n",
       "1296647         Further education lecturer        2\n",
       "1296652                 Facilities manager        2\n",
       "1296661    Administrator, local government        2\n",
       "1296667              Exercise physiologist        2\n",
       "1296672                    Naval architect        2\n",
       "\n",
       "[319622 rows x 2 columns]"
      ]
     },
     "execution_count": 74,
     "metadata": {},
     "output_type": "execute_result"
    }
   ],
   "source": [
    "dat_tr[['job','job_bin']]"
   ]
  },
  {
   "cell_type": "code",
   "execution_count": 75,
   "id": "a4aad8c4",
   "metadata": {},
   "outputs": [
    {
     "data": {
      "text/plain": [
       "2"
      ]
     },
     "execution_count": 75,
     "metadata": {},
     "output_type": "execute_result"
    }
   ],
   "source": [
    "job_bin.loc['Naval architect']"
   ]
  },
  {
   "cell_type": "markdown",
   "id": "26967ea5",
   "metadata": {},
   "source": [
    "With more data consider binning by median job salary or salary ratio to transaction amount"
   ]
  },
  {
   "cell_type": "markdown",
   "id": "e312caf9",
   "metadata": {},
   "source": [
    "### Bin Age to reduce levels"
   ]
  },
  {
   "cell_type": "code",
   "execution_count": null,
   "id": "bef64059",
   "metadata": {},
   "outputs": [],
   "source": []
  }
 ],
 "metadata": {
  "kernelspec": {
   "display_name": "base",
   "language": "python",
   "name": "python3"
  },
  "language_info": {
   "codemirror_mode": {
    "name": "ipython",
    "version": 3
   },
   "file_extension": ".py",
   "mimetype": "text/x-python",
   "name": "python",
   "nbconvert_exporter": "python",
   "pygments_lexer": "ipython3",
   "version": "3.9.12"
  }
 },
 "nbformat": 4,
 "nbformat_minor": 5
}
