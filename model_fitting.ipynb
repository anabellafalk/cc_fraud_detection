{
 "cells": [
  {
   "cell_type": "markdown",
   "id": "e2c0ccb7",
   "metadata": {},
   "source": [
    "Import libraries"
   ]
  },
  {
   "cell_type": "code",
   "execution_count": 1,
   "id": "2ff595d8",
   "metadata": {},
   "outputs": [],
   "source": [
    "import pandas as pd"
   ]
  },
  {
   "cell_type": "code",
   "execution_count": 2,
   "id": "5529262c",
   "metadata": {},
   "outputs": [],
   "source": [
    "import data_prep as dp"
   ]
  },
  {
   "cell_type": "markdown",
   "id": "db2b96ad",
   "metadata": {},
   "source": [
    "Import Data"
   ]
  },
  {
   "cell_type": "code",
   "execution_count": 3,
   "id": "bed3ddf4",
   "metadata": {},
   "outputs": [
    {
     "name": "stdout",
     "output_type": "stream",
     "text": [
      "Path to dataset files: /Users/anabellafalk/.cache/kagglehub/datasets/kartik2112/fraud-detection/versions/1\n"
     ]
    }
   ],
   "source": [
    "dat_val, dat_tr = dp.load_train_split()"
   ]
  },
  {
   "cell_type": "markdown",
   "id": "a197290f",
   "metadata": {},
   "source": [
    "### Prepare Data"
   ]
  },
  {
   "cell_type": "code",
   "execution_count": null,
   "id": "f01e4049",
   "metadata": {},
   "outputs": [],
   "source": [
    "# Initialize relevant columns\n",
    "model_cols = ['category', 'amt', 'trans_month', 'trans_year']\n",
    "identifier_cols = ['state', 'age', 'city_pop', 'job_bin']\n",
    "other_cols = ['distance']"
   ]
  },
  {
   "cell_type": "markdown",
   "id": "e7ae15e0",
   "metadata": {},
   "source": [
    "#### Extract Date Info"
   ]
  },
  {
   "cell_type": "code",
   "execution_count": null,
   "id": "1367101a",
   "metadata": {},
   "outputs": [
    {
     "ename": "AttributeError",
     "evalue": "module 'data_prep' has no attribute 'extract_month'",
     "output_type": "error",
     "traceback": [
      "\u001b[0;31m---------------------------------------------------------------------------\u001b[0m",
      "\u001b[0;31mAttributeError\u001b[0m                            Traceback (most recent call last)",
      "Input \u001b[0;32mIn [7]\u001b[0m, in \u001b[0;36m<cell line: 1>\u001b[0;34m()\u001b[0m\n\u001b[0;32m----> 1\u001b[0m \u001b[43mdp\u001b[49m\u001b[38;5;241;43m.\u001b[39;49m\u001b[43mextract_month\u001b[49m(dat_tr)\n\u001b[1;32m      2\u001b[0m dp\u001b[38;5;241m.\u001b[39mextract_year(dat_tr)\n",
      "\u001b[0;31mAttributeError\u001b[0m: module 'data_prep' has no attribute 'extract_month'"
     ]
    }
   ],
   "source": [
    "# Create month column\n",
    "dp.extract_month(dat_tr)"
   ]
  },
  {
   "cell_type": "code",
   "execution_count": null,
   "id": "8a9d227f",
   "metadata": {},
   "outputs": [],
   "source": [
    "# Create year column\n",
    "dp.extract_year(dat_tr)"
   ]
  },
  {
   "cell_type": "code",
   "execution_count": null,
   "id": "6f7967f6",
   "metadata": {},
   "outputs": [],
   "source": [
    "# Create month and year column\n",
    "dp.extract_month_year(dat_tr)"
   ]
  },
  {
   "cell_type": "markdown",
   "id": "b39a3581",
   "metadata": {},
   "source": [
    "#### Extract Age"
   ]
  },
  {
   "cell_type": "code",
   "execution_count": null,
   "id": "f75ace42",
   "metadata": {},
   "outputs": [],
   "source": [
    "dp.extract_age(dat_tr)"
   ]
  },
  {
   "cell_type": "markdown",
   "id": "e1275a05",
   "metadata": {},
   "source": [
    "#### Bin Jobs"
   ]
  },
  {
   "cell_type": "code",
   "execution_count": null,
   "id": "419b9639",
   "metadata": {},
   "outputs": [],
   "source": [
    "# Fit binning on training data\n",
    "job_bin_map = dp.fit_job_bins(dat_tr)"
   ]
  },
  {
   "cell_type": "code",
   "execution_count": null,
   "id": "75e8b394",
   "metadata": {},
   "outputs": [],
   "source": [
    "# Apply bins to training data\n",
    "dp.bin_jobs(dat_tr, job_bin_map)"
   ]
  },
  {
   "cell_type": "markdown",
   "id": "b276a6f2",
   "metadata": {},
   "source": [
    "#### Extract Distance"
   ]
  },
  {
   "cell_type": "code",
   "execution_count": null,
   "id": "3541721f",
   "metadata": {},
   "outputs": [],
   "source": [
    "dp.extract_distance(dat_tr)"
   ]
  },
  {
   "cell_type": "markdown",
   "id": "88810225",
   "metadata": {},
   "source": [
    "### Fit Models"
   ]
  },
  {
   "cell_type": "markdown",
   "id": "799a240a",
   "metadata": {},
   "source": [
    "#### Random Forest"
   ]
  },
  {
   "cell_type": "code",
   "execution_count": 8,
   "id": "cd687f9e",
   "metadata": {},
   "outputs": [],
   "source": [
    "from sklearn.ensemble import RandomForestClassifier"
   ]
  },
  {
   "cell_type": "code",
   "execution_count": 9,
   "id": "fa465a61",
   "metadata": {},
   "outputs": [],
   "source": [
    "rfc = RandomForestClassifier()"
   ]
  },
  {
   "cell_type": "markdown",
   "id": "416055a0",
   "metadata": {},
   "source": [
    "#### SVM"
   ]
  },
  {
   "cell_type": "markdown",
   "id": "84a2ad3a",
   "metadata": {},
   "source": [
    "scale features, < 100, use kernel, balance classes"
   ]
  },
  {
   "cell_type": "markdown",
   "id": "53446465",
   "metadata": {},
   "source": [
    "#### XGBoost"
   ]
  },
  {
   "cell_type": "markdown",
   "id": "e770812a",
   "metadata": {},
   "source": [
    "#### Logistic Regression"
   ]
  },
  {
   "cell_type": "code",
   "execution_count": null,
   "id": "93cd2009",
   "metadata": {},
   "outputs": [],
   "source": []
  }
 ],
 "metadata": {
  "kernelspec": {
   "display_name": "base",
   "language": "python",
   "name": "python3"
  },
  "language_info": {
   "codemirror_mode": {
    "name": "ipython",
    "version": 3
   },
   "file_extension": ".py",
   "mimetype": "text/x-python",
   "name": "python",
   "nbconvert_exporter": "python",
   "pygments_lexer": "ipython3",
   "version": "3.9.12"
  }
 },
 "nbformat": 4,
 "nbformat_minor": 5
}
