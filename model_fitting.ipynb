{
 "cells": [
  {
   "cell_type": "markdown",
   "id": "e2c0ccb7",
   "metadata": {},
   "source": [
    "Import libraries"
   ]
  },
  {
   "cell_type": "code",
   "execution_count": 2,
   "id": "2ff595d8",
   "metadata": {},
   "outputs": [],
   "source": [
    "import pandas as pd"
   ]
  },
  {
   "cell_type": "code",
   "execution_count": 3,
   "id": "5529262c",
   "metadata": {},
   "outputs": [],
   "source": [
    "import data_prep as dp"
   ]
  },
  {
   "cell_type": "markdown",
   "id": "db2b96ad",
   "metadata": {},
   "source": [
    "Import Data"
   ]
  },
  {
   "cell_type": "code",
   "execution_count": 4,
   "id": "bed3ddf4",
   "metadata": {},
   "outputs": [
    {
     "name": "stdout",
     "output_type": "stream",
     "text": [
      "Path to dataset files: /Users/anabellafalk/.cache/kagglehub/datasets/kartik2112/fraud-detection/versions/1\n"
     ]
    }
   ],
   "source": [
    "dat_val, dat_tr = dp.load_train_split()"
   ]
  },
  {
   "cell_type": "markdown",
   "id": "a197290f",
   "metadata": {},
   "source": [
    "### Prepare Data"
   ]
  },
  {
   "cell_type": "code",
   "execution_count": 5,
   "id": "f01e4049",
   "metadata": {},
   "outputs": [],
   "source": [
    "# Initialize relevant columns\n",
    "model_cols = ['category', 'amt', 'trans_month', 'trans_year']\n",
    "identifier_cols = ['age_at_trans', 'city_pop', 'job_bin']\n",
    "other_cols = ['distance']"
   ]
  },
  {
   "cell_type": "markdown",
   "id": "e7ae15e0",
   "metadata": {},
   "source": [
    "#### Extract Date Info"
   ]
  },
  {
   "cell_type": "code",
   "execution_count": 6,
   "id": "1367101a",
   "metadata": {},
   "outputs": [],
   "source": [
    "# Create month column\n",
    "dp.extract_month(dat_tr)\n",
    "dp.extract_month(dat_val)"
   ]
  },
  {
   "cell_type": "code",
   "execution_count": 7,
   "id": "8a9d227f",
   "metadata": {},
   "outputs": [],
   "source": [
    "# Create year column\n",
    "dp.extract_year(dat_tr)\n",
    "dp.extract_year(dat_val)"
   ]
  },
  {
   "cell_type": "code",
   "execution_count": 8,
   "id": "6f7967f6",
   "metadata": {},
   "outputs": [],
   "source": [
    "# Create month and year column\n",
    "dp.extract_month_year(dat_tr)\n",
    "dp.extract_month_year(dat_val)"
   ]
  },
  {
   "cell_type": "markdown",
   "id": "b39a3581",
   "metadata": {},
   "source": [
    "#### Extract Age"
   ]
  },
  {
   "cell_type": "code",
   "execution_count": 9,
   "id": "f75ace42",
   "metadata": {},
   "outputs": [],
   "source": [
    "# Calculate and create age column\n",
    "dp.extract_age(dat_tr)\n",
    "dp.extract_age(dat_val)"
   ]
  },
  {
   "cell_type": "markdown",
   "id": "e1275a05",
   "metadata": {},
   "source": [
    "#### Bin Jobs"
   ]
  },
  {
   "cell_type": "code",
   "execution_count": 10,
   "id": "419b9639",
   "metadata": {},
   "outputs": [],
   "source": [
    "# Fit binning on training data\n",
    "job_binner = dp.fit_job_bins(dat_tr)"
   ]
  },
  {
   "cell_type": "code",
   "execution_count": 11,
   "id": "75e8b394",
   "metadata": {},
   "outputs": [],
   "source": [
    "# Apply bins to training data\n",
    "dp.bin_jobs(dat_tr, job_binner)\n",
    "dp.bin_jobs(dat_val, job_binner)"
   ]
  },
  {
   "cell_type": "markdown",
   "id": "b276a6f2",
   "metadata": {},
   "source": [
    "#### Extract Distance"
   ]
  },
  {
   "cell_type": "code",
   "execution_count": 12,
   "id": "3541721f",
   "metadata": {},
   "outputs": [],
   "source": [
    "# Calculate and create distance column\n",
    "dp.extract_distance(dat_tr)\n",
    "dp.extract_distance(dat_val)"
   ]
  },
  {
   "cell_type": "markdown",
   "id": "0626bb53",
   "metadata": {},
   "source": [
    "#### Scale Numeric Data"
   ]
  },
  {
   "cell_type": "markdown",
   "id": "f076ea31",
   "metadata": {},
   "source": [
    "##### Scale Age"
   ]
  },
  {
   "cell_type": "code",
   "execution_count": null,
   "id": "84154dcf",
   "metadata": {},
   "outputs": [],
   "source": [
    "age_scaler = dp.fit_col_scaler(dat_tr, 'age_at_trans')\n",
    "dp.scale_col(dat_tr, 'age_at_trans', age_scaler)\n",
    "dp.scale_col(dat_val, 'age_at_trans', age_scaler)"
   ]
  },
  {
   "cell_type": "markdown",
   "id": "0f93e7bb",
   "metadata": {},
   "source": [
    "##### Scale Distance"
   ]
  },
  {
   "cell_type": "code",
   "execution_count": null,
   "id": "42fba868",
   "metadata": {},
   "outputs": [],
   "source": [
    "dist_scaler = dp.fit_col_scaler(dat_tr, 'distance')\n",
    "dp.scale_col(dat_tr, 'distance', dist_scaler)\n",
    "dp.scale_col(dat_val, 'distance', dist_scaler)"
   ]
  },
  {
   "cell_type": "markdown",
   "id": "3829d350",
   "metadata": {},
   "source": [
    "##### Scale City Population"
   ]
  },
  {
   "cell_type": "code",
   "execution_count": null,
   "id": "1e1ad085",
   "metadata": {},
   "outputs": [],
   "source": [
    "city_pop_scaler = dp.fit_col_scaler(dat_tr, 'city_pop')\n",
    "dp.scale_col(dat_tr, 'city_pop', city_pop_scaler)\n",
    "dp.scale_col(dat_val, 'city_pop', city_pop_scaler)"
   ]
  },
  {
   "cell_type": "markdown",
   "id": "d5f86dfc",
   "metadata": {},
   "source": [
    "##### Scale Transaction Amount"
   ]
  },
  {
   "cell_type": "code",
   "execution_count": null,
   "id": "f157cd54",
   "metadata": {},
   "outputs": [],
   "source": [
    "amt_scaler = dp.fit_col_scaler(dat_tr, 'amt')\n",
    "dp.scale_col(dat_tr, 'amt', amt_scaler)\n",
    "dp.scale_col(dat_val, 'amt', amt_scaler)"
   ]
  },
  {
   "cell_type": "markdown",
   "id": "0d1e5049",
   "metadata": {},
   "source": [
    "#### Encode Categorical Data"
   ]
  },
  {
   "cell_type": "markdown",
   "id": "cc0cc9b5",
   "metadata": {},
   "source": [
    "##### Encode Category"
   ]
  },
  {
   "cell_type": "code",
   "execution_count": 13,
   "id": "e9c15e27",
   "metadata": {},
   "outputs": [
    {
     "data": {
      "text/html": [
       "<div>\n",
       "<style scoped>\n",
       "    .dataframe tbody tr th:only-of-type {\n",
       "        vertical-align: middle;\n",
       "    }\n",
       "\n",
       "    .dataframe tbody tr th {\n",
       "        vertical-align: top;\n",
       "    }\n",
       "\n",
       "    .dataframe thead th {\n",
       "        text-align: right;\n",
       "    }\n",
       "</style>\n",
       "<table border=\"1\" class=\"dataframe\">\n",
       "  <thead>\n",
       "    <tr style=\"text-align: right;\">\n",
       "      <th></th>\n",
       "      <th>category.entertainment</th>\n",
       "      <th>category.food_dining</th>\n",
       "      <th>category.gas_transport</th>\n",
       "      <th>category.grocery_net</th>\n",
       "      <th>category.grocery_pos</th>\n",
       "      <th>category.health_fitness</th>\n",
       "      <th>category.home</th>\n",
       "      <th>category.kids_pets</th>\n",
       "      <th>category.misc_net</th>\n",
       "      <th>category.misc_pos</th>\n",
       "      <th>category.personal_care</th>\n",
       "      <th>category.shopping_net</th>\n",
       "      <th>category.shopping_pos</th>\n",
       "      <th>category.travel</th>\n",
       "    </tr>\n",
       "  </thead>\n",
       "  <tbody>\n",
       "    <tr>\n",
       "      <th>0</th>\n",
       "      <td>0.0</td>\n",
       "      <td>0.0</td>\n",
       "      <td>0.0</td>\n",
       "      <td>0.0</td>\n",
       "      <td>1.0</td>\n",
       "      <td>0.0</td>\n",
       "      <td>0.0</td>\n",
       "      <td>0.0</td>\n",
       "      <td>0.0</td>\n",
       "      <td>0.0</td>\n",
       "      <td>0.0</td>\n",
       "      <td>0.0</td>\n",
       "      <td>0.0</td>\n",
       "      <td>0.0</td>\n",
       "    </tr>\n",
       "    <tr>\n",
       "      <th>1</th>\n",
       "      <td>0.0</td>\n",
       "      <td>0.0</td>\n",
       "      <td>0.0</td>\n",
       "      <td>0.0</td>\n",
       "      <td>0.0</td>\n",
       "      <td>0.0</td>\n",
       "      <td>0.0</td>\n",
       "      <td>0.0</td>\n",
       "      <td>0.0</td>\n",
       "      <td>1.0</td>\n",
       "      <td>0.0</td>\n",
       "      <td>0.0</td>\n",
       "      <td>0.0</td>\n",
       "      <td>0.0</td>\n",
       "    </tr>\n",
       "    <tr>\n",
       "      <th>2</th>\n",
       "      <td>0.0</td>\n",
       "      <td>0.0</td>\n",
       "      <td>0.0</td>\n",
       "      <td>0.0</td>\n",
       "      <td>1.0</td>\n",
       "      <td>0.0</td>\n",
       "      <td>0.0</td>\n",
       "      <td>0.0</td>\n",
       "      <td>0.0</td>\n",
       "      <td>0.0</td>\n",
       "      <td>0.0</td>\n",
       "      <td>0.0</td>\n",
       "      <td>0.0</td>\n",
       "      <td>0.0</td>\n",
       "    </tr>\n",
       "    <tr>\n",
       "      <th>3</th>\n",
       "      <td>0.0</td>\n",
       "      <td>0.0</td>\n",
       "      <td>0.0</td>\n",
       "      <td>0.0</td>\n",
       "      <td>0.0</td>\n",
       "      <td>0.0</td>\n",
       "      <td>0.0</td>\n",
       "      <td>0.0</td>\n",
       "      <td>0.0</td>\n",
       "      <td>0.0</td>\n",
       "      <td>0.0</td>\n",
       "      <td>0.0</td>\n",
       "      <td>1.0</td>\n",
       "      <td>0.0</td>\n",
       "    </tr>\n",
       "    <tr>\n",
       "      <th>4</th>\n",
       "      <td>0.0</td>\n",
       "      <td>0.0</td>\n",
       "      <td>0.0</td>\n",
       "      <td>0.0</td>\n",
       "      <td>1.0</td>\n",
       "      <td>0.0</td>\n",
       "      <td>0.0</td>\n",
       "      <td>0.0</td>\n",
       "      <td>0.0</td>\n",
       "      <td>0.0</td>\n",
       "      <td>0.0</td>\n",
       "      <td>0.0</td>\n",
       "      <td>0.0</td>\n",
       "      <td>0.0</td>\n",
       "    </tr>\n",
       "    <tr>\n",
       "      <th>...</th>\n",
       "      <td>...</td>\n",
       "      <td>...</td>\n",
       "      <td>...</td>\n",
       "      <td>...</td>\n",
       "      <td>...</td>\n",
       "      <td>...</td>\n",
       "      <td>...</td>\n",
       "      <td>...</td>\n",
       "      <td>...</td>\n",
       "      <td>...</td>\n",
       "      <td>...</td>\n",
       "      <td>...</td>\n",
       "      <td>...</td>\n",
       "      <td>...</td>\n",
       "    </tr>\n",
       "    <tr>\n",
       "      <th>319617</th>\n",
       "      <td>0.0</td>\n",
       "      <td>1.0</td>\n",
       "      <td>0.0</td>\n",
       "      <td>0.0</td>\n",
       "      <td>0.0</td>\n",
       "      <td>0.0</td>\n",
       "      <td>0.0</td>\n",
       "      <td>0.0</td>\n",
       "      <td>0.0</td>\n",
       "      <td>0.0</td>\n",
       "      <td>0.0</td>\n",
       "      <td>0.0</td>\n",
       "      <td>0.0</td>\n",
       "      <td>0.0</td>\n",
       "    </tr>\n",
       "    <tr>\n",
       "      <th>319618</th>\n",
       "      <td>1.0</td>\n",
       "      <td>0.0</td>\n",
       "      <td>0.0</td>\n",
       "      <td>0.0</td>\n",
       "      <td>0.0</td>\n",
       "      <td>0.0</td>\n",
       "      <td>0.0</td>\n",
       "      <td>0.0</td>\n",
       "      <td>0.0</td>\n",
       "      <td>0.0</td>\n",
       "      <td>0.0</td>\n",
       "      <td>0.0</td>\n",
       "      <td>0.0</td>\n",
       "      <td>0.0</td>\n",
       "    </tr>\n",
       "    <tr>\n",
       "      <th>319619</th>\n",
       "      <td>0.0</td>\n",
       "      <td>0.0</td>\n",
       "      <td>0.0</td>\n",
       "      <td>0.0</td>\n",
       "      <td>0.0</td>\n",
       "      <td>0.0</td>\n",
       "      <td>1.0</td>\n",
       "      <td>0.0</td>\n",
       "      <td>0.0</td>\n",
       "      <td>0.0</td>\n",
       "      <td>0.0</td>\n",
       "      <td>0.0</td>\n",
       "      <td>0.0</td>\n",
       "      <td>0.0</td>\n",
       "    </tr>\n",
       "    <tr>\n",
       "      <th>319620</th>\n",
       "      <td>0.0</td>\n",
       "      <td>0.0</td>\n",
       "      <td>0.0</td>\n",
       "      <td>0.0</td>\n",
       "      <td>0.0</td>\n",
       "      <td>0.0</td>\n",
       "      <td>0.0</td>\n",
       "      <td>0.0</td>\n",
       "      <td>0.0</td>\n",
       "      <td>0.0</td>\n",
       "      <td>0.0</td>\n",
       "      <td>0.0</td>\n",
       "      <td>0.0</td>\n",
       "      <td>1.0</td>\n",
       "    </tr>\n",
       "    <tr>\n",
       "      <th>319621</th>\n",
       "      <td>0.0</td>\n",
       "      <td>1.0</td>\n",
       "      <td>0.0</td>\n",
       "      <td>0.0</td>\n",
       "      <td>0.0</td>\n",
       "      <td>0.0</td>\n",
       "      <td>0.0</td>\n",
       "      <td>0.0</td>\n",
       "      <td>0.0</td>\n",
       "      <td>0.0</td>\n",
       "      <td>0.0</td>\n",
       "      <td>0.0</td>\n",
       "      <td>0.0</td>\n",
       "      <td>0.0</td>\n",
       "    </tr>\n",
       "  </tbody>\n",
       "</table>\n",
       "<p>319622 rows × 14 columns</p>\n",
       "</div>"
      ],
      "text/plain": [
       "        category.entertainment  category.food_dining  category.gas_transport  \\\n",
       "0                          0.0                   0.0                     0.0   \n",
       "1                          0.0                   0.0                     0.0   \n",
       "2                          0.0                   0.0                     0.0   \n",
       "3                          0.0                   0.0                     0.0   \n",
       "4                          0.0                   0.0                     0.0   \n",
       "...                        ...                   ...                     ...   \n",
       "319617                     0.0                   1.0                     0.0   \n",
       "319618                     1.0                   0.0                     0.0   \n",
       "319619                     0.0                   0.0                     0.0   \n",
       "319620                     0.0                   0.0                     0.0   \n",
       "319621                     0.0                   1.0                     0.0   \n",
       "\n",
       "        category.grocery_net  category.grocery_pos  category.health_fitness  \\\n",
       "0                        0.0                   1.0                      0.0   \n",
       "1                        0.0                   0.0                      0.0   \n",
       "2                        0.0                   1.0                      0.0   \n",
       "3                        0.0                   0.0                      0.0   \n",
       "4                        0.0                   1.0                      0.0   \n",
       "...                      ...                   ...                      ...   \n",
       "319617                   0.0                   0.0                      0.0   \n",
       "319618                   0.0                   0.0                      0.0   \n",
       "319619                   0.0                   0.0                      0.0   \n",
       "319620                   0.0                   0.0                      0.0   \n",
       "319621                   0.0                   0.0                      0.0   \n",
       "\n",
       "        category.home  category.kids_pets  category.misc_net  \\\n",
       "0                 0.0                 0.0                0.0   \n",
       "1                 0.0                 0.0                0.0   \n",
       "2                 0.0                 0.0                0.0   \n",
       "3                 0.0                 0.0                0.0   \n",
       "4                 0.0                 0.0                0.0   \n",
       "...               ...                 ...                ...   \n",
       "319617            0.0                 0.0                0.0   \n",
       "319618            0.0                 0.0                0.0   \n",
       "319619            1.0                 0.0                0.0   \n",
       "319620            0.0                 0.0                0.0   \n",
       "319621            0.0                 0.0                0.0   \n",
       "\n",
       "        category.misc_pos  category.personal_care  category.shopping_net  \\\n",
       "0                     0.0                     0.0                    0.0   \n",
       "1                     1.0                     0.0                    0.0   \n",
       "2                     0.0                     0.0                    0.0   \n",
       "3                     0.0                     0.0                    0.0   \n",
       "4                     0.0                     0.0                    0.0   \n",
       "...                   ...                     ...                    ...   \n",
       "319617                0.0                     0.0                    0.0   \n",
       "319618                0.0                     0.0                    0.0   \n",
       "319619                0.0                     0.0                    0.0   \n",
       "319620                0.0                     0.0                    0.0   \n",
       "319621                0.0                     0.0                    0.0   \n",
       "\n",
       "        category.shopping_pos  category.travel  \n",
       "0                         0.0              0.0  \n",
       "1                         0.0              0.0  \n",
       "2                         0.0              0.0  \n",
       "3                         1.0              0.0  \n",
       "4                         0.0              0.0  \n",
       "...                       ...              ...  \n",
       "319617                    0.0              0.0  \n",
       "319618                    0.0              0.0  \n",
       "319619                    0.0              0.0  \n",
       "319620                    0.0              1.0  \n",
       "319621                    0.0              0.0  \n",
       "\n",
       "[319622 rows x 14 columns]"
      ]
     },
     "execution_count": 13,
     "metadata": {},
     "output_type": "execute_result"
    }
   ],
   "source": [
    "category_encoder = dp.fit_col_encoder(dat_tr, 'category')\n",
    "category_enc_tr = dp.encode_col(dat_tr, 'category', category_encoder)\n",
    "category_enc_val = dp.encode_col(dat_val, 'category', category_encoder)\n",
    "category_enc_tr"
   ]
  },
  {
   "cell_type": "markdown",
   "id": "5d378d4e",
   "metadata": {},
   "source": [
    "##### Encode Year"
   ]
  },
  {
   "cell_type": "code",
   "execution_count": 14,
   "id": "595b8cdf",
   "metadata": {},
   "outputs": [
    {
     "data": {
      "text/html": [
       "<div>\n",
       "<style scoped>\n",
       "    .dataframe tbody tr th:only-of-type {\n",
       "        vertical-align: middle;\n",
       "    }\n",
       "\n",
       "    .dataframe tbody tr th {\n",
       "        vertical-align: top;\n",
       "    }\n",
       "\n",
       "    .dataframe thead th {\n",
       "        text-align: right;\n",
       "    }\n",
       "</style>\n",
       "<table border=\"1\" class=\"dataframe\">\n",
       "  <thead>\n",
       "    <tr style=\"text-align: right;\">\n",
       "      <th></th>\n",
       "      <th>trans_year.2019</th>\n",
       "      <th>trans_year.2020</th>\n",
       "    </tr>\n",
       "  </thead>\n",
       "  <tbody>\n",
       "    <tr>\n",
       "      <th>0</th>\n",
       "      <td>1.0</td>\n",
       "      <td>0.0</td>\n",
       "    </tr>\n",
       "    <tr>\n",
       "      <th>1</th>\n",
       "      <td>1.0</td>\n",
       "      <td>0.0</td>\n",
       "    </tr>\n",
       "    <tr>\n",
       "      <th>2</th>\n",
       "      <td>1.0</td>\n",
       "      <td>0.0</td>\n",
       "    </tr>\n",
       "    <tr>\n",
       "      <th>3</th>\n",
       "      <td>1.0</td>\n",
       "      <td>0.0</td>\n",
       "    </tr>\n",
       "    <tr>\n",
       "      <th>4</th>\n",
       "      <td>1.0</td>\n",
       "      <td>0.0</td>\n",
       "    </tr>\n",
       "    <tr>\n",
       "      <th>...</th>\n",
       "      <td>...</td>\n",
       "      <td>...</td>\n",
       "    </tr>\n",
       "    <tr>\n",
       "      <th>319617</th>\n",
       "      <td>0.0</td>\n",
       "      <td>1.0</td>\n",
       "    </tr>\n",
       "    <tr>\n",
       "      <th>319618</th>\n",
       "      <td>0.0</td>\n",
       "      <td>1.0</td>\n",
       "    </tr>\n",
       "    <tr>\n",
       "      <th>319619</th>\n",
       "      <td>0.0</td>\n",
       "      <td>1.0</td>\n",
       "    </tr>\n",
       "    <tr>\n",
       "      <th>319620</th>\n",
       "      <td>0.0</td>\n",
       "      <td>1.0</td>\n",
       "    </tr>\n",
       "    <tr>\n",
       "      <th>319621</th>\n",
       "      <td>0.0</td>\n",
       "      <td>1.0</td>\n",
       "    </tr>\n",
       "  </tbody>\n",
       "</table>\n",
       "<p>319622 rows × 2 columns</p>\n",
       "</div>"
      ],
      "text/plain": [
       "        trans_year.2019  trans_year.2020\n",
       "0                   1.0              0.0\n",
       "1                   1.0              0.0\n",
       "2                   1.0              0.0\n",
       "3                   1.0              0.0\n",
       "4                   1.0              0.0\n",
       "...                 ...              ...\n",
       "319617              0.0              1.0\n",
       "319618              0.0              1.0\n",
       "319619              0.0              1.0\n",
       "319620              0.0              1.0\n",
       "319621              0.0              1.0\n",
       "\n",
       "[319622 rows x 2 columns]"
      ]
     },
     "execution_count": 14,
     "metadata": {},
     "output_type": "execute_result"
    }
   ],
   "source": [
    "year_encoder = dp.fit_col_encoder(dat_tr, 'trans_year')\n",
    "year_enc_tr = dp.encode_col(dat_tr, 'trans_year', year_encoder)\n",
    "year_enc_val = dp.encode_col(dat_val, 'trans_year', year_encoder)\n",
    "year_enc_tr"
   ]
  },
  {
   "cell_type": "markdown",
   "id": "670e911b",
   "metadata": {},
   "source": [
    "##### Encode State"
   ]
  },
  {
   "cell_type": "markdown",
   "id": "bfa7f2d6",
   "metadata": {},
   "source": [
    "Decided not to use state due to imbalance of data and fear of overfitting"
   ]
  },
  {
   "cell_type": "code",
   "execution_count": 15,
   "id": "02df8963",
   "metadata": {},
   "outputs": [],
   "source": [
    "# state_encoder = dp.fit_col_encoder(dat_tr, 'state')\n",
    "# state_enc_tr = dp.encode_col(dat_tr, 'state', state_encoder)\n",
    "# state_enc_val = dp.encode_col(dat_val, 'state', dp.fit_col_encoder(dat_val, 'state'))\n",
    "# state_enc_tr"
   ]
  },
  {
   "cell_type": "markdown",
   "id": "88810225",
   "metadata": {},
   "source": [
    "### Fit Models"
   ]
  },
  {
   "cell_type": "markdown",
   "id": "799a240a",
   "metadata": {},
   "source": [
    "#### Random Forest"
   ]
  },
  {
   "cell_type": "code",
   "execution_count": 16,
   "id": "cd687f9e",
   "metadata": {},
   "outputs": [],
   "source": [
    "from sklearn.ensemble import RandomForestClassifier"
   ]
  },
  {
   "cell_type": "markdown",
   "id": "eb9fef9e",
   "metadata": {},
   "source": [
    "##### Full Model"
   ]
  },
  {
   "cell_type": "code",
   "execution_count": 17,
   "id": "fa465a61",
   "metadata": {},
   "outputs": [],
   "source": [
    "rfc = RandomForestClassifier()"
   ]
  },
  {
   "cell_type": "code",
   "execution_count": 18,
   "id": "cc339cc5",
   "metadata": {},
   "outputs": [],
   "source": [
    "rfc_model_dat = pd.concat([\n",
    "    dat_tr[['is_fraud'] + ['amt'] + identifier_cols + other_cols].reset_index(drop=True),\n",
    "    category_enc_tr.reset_index(drop=True),\n",
    "    year_enc_tr.reset_index(drop=True),\n",
    "], axis=1)"
   ]
  },
  {
   "cell_type": "code",
   "execution_count": 19,
   "id": "fa09700f",
   "metadata": {},
   "outputs": [
    {
     "data": {
      "text/plain": [
       "RandomForestClassifier()"
      ]
     },
     "execution_count": 19,
     "metadata": {},
     "output_type": "execute_result"
    }
   ],
   "source": [
    "rfc.fit(rfc_model_dat.drop('is_fraud', axis=1), rfc_model_dat['is_fraud'])"
   ]
  },
  {
   "cell_type": "code",
   "execution_count": 20,
   "id": "7bf16754",
   "metadata": {},
   "outputs": [
    {
     "data": {
      "text/plain": [
       "1.0"
      ]
     },
     "execution_count": 20,
     "metadata": {},
     "output_type": "execute_result"
    }
   ],
   "source": [
    "rfc.score(rfc_model_dat.drop('is_fraud', axis=1), rfc_model_dat['is_fraud'])"
   ]
  },
  {
   "cell_type": "code",
   "execution_count": 21,
   "id": "25c4110b",
   "metadata": {},
   "outputs": [
    {
     "data": {
      "text/plain": [
       "['age_at_trans', 'city_pop', 'job_bin']"
      ]
     },
     "execution_count": 21,
     "metadata": {},
     "output_type": "execute_result"
    }
   ],
   "source": [
    "identifier_cols"
   ]
  },
  {
   "cell_type": "code",
   "execution_count": 22,
   "id": "3591585e",
   "metadata": {},
   "outputs": [],
   "source": [
    "rfc_val_dat = pd.concat([\n",
    "    dat_val[['is_fraud'] + ['amt'] + identifier_cols + other_cols].reset_index(drop=True),\n",
    "    category_enc_val.reset_index(drop=True),\n",
    "    year_enc_val.reset_index(drop=True),\n",
    "], axis=1)"
   ]
  },
  {
   "cell_type": "code",
   "execution_count": 23,
   "id": "f8a15027",
   "metadata": {},
   "outputs": [
    {
     "data": {
      "text/plain": [
       "0.997122981046064"
      ]
     },
     "execution_count": 23,
     "metadata": {},
     "output_type": "execute_result"
    }
   ],
   "source": [
    "rfc.score(rfc_val_dat.drop('is_fraud', axis=1), rfc_val_dat['is_fraud'])"
   ]
  },
  {
   "cell_type": "code",
   "execution_count": null,
   "id": "fb4bd36f",
   "metadata": {},
   "outputs": [
    {
     "name": "stderr",
     "output_type": "stream",
     "text": [
      "100%|===================| 639220/639244 [68:07<00:00]        "
     ]
    },
    {
     "ename": "IndexError",
     "evalue": "list index out of range",
     "output_type": "error",
     "traceback": [
      "\u001b[0;31m---------------------------------------------------------------------------\u001b[0m",
      "\u001b[0;31mIndexError\u001b[0m                                Traceback (most recent call last)",
      "Input \u001b[0;32mIn [37]\u001b[0m, in \u001b[0;36m<cell line: 4>\u001b[0;34m()\u001b[0m\n\u001b[1;32m      2\u001b[0m explainer \u001b[38;5;241m=\u001b[39m shap\u001b[38;5;241m.\u001b[39mExplainer(rfc, rfc_model_dat)\n\u001b[1;32m      3\u001b[0m shap_values \u001b[38;5;241m=\u001b[39m explainer(rfc_model_dat)\n\u001b[0;32m----> 4\u001b[0m \u001b[43mshap\u001b[49m\u001b[38;5;241;43m.\u001b[39;49m\u001b[43mplots\u001b[49m\u001b[38;5;241;43m.\u001b[39;49m\u001b[43mbar\u001b[49m\u001b[43m(\u001b[49m\u001b[43mshap_values\u001b[49m\u001b[43m)\u001b[49m\n",
      "File \u001b[0;32m/Applications/anaconda3/lib/python3.9/site-packages/shap/plots/_bar.py:216\u001b[0m, in \u001b[0;36mbar\u001b[0;34m(shap_values, max_display, order, clustering, clustering_cutoff, show_data, ax, show)\u001b[0m\n\u001b[1;32m    214\u001b[0m \u001b[38;5;28;01mfor\u001b[39;00m inds \u001b[38;5;129;01min\u001b[39;00m orig_inds:\n\u001b[1;32m    215\u001b[0m     \u001b[38;5;28;01mif\u001b[39;00m \u001b[38;5;28mlen\u001b[39m(inds) \u001b[38;5;241m==\u001b[39m \u001b[38;5;241m1\u001b[39m:\n\u001b[0;32m--> 216\u001b[0m         feature_names_new\u001b[38;5;241m.\u001b[39mappend(\u001b[43mfeature_names\u001b[49m\u001b[43m[\u001b[49m\u001b[43minds\u001b[49m\u001b[43m[\u001b[49m\u001b[38;5;241;43m0\u001b[39;49m\u001b[43m]\u001b[49m\u001b[43m]\u001b[49m)\n\u001b[1;32m    217\u001b[0m     \u001b[38;5;28;01melse\u001b[39;00m:\n\u001b[1;32m    218\u001b[0m         full_print \u001b[38;5;241m=\u001b[39m \u001b[38;5;124m\"\u001b[39m\u001b[38;5;124m + \u001b[39m\u001b[38;5;124m\"\u001b[39m\u001b[38;5;241m.\u001b[39mjoin([feature_names[i] \u001b[38;5;28;01mfor\u001b[39;00m i \u001b[38;5;129;01min\u001b[39;00m inds])\n",
      "\u001b[0;31mIndexError\u001b[0m: list index out of range"
     ]
    }
   ],
   "source": [
    "import shap\n",
    "explainer = shap.Explainer(rfc, rfc_model_dat)\n",
    "shap_values = explainer(rfc_model_dat)\n"
   ]
  },
  {
   "cell_type": "code",
   "execution_count": 38,
   "id": "ae5c409f",
   "metadata": {},
   "outputs": [
    {
     "data": {
      "text/plain": [
       ".values =\n",
       "array([[[ 0.00000000e+00,  0.00000000e+00],\n",
       "        [ 7.70166663e-03, -7.70166643e-03],\n",
       "        [-2.64499994e-03,  2.64499995e-03],\n",
       "        ...,\n",
       "        [ 8.33333470e-05, -8.33333354e-05],\n",
       "        [ 3.33333260e-04, -3.33333306e-04],\n",
       "        [ 0.00000000e+00,  0.00000000e+00]],\n",
       "\n",
       "       [[ 0.00000000e+00,  0.00000000e+00],\n",
       "        [-3.13833326e-03,  3.13833316e-03],\n",
       "        [-3.13666659e-03,  3.13666660e-03],\n",
       "        ...,\n",
       "        [ 1.33333327e-04, -1.33333332e-04],\n",
       "        [ 2.40333326e-03, -2.40333329e-03],\n",
       "        [ 0.00000000e+00,  0.00000000e+00]],\n",
       "\n",
       "       [[ 0.00000000e+00,  0.00000000e+00],\n",
       "        [ 5.71666657e-03, -5.71666651e-03],\n",
       "        [ 6.11833323e-03, -6.11833318e-03],\n",
       "        ...,\n",
       "        [-2.33333185e-05,  2.33333278e-05],\n",
       "        [-2.00000691e-05,  2.00000018e-05],\n",
       "        [ 0.00000000e+00,  0.00000000e+00]],\n",
       "\n",
       "       ...,\n",
       "\n",
       "       [[ 0.00000000e+00,  0.00000000e+00],\n",
       "        [ 1.62049999e-02, -1.62049997e-02],\n",
       "        [-2.74833328e-03,  2.74833329e-03],\n",
       "        ...,\n",
       "        [ 1.50000006e-04, -1.49999999e-04],\n",
       "        [-3.75499993e-03,  3.75499996e-03],\n",
       "        [ 0.00000000e+00,  0.00000000e+00]],\n",
       "\n",
       "       [[ 0.00000000e+00,  0.00000000e+00],\n",
       "        [-1.16799996e-02,  1.16799997e-02],\n",
       "        [-5.32999988e-03,  5.32999992e-03],\n",
       "        ...,\n",
       "        [-7.60499977e-03,  7.60499997e-03],\n",
       "        [-7.25833314e-03,  7.25833324e-03],\n",
       "        [ 0.00000000e+00,  0.00000000e+00]],\n",
       "\n",
       "       [[ 0.00000000e+00,  0.00000000e+00],\n",
       "        [ 3.83899991e-02, -3.83899992e-02],\n",
       "        [ 4.94499989e-03, -4.94499982e-03],\n",
       "        ...,\n",
       "        [ 5.49999978e-04, -5.50000006e-04],\n",
       "        [-8.19166631e-03,  8.19166655e-03],\n",
       "        [ 0.00000000e+00,  0.00000000e+00]]])\n",
       "\n",
       ".base_values =\n",
       "array([[0.922, 0.078],\n",
       "       [0.922, 0.078],\n",
       "       [0.922, 0.078],\n",
       "       ...,\n",
       "       [0.922, 0.078],\n",
       "       [0.922, 0.078],\n",
       "       [0.922, 0.078]])\n",
       "\n",
       ".data =\n",
       "array([[  0.  , 107.23,  40.  , ...,   0.  ,   1.  ,   0.  ],\n",
       "       [  0.  ,  41.96,  32.  , ...,   0.  ,   1.  ,   0.  ],\n",
       "       [  0.  ,  96.29,  73.  , ...,   0.  ,   1.  ,   0.  ],\n",
       "       ...,\n",
       "       [  0.  ,  77.83,  25.  , ...,   0.  ,   0.  ,   1.  ],\n",
       "       [  0.  ,  19.71,  29.  , ...,   1.  ,   0.  ,   1.  ],\n",
       "       [  0.  , 105.93,  52.  , ...,   0.  ,   0.  ,   1.  ]])"
      ]
     },
     "execution_count": 38,
     "metadata": {},
     "output_type": "execute_result"
    }
   ],
   "source": [
    "shap_values"
   ]
  },
  {
   "cell_type": "markdown",
   "id": "83bad1ff",
   "metadata": {},
   "source": [
    "##### No Job"
   ]
  },
  {
   "cell_type": "code",
   "execution_count": 25,
   "id": "d84d0ea6",
   "metadata": {},
   "outputs": [],
   "source": [
    "rfc_no_job = RandomForestClassifier()"
   ]
  },
  {
   "cell_type": "code",
   "execution_count": 26,
   "id": "5a696871",
   "metadata": {},
   "outputs": [
    {
     "data": {
      "text/plain": [
       "['age_at_trans', 'city_pop', 'job_bin']"
      ]
     },
     "execution_count": 26,
     "metadata": {},
     "output_type": "execute_result"
    }
   ],
   "source": [
    "identifier_cols"
   ]
  },
  {
   "cell_type": "code",
   "execution_count": 27,
   "id": "688aba87",
   "metadata": {},
   "outputs": [],
   "source": [
    "rfc_no_job_model_dat = pd.concat([\n",
    "    dat_tr[['is_fraud'] + ['amt'] + identifier_cols[:2] + other_cols].reset_index(drop=True),\n",
    "    category_enc_tr.reset_index(drop=True),\n",
    "    year_enc_tr.reset_index(drop=True),\n",
    "], axis=1)"
   ]
  },
  {
   "cell_type": "code",
   "execution_count": 28,
   "id": "973e8852",
   "metadata": {},
   "outputs": [
    {
     "data": {
      "text/plain": [
       "0.9999968713042281"
      ]
     },
     "execution_count": 28,
     "metadata": {},
     "output_type": "execute_result"
    }
   ],
   "source": [
    "rfc_no_job.fit(rfc_no_job_model_dat.drop('is_fraud', axis=1), rfc_no_job_model_dat['is_fraud'])\n",
    "rfc_no_job.score(rfc_no_job_model_dat.drop('is_fraud', axis=1), rfc_no_job_model_dat['is_fraud'])"
   ]
  },
  {
   "cell_type": "code",
   "execution_count": null,
   "id": "0b4fe497",
   "metadata": {},
   "outputs": [],
   "source": [
    "rfc_no_job_val_dat = pd.concat([\n",
    "    dat_val[['is_fraud'] + ['amt'] + identifier_cols[:2] + other_cols].reset_index(drop=True),\n",
    "    category_enc_val.reset_index(drop=True),\n",
    "    year_enc_val.reset_index(drop=True),\n",
    "], axis=1)"
   ]
  },
  {
   "cell_type": "code",
   "execution_count": null,
   "id": "f9707e7f",
   "metadata": {},
   "outputs": [],
   "source": [
    "rfc_no_job.score(rfc_no_job_val_dat.drop('is_fraud', axis=1), rfc_no_job_val_dat['is_fraud'])"
   ]
  },
  {
   "cell_type": "markdown",
   "id": "416055a0",
   "metadata": {},
   "source": [
    "#### SVM"
   ]
  },
  {
   "cell_type": "markdown",
   "id": "84a2ad3a",
   "metadata": {},
   "source": [
    "scale features, < 100, use kernel, balance classes"
   ]
  },
  {
   "cell_type": "markdown",
   "id": "53446465",
   "metadata": {},
   "source": [
    "#### XGBoost"
   ]
  },
  {
   "cell_type": "markdown",
   "id": "e770812a",
   "metadata": {},
   "source": [
    "#### Logistic Regression"
   ]
  },
  {
   "cell_type": "code",
   "execution_count": null,
   "id": "93cd2009",
   "metadata": {},
   "outputs": [],
   "source": []
  }
 ],
 "metadata": {
  "kernelspec": {
   "display_name": "base",
   "language": "python",
   "name": "python3"
  },
  "language_info": {
   "codemirror_mode": {
    "name": "ipython",
    "version": 3
   },
   "file_extension": ".py",
   "mimetype": "text/x-python",
   "name": "python",
   "nbconvert_exporter": "python",
   "pygments_lexer": "ipython3",
   "version": "3.9.12"
  }
 },
 "nbformat": 4,
 "nbformat_minor": 5
}
