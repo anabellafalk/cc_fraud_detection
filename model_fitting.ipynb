{
 "cells": [
  {
   "cell_type": "markdown",
   "id": "e2c0ccb7",
   "metadata": {},
   "source": [
    "Import libraries"
   ]
  },
  {
   "cell_type": "code",
   "execution_count": 1,
   "id": "2ff595d8",
   "metadata": {},
   "outputs": [],
   "source": [
    "import pandas as pd\n",
    "from sklearn.metrics import roc_auc_score"
   ]
  },
  {
   "cell_type": "code",
   "execution_count": 2,
   "id": "5529262c",
   "metadata": {},
   "outputs": [],
   "source": [
    "import data_prep as dp"
   ]
  },
  {
   "cell_type": "markdown",
   "id": "db2b96ad",
   "metadata": {},
   "source": [
    "Import Data"
   ]
  },
  {
   "cell_type": "code",
   "execution_count": 3,
   "id": "bed3ddf4",
   "metadata": {},
   "outputs": [
    {
     "name": "stdout",
     "output_type": "stream",
     "text": [
      "Path to dataset files: /Users/anabellafalk/.cache/kagglehub/datasets/kartik2112/fraud-detection/versions/1\n"
     ]
    }
   ],
   "source": [
    "dat_val, dat_tr = dp.load_train_split()"
   ]
  },
  {
   "cell_type": "markdown",
   "id": "a197290f",
   "metadata": {},
   "source": [
    "### Prepare Data"
   ]
  },
  {
   "cell_type": "code",
   "execution_count": 4,
   "id": "f01e4049",
   "metadata": {},
   "outputs": [],
   "source": [
    "# Initialize relevant columns\n",
    "model_cols = ['category', 'amt', 'trans_month', 'trans_year']\n",
    "identifier_cols = ['age_at_trans', 'city_pop', 'job_bin']\n",
    "other_cols = ['distance']"
   ]
  },
  {
   "cell_type": "markdown",
   "id": "e7ae15e0",
   "metadata": {},
   "source": [
    "#### Extract Date Info"
   ]
  },
  {
   "cell_type": "code",
   "execution_count": 5,
   "id": "1367101a",
   "metadata": {},
   "outputs": [],
   "source": [
    "# Create month column\n",
    "dp.extract_month(dat_tr)\n",
    "dp.extract_month(dat_val)"
   ]
  },
  {
   "cell_type": "code",
   "execution_count": 6,
   "id": "8a9d227f",
   "metadata": {},
   "outputs": [],
   "source": [
    "# Create year column\n",
    "dp.extract_year(dat_tr)\n",
    "dp.extract_year(dat_val)"
   ]
  },
  {
   "cell_type": "code",
   "execution_count": 7,
   "id": "6f7967f6",
   "metadata": {},
   "outputs": [],
   "source": [
    "# Create month and year column\n",
    "dp.extract_month_year(dat_tr)\n",
    "dp.extract_month_year(dat_val)"
   ]
  },
  {
   "cell_type": "markdown",
   "id": "b39a3581",
   "metadata": {},
   "source": [
    "#### Extract Age"
   ]
  },
  {
   "cell_type": "code",
   "execution_count": 8,
   "id": "f75ace42",
   "metadata": {},
   "outputs": [],
   "source": [
    "# Calculate and create age column\n",
    "dp.extract_age(dat_tr)\n",
    "dp.extract_age(dat_val)"
   ]
  },
  {
   "cell_type": "markdown",
   "id": "e1275a05",
   "metadata": {},
   "source": [
    "#### Bin Jobs"
   ]
  },
  {
   "cell_type": "code",
   "execution_count": 9,
   "id": "419b9639",
   "metadata": {},
   "outputs": [],
   "source": [
    "# Fit binning on training data\n",
    "job_binner = dp.fit_job_bins(dat_tr)"
   ]
  },
  {
   "cell_type": "code",
   "execution_count": 10,
   "id": "75e8b394",
   "metadata": {},
   "outputs": [],
   "source": [
    "# Apply bins to training data\n",
    "dp.bin_jobs(dat_tr, job_binner)\n",
    "dp.bin_jobs(dat_val, job_binner)"
   ]
  },
  {
   "cell_type": "markdown",
   "id": "b276a6f2",
   "metadata": {},
   "source": [
    "#### Extract Distance"
   ]
  },
  {
   "cell_type": "code",
   "execution_count": 11,
   "id": "3541721f",
   "metadata": {},
   "outputs": [],
   "source": [
    "# Calculate and create distance column\n",
    "dp.extract_distance(dat_tr)\n",
    "dp.extract_distance(dat_val)"
   ]
  },
  {
   "cell_type": "markdown",
   "id": "0626bb53",
   "metadata": {},
   "source": [
    "#### Scale Numeric Data"
   ]
  },
  {
   "cell_type": "markdown",
   "id": "f076ea31",
   "metadata": {},
   "source": [
    "##### Scale Age"
   ]
  },
  {
   "cell_type": "code",
   "execution_count": 12,
   "id": "84154dcf",
   "metadata": {},
   "outputs": [],
   "source": [
    "age_scaler = dp.fit_col_scaler(dat_tr, 'age_at_trans')\n",
    "dp.scale_col(dat_tr, 'age_at_trans', age_scaler)\n",
    "dp.scale_col(dat_val, 'age_at_trans', age_scaler)"
   ]
  },
  {
   "cell_type": "markdown",
   "id": "0f93e7bb",
   "metadata": {},
   "source": [
    "##### Scale Distance"
   ]
  },
  {
   "cell_type": "code",
   "execution_count": 13,
   "id": "42fba868",
   "metadata": {},
   "outputs": [],
   "source": [
    "dist_scaler = dp.fit_col_scaler(dat_tr, 'distance')\n",
    "dp.scale_col(dat_tr, 'distance', dist_scaler)\n",
    "dp.scale_col(dat_val, 'distance', dist_scaler)"
   ]
  },
  {
   "cell_type": "markdown",
   "id": "3829d350",
   "metadata": {},
   "source": [
    "##### Scale City Population"
   ]
  },
  {
   "cell_type": "code",
   "execution_count": 14,
   "id": "1e1ad085",
   "metadata": {},
   "outputs": [],
   "source": [
    "city_pop_scaler = dp.fit_col_scaler(dat_tr, 'city_pop')\n",
    "dp.scale_col(dat_tr, 'city_pop', city_pop_scaler)\n",
    "dp.scale_col(dat_val, 'city_pop', city_pop_scaler)"
   ]
  },
  {
   "cell_type": "markdown",
   "id": "d5f86dfc",
   "metadata": {},
   "source": [
    "##### Scale Transaction Amount"
   ]
  },
  {
   "cell_type": "code",
   "execution_count": 15,
   "id": "f157cd54",
   "metadata": {},
   "outputs": [],
   "source": [
    "amt_scaler = dp.fit_col_scaler(dat_tr, 'amt')\n",
    "dp.scale_col(dat_tr, 'amt', amt_scaler)\n",
    "dp.scale_col(dat_val, 'amt', amt_scaler)"
   ]
  },
  {
   "cell_type": "code",
   "execution_count": 16,
   "id": "9c2a21ec",
   "metadata": {},
   "outputs": [],
   "source": [
    "scale_cols = ['age_at_trans_scale', 'distance_scale', 'city_pop_scale', 'amt_scale']"
   ]
  },
  {
   "cell_type": "markdown",
   "id": "0d1e5049",
   "metadata": {},
   "source": [
    "#### Encode Categorical Data"
   ]
  },
  {
   "cell_type": "markdown",
   "id": "cc0cc9b5",
   "metadata": {},
   "source": [
    "##### Encode Category"
   ]
  },
  {
   "cell_type": "code",
   "execution_count": 17,
   "id": "e9c15e27",
   "metadata": {},
   "outputs": [
    {
     "data": {
      "text/html": [
       "<div>\n",
       "<style scoped>\n",
       "    .dataframe tbody tr th:only-of-type {\n",
       "        vertical-align: middle;\n",
       "    }\n",
       "\n",
       "    .dataframe tbody tr th {\n",
       "        vertical-align: top;\n",
       "    }\n",
       "\n",
       "    .dataframe thead th {\n",
       "        text-align: right;\n",
       "    }\n",
       "</style>\n",
       "<table border=\"1\" class=\"dataframe\">\n",
       "  <thead>\n",
       "    <tr style=\"text-align: right;\">\n",
       "      <th></th>\n",
       "      <th>category.entertainment</th>\n",
       "      <th>category.food_dining</th>\n",
       "      <th>category.gas_transport</th>\n",
       "      <th>category.grocery_net</th>\n",
       "      <th>category.grocery_pos</th>\n",
       "      <th>category.health_fitness</th>\n",
       "      <th>category.home</th>\n",
       "      <th>category.kids_pets</th>\n",
       "      <th>category.misc_net</th>\n",
       "      <th>category.misc_pos</th>\n",
       "      <th>category.personal_care</th>\n",
       "      <th>category.shopping_net</th>\n",
       "      <th>category.shopping_pos</th>\n",
       "      <th>category.travel</th>\n",
       "    </tr>\n",
       "  </thead>\n",
       "  <tbody>\n",
       "    <tr>\n",
       "      <th>0</th>\n",
       "      <td>0.0</td>\n",
       "      <td>0.0</td>\n",
       "      <td>0.0</td>\n",
       "      <td>0.0</td>\n",
       "      <td>1.0</td>\n",
       "      <td>0.0</td>\n",
       "      <td>0.0</td>\n",
       "      <td>0.0</td>\n",
       "      <td>0.0</td>\n",
       "      <td>0.0</td>\n",
       "      <td>0.0</td>\n",
       "      <td>0.0</td>\n",
       "      <td>0.0</td>\n",
       "      <td>0.0</td>\n",
       "    </tr>\n",
       "    <tr>\n",
       "      <th>1</th>\n",
       "      <td>0.0</td>\n",
       "      <td>0.0</td>\n",
       "      <td>0.0</td>\n",
       "      <td>0.0</td>\n",
       "      <td>0.0</td>\n",
       "      <td>0.0</td>\n",
       "      <td>0.0</td>\n",
       "      <td>0.0</td>\n",
       "      <td>0.0</td>\n",
       "      <td>1.0</td>\n",
       "      <td>0.0</td>\n",
       "      <td>0.0</td>\n",
       "      <td>0.0</td>\n",
       "      <td>0.0</td>\n",
       "    </tr>\n",
       "    <tr>\n",
       "      <th>2</th>\n",
       "      <td>0.0</td>\n",
       "      <td>0.0</td>\n",
       "      <td>0.0</td>\n",
       "      <td>0.0</td>\n",
       "      <td>1.0</td>\n",
       "      <td>0.0</td>\n",
       "      <td>0.0</td>\n",
       "      <td>0.0</td>\n",
       "      <td>0.0</td>\n",
       "      <td>0.0</td>\n",
       "      <td>0.0</td>\n",
       "      <td>0.0</td>\n",
       "      <td>0.0</td>\n",
       "      <td>0.0</td>\n",
       "    </tr>\n",
       "    <tr>\n",
       "      <th>3</th>\n",
       "      <td>0.0</td>\n",
       "      <td>0.0</td>\n",
       "      <td>0.0</td>\n",
       "      <td>0.0</td>\n",
       "      <td>0.0</td>\n",
       "      <td>0.0</td>\n",
       "      <td>0.0</td>\n",
       "      <td>0.0</td>\n",
       "      <td>0.0</td>\n",
       "      <td>0.0</td>\n",
       "      <td>0.0</td>\n",
       "      <td>0.0</td>\n",
       "      <td>1.0</td>\n",
       "      <td>0.0</td>\n",
       "    </tr>\n",
       "    <tr>\n",
       "      <th>4</th>\n",
       "      <td>0.0</td>\n",
       "      <td>0.0</td>\n",
       "      <td>0.0</td>\n",
       "      <td>0.0</td>\n",
       "      <td>1.0</td>\n",
       "      <td>0.0</td>\n",
       "      <td>0.0</td>\n",
       "      <td>0.0</td>\n",
       "      <td>0.0</td>\n",
       "      <td>0.0</td>\n",
       "      <td>0.0</td>\n",
       "      <td>0.0</td>\n",
       "      <td>0.0</td>\n",
       "      <td>0.0</td>\n",
       "    </tr>\n",
       "    <tr>\n",
       "      <th>...</th>\n",
       "      <td>...</td>\n",
       "      <td>...</td>\n",
       "      <td>...</td>\n",
       "      <td>...</td>\n",
       "      <td>...</td>\n",
       "      <td>...</td>\n",
       "      <td>...</td>\n",
       "      <td>...</td>\n",
       "      <td>...</td>\n",
       "      <td>...</td>\n",
       "      <td>...</td>\n",
       "      <td>...</td>\n",
       "      <td>...</td>\n",
       "      <td>...</td>\n",
       "    </tr>\n",
       "    <tr>\n",
       "      <th>319617</th>\n",
       "      <td>0.0</td>\n",
       "      <td>1.0</td>\n",
       "      <td>0.0</td>\n",
       "      <td>0.0</td>\n",
       "      <td>0.0</td>\n",
       "      <td>0.0</td>\n",
       "      <td>0.0</td>\n",
       "      <td>0.0</td>\n",
       "      <td>0.0</td>\n",
       "      <td>0.0</td>\n",
       "      <td>0.0</td>\n",
       "      <td>0.0</td>\n",
       "      <td>0.0</td>\n",
       "      <td>0.0</td>\n",
       "    </tr>\n",
       "    <tr>\n",
       "      <th>319618</th>\n",
       "      <td>1.0</td>\n",
       "      <td>0.0</td>\n",
       "      <td>0.0</td>\n",
       "      <td>0.0</td>\n",
       "      <td>0.0</td>\n",
       "      <td>0.0</td>\n",
       "      <td>0.0</td>\n",
       "      <td>0.0</td>\n",
       "      <td>0.0</td>\n",
       "      <td>0.0</td>\n",
       "      <td>0.0</td>\n",
       "      <td>0.0</td>\n",
       "      <td>0.0</td>\n",
       "      <td>0.0</td>\n",
       "    </tr>\n",
       "    <tr>\n",
       "      <th>319619</th>\n",
       "      <td>0.0</td>\n",
       "      <td>0.0</td>\n",
       "      <td>0.0</td>\n",
       "      <td>0.0</td>\n",
       "      <td>0.0</td>\n",
       "      <td>0.0</td>\n",
       "      <td>1.0</td>\n",
       "      <td>0.0</td>\n",
       "      <td>0.0</td>\n",
       "      <td>0.0</td>\n",
       "      <td>0.0</td>\n",
       "      <td>0.0</td>\n",
       "      <td>0.0</td>\n",
       "      <td>0.0</td>\n",
       "    </tr>\n",
       "    <tr>\n",
       "      <th>319620</th>\n",
       "      <td>0.0</td>\n",
       "      <td>0.0</td>\n",
       "      <td>0.0</td>\n",
       "      <td>0.0</td>\n",
       "      <td>0.0</td>\n",
       "      <td>0.0</td>\n",
       "      <td>0.0</td>\n",
       "      <td>0.0</td>\n",
       "      <td>0.0</td>\n",
       "      <td>0.0</td>\n",
       "      <td>0.0</td>\n",
       "      <td>0.0</td>\n",
       "      <td>0.0</td>\n",
       "      <td>1.0</td>\n",
       "    </tr>\n",
       "    <tr>\n",
       "      <th>319621</th>\n",
       "      <td>0.0</td>\n",
       "      <td>1.0</td>\n",
       "      <td>0.0</td>\n",
       "      <td>0.0</td>\n",
       "      <td>0.0</td>\n",
       "      <td>0.0</td>\n",
       "      <td>0.0</td>\n",
       "      <td>0.0</td>\n",
       "      <td>0.0</td>\n",
       "      <td>0.0</td>\n",
       "      <td>0.0</td>\n",
       "      <td>0.0</td>\n",
       "      <td>0.0</td>\n",
       "      <td>0.0</td>\n",
       "    </tr>\n",
       "  </tbody>\n",
       "</table>\n",
       "<p>319622 rows × 14 columns</p>\n",
       "</div>"
      ],
      "text/plain": [
       "        category.entertainment  category.food_dining  category.gas_transport  \\\n",
       "0                          0.0                   0.0                     0.0   \n",
       "1                          0.0                   0.0                     0.0   \n",
       "2                          0.0                   0.0                     0.0   \n",
       "3                          0.0                   0.0                     0.0   \n",
       "4                          0.0                   0.0                     0.0   \n",
       "...                        ...                   ...                     ...   \n",
       "319617                     0.0                   1.0                     0.0   \n",
       "319618                     1.0                   0.0                     0.0   \n",
       "319619                     0.0                   0.0                     0.0   \n",
       "319620                     0.0                   0.0                     0.0   \n",
       "319621                     0.0                   1.0                     0.0   \n",
       "\n",
       "        category.grocery_net  category.grocery_pos  category.health_fitness  \\\n",
       "0                        0.0                   1.0                      0.0   \n",
       "1                        0.0                   0.0                      0.0   \n",
       "2                        0.0                   1.0                      0.0   \n",
       "3                        0.0                   0.0                      0.0   \n",
       "4                        0.0                   1.0                      0.0   \n",
       "...                      ...                   ...                      ...   \n",
       "319617                   0.0                   0.0                      0.0   \n",
       "319618                   0.0                   0.0                      0.0   \n",
       "319619                   0.0                   0.0                      0.0   \n",
       "319620                   0.0                   0.0                      0.0   \n",
       "319621                   0.0                   0.0                      0.0   \n",
       "\n",
       "        category.home  category.kids_pets  category.misc_net  \\\n",
       "0                 0.0                 0.0                0.0   \n",
       "1                 0.0                 0.0                0.0   \n",
       "2                 0.0                 0.0                0.0   \n",
       "3                 0.0                 0.0                0.0   \n",
       "4                 0.0                 0.0                0.0   \n",
       "...               ...                 ...                ...   \n",
       "319617            0.0                 0.0                0.0   \n",
       "319618            0.0                 0.0                0.0   \n",
       "319619            1.0                 0.0                0.0   \n",
       "319620            0.0                 0.0                0.0   \n",
       "319621            0.0                 0.0                0.0   \n",
       "\n",
       "        category.misc_pos  category.personal_care  category.shopping_net  \\\n",
       "0                     0.0                     0.0                    0.0   \n",
       "1                     1.0                     0.0                    0.0   \n",
       "2                     0.0                     0.0                    0.0   \n",
       "3                     0.0                     0.0                    0.0   \n",
       "4                     0.0                     0.0                    0.0   \n",
       "...                   ...                     ...                    ...   \n",
       "319617                0.0                     0.0                    0.0   \n",
       "319618                0.0                     0.0                    0.0   \n",
       "319619                0.0                     0.0                    0.0   \n",
       "319620                0.0                     0.0                    0.0   \n",
       "319621                0.0                     0.0                    0.0   \n",
       "\n",
       "        category.shopping_pos  category.travel  \n",
       "0                         0.0              0.0  \n",
       "1                         0.0              0.0  \n",
       "2                         0.0              0.0  \n",
       "3                         1.0              0.0  \n",
       "4                         0.0              0.0  \n",
       "...                       ...              ...  \n",
       "319617                    0.0              0.0  \n",
       "319618                    0.0              0.0  \n",
       "319619                    0.0              0.0  \n",
       "319620                    0.0              1.0  \n",
       "319621                    0.0              0.0  \n",
       "\n",
       "[319622 rows x 14 columns]"
      ]
     },
     "execution_count": 17,
     "metadata": {},
     "output_type": "execute_result"
    }
   ],
   "source": [
    "category_encoder = dp.fit_col_encoder(dat_tr, 'category')\n",
    "category_enc_tr = dp.encode_col(dat_tr, 'category', category_encoder)\n",
    "category_enc_val = dp.encode_col(dat_val, 'category', category_encoder)\n",
    "category_enc_tr"
   ]
  },
  {
   "cell_type": "markdown",
   "id": "5d378d4e",
   "metadata": {},
   "source": [
    "##### Encode Year"
   ]
  },
  {
   "cell_type": "code",
   "execution_count": 18,
   "id": "595b8cdf",
   "metadata": {},
   "outputs": [
    {
     "data": {
      "text/html": [
       "<div>\n",
       "<style scoped>\n",
       "    .dataframe tbody tr th:only-of-type {\n",
       "        vertical-align: middle;\n",
       "    }\n",
       "\n",
       "    .dataframe tbody tr th {\n",
       "        vertical-align: top;\n",
       "    }\n",
       "\n",
       "    .dataframe thead th {\n",
       "        text-align: right;\n",
       "    }\n",
       "</style>\n",
       "<table border=\"1\" class=\"dataframe\">\n",
       "  <thead>\n",
       "    <tr style=\"text-align: right;\">\n",
       "      <th></th>\n",
       "      <th>trans_year.2019</th>\n",
       "      <th>trans_year.2020</th>\n",
       "    </tr>\n",
       "  </thead>\n",
       "  <tbody>\n",
       "    <tr>\n",
       "      <th>0</th>\n",
       "      <td>1.0</td>\n",
       "      <td>0.0</td>\n",
       "    </tr>\n",
       "    <tr>\n",
       "      <th>1</th>\n",
       "      <td>1.0</td>\n",
       "      <td>0.0</td>\n",
       "    </tr>\n",
       "    <tr>\n",
       "      <th>2</th>\n",
       "      <td>1.0</td>\n",
       "      <td>0.0</td>\n",
       "    </tr>\n",
       "    <tr>\n",
       "      <th>3</th>\n",
       "      <td>1.0</td>\n",
       "      <td>0.0</td>\n",
       "    </tr>\n",
       "    <tr>\n",
       "      <th>4</th>\n",
       "      <td>1.0</td>\n",
       "      <td>0.0</td>\n",
       "    </tr>\n",
       "    <tr>\n",
       "      <th>...</th>\n",
       "      <td>...</td>\n",
       "      <td>...</td>\n",
       "    </tr>\n",
       "    <tr>\n",
       "      <th>319617</th>\n",
       "      <td>0.0</td>\n",
       "      <td>1.0</td>\n",
       "    </tr>\n",
       "    <tr>\n",
       "      <th>319618</th>\n",
       "      <td>0.0</td>\n",
       "      <td>1.0</td>\n",
       "    </tr>\n",
       "    <tr>\n",
       "      <th>319619</th>\n",
       "      <td>0.0</td>\n",
       "      <td>1.0</td>\n",
       "    </tr>\n",
       "    <tr>\n",
       "      <th>319620</th>\n",
       "      <td>0.0</td>\n",
       "      <td>1.0</td>\n",
       "    </tr>\n",
       "    <tr>\n",
       "      <th>319621</th>\n",
       "      <td>0.0</td>\n",
       "      <td>1.0</td>\n",
       "    </tr>\n",
       "  </tbody>\n",
       "</table>\n",
       "<p>319622 rows × 2 columns</p>\n",
       "</div>"
      ],
      "text/plain": [
       "        trans_year.2019  trans_year.2020\n",
       "0                   1.0              0.0\n",
       "1                   1.0              0.0\n",
       "2                   1.0              0.0\n",
       "3                   1.0              0.0\n",
       "4                   1.0              0.0\n",
       "...                 ...              ...\n",
       "319617              0.0              1.0\n",
       "319618              0.0              1.0\n",
       "319619              0.0              1.0\n",
       "319620              0.0              1.0\n",
       "319621              0.0              1.0\n",
       "\n",
       "[319622 rows x 2 columns]"
      ]
     },
     "execution_count": 18,
     "metadata": {},
     "output_type": "execute_result"
    }
   ],
   "source": [
    "year_encoder = dp.fit_col_encoder(dat_tr, 'trans_year')\n",
    "year_enc_tr = dp.encode_col(dat_tr, 'trans_year', year_encoder)\n",
    "year_enc_val = dp.encode_col(dat_val, 'trans_year', year_encoder)\n",
    "year_enc_tr"
   ]
  },
  {
   "cell_type": "markdown",
   "id": "75f4bf79",
   "metadata": {},
   "source": [
    "##### Encode Month"
   ]
  },
  {
   "cell_type": "code",
   "execution_count": 19,
   "id": "b92c9fd0",
   "metadata": {},
   "outputs": [
    {
     "data": {
      "text/plain": [
       "1          1\n",
       "4          1\n",
       "13         1\n",
       "14         1\n",
       "20         1\n",
       "          ..\n",
       "1296647    6\n",
       "1296652    6\n",
       "1296661    6\n",
       "1296667    6\n",
       "1296672    6\n",
       "Name: trans_month, Length: 319622, dtype: object"
      ]
     },
     "execution_count": 19,
     "metadata": {},
     "output_type": "execute_result"
    }
   ],
   "source": [
    "dat_tr['trans_month'] = dat_tr['trans_month'].astype(str)\n",
    "dat_val['trans_month'] = dat_val['trans_month'].astype(str)\n",
    "dat_tr['trans_month']"
   ]
  },
  {
   "cell_type": "code",
   "execution_count": 20,
   "id": "0d76dfb5",
   "metadata": {},
   "outputs": [
    {
     "data": {
      "text/html": [
       "<div>\n",
       "<style scoped>\n",
       "    .dataframe tbody tr th:only-of-type {\n",
       "        vertical-align: middle;\n",
       "    }\n",
       "\n",
       "    .dataframe tbody tr th {\n",
       "        vertical-align: top;\n",
       "    }\n",
       "\n",
       "    .dataframe thead th {\n",
       "        text-align: right;\n",
       "    }\n",
       "</style>\n",
       "<table border=\"1\" class=\"dataframe\">\n",
       "  <thead>\n",
       "    <tr style=\"text-align: right;\">\n",
       "      <th></th>\n",
       "      <th>trans_month.1</th>\n",
       "      <th>trans_month.10</th>\n",
       "      <th>trans_month.11</th>\n",
       "      <th>trans_month.12</th>\n",
       "      <th>trans_month.2</th>\n",
       "      <th>trans_month.3</th>\n",
       "      <th>trans_month.4</th>\n",
       "      <th>trans_month.5</th>\n",
       "      <th>trans_month.6</th>\n",
       "      <th>trans_month.7</th>\n",
       "      <th>trans_month.8</th>\n",
       "      <th>trans_month.9</th>\n",
       "    </tr>\n",
       "  </thead>\n",
       "  <tbody>\n",
       "    <tr>\n",
       "      <th>0</th>\n",
       "      <td>1.0</td>\n",
       "      <td>0.0</td>\n",
       "      <td>0.0</td>\n",
       "      <td>0.0</td>\n",
       "      <td>0.0</td>\n",
       "      <td>0.0</td>\n",
       "      <td>0.0</td>\n",
       "      <td>0.0</td>\n",
       "      <td>0.0</td>\n",
       "      <td>0.0</td>\n",
       "      <td>0.0</td>\n",
       "      <td>0.0</td>\n",
       "    </tr>\n",
       "    <tr>\n",
       "      <th>1</th>\n",
       "      <td>1.0</td>\n",
       "      <td>0.0</td>\n",
       "      <td>0.0</td>\n",
       "      <td>0.0</td>\n",
       "      <td>0.0</td>\n",
       "      <td>0.0</td>\n",
       "      <td>0.0</td>\n",
       "      <td>0.0</td>\n",
       "      <td>0.0</td>\n",
       "      <td>0.0</td>\n",
       "      <td>0.0</td>\n",
       "      <td>0.0</td>\n",
       "    </tr>\n",
       "    <tr>\n",
       "      <th>2</th>\n",
       "      <td>1.0</td>\n",
       "      <td>0.0</td>\n",
       "      <td>0.0</td>\n",
       "      <td>0.0</td>\n",
       "      <td>0.0</td>\n",
       "      <td>0.0</td>\n",
       "      <td>0.0</td>\n",
       "      <td>0.0</td>\n",
       "      <td>0.0</td>\n",
       "      <td>0.0</td>\n",
       "      <td>0.0</td>\n",
       "      <td>0.0</td>\n",
       "    </tr>\n",
       "    <tr>\n",
       "      <th>3</th>\n",
       "      <td>1.0</td>\n",
       "      <td>0.0</td>\n",
       "      <td>0.0</td>\n",
       "      <td>0.0</td>\n",
       "      <td>0.0</td>\n",
       "      <td>0.0</td>\n",
       "      <td>0.0</td>\n",
       "      <td>0.0</td>\n",
       "      <td>0.0</td>\n",
       "      <td>0.0</td>\n",
       "      <td>0.0</td>\n",
       "      <td>0.0</td>\n",
       "    </tr>\n",
       "    <tr>\n",
       "      <th>4</th>\n",
       "      <td>1.0</td>\n",
       "      <td>0.0</td>\n",
       "      <td>0.0</td>\n",
       "      <td>0.0</td>\n",
       "      <td>0.0</td>\n",
       "      <td>0.0</td>\n",
       "      <td>0.0</td>\n",
       "      <td>0.0</td>\n",
       "      <td>0.0</td>\n",
       "      <td>0.0</td>\n",
       "      <td>0.0</td>\n",
       "      <td>0.0</td>\n",
       "    </tr>\n",
       "    <tr>\n",
       "      <th>...</th>\n",
       "      <td>...</td>\n",
       "      <td>...</td>\n",
       "      <td>...</td>\n",
       "      <td>...</td>\n",
       "      <td>...</td>\n",
       "      <td>...</td>\n",
       "      <td>...</td>\n",
       "      <td>...</td>\n",
       "      <td>...</td>\n",
       "      <td>...</td>\n",
       "      <td>...</td>\n",
       "      <td>...</td>\n",
       "    </tr>\n",
       "    <tr>\n",
       "      <th>319617</th>\n",
       "      <td>0.0</td>\n",
       "      <td>0.0</td>\n",
       "      <td>0.0</td>\n",
       "      <td>0.0</td>\n",
       "      <td>0.0</td>\n",
       "      <td>0.0</td>\n",
       "      <td>0.0</td>\n",
       "      <td>0.0</td>\n",
       "      <td>1.0</td>\n",
       "      <td>0.0</td>\n",
       "      <td>0.0</td>\n",
       "      <td>0.0</td>\n",
       "    </tr>\n",
       "    <tr>\n",
       "      <th>319618</th>\n",
       "      <td>0.0</td>\n",
       "      <td>0.0</td>\n",
       "      <td>0.0</td>\n",
       "      <td>0.0</td>\n",
       "      <td>0.0</td>\n",
       "      <td>0.0</td>\n",
       "      <td>0.0</td>\n",
       "      <td>0.0</td>\n",
       "      <td>1.0</td>\n",
       "      <td>0.0</td>\n",
       "      <td>0.0</td>\n",
       "      <td>0.0</td>\n",
       "    </tr>\n",
       "    <tr>\n",
       "      <th>319619</th>\n",
       "      <td>0.0</td>\n",
       "      <td>0.0</td>\n",
       "      <td>0.0</td>\n",
       "      <td>0.0</td>\n",
       "      <td>0.0</td>\n",
       "      <td>0.0</td>\n",
       "      <td>0.0</td>\n",
       "      <td>0.0</td>\n",
       "      <td>1.0</td>\n",
       "      <td>0.0</td>\n",
       "      <td>0.0</td>\n",
       "      <td>0.0</td>\n",
       "    </tr>\n",
       "    <tr>\n",
       "      <th>319620</th>\n",
       "      <td>0.0</td>\n",
       "      <td>0.0</td>\n",
       "      <td>0.0</td>\n",
       "      <td>0.0</td>\n",
       "      <td>0.0</td>\n",
       "      <td>0.0</td>\n",
       "      <td>0.0</td>\n",
       "      <td>0.0</td>\n",
       "      <td>1.0</td>\n",
       "      <td>0.0</td>\n",
       "      <td>0.0</td>\n",
       "      <td>0.0</td>\n",
       "    </tr>\n",
       "    <tr>\n",
       "      <th>319621</th>\n",
       "      <td>0.0</td>\n",
       "      <td>0.0</td>\n",
       "      <td>0.0</td>\n",
       "      <td>0.0</td>\n",
       "      <td>0.0</td>\n",
       "      <td>0.0</td>\n",
       "      <td>0.0</td>\n",
       "      <td>0.0</td>\n",
       "      <td>1.0</td>\n",
       "      <td>0.0</td>\n",
       "      <td>0.0</td>\n",
       "      <td>0.0</td>\n",
       "    </tr>\n",
       "  </tbody>\n",
       "</table>\n",
       "<p>319622 rows × 12 columns</p>\n",
       "</div>"
      ],
      "text/plain": [
       "        trans_month.1  trans_month.10  trans_month.11  trans_month.12  \\\n",
       "0                 1.0             0.0             0.0             0.0   \n",
       "1                 1.0             0.0             0.0             0.0   \n",
       "2                 1.0             0.0             0.0             0.0   \n",
       "3                 1.0             0.0             0.0             0.0   \n",
       "4                 1.0             0.0             0.0             0.0   \n",
       "...               ...             ...             ...             ...   \n",
       "319617            0.0             0.0             0.0             0.0   \n",
       "319618            0.0             0.0             0.0             0.0   \n",
       "319619            0.0             0.0             0.0             0.0   \n",
       "319620            0.0             0.0             0.0             0.0   \n",
       "319621            0.0             0.0             0.0             0.0   \n",
       "\n",
       "        trans_month.2  trans_month.3  trans_month.4  trans_month.5  \\\n",
       "0                 0.0            0.0            0.0            0.0   \n",
       "1                 0.0            0.0            0.0            0.0   \n",
       "2                 0.0            0.0            0.0            0.0   \n",
       "3                 0.0            0.0            0.0            0.0   \n",
       "4                 0.0            0.0            0.0            0.0   \n",
       "...               ...            ...            ...            ...   \n",
       "319617            0.0            0.0            0.0            0.0   \n",
       "319618            0.0            0.0            0.0            0.0   \n",
       "319619            0.0            0.0            0.0            0.0   \n",
       "319620            0.0            0.0            0.0            0.0   \n",
       "319621            0.0            0.0            0.0            0.0   \n",
       "\n",
       "        trans_month.6  trans_month.7  trans_month.8  trans_month.9  \n",
       "0                 0.0            0.0            0.0            0.0  \n",
       "1                 0.0            0.0            0.0            0.0  \n",
       "2                 0.0            0.0            0.0            0.0  \n",
       "3                 0.0            0.0            0.0            0.0  \n",
       "4                 0.0            0.0            0.0            0.0  \n",
       "...               ...            ...            ...            ...  \n",
       "319617            1.0            0.0            0.0            0.0  \n",
       "319618            1.0            0.0            0.0            0.0  \n",
       "319619            1.0            0.0            0.0            0.0  \n",
       "319620            1.0            0.0            0.0            0.0  \n",
       "319621            1.0            0.0            0.0            0.0  \n",
       "\n",
       "[319622 rows x 12 columns]"
      ]
     },
     "execution_count": 20,
     "metadata": {},
     "output_type": "execute_result"
    }
   ],
   "source": [
    "month_encoder = dp.fit_col_encoder(dat_tr, 'trans_month')\n",
    "month_enc_tr = dp.encode_col(dat_tr, 'trans_month', month_encoder)\n",
    "month_enc_val = dp.encode_col(dat_val, 'trans_month', month_encoder)\n",
    "month_enc_tr"
   ]
  },
  {
   "cell_type": "markdown",
   "id": "670e911b",
   "metadata": {},
   "source": [
    "##### Encode State"
   ]
  },
  {
   "cell_type": "markdown",
   "id": "bfa7f2d6",
   "metadata": {},
   "source": [
    "Decided not to use state due to imbalance of data and fear of overfitting"
   ]
  },
  {
   "cell_type": "code",
   "execution_count": 21,
   "id": "02df8963",
   "metadata": {},
   "outputs": [],
   "source": [
    "# state_encoder = dp.fit_col_encoder(dat_tr, 'state')\n",
    "# state_enc_tr = dp.encode_col(dat_tr, 'state', state_encoder)\n",
    "# state_enc_val = dp.encode_col(dat_val, 'state', dp.fit_col_encoder(dat_val, 'state'))\n",
    "# state_enc_tr"
   ]
  },
  {
   "cell_type": "markdown",
   "id": "e0e931e7",
   "metadata": {},
   "source": [
    "##### Encode Job Bins"
   ]
  },
  {
   "cell_type": "code",
   "execution_count": 22,
   "id": "75adb2e2",
   "metadata": {},
   "outputs": [
    {
     "data": {
      "text/plain": [
       "1          1\n",
       "4          1\n",
       "13         1\n",
       "14         1\n",
       "20         1\n",
       "          ..\n",
       "1296647    1\n",
       "1296652    1\n",
       "1296661    1\n",
       "1296667    1\n",
       "1296672    1\n",
       "Name: job_bin, Length: 319622, dtype: object"
      ]
     },
     "execution_count": 22,
     "metadata": {},
     "output_type": "execute_result"
    }
   ],
   "source": [
    "dat_tr['job_bin'] = dat_tr['job_bin'].astype(str)\n",
    "dat_val['job_bin'] = dat_val['job_bin'].astype(str)\n",
    "dat_tr['job_bin']"
   ]
  },
  {
   "cell_type": "code",
   "execution_count": 23,
   "id": "53fb1e6a",
   "metadata": {},
   "outputs": [
    {
     "data": {
      "text/html": [
       "<div>\n",
       "<style scoped>\n",
       "    .dataframe tbody tr th:only-of-type {\n",
       "        vertical-align: middle;\n",
       "    }\n",
       "\n",
       "    .dataframe tbody tr th {\n",
       "        vertical-align: top;\n",
       "    }\n",
       "\n",
       "    .dataframe thead th {\n",
       "        text-align: right;\n",
       "    }\n",
       "</style>\n",
       "<table border=\"1\" class=\"dataframe\">\n",
       "  <thead>\n",
       "    <tr style=\"text-align: right;\">\n",
       "      <th></th>\n",
       "      <th>job_bin.0</th>\n",
       "      <th>job_bin.1</th>\n",
       "      <th>job_bin.2</th>\n",
       "    </tr>\n",
       "  </thead>\n",
       "  <tbody>\n",
       "    <tr>\n",
       "      <th>0</th>\n",
       "      <td>0.0</td>\n",
       "      <td>1.0</td>\n",
       "      <td>0.0</td>\n",
       "    </tr>\n",
       "    <tr>\n",
       "      <th>1</th>\n",
       "      <td>0.0</td>\n",
       "      <td>1.0</td>\n",
       "      <td>0.0</td>\n",
       "    </tr>\n",
       "    <tr>\n",
       "      <th>2</th>\n",
       "      <td>0.0</td>\n",
       "      <td>1.0</td>\n",
       "      <td>0.0</td>\n",
       "    </tr>\n",
       "    <tr>\n",
       "      <th>3</th>\n",
       "      <td>0.0</td>\n",
       "      <td>1.0</td>\n",
       "      <td>0.0</td>\n",
       "    </tr>\n",
       "    <tr>\n",
       "      <th>4</th>\n",
       "      <td>0.0</td>\n",
       "      <td>1.0</td>\n",
       "      <td>0.0</td>\n",
       "    </tr>\n",
       "    <tr>\n",
       "      <th>...</th>\n",
       "      <td>...</td>\n",
       "      <td>...</td>\n",
       "      <td>...</td>\n",
       "    </tr>\n",
       "    <tr>\n",
       "      <th>319617</th>\n",
       "      <td>0.0</td>\n",
       "      <td>1.0</td>\n",
       "      <td>0.0</td>\n",
       "    </tr>\n",
       "    <tr>\n",
       "      <th>319618</th>\n",
       "      <td>0.0</td>\n",
       "      <td>1.0</td>\n",
       "      <td>0.0</td>\n",
       "    </tr>\n",
       "    <tr>\n",
       "      <th>319619</th>\n",
       "      <td>0.0</td>\n",
       "      <td>1.0</td>\n",
       "      <td>0.0</td>\n",
       "    </tr>\n",
       "    <tr>\n",
       "      <th>319620</th>\n",
       "      <td>0.0</td>\n",
       "      <td>1.0</td>\n",
       "      <td>0.0</td>\n",
       "    </tr>\n",
       "    <tr>\n",
       "      <th>319621</th>\n",
       "      <td>0.0</td>\n",
       "      <td>1.0</td>\n",
       "      <td>0.0</td>\n",
       "    </tr>\n",
       "  </tbody>\n",
       "</table>\n",
       "<p>319622 rows × 3 columns</p>\n",
       "</div>"
      ],
      "text/plain": [
       "        job_bin.0  job_bin.1  job_bin.2\n",
       "0             0.0        1.0        0.0\n",
       "1             0.0        1.0        0.0\n",
       "2             0.0        1.0        0.0\n",
       "3             0.0        1.0        0.0\n",
       "4             0.0        1.0        0.0\n",
       "...           ...        ...        ...\n",
       "319617        0.0        1.0        0.0\n",
       "319618        0.0        1.0        0.0\n",
       "319619        0.0        1.0        0.0\n",
       "319620        0.0        1.0        0.0\n",
       "319621        0.0        1.0        0.0\n",
       "\n",
       "[319622 rows x 3 columns]"
      ]
     },
     "execution_count": 23,
     "metadata": {},
     "output_type": "execute_result"
    }
   ],
   "source": [
    "job_bin_encoder = dp.fit_col_encoder(dat_tr, 'job_bin')\n",
    "job_bin_enc_tr = dp.encode_col(dat_tr, 'job_bin', job_bin_encoder)\n",
    "job_bin_enc_val = dp.encode_col(dat_val, 'job_bin', job_bin_encoder)\n",
    "job_bin_enc_tr"
   ]
  },
  {
   "cell_type": "markdown",
   "id": "360f9e9e",
   "metadata": {},
   "source": [
    "##### Encode Age Bins"
   ]
  },
  {
   "cell_type": "code",
   "execution_count": 24,
   "id": "51598349",
   "metadata": {},
   "outputs": [],
   "source": [
    "age_bins = dp.fit_age_bins(dat_tr)\n",
    "dp.bin_col(dat_val, 'age_at_trans', age_bins)"
   ]
  },
  {
   "cell_type": "code",
   "execution_count": 25,
   "id": "53b99567",
   "metadata": {},
   "outputs": [],
   "source": [
    "dat_tr['age_bin'] = dat_tr['age_bin'].astype(str)\n",
    "dat_val['age_bin'] = dat_val['age_bin'].astype(str)"
   ]
  },
  {
   "cell_type": "code",
   "execution_count": 26,
   "id": "09e45516",
   "metadata": {},
   "outputs": [
    {
     "data": {
      "text/plain": [
       "array([30, 56, 52, 57, 25, 71, 77, 44, 28, 29, 53, 66, 80, 72, 38, 73, 47,\n",
       "       54, 41, 48, 34, 20, 31, 46, 32, 65, 24, 42, 37, 82, 21, 63, 51, 35,\n",
       "       40, 18, 64, 83, 43, 23, 61, 91, 90, 92, 67, 33, 60, 17, 89, 68, 55,\n",
       "       70, 50, 45, 59, 19, 15, 49, 87, 26, 36, 79, 58, 84, 14, 81, 62, 76,\n",
       "       27, 39, 69, 75, 78, 88, 86, 22, 85, 74, 94, 93, 16, 95])"
      ]
     },
     "execution_count": 26,
     "metadata": {},
     "output_type": "execute_result"
    }
   ],
   "source": [
    "dat_val['age_at_trans'].unique()"
   ]
  },
  {
   "cell_type": "code",
   "execution_count": 27,
   "id": "bc7d603c",
   "metadata": {},
   "outputs": [
    {
     "data": {
      "text/plain": [
       "array(['(29.0, 34.0]', '(53.0, 64.0]', '(46.0, 53.0]', '(12.999, 29.0]',\n",
       "       '(64.0, 94.0]', '(41.0, 46.0]', '(34.0, 41.0]'], dtype=object)"
      ]
     },
     "execution_count": 27,
     "metadata": {},
     "output_type": "execute_result"
    }
   ],
   "source": [
    "dat_val['age_bin'].unique()"
   ]
  },
  {
   "cell_type": "code",
   "execution_count": 28,
   "id": "f95e5250",
   "metadata": {},
   "outputs": [
    {
     "data": {
      "text/html": [
       "<div>\n",
       "<style scoped>\n",
       "    .dataframe tbody tr th:only-of-type {\n",
       "        vertical-align: middle;\n",
       "    }\n",
       "\n",
       "    .dataframe tbody tr th {\n",
       "        vertical-align: top;\n",
       "    }\n",
       "\n",
       "    .dataframe thead th {\n",
       "        text-align: right;\n",
       "    }\n",
       "</style>\n",
       "<table border=\"1\" class=\"dataframe\">\n",
       "  <thead>\n",
       "    <tr style=\"text-align: right;\">\n",
       "      <th></th>\n",
       "      <th>age_bin.(12.999, 29.0]</th>\n",
       "      <th>age_bin.(29.0, 34.0]</th>\n",
       "      <th>age_bin.(34.0, 41.0]</th>\n",
       "      <th>age_bin.(41.0, 46.0]</th>\n",
       "      <th>age_bin.(46.0, 53.0]</th>\n",
       "      <th>age_bin.(53.0, 64.0]</th>\n",
       "      <th>age_bin.(64.0, 94.0]</th>\n",
       "    </tr>\n",
       "  </thead>\n",
       "  <tbody>\n",
       "    <tr>\n",
       "      <th>0</th>\n",
       "      <td>0.0</td>\n",
       "      <td>0.0</td>\n",
       "      <td>1.0</td>\n",
       "      <td>0.0</td>\n",
       "      <td>0.0</td>\n",
       "      <td>0.0</td>\n",
       "      <td>0.0</td>\n",
       "    </tr>\n",
       "    <tr>\n",
       "      <th>1</th>\n",
       "      <td>0.0</td>\n",
       "      <td>1.0</td>\n",
       "      <td>0.0</td>\n",
       "      <td>0.0</td>\n",
       "      <td>0.0</td>\n",
       "      <td>0.0</td>\n",
       "      <td>0.0</td>\n",
       "    </tr>\n",
       "    <tr>\n",
       "      <th>2</th>\n",
       "      <td>0.0</td>\n",
       "      <td>0.0</td>\n",
       "      <td>0.0</td>\n",
       "      <td>0.0</td>\n",
       "      <td>0.0</td>\n",
       "      <td>0.0</td>\n",
       "      <td>1.0</td>\n",
       "    </tr>\n",
       "    <tr>\n",
       "      <th>3</th>\n",
       "      <td>0.0</td>\n",
       "      <td>0.0</td>\n",
       "      <td>0.0</td>\n",
       "      <td>0.0</td>\n",
       "      <td>1.0</td>\n",
       "      <td>0.0</td>\n",
       "      <td>0.0</td>\n",
       "    </tr>\n",
       "    <tr>\n",
       "      <th>4</th>\n",
       "      <td>0.0</td>\n",
       "      <td>0.0</td>\n",
       "      <td>1.0</td>\n",
       "      <td>0.0</td>\n",
       "      <td>0.0</td>\n",
       "      <td>0.0</td>\n",
       "      <td>0.0</td>\n",
       "    </tr>\n",
       "    <tr>\n",
       "      <th>...</th>\n",
       "      <td>...</td>\n",
       "      <td>...</td>\n",
       "      <td>...</td>\n",
       "      <td>...</td>\n",
       "      <td>...</td>\n",
       "      <td>...</td>\n",
       "      <td>...</td>\n",
       "    </tr>\n",
       "    <tr>\n",
       "      <th>319617</th>\n",
       "      <td>0.0</td>\n",
       "      <td>0.0</td>\n",
       "      <td>0.0</td>\n",
       "      <td>0.0</td>\n",
       "      <td>0.0</td>\n",
       "      <td>1.0</td>\n",
       "      <td>0.0</td>\n",
       "    </tr>\n",
       "    <tr>\n",
       "      <th>319618</th>\n",
       "      <td>1.0</td>\n",
       "      <td>0.0</td>\n",
       "      <td>0.0</td>\n",
       "      <td>0.0</td>\n",
       "      <td>0.0</td>\n",
       "      <td>0.0</td>\n",
       "      <td>0.0</td>\n",
       "    </tr>\n",
       "    <tr>\n",
       "      <th>319619</th>\n",
       "      <td>1.0</td>\n",
       "      <td>0.0</td>\n",
       "      <td>0.0</td>\n",
       "      <td>0.0</td>\n",
       "      <td>0.0</td>\n",
       "      <td>0.0</td>\n",
       "      <td>0.0</td>\n",
       "    </tr>\n",
       "    <tr>\n",
       "      <th>319620</th>\n",
       "      <td>1.0</td>\n",
       "      <td>0.0</td>\n",
       "      <td>0.0</td>\n",
       "      <td>0.0</td>\n",
       "      <td>0.0</td>\n",
       "      <td>0.0</td>\n",
       "      <td>0.0</td>\n",
       "    </tr>\n",
       "    <tr>\n",
       "      <th>319621</th>\n",
       "      <td>0.0</td>\n",
       "      <td>0.0</td>\n",
       "      <td>0.0</td>\n",
       "      <td>0.0</td>\n",
       "      <td>1.0</td>\n",
       "      <td>0.0</td>\n",
       "      <td>0.0</td>\n",
       "    </tr>\n",
       "  </tbody>\n",
       "</table>\n",
       "<p>319622 rows × 7 columns</p>\n",
       "</div>"
      ],
      "text/plain": [
       "        age_bin.(12.999, 29.0]  age_bin.(29.0, 34.0]  age_bin.(34.0, 41.0]  \\\n",
       "0                          0.0                   0.0                   1.0   \n",
       "1                          0.0                   1.0                   0.0   \n",
       "2                          0.0                   0.0                   0.0   \n",
       "3                          0.0                   0.0                   0.0   \n",
       "4                          0.0                   0.0                   1.0   \n",
       "...                        ...                   ...                   ...   \n",
       "319617                     0.0                   0.0                   0.0   \n",
       "319618                     1.0                   0.0                   0.0   \n",
       "319619                     1.0                   0.0                   0.0   \n",
       "319620                     1.0                   0.0                   0.0   \n",
       "319621                     0.0                   0.0                   0.0   \n",
       "\n",
       "        age_bin.(41.0, 46.0]  age_bin.(46.0, 53.0]  age_bin.(53.0, 64.0]  \\\n",
       "0                        0.0                   0.0                   0.0   \n",
       "1                        0.0                   0.0                   0.0   \n",
       "2                        0.0                   0.0                   0.0   \n",
       "3                        0.0                   1.0                   0.0   \n",
       "4                        0.0                   0.0                   0.0   \n",
       "...                      ...                   ...                   ...   \n",
       "319617                   0.0                   0.0                   1.0   \n",
       "319618                   0.0                   0.0                   0.0   \n",
       "319619                   0.0                   0.0                   0.0   \n",
       "319620                   0.0                   0.0                   0.0   \n",
       "319621                   0.0                   1.0                   0.0   \n",
       "\n",
       "        age_bin.(64.0, 94.0]  \n",
       "0                        0.0  \n",
       "1                        0.0  \n",
       "2                        1.0  \n",
       "3                        0.0  \n",
       "4                        0.0  \n",
       "...                      ...  \n",
       "319617                   0.0  \n",
       "319618                   0.0  \n",
       "319619                   0.0  \n",
       "319620                   0.0  \n",
       "319621                   0.0  \n",
       "\n",
       "[319622 rows x 7 columns]"
      ]
     },
     "execution_count": 28,
     "metadata": {},
     "output_type": "execute_result"
    }
   ],
   "source": [
    "age_bin_encoder = dp.fit_col_encoder(dat_tr, 'age_bin')\n",
    "age_bin_enc_tr = dp.encode_col(dat_tr, 'age_bin', age_bin_encoder)\n",
    "age_bin_enc_val = dp.encode_col(dat_val, 'age_bin', age_bin_encoder)\n",
    "age_bin_enc_tr"
   ]
  },
  {
   "cell_type": "markdown",
   "id": "54972386",
   "metadata": {},
   "source": [
    "##### Encode Distance Bins"
   ]
  },
  {
   "cell_type": "code",
   "execution_count": 29,
   "id": "2ca2167e",
   "metadata": {},
   "outputs": [],
   "source": [
    "dist_bins = dp.fit_dist_bins(dat_tr)\n",
    "dp.bin_col(dat_val, 'distance', dist_bins)"
   ]
  },
  {
   "cell_type": "code",
   "execution_count": 30,
   "id": "3fd4f4b6",
   "metadata": {},
   "outputs": [],
   "source": [
    "dat_tr['distance_bin'] = dat_tr['distance_bin'].astype(str)\n",
    "dat_val['distance_bin'] = dat_val['distance_bin'].astype(str)"
   ]
  },
  {
   "cell_type": "code",
   "execution_count": 31,
   "id": "e3e84309",
   "metadata": {},
   "outputs": [
    {
     "data": {
      "text/plain": [
       "array(['(0.85, 0.95]', '(0.95, 1.06]', '(1.06, 1.41]', '(-0.0085, 0.43]',\n",
       "       '(0.6, 0.74]', '(0.43, 0.6]', '(0.74, 0.85]'], dtype=object)"
      ]
     },
     "execution_count": 31,
     "metadata": {},
     "output_type": "execute_result"
    }
   ],
   "source": [
    "dat_val['distance_bin'].unique()"
   ]
  },
  {
   "cell_type": "code",
   "execution_count": 32,
   "id": "afd14897",
   "metadata": {},
   "outputs": [
    {
     "data": {
      "text/html": [
       "<div>\n",
       "<style scoped>\n",
       "    .dataframe tbody tr th:only-of-type {\n",
       "        vertical-align: middle;\n",
       "    }\n",
       "\n",
       "    .dataframe tbody tr th {\n",
       "        vertical-align: top;\n",
       "    }\n",
       "\n",
       "    .dataframe thead th {\n",
       "        text-align: right;\n",
       "    }\n",
       "</style>\n",
       "<table border=\"1\" class=\"dataframe\">\n",
       "  <thead>\n",
       "    <tr style=\"text-align: right;\">\n",
       "      <th></th>\n",
       "      <th>distance_bin.(-0.0085, 0.43]</th>\n",
       "      <th>distance_bin.(0.43, 0.6]</th>\n",
       "      <th>distance_bin.(0.6, 0.74]</th>\n",
       "      <th>distance_bin.(0.74, 0.85]</th>\n",
       "      <th>distance_bin.(0.85, 0.95]</th>\n",
       "      <th>distance_bin.(0.95, 1.06]</th>\n",
       "      <th>distance_bin.(1.06, 1.41]</th>\n",
       "    </tr>\n",
       "  </thead>\n",
       "  <tbody>\n",
       "    <tr>\n",
       "      <th>0</th>\n",
       "      <td>1.0</td>\n",
       "      <td>0.0</td>\n",
       "      <td>0.0</td>\n",
       "      <td>0.0</td>\n",
       "      <td>0.0</td>\n",
       "      <td>0.0</td>\n",
       "      <td>0.0</td>\n",
       "    </tr>\n",
       "    <tr>\n",
       "      <th>1</th>\n",
       "      <td>0.0</td>\n",
       "      <td>0.0</td>\n",
       "      <td>0.0</td>\n",
       "      <td>0.0</td>\n",
       "      <td>1.0</td>\n",
       "      <td>0.0</td>\n",
       "      <td>0.0</td>\n",
       "    </tr>\n",
       "    <tr>\n",
       "      <th>2</th>\n",
       "      <td>1.0</td>\n",
       "      <td>0.0</td>\n",
       "      <td>0.0</td>\n",
       "      <td>0.0</td>\n",
       "      <td>0.0</td>\n",
       "      <td>0.0</td>\n",
       "      <td>0.0</td>\n",
       "    </tr>\n",
       "    <tr>\n",
       "      <th>3</th>\n",
       "      <td>0.0</td>\n",
       "      <td>0.0</td>\n",
       "      <td>1.0</td>\n",
       "      <td>0.0</td>\n",
       "      <td>0.0</td>\n",
       "      <td>0.0</td>\n",
       "      <td>0.0</td>\n",
       "    </tr>\n",
       "    <tr>\n",
       "      <th>4</th>\n",
       "      <td>0.0</td>\n",
       "      <td>1.0</td>\n",
       "      <td>0.0</td>\n",
       "      <td>0.0</td>\n",
       "      <td>0.0</td>\n",
       "      <td>0.0</td>\n",
       "      <td>0.0</td>\n",
       "    </tr>\n",
       "    <tr>\n",
       "      <th>...</th>\n",
       "      <td>...</td>\n",
       "      <td>...</td>\n",
       "      <td>...</td>\n",
       "      <td>...</td>\n",
       "      <td>...</td>\n",
       "      <td>...</td>\n",
       "      <td>...</td>\n",
       "    </tr>\n",
       "    <tr>\n",
       "      <th>319617</th>\n",
       "      <td>0.0</td>\n",
       "      <td>1.0</td>\n",
       "      <td>0.0</td>\n",
       "      <td>0.0</td>\n",
       "      <td>0.0</td>\n",
       "      <td>0.0</td>\n",
       "      <td>0.0</td>\n",
       "    </tr>\n",
       "    <tr>\n",
       "      <th>319618</th>\n",
       "      <td>1.0</td>\n",
       "      <td>0.0</td>\n",
       "      <td>0.0</td>\n",
       "      <td>0.0</td>\n",
       "      <td>0.0</td>\n",
       "      <td>0.0</td>\n",
       "      <td>0.0</td>\n",
       "    </tr>\n",
       "    <tr>\n",
       "      <th>319619</th>\n",
       "      <td>1.0</td>\n",
       "      <td>0.0</td>\n",
       "      <td>0.0</td>\n",
       "      <td>0.0</td>\n",
       "      <td>0.0</td>\n",
       "      <td>0.0</td>\n",
       "      <td>0.0</td>\n",
       "    </tr>\n",
       "    <tr>\n",
       "      <th>319620</th>\n",
       "      <td>0.0</td>\n",
       "      <td>0.0</td>\n",
       "      <td>1.0</td>\n",
       "      <td>0.0</td>\n",
       "      <td>0.0</td>\n",
       "      <td>0.0</td>\n",
       "      <td>0.0</td>\n",
       "    </tr>\n",
       "    <tr>\n",
       "      <th>319621</th>\n",
       "      <td>0.0</td>\n",
       "      <td>0.0</td>\n",
       "      <td>0.0</td>\n",
       "      <td>0.0</td>\n",
       "      <td>0.0</td>\n",
       "      <td>1.0</td>\n",
       "      <td>0.0</td>\n",
       "    </tr>\n",
       "  </tbody>\n",
       "</table>\n",
       "<p>319622 rows × 7 columns</p>\n",
       "</div>"
      ],
      "text/plain": [
       "        distance_bin.(-0.0085, 0.43]  distance_bin.(0.43, 0.6]  \\\n",
       "0                                1.0                       0.0   \n",
       "1                                0.0                       0.0   \n",
       "2                                1.0                       0.0   \n",
       "3                                0.0                       0.0   \n",
       "4                                0.0                       1.0   \n",
       "...                              ...                       ...   \n",
       "319617                           0.0                       1.0   \n",
       "319618                           1.0                       0.0   \n",
       "319619                           1.0                       0.0   \n",
       "319620                           0.0                       0.0   \n",
       "319621                           0.0                       0.0   \n",
       "\n",
       "        distance_bin.(0.6, 0.74]  distance_bin.(0.74, 0.85]  \\\n",
       "0                            0.0                        0.0   \n",
       "1                            0.0                        0.0   \n",
       "2                            0.0                        0.0   \n",
       "3                            1.0                        0.0   \n",
       "4                            0.0                        0.0   \n",
       "...                          ...                        ...   \n",
       "319617                       0.0                        0.0   \n",
       "319618                       0.0                        0.0   \n",
       "319619                       0.0                        0.0   \n",
       "319620                       1.0                        0.0   \n",
       "319621                       0.0                        0.0   \n",
       "\n",
       "        distance_bin.(0.85, 0.95]  distance_bin.(0.95, 1.06]  \\\n",
       "0                             0.0                        0.0   \n",
       "1                             1.0                        0.0   \n",
       "2                             0.0                        0.0   \n",
       "3                             0.0                        0.0   \n",
       "4                             0.0                        0.0   \n",
       "...                           ...                        ...   \n",
       "319617                        0.0                        0.0   \n",
       "319618                        0.0                        0.0   \n",
       "319619                        0.0                        0.0   \n",
       "319620                        0.0                        0.0   \n",
       "319621                        0.0                        1.0   \n",
       "\n",
       "        distance_bin.(1.06, 1.41]  \n",
       "0                             0.0  \n",
       "1                             0.0  \n",
       "2                             0.0  \n",
       "3                             0.0  \n",
       "4                             0.0  \n",
       "...                           ...  \n",
       "319617                        0.0  \n",
       "319618                        0.0  \n",
       "319619                        0.0  \n",
       "319620                        0.0  \n",
       "319621                        0.0  \n",
       "\n",
       "[319622 rows x 7 columns]"
      ]
     },
     "execution_count": 32,
     "metadata": {},
     "output_type": "execute_result"
    }
   ],
   "source": [
    "dist_bin_encoder = dp.fit_col_encoder(dat_tr, 'distance_bin')\n",
    "dist_bin_enc_tr = dp.encode_col(dat_tr, 'distance_bin', dist_bin_encoder)\n",
    "dist_bin_enc_val = dp.encode_col(dat_val, 'distance_bin', dist_bin_encoder)\n",
    "dist_bin_enc_tr"
   ]
  },
  {
   "cell_type": "markdown",
   "id": "9b27a3ae",
   "metadata": {},
   "source": [
    "##### Encode city_pop Bins"
   ]
  },
  {
   "cell_type": "code",
   "execution_count": 33,
   "id": "d011b9bd",
   "metadata": {},
   "outputs": [],
   "source": [
    "city_pop_bins = dp.fit_city_pop_bins(dat_tr)\n",
    "dp.bin_col(dat_val, 'city_pop', city_pop_bins)"
   ]
  },
  {
   "cell_type": "code",
   "execution_count": 34,
   "id": "13d2faba",
   "metadata": {},
   "outputs": [
    {
     "data": {
      "text/plain": [
       "[(48.999, 513.0], (513.0, 1324.0], (21437.0, 1526206.0], (1324.0, 3289.0], (3289.0, 21437.0]]\n",
       "Categories (5, interval[float64, right]): [(48.999, 513.0] < (513.0, 1324.0] < (1324.0, 3289.0] < (3289.0, 21437.0] < (21437.0, 1526206.0]]"
      ]
     },
     "execution_count": 34,
     "metadata": {},
     "output_type": "execute_result"
    }
   ],
   "source": [
    "dat_tr['city_pop_bin'].unique()"
   ]
  },
  {
   "cell_type": "code",
   "execution_count": 35,
   "id": "2e420169",
   "metadata": {},
   "outputs": [],
   "source": [
    "dat_tr['city_pop_bin'] = dat_tr['city_pop_bin'].astype(str)\n",
    "dat_val['city_pop_bin'] = dat_val['city_pop_bin'].astype(str)"
   ]
  },
  {
   "cell_type": "code",
   "execution_count": 41,
   "id": "8ed3da1f",
   "metadata": {},
   "outputs": [
    {
     "data": {
      "text/plain": [
       "array(['(3289.0, 21437.0]', '(1324.0, 3289.0]', '(21437.0, 1526206.0]',\n",
       "       '(513.0, 1324.0]', '(48.999, 513.0]'], dtype=object)"
      ]
     },
     "execution_count": 41,
     "metadata": {},
     "output_type": "execute_result"
    }
   ],
   "source": [
    "dat_val['city_pop_bin'].unique()"
   ]
  },
  {
   "cell_type": "code",
   "execution_count": 42,
   "id": "8d1c6b37",
   "metadata": {},
   "outputs": [
    {
     "data": {
      "text/html": [
       "<div>\n",
       "<style scoped>\n",
       "    .dataframe tbody tr th:only-of-type {\n",
       "        vertical-align: middle;\n",
       "    }\n",
       "\n",
       "    .dataframe tbody tr th {\n",
       "        vertical-align: top;\n",
       "    }\n",
       "\n",
       "    .dataframe thead th {\n",
       "        text-align: right;\n",
       "    }\n",
       "</style>\n",
       "<table border=\"1\" class=\"dataframe\">\n",
       "  <thead>\n",
       "    <tr style=\"text-align: right;\">\n",
       "      <th></th>\n",
       "      <th>city_pop_bin.(1324.0, 3289.0]</th>\n",
       "      <th>city_pop_bin.(21437.0, 1526206.0]</th>\n",
       "      <th>city_pop_bin.(3289.0, 21437.0]</th>\n",
       "      <th>city_pop_bin.(48.999, 513.0]</th>\n",
       "      <th>city_pop_bin.(513.0, 1324.0]</th>\n",
       "    </tr>\n",
       "  </thead>\n",
       "  <tbody>\n",
       "    <tr>\n",
       "      <th>0</th>\n",
       "      <td>0.0</td>\n",
       "      <td>0.0</td>\n",
       "      <td>0.0</td>\n",
       "      <td>1.0</td>\n",
       "      <td>0.0</td>\n",
       "    </tr>\n",
       "    <tr>\n",
       "      <th>1</th>\n",
       "      <td>0.0</td>\n",
       "      <td>0.0</td>\n",
       "      <td>0.0</td>\n",
       "      <td>1.0</td>\n",
       "      <td>0.0</td>\n",
       "    </tr>\n",
       "    <tr>\n",
       "      <th>2</th>\n",
       "      <td>0.0</td>\n",
       "      <td>0.0</td>\n",
       "      <td>0.0</td>\n",
       "      <td>0.0</td>\n",
       "      <td>1.0</td>\n",
       "    </tr>\n",
       "    <tr>\n",
       "      <th>3</th>\n",
       "      <td>0.0</td>\n",
       "      <td>0.0</td>\n",
       "      <td>0.0</td>\n",
       "      <td>0.0</td>\n",
       "      <td>1.0</td>\n",
       "    </tr>\n",
       "    <tr>\n",
       "      <th>4</th>\n",
       "      <td>0.0</td>\n",
       "      <td>1.0</td>\n",
       "      <td>0.0</td>\n",
       "      <td>0.0</td>\n",
       "      <td>0.0</td>\n",
       "    </tr>\n",
       "    <tr>\n",
       "      <th>...</th>\n",
       "      <td>...</td>\n",
       "      <td>...</td>\n",
       "      <td>...</td>\n",
       "      <td>...</td>\n",
       "      <td>...</td>\n",
       "    </tr>\n",
       "    <tr>\n",
       "      <th>319617</th>\n",
       "      <td>0.0</td>\n",
       "      <td>0.0</td>\n",
       "      <td>0.0</td>\n",
       "      <td>1.0</td>\n",
       "      <td>0.0</td>\n",
       "    </tr>\n",
       "    <tr>\n",
       "      <th>319618</th>\n",
       "      <td>0.0</td>\n",
       "      <td>0.0</td>\n",
       "      <td>0.0</td>\n",
       "      <td>1.0</td>\n",
       "      <td>0.0</td>\n",
       "    </tr>\n",
       "    <tr>\n",
       "      <th>319619</th>\n",
       "      <td>1.0</td>\n",
       "      <td>0.0</td>\n",
       "      <td>0.0</td>\n",
       "      <td>0.0</td>\n",
       "      <td>0.0</td>\n",
       "    </tr>\n",
       "    <tr>\n",
       "      <th>319620</th>\n",
       "      <td>0.0</td>\n",
       "      <td>1.0</td>\n",
       "      <td>0.0</td>\n",
       "      <td>0.0</td>\n",
       "      <td>0.0</td>\n",
       "    </tr>\n",
       "    <tr>\n",
       "      <th>319621</th>\n",
       "      <td>0.0</td>\n",
       "      <td>0.0</td>\n",
       "      <td>0.0</td>\n",
       "      <td>0.0</td>\n",
       "      <td>1.0</td>\n",
       "    </tr>\n",
       "  </tbody>\n",
       "</table>\n",
       "<p>319622 rows × 5 columns</p>\n",
       "</div>"
      ],
      "text/plain": [
       "        city_pop_bin.(1324.0, 3289.0]  city_pop_bin.(21437.0, 1526206.0]  \\\n",
       "0                                 0.0                                0.0   \n",
       "1                                 0.0                                0.0   \n",
       "2                                 0.0                                0.0   \n",
       "3                                 0.0                                0.0   \n",
       "4                                 0.0                                1.0   \n",
       "...                               ...                                ...   \n",
       "319617                            0.0                                0.0   \n",
       "319618                            0.0                                0.0   \n",
       "319619                            1.0                                0.0   \n",
       "319620                            0.0                                1.0   \n",
       "319621                            0.0                                0.0   \n",
       "\n",
       "        city_pop_bin.(3289.0, 21437.0]  city_pop_bin.(48.999, 513.0]  \\\n",
       "0                                  0.0                           1.0   \n",
       "1                                  0.0                           1.0   \n",
       "2                                  0.0                           0.0   \n",
       "3                                  0.0                           0.0   \n",
       "4                                  0.0                           0.0   \n",
       "...                                ...                           ...   \n",
       "319617                             0.0                           1.0   \n",
       "319618                             0.0                           1.0   \n",
       "319619                             0.0                           0.0   \n",
       "319620                             0.0                           0.0   \n",
       "319621                             0.0                           0.0   \n",
       "\n",
       "        city_pop_bin.(513.0, 1324.0]  \n",
       "0                                0.0  \n",
       "1                                0.0  \n",
       "2                                1.0  \n",
       "3                                1.0  \n",
       "4                                0.0  \n",
       "...                              ...  \n",
       "319617                           0.0  \n",
       "319618                           0.0  \n",
       "319619                           0.0  \n",
       "319620                           0.0  \n",
       "319621                           1.0  \n",
       "\n",
       "[319622 rows x 5 columns]"
      ]
     },
     "execution_count": 42,
     "metadata": {},
     "output_type": "execute_result"
    }
   ],
   "source": [
    "city_pop_bin_encoder = dp.fit_col_encoder(dat_tr, 'city_pop_bin')\n",
    "city_pop_bin_enc_tr = dp.encode_col(dat_tr, 'city_pop_bin', city_pop_bin_encoder)\n",
    "city_pop_bin_enc_val = dp.encode_col(dat_val, 'city_pop_bin', city_pop_bin_encoder)\n",
    "city_pop_bin_enc_tr"
   ]
  },
  {
   "cell_type": "markdown",
   "id": "88810225",
   "metadata": {},
   "source": [
    "### Fit Models"
   ]
  },
  {
   "cell_type": "markdown",
   "id": "799a240a",
   "metadata": {},
   "source": [
    "#### Random Forest"
   ]
  },
  {
   "cell_type": "code",
   "execution_count": 28,
   "id": "cd687f9e",
   "metadata": {},
   "outputs": [],
   "source": [
    "from sklearn.ensemble import RandomForestClassifier"
   ]
  },
  {
   "cell_type": "markdown",
   "id": "eb9fef9e",
   "metadata": {},
   "source": [
    "##### Full Model"
   ]
  },
  {
   "cell_type": "code",
   "execution_count": 29,
   "id": "fa465a61",
   "metadata": {},
   "outputs": [],
   "source": [
    "rfc = RandomForestClassifier()"
   ]
  },
  {
   "cell_type": "code",
   "execution_count": 30,
   "id": "cc339cc5",
   "metadata": {},
   "outputs": [],
   "source": [
    "rfc_model_dat = pd.concat([\n",
    "    dat_tr[['is_fraud'] + ['amt'] + identifier_cols[:2] + other_cols].reset_index(drop=True),\n",
    "    category_enc_tr.reset_index(drop=True),\n",
    "    year_enc_tr.reset_index(drop=True),\n",
    "    month_enc_tr.reset_index(drop=True),\n",
    "    job_bin_enc_tr.reset_index(drop=True)\n",
    "], axis=1)"
   ]
  },
  {
   "cell_type": "code",
   "execution_count": 31,
   "id": "fa09700f",
   "metadata": {},
   "outputs": [
    {
     "data": {
      "text/plain": [
       "RandomForestClassifier()"
      ]
     },
     "execution_count": 31,
     "metadata": {},
     "output_type": "execute_result"
    }
   ],
   "source": [
    "rfc.fit(rfc_model_dat.drop('is_fraud', axis=1), rfc_model_dat['is_fraud'])"
   ]
  },
  {
   "cell_type": "code",
   "execution_count": 32,
   "id": "7bf16754",
   "metadata": {},
   "outputs": [
    {
     "data": {
      "text/plain": [
       "1.0"
      ]
     },
     "execution_count": 32,
     "metadata": {},
     "output_type": "execute_result"
    }
   ],
   "source": [
    "rfc.score(rfc_model_dat.drop('is_fraud', axis=1), rfc_model_dat['is_fraud'])"
   ]
  },
  {
   "cell_type": "code",
   "execution_count": 90,
   "id": "6785fbeb",
   "metadata": {},
   "outputs": [
    {
     "data": {
      "text/plain": [
       "1.0"
      ]
     },
     "execution_count": 90,
     "metadata": {},
     "output_type": "execute_result"
    }
   ],
   "source": [
    "roc_auc_score(rfc_model_dat['is_fraud'], rfc.predict_proba(rfc_model_dat.drop('is_fraud', axis=1))[:,1])"
   ]
  },
  {
   "cell_type": "code",
   "execution_count": 33,
   "id": "25c4110b",
   "metadata": {},
   "outputs": [
    {
     "data": {
      "text/plain": [
       "['age_at_trans', 'city_pop', 'job_bin']"
      ]
     },
     "execution_count": 33,
     "metadata": {},
     "output_type": "execute_result"
    }
   ],
   "source": [
    "identifier_cols"
   ]
  },
  {
   "cell_type": "code",
   "execution_count": 36,
   "id": "3591585e",
   "metadata": {},
   "outputs": [],
   "source": [
    "rfc_val_dat = pd.concat([\n",
    "    dat_val[['is_fraud'] + ['amt'] + identifier_cols[:2] + other_cols].reset_index(drop=True),\n",
    "    category_enc_val.reset_index(drop=True),\n",
    "    year_enc_val.reset_index(drop=True),\n",
    "    month_enc_val.reset_index(drop=True),\n",
    "    job_bin_enc_val.reset_index(drop=True)\n",
    "], axis=1)"
   ]
  },
  {
   "cell_type": "code",
   "execution_count": 37,
   "id": "f8a15027",
   "metadata": {},
   "outputs": [
    {
     "data": {
      "text/plain": [
       "0.9967893246323383"
      ]
     },
     "execution_count": 37,
     "metadata": {},
     "output_type": "execute_result"
    }
   ],
   "source": [
    "rfc.score(rfc_val_dat.drop('is_fraud', axis=1), rfc_val_dat['is_fraud'])"
   ]
  },
  {
   "cell_type": "code",
   "execution_count": 91,
   "id": "912faf8f",
   "metadata": {},
   "outputs": [
    {
     "data": {
      "text/plain": [
       "0.9570423758111738"
      ]
     },
     "execution_count": 91,
     "metadata": {},
     "output_type": "execute_result"
    }
   ],
   "source": [
    "roc_auc_score(rfc_val_dat['is_fraud'], rfc.predict_proba(rfc_val_dat.drop('is_fraud', axis=1))[:,1])"
   ]
  },
  {
   "cell_type": "markdown",
   "id": "f0ecc8d3",
   "metadata": {},
   "source": [
    "##### Check Feature Importance (SHAP)"
   ]
  },
  {
   "cell_type": "markdown",
   "id": "d51307f5",
   "metadata": {},
   "source": [
    "Generate SHAP Values"
   ]
  },
  {
   "cell_type": "code",
   "execution_count": null,
   "id": "fb4bd36f",
   "metadata": {},
   "outputs": [
    {
     "name": "stderr",
     "output_type": "stream",
     "text": [
      "100%|===================| 639220/639244 [68:07<00:00]        "
     ]
    },
    {
     "ename": "IndexError",
     "evalue": "list index out of range",
     "output_type": "error",
     "traceback": [
      "\u001b[0;31m---------------------------------------------------------------------------\u001b[0m",
      "\u001b[0;31mIndexError\u001b[0m                                Traceback (most recent call last)",
      "Input \u001b[0;32mIn [37]\u001b[0m, in \u001b[0;36m<cell line: 4>\u001b[0;34m()\u001b[0m\n\u001b[1;32m      2\u001b[0m explainer \u001b[38;5;241m=\u001b[39m shap\u001b[38;5;241m.\u001b[39mExplainer(rfc, rfc_model_dat)\n\u001b[1;32m      3\u001b[0m shap_values \u001b[38;5;241m=\u001b[39m explainer(rfc_model_dat)\n\u001b[0;32m----> 4\u001b[0m \u001b[43mshap\u001b[49m\u001b[38;5;241;43m.\u001b[39;49m\u001b[43mplots\u001b[49m\u001b[38;5;241;43m.\u001b[39;49m\u001b[43mbar\u001b[49m\u001b[43m(\u001b[49m\u001b[43mshap_values\u001b[49m\u001b[43m)\u001b[49m\n",
      "File \u001b[0;32m/Applications/anaconda3/lib/python3.9/site-packages/shap/plots/_bar.py:216\u001b[0m, in \u001b[0;36mbar\u001b[0;34m(shap_values, max_display, order, clustering, clustering_cutoff, show_data, ax, show)\u001b[0m\n\u001b[1;32m    214\u001b[0m \u001b[38;5;28;01mfor\u001b[39;00m inds \u001b[38;5;129;01min\u001b[39;00m orig_inds:\n\u001b[1;32m    215\u001b[0m     \u001b[38;5;28;01mif\u001b[39;00m \u001b[38;5;28mlen\u001b[39m(inds) \u001b[38;5;241m==\u001b[39m \u001b[38;5;241m1\u001b[39m:\n\u001b[0;32m--> 216\u001b[0m         feature_names_new\u001b[38;5;241m.\u001b[39mappend(\u001b[43mfeature_names\u001b[49m\u001b[43m[\u001b[49m\u001b[43minds\u001b[49m\u001b[43m[\u001b[49m\u001b[38;5;241;43m0\u001b[39;49m\u001b[43m]\u001b[49m\u001b[43m]\u001b[49m)\n\u001b[1;32m    217\u001b[0m     \u001b[38;5;28;01melse\u001b[39;00m:\n\u001b[1;32m    218\u001b[0m         full_print \u001b[38;5;241m=\u001b[39m \u001b[38;5;124m\"\u001b[39m\u001b[38;5;124m + \u001b[39m\u001b[38;5;124m\"\u001b[39m\u001b[38;5;241m.\u001b[39mjoin([feature_names[i] \u001b[38;5;28;01mfor\u001b[39;00m i \u001b[38;5;129;01min\u001b[39;00m inds])\n",
      "\u001b[0;31mIndexError\u001b[0m: list index out of range"
     ]
    }
   ],
   "source": [
    "import shap\n",
    "# explainer = shap.Explainer(rfc, rfc_model_dat)\n",
    "# shap_values = explainer(rfc_model_dat)"
   ]
  },
  {
   "cell_type": "markdown",
   "id": "3ebc0faf",
   "metadata": {},
   "source": [
    "Read saved SHAP values"
   ]
  },
  {
   "cell_type": "code",
   "execution_count": null,
   "id": "a5711d0a",
   "metadata": {},
   "outputs": [],
   "source": [
    "# shap_values = pd.read_csv(\"shape_values_1.csv\")"
   ]
  },
  {
   "cell_type": "code",
   "execution_count": null,
   "id": "ae5c409f",
   "metadata": {},
   "outputs": [
    {
     "data": {
      "text/plain": [
       ".values =\n",
       "array([[[ 0.00000000e+00,  0.00000000e+00],\n",
       "        [ 7.70166663e-03, -7.70166643e-03],\n",
       "        [-2.64499994e-03,  2.64499995e-03],\n",
       "        ...,\n",
       "        [ 8.33333470e-05, -8.33333354e-05],\n",
       "        [ 3.33333260e-04, -3.33333306e-04],\n",
       "        [ 0.00000000e+00,  0.00000000e+00]],\n",
       "\n",
       "       [[ 0.00000000e+00,  0.00000000e+00],\n",
       "        [-3.13833326e-03,  3.13833316e-03],\n",
       "        [-3.13666659e-03,  3.13666660e-03],\n",
       "        ...,\n",
       "        [ 1.33333327e-04, -1.33333332e-04],\n",
       "        [ 2.40333326e-03, -2.40333329e-03],\n",
       "        [ 0.00000000e+00,  0.00000000e+00]],\n",
       "\n",
       "       [[ 0.00000000e+00,  0.00000000e+00],\n",
       "        [ 5.71666657e-03, -5.71666651e-03],\n",
       "        [ 6.11833323e-03, -6.11833318e-03],\n",
       "        ...,\n",
       "        [-2.33333185e-05,  2.33333278e-05],\n",
       "        [-2.00000691e-05,  2.00000018e-05],\n",
       "        [ 0.00000000e+00,  0.00000000e+00]],\n",
       "\n",
       "       ...,\n",
       "\n",
       "       [[ 0.00000000e+00,  0.00000000e+00],\n",
       "        [ 1.62049999e-02, -1.62049997e-02],\n",
       "        [-2.74833328e-03,  2.74833329e-03],\n",
       "        ...,\n",
       "        [ 1.50000006e-04, -1.49999999e-04],\n",
       "        [-3.75499993e-03,  3.75499996e-03],\n",
       "        [ 0.00000000e+00,  0.00000000e+00]],\n",
       "\n",
       "       [[ 0.00000000e+00,  0.00000000e+00],\n",
       "        [-1.16799996e-02,  1.16799997e-02],\n",
       "        [-5.32999988e-03,  5.32999992e-03],\n",
       "        ...,\n",
       "        [-7.60499977e-03,  7.60499997e-03],\n",
       "        [-7.25833314e-03,  7.25833324e-03],\n",
       "        [ 0.00000000e+00,  0.00000000e+00]],\n",
       "\n",
       "       [[ 0.00000000e+00,  0.00000000e+00],\n",
       "        [ 3.83899991e-02, -3.83899992e-02],\n",
       "        [ 4.94499989e-03, -4.94499982e-03],\n",
       "        ...,\n",
       "        [ 5.49999978e-04, -5.50000006e-04],\n",
       "        [-8.19166631e-03,  8.19166655e-03],\n",
       "        [ 0.00000000e+00,  0.00000000e+00]]])\n",
       "\n",
       ".base_values =\n",
       "array([[0.922, 0.078],\n",
       "       [0.922, 0.078],\n",
       "       [0.922, 0.078],\n",
       "       ...,\n",
       "       [0.922, 0.078],\n",
       "       [0.922, 0.078],\n",
       "       [0.922, 0.078]])\n",
       "\n",
       ".data =\n",
       "array([[  0.  , 107.23,  40.  , ...,   0.  ,   1.  ,   0.  ],\n",
       "       [  0.  ,  41.96,  32.  , ...,   0.  ,   1.  ,   0.  ],\n",
       "       [  0.  ,  96.29,  73.  , ...,   0.  ,   1.  ,   0.  ],\n",
       "       ...,\n",
       "       [  0.  ,  77.83,  25.  , ...,   0.  ,   0.  ,   1.  ],\n",
       "       [  0.  ,  19.71,  29.  , ...,   1.  ,   0.  ,   1.  ],\n",
       "       [  0.  , 105.93,  52.  , ...,   0.  ,   0.  ,   1.  ]])"
      ]
     },
     "execution_count": 38,
     "metadata": {},
     "output_type": "execute_result"
    }
   ],
   "source": [
    "# shap_values"
   ]
  },
  {
   "cell_type": "markdown",
   "id": "95394813",
   "metadata": {},
   "source": [
    "Save SHAP values to csv"
   ]
  },
  {
   "cell_type": "code",
   "execution_count": null,
   "id": "5e80d1c7",
   "metadata": {},
   "outputs": [
    {
     "data": {
      "text/plain": [
       "['is_fraud',\n",
       " 'amt',\n",
       " 'age_at_trans',\n",
       " 'city_pop',\n",
       " 'job_bin',\n",
       " 'distance',\n",
       " 'category.entertainment',\n",
       " 'category.food_dining',\n",
       " 'category.gas_transport',\n",
       " 'category.grocery_net',\n",
       " 'category.grocery_pos',\n",
       " 'category.health_fitness',\n",
       " 'category.home',\n",
       " 'category.kids_pets',\n",
       " 'category.misc_net',\n",
       " 'category.misc_pos',\n",
       " 'category.personal_care',\n",
       " 'category.shopping_net',\n",
       " 'category.shopping_pos',\n",
       " 'category.travel',\n",
       " 'trans_year.2019',\n",
       " 'trans_year.2020']"
      ]
     },
     "execution_count": 48,
     "metadata": {},
     "output_type": "execute_result"
    }
   ],
   "source": [
    "feature_names = rfc_model_dat.columns.tolist()\n",
    "feature_names"
   ]
  },
  {
   "cell_type": "code",
   "execution_count": null,
   "id": "db761d4b",
   "metadata": {},
   "outputs": [
    {
     "data": {
      "text/plain": [
       ".values =\n",
       "array([[ 0.00000000e+00,  7.70166663e-03, -2.64499994e-03, ...,\n",
       "         8.33333470e-05,  3.33333260e-04,  0.00000000e+00],\n",
       "       [ 0.00000000e+00, -3.13833326e-03, -3.13666659e-03, ...,\n",
       "         1.33333327e-04,  2.40333326e-03,  0.00000000e+00],\n",
       "       [ 0.00000000e+00,  5.71666657e-03,  6.11833323e-03, ...,\n",
       "        -2.33333185e-05, -2.00000691e-05,  0.00000000e+00],\n",
       "       ...,\n",
       "       [ 0.00000000e+00,  1.62049999e-02, -2.74833328e-03, ...,\n",
       "         1.50000006e-04, -3.75499993e-03,  0.00000000e+00],\n",
       "       [ 0.00000000e+00, -1.16799996e-02, -5.32999988e-03, ...,\n",
       "        -7.60499977e-03, -7.25833314e-03,  0.00000000e+00],\n",
       "       [ 0.00000000e+00,  3.83899991e-02,  4.94499989e-03, ...,\n",
       "         5.49999978e-04, -8.19166631e-03,  0.00000000e+00]])\n",
       "\n",
       ".base_values =\n",
       "array([0.922, 0.922, 0.922, ..., 0.922, 0.922, 0.922])\n",
       "\n",
       ".data =\n",
       "array([[  0.  , 107.23,  40.  , ...,   0.  ,   1.  ,   0.  ],\n",
       "       [  0.  ,  41.96,  32.  , ...,   0.  ,   1.  ,   0.  ],\n",
       "       [  0.  ,  96.29,  73.  , ...,   0.  ,   1.  ,   0.  ],\n",
       "       ...,\n",
       "       [  0.  ,  77.83,  25.  , ...,   0.  ,   0.  ,   1.  ],\n",
       "       [  0.  ,  19.71,  29.  , ...,   1.  ,   0.  ,   1.  ],\n",
       "       [  0.  , 105.93,  52.  , ...,   0.  ,   0.  ,   1.  ]])"
      ]
     },
     "execution_count": 52,
     "metadata": {},
     "output_type": "execute_result"
    }
   ],
   "source": [
    "# shap_values[..., 0]"
   ]
  },
  {
   "cell_type": "code",
   "execution_count": null,
   "id": "024efab5",
   "metadata": {},
   "outputs": [
    {
     "data": {
      "text/plain": [
       "(319622, 22)"
      ]
     },
     "execution_count": 60,
     "metadata": {},
     "output_type": "execute_result"
    }
   ],
   "source": [
    "# shap_values[..., 0].values.shape"
   ]
  },
  {
   "cell_type": "code",
   "execution_count": null,
   "id": "2dbeb80e",
   "metadata": {},
   "outputs": [],
   "source": [
    "# pd.DataFrame(shap_values[..., 0].values, columns=feature_names).to_csv('shap_values_0.csv', index=False)"
   ]
  },
  {
   "cell_type": "code",
   "execution_count": null,
   "id": "a962b85b",
   "metadata": {},
   "outputs": [],
   "source": [
    "# pd.DataFrame(shap_values[..., 1].values, columns=feature_names).to_csv('shap_values_1.csv', index=False)"
   ]
  },
  {
   "cell_type": "code",
   "execution_count": null,
   "id": "1b822040",
   "metadata": {},
   "outputs": [
    {
     "data": {
      "text/plain": [
       "(319622, 22, 2)"
      ]
     },
     "execution_count": 45,
     "metadata": {},
     "output_type": "execute_result"
    }
   ],
   "source": [
    "# shap_values.shape"
   ]
  },
  {
   "cell_type": "markdown",
   "id": "2598698b",
   "metadata": {},
   "source": [
    "Analyze SHAP values"
   ]
  },
  {
   "cell_type": "code",
   "execution_count": null,
   "id": "3ba2609e",
   "metadata": {},
   "outputs": [
    {
     "data": {
      "text/plain": [
       "array([ 0.00000000e+00, -7.04322969e-04,  7.31133296e-05,  0.00000000e+00,\n",
       "       -2.34137318e-04,  1.35251337e-03,  1.47610898e-03, -3.95112833e-03,\n",
       "       -2.62500541e-05, -1.77950509e-04, -2.05908955e-04, -8.96575321e-04,\n",
       "        3.25816529e-04,  1.04022998e-03,  1.28349771e-04, -2.15925439e-04,\n",
       "       -5.59296081e-05, -1.23870970e-03,  1.57524442e-04,  5.30821047e-05,\n",
       "        3.34564256e-04,  0.00000000e+00])"
      ]
     },
     "execution_count": 76,
     "metadata": {},
     "output_type": "execute_result"
    }
   ],
   "source": [
    "# mean_shap_values = shap_values[..., 1].values.mean(axis=0)\n",
    "# mean_shap_values"
   ]
  },
  {
   "cell_type": "code",
   "execution_count": null,
   "id": "ddf4b88e",
   "metadata": {},
   "outputs": [
    {
     "data": {
      "text/plain": [
       "is_fraud                   0.000000\n",
       "amt                       -0.000704\n",
       "age_at_trans               0.000073\n",
       "city_pop                   0.000000\n",
       "job_bin                   -0.000234\n",
       "distance                   0.001353\n",
       "category.entertainment     0.001476\n",
       "category.food_dining      -0.003951\n",
       "category.gas_transport    -0.000026\n",
       "category.grocery_net      -0.000178\n",
       "category.grocery_pos      -0.000206\n",
       "category.health_fitness   -0.000897\n",
       "category.home              0.000326\n",
       "category.kids_pets         0.001040\n",
       "category.misc_net          0.000128\n",
       "category.misc_pos         -0.000216\n",
       "category.personal_care    -0.000056\n",
       "category.shopping_net     -0.001239\n",
       "category.shopping_pos      0.000158\n",
       "category.travel            0.000053\n",
       "trans_year.2019            0.000335\n",
       "trans_year.2020            0.000000\n",
       "dtype: float64"
      ]
     },
     "execution_count": 78,
     "metadata": {},
     "output_type": "execute_result"
    }
   ],
   "source": [
    "# mean_shap_values_labeled = pd.Series(mean_shap_values)\n",
    "# mean_shap_values_labeled.index = feature_names\n",
    "# mean_shap_values_labeled"
   ]
  },
  {
   "cell_type": "code",
   "execution_count": null,
   "id": "904ce98d",
   "metadata": {},
   "outputs": [
    {
     "data": {
      "text/plain": [
       "category.food_dining      -0.003951\n",
       "category.entertainment     0.001476\n",
       "distance                   0.001353\n",
       "category.shopping_net     -0.001239\n",
       "category.kids_pets         0.001040\n",
       "category.health_fitness   -0.000897\n",
       "amt                       -0.000704\n",
       "trans_year.2019            0.000335\n",
       "category.home              0.000326\n",
       "job_bin                   -0.000234\n",
       "category.misc_pos         -0.000216\n",
       "category.grocery_pos      -0.000206\n",
       "category.grocery_net      -0.000178\n",
       "category.shopping_pos      0.000158\n",
       "category.misc_net          0.000128\n",
       "age_at_trans               0.000073\n",
       "category.personal_care    -0.000056\n",
       "category.travel            0.000053\n",
       "category.gas_transport    -0.000026\n",
       "is_fraud                   0.000000\n",
       "city_pop                   0.000000\n",
       "trans_year.2020            0.000000\n",
       "dtype: float64"
      ]
     },
     "execution_count": 82,
     "metadata": {},
     "output_type": "execute_result"
    }
   ],
   "source": [
    "# mean_shap_values_labeled.sort_values(ascending = False, key = lambda x: abs(x))"
   ]
  },
  {
   "cell_type": "markdown",
   "id": "6d73803e",
   "metadata": {},
   "source": [
    "distance has a high SHAP value, indicating that it may be a more important feature in modeling than expected.\n",
    "\n",
    "city_pop has a low SHAP value, indicating that it may not be an important feature in modeling. \n",
    "Others that are relatively low include age and job."
   ]
  },
  {
   "cell_type": "code",
   "execution_count": null,
   "id": "345581ba",
   "metadata": {},
   "outputs": [
    {
     "data": {
      "image/png": "[encoded data removed]",
      "text/plain": [
       "<Figure size 576x468 with 1 Axes>"
      ]
     },
     "metadata": {},
     "output_type": "display_data"
    }
   ],
   "source": [
    "# shap.plots.bar(shap_values[0,...,1])"
   ]
  },
  {
   "cell_type": "code",
   "execution_count": null,
   "id": "7380ff6b",
   "metadata": {},
   "outputs": [
    {
     "data": {
      "image/png": "[encoded data removed]",
      "text/plain": [
       "<Figure size 576x468 with 3 Axes>"
      ]
     },
     "metadata": {},
     "output_type": "display_data"
    }
   ],
   "source": [
    "# shap.plots.waterfall(shap_values[0,...,1])"
   ]
  },
  {
   "cell_type": "markdown",
   "id": "957f3e64",
   "metadata": {},
   "source": [
    "#### Logistic Regression"
   ]
  },
  {
   "cell_type": "code",
   "execution_count": 43,
   "id": "0f7a8d05",
   "metadata": {},
   "outputs": [],
   "source": [
    "from sklearn.linear_model import LogisticRegression"
   ]
  },
  {
   "cell_type": "markdown",
   "id": "8b9177ad",
   "metadata": {},
   "source": [
    "##### Full Model"
   ]
  },
  {
   "cell_type": "code",
   "execution_count": 58,
   "id": "cbeebcc9",
   "metadata": {},
   "outputs": [],
   "source": [
    "full_log = LogisticRegression(penalty='none', max_iter = 500)"
   ]
  },
  {
   "cell_type": "code",
   "execution_count": 59,
   "id": "8707c247",
   "metadata": {},
   "outputs": [],
   "source": [
    "log_model_dat = pd.concat([\n",
    "    dat_tr[['is_fraud'] + scale_cols].reset_index(drop=True),\n",
    "    category_enc_tr.reset_index(drop=True),\n",
    "    year_enc_tr.reset_index(drop=True),\n",
    "    month_enc_tr.reset_index(drop=True),\n",
    "    job_bin_enc_tr.reset_index(drop=True)\n",
    "], axis=1)"
   ]
  },
  {
   "cell_type": "code",
   "execution_count": 60,
   "id": "908f0106",
   "metadata": {},
   "outputs": [
    {
     "data": {
      "text/plain": [
       "LogisticRegression(max_iter=500, penalty='none')"
      ]
     },
     "execution_count": 60,
     "metadata": {},
     "output_type": "execute_result"
    }
   ],
   "source": [
    "full_log.fit(log_model_dat.drop('is_fraud', axis=1), log_model_dat['is_fraud'])"
   ]
  },
  {
   "cell_type": "code",
   "execution_count": 61,
   "id": "1503d75a",
   "metadata": {},
   "outputs": [
    {
     "data": {
      "text/plain": [
       "0.9939334588983236"
      ]
     },
     "execution_count": 61,
     "metadata": {},
     "output_type": "execute_result"
    }
   ],
   "source": [
    "full_log.score(log_model_dat.drop('is_fraud', axis=1), log_model_dat['is_fraud'])"
   ]
  },
  {
   "cell_type": "code",
   "execution_count": 93,
   "id": "22e41c31",
   "metadata": {},
   "outputs": [
    {
     "data": {
      "text/plain": [
       "0.8435893542871304"
      ]
     },
     "execution_count": 93,
     "metadata": {},
     "output_type": "execute_result"
    }
   ],
   "source": [
    "roc_auc_score(log_model_dat['is_fraud'], full_log.predict_proba(log_model_dat.drop('is_fraud', axis=1))[:,1])"
   ]
  },
  {
   "cell_type": "code",
   "execution_count": 62,
   "id": "703e6f53",
   "metadata": {},
   "outputs": [],
   "source": [
    "log_val_dat = pd.concat([\n",
    "    dat_val[['is_fraud'] + scale_cols].reset_index(drop=True),\n",
    "    category_enc_val.reset_index(drop=True),\n",
    "    year_enc_val.reset_index(drop=True),\n",
    "    month_enc_val.reset_index(drop=True),\n",
    "    job_bin_enc_val.reset_index(drop=True)\n",
    "], axis=1)"
   ]
  },
  {
   "cell_type": "code",
   "execution_count": 63,
   "id": "b5d3feb8",
   "metadata": {},
   "outputs": [
    {
     "data": {
      "text/plain": [
       "0.9940197717012281"
      ]
     },
     "execution_count": 63,
     "metadata": {},
     "output_type": "execute_result"
    }
   ],
   "source": [
    "full_log.score(log_val_dat.drop('is_fraud', axis=1), log_val_dat['is_fraud'])"
   ]
  },
  {
   "cell_type": "code",
   "execution_count": 92,
   "id": "7390f3e2",
   "metadata": {},
   "outputs": [
    {
     "data": {
      "text/plain": [
       "0.8579365906977554"
      ]
     },
     "execution_count": 92,
     "metadata": {},
     "output_type": "execute_result"
    }
   ],
   "source": [
    "roc_auc_score(log_val_dat['is_fraud'], full_log.predict_proba(log_val_dat.drop('is_fraud', axis=1))[:,1])"
   ]
  },
  {
   "cell_type": "markdown",
   "id": "8208c62a",
   "metadata": {},
   "source": [
    "Check Feature Importance using Coefficients"
   ]
  },
  {
   "cell_type": "code",
   "execution_count": 64,
   "id": "91175742",
   "metadata": {},
   "outputs": [
    {
     "data": {
      "text/plain": [
       "array([[ 8.16025204e-02,  5.55458422e-02, -1.96746485e-02,\n",
       "         4.51955911e-01,  1.93491097e-01, -2.38291566e-01,\n",
       "         8.45690290e-01,  3.39280463e-01,  1.70556530e+00,\n",
       "        -3.77760679e-01, -4.56693833e-03,  2.94368078e-02,\n",
       "         1.66304966e+00,  3.69135956e-01,  3.56128915e-01,\n",
       "         1.57956499e+00,  6.24784976e-01, -7.63138056e+00,\n",
       "        -3.03810488e-01, -2.42060791e-01,  2.31561470e-01,\n",
       "         3.15165167e-02,  2.74780789e-02, -2.02145988e-01,\n",
       "         3.78837438e-01,  6.69906852e-02, -4.69379834e-02,\n",
       "         1.64724550e-01, -2.05639886e-01, -5.67969466e-01,\n",
       "        -1.01325631e-01, -3.22961062e-01,  8.96671311e+00,\n",
       "        -5.46243580e+00, -4.05014858e+00]])"
      ]
     },
     "execution_count": 64,
     "metadata": {},
     "output_type": "execute_result"
    }
   ],
   "source": [
    "full_log.coef_"
   ]
  },
  {
   "cell_type": "code",
   "execution_count": 65,
   "id": "961feaa2",
   "metadata": {},
   "outputs": [
    {
     "data": {
      "text/plain": [
       "['is_fraud',\n",
       " 'age_at_trans_scale',\n",
       " 'distance_scale',\n",
       " 'city_pop_scale',\n",
       " 'amt_scale',\n",
       " 'category.entertainment',\n",
       " 'category.food_dining',\n",
       " 'category.gas_transport',\n",
       " 'category.grocery_net',\n",
       " 'category.grocery_pos',\n",
       " 'category.health_fitness',\n",
       " 'category.home',\n",
       " 'category.kids_pets',\n",
       " 'category.misc_net',\n",
       " 'category.misc_pos',\n",
       " 'category.personal_care',\n",
       " 'category.shopping_net',\n",
       " 'category.shopping_pos',\n",
       " 'category.travel',\n",
       " 'trans_year.2019',\n",
       " 'trans_year.2020',\n",
       " 'trans_month.1',\n",
       " 'trans_month.10',\n",
       " 'trans_month.11',\n",
       " 'trans_month.12',\n",
       " 'trans_month.2',\n",
       " 'trans_month.3',\n",
       " 'trans_month.4',\n",
       " 'trans_month.5',\n",
       " 'trans_month.6',\n",
       " 'trans_month.7',\n",
       " 'trans_month.8',\n",
       " 'trans_month.9',\n",
       " 'job_bin.0',\n",
       " 'job_bin.1',\n",
       " 'job_bin.2']"
      ]
     },
     "execution_count": 65,
     "metadata": {},
     "output_type": "execute_result"
    }
   ],
   "source": [
    "full_feature_names = log_model_dat.columns.tolist()\n",
    "full_feature_names"
   ]
  },
  {
   "cell_type": "code",
   "execution_count": 69,
   "id": "038782b9",
   "metadata": {},
   "outputs": [
    {
     "data": {
      "text/plain": [
       "age_at_trans_scale         0.081603\n",
       "distance_scale             0.055546\n",
       "city_pop_scale            -0.019675\n",
       "amt_scale                  0.451956\n",
       "category.entertainment     0.193491\n",
       "category.food_dining      -0.238292\n",
       "category.gas_transport     0.845690\n",
       "category.grocery_net       0.339280\n",
       "category.grocery_pos       1.705565\n",
       "category.health_fitness   -0.377761\n",
       "category.home             -0.004567\n",
       "category.kids_pets         0.029437\n",
       "category.misc_net          1.663050\n",
       "category.misc_pos          0.369136\n",
       "category.personal_care     0.356129\n",
       "category.shopping_net      1.579565\n",
       "category.shopping_pos      0.624785\n",
       "category.travel           -7.631381\n",
       "trans_year.2019           -0.303810\n",
       "trans_year.2020           -0.242061\n",
       "trans_month.1              0.231561\n",
       "trans_month.10             0.031517\n",
       "trans_month.11             0.027478\n",
       "trans_month.12            -0.202146\n",
       "trans_month.2              0.378837\n",
       "trans_month.3              0.066991\n",
       "trans_month.4             -0.046938\n",
       "trans_month.5              0.164725\n",
       "trans_month.6             -0.205640\n",
       "trans_month.7             -0.567969\n",
       "trans_month.8             -0.101326\n",
       "trans_month.9             -0.322961\n",
       "job_bin.0                  8.966713\n",
       "job_bin.1                 -5.462436\n",
       "job_bin.2                 -4.050149\n",
       "dtype: float64"
      ]
     },
     "execution_count": 69,
     "metadata": {},
     "output_type": "execute_result"
    }
   ],
   "source": [
    "full_coefs_labeled = pd.Series(full_log.coef_[0])\n",
    "full_coefs_labeled.index = full_feature_names[1:]\n",
    "full_coefs_labeled"
   ]
  },
  {
   "cell_type": "code",
   "execution_count": null,
   "id": "5b3c585f",
   "metadata": {},
   "outputs": [
    {
     "data": {
      "text/plain": [
       "job_bin.0                  8.966713\n",
       "category.travel           -7.631381\n",
       "job_bin.1                 -5.462436\n",
       "job_bin.2                 -4.050149\n",
       "category.grocery_pos       1.705565\n",
       "category.misc_net          1.663050\n",
       "category.shopping_net      1.579565\n",
       "category.gas_transport     0.845690\n",
       "category.shopping_pos      0.624785\n",
       "trans_month.7             -0.567969\n",
       "amt_scale                  0.451956\n",
       "trans_month.2              0.378837\n",
       "category.health_fitness   -0.377761\n",
       "category.misc_pos          0.369136\n",
       "category.personal_care     0.356129\n",
       "category.grocery_net       0.339280\n",
       "trans_month.9             -0.322961\n",
       "trans_year.2019           -0.303810\n",
       "trans_year.2020           -0.242061\n",
       "category.food_dining      -0.238292\n",
       "trans_month.1              0.231561\n",
       "trans_month.6             -0.205640\n",
       "trans_month.12            -0.202146\n",
       "category.entertainment     0.193491\n",
       "trans_month.5              0.164725\n",
       "trans_month.8             -0.101326\n",
       "age_at_trans_scale         0.081603\n",
       "trans_month.3              0.066991\n",
       "distance_scale             0.055546\n",
       "trans_month.4             -0.046938\n",
       "trans_month.10             0.031517\n",
       "category.kids_pets         0.029437\n",
       "trans_month.11             0.027478\n",
       "city_pop_scale            -0.019675\n",
       "category.home             -0.004567\n",
       "dtype: float64"
      ]
     },
     "execution_count": 72,
     "metadata": {},
     "output_type": "execute_result"
    }
   ],
   "source": [
    "full_coefs_labeled = full_coefs_labeled.sort_values(ascending = False, key = lambda x: abs(x))\n",
    "full_coefs_labeled"
   ]
  },
  {
   "cell_type": "code",
   "execution_count": 73,
   "id": "4e88e391",
   "metadata": {},
   "outputs": [
    {
     "data": {
      "text/plain": [
       "35"
      ]
     },
     "execution_count": 73,
     "metadata": {},
     "output_type": "execute_result"
    }
   ],
   "source": [
    "len(full_coefs_labeled)"
   ]
  },
  {
   "cell_type": "code",
   "execution_count": 75,
   "id": "999cfb1c",
   "metadata": {},
   "outputs": [
    {
     "data": {
      "text/plain": [
       "amt_scale                  0.451956\n",
       "trans_month.2              0.378837\n",
       "category.health_fitness   -0.377761\n",
       "category.misc_pos          0.369136\n",
       "category.personal_care     0.356129\n",
       "category.grocery_net       0.339280\n",
       "trans_month.9             -0.322961\n",
       "trans_year.2019           -0.303810\n",
       "trans_year.2020           -0.242061\n",
       "category.food_dining      -0.238292\n",
       "trans_month.1              0.231561\n",
       "trans_month.6             -0.205640\n",
       "trans_month.12            -0.202146\n",
       "category.entertainment     0.193491\n",
       "trans_month.5              0.164725\n",
       "trans_month.8             -0.101326\n",
       "age_at_trans_scale         0.081603\n",
       "trans_month.3              0.066991\n",
       "distance_scale             0.055546\n",
       "trans_month.4             -0.046938\n",
       "trans_month.10             0.031517\n",
       "category.kids_pets         0.029437\n",
       "trans_month.11             0.027478\n",
       "city_pop_scale            -0.019675\n",
       "category.home             -0.004567\n",
       "dtype: float64"
      ]
     },
     "execution_count": 75,
     "metadata": {},
     "output_type": "execute_result"
    }
   ],
   "source": [
    "full_coefs_labeled[10:]"
   ]
  },
  {
   "cell_type": "markdown",
   "id": "6319dfa8",
   "metadata": {},
   "source": [
    "city_pop still has a low contribution to the model with a low coefficient. Age and distance are also on the lower end.\n",
    "\n",
    "job is much higher this time."
   ]
  },
  {
   "cell_type": "markdown",
   "id": "4276494b",
   "metadata": {},
   "source": [
    "##### Base Model"
   ]
  },
  {
   "cell_type": "code",
   "execution_count": null,
   "id": "01f4f487",
   "metadata": {},
   "outputs": [],
   "source": [
    "base_log = LogisticRegression(penalty='none', max_iter = 500)"
   ]
  },
  {
   "cell_type": "code",
   "execution_count": 76,
   "id": "ddb89c66",
   "metadata": {},
   "outputs": [
    {
     "data": {
      "text/plain": [
       "['age_at_trans_scale', 'distance_scale', 'city_pop_scale', 'amt_scale']"
      ]
     },
     "execution_count": 76,
     "metadata": {},
     "output_type": "execute_result"
    }
   ],
   "source": [
    "scale_cols"
   ]
  },
  {
   "cell_type": "code",
   "execution_count": 77,
   "id": "50f2d80d",
   "metadata": {},
   "outputs": [],
   "source": [
    "log_base_model_dat = pd.concat([\n",
    "    dat_tr[['is_fraud'] + ['amt_scale']].reset_index(drop=True),\n",
    "    category_enc_tr.reset_index(drop=True),\n",
    "    year_enc_tr.reset_index(drop=True),\n",
    "    month_enc_tr.reset_index(drop=True),\n",
    "], axis=1)"
   ]
  },
  {
   "cell_type": "code",
   "execution_count": null,
   "id": "3cc2db68",
   "metadata": {},
   "outputs": [
    {
     "data": {
      "text/plain": [
       "0.99366126236617"
      ]
     },
     "execution_count": 78,
     "metadata": {},
     "output_type": "execute_result"
    }
   ],
   "source": [
    "base_log.fit(log_base_model_dat.drop('is_fraud', axis=1), log_base_model_dat['is_fraud'])\n",
    "base_log.score(log_base_model_dat.drop('is_fraud', axis=1), log_base_model_dat['is_fraud'])"
   ]
  },
  {
   "cell_type": "code",
   "execution_count": null,
   "id": "f88e81c1",
   "metadata": {},
   "outputs": [
    {
     "data": {
      "text/plain": [
       "0.8356667976131502"
      ]
     },
     "execution_count": 94,
     "metadata": {},
     "output_type": "execute_result"
    }
   ],
   "source": [
    "roc_auc_score(log_base_model_dat['is_fraud'], base_log.predict_proba(log_base_model_dat.drop('is_fraud', axis=1))[:,1])"
   ]
  },
  {
   "cell_type": "code",
   "execution_count": 79,
   "id": "924fea6c",
   "metadata": {},
   "outputs": [],
   "source": [
    "log_base_val_dat = pd.concat([\n",
    "    dat_val[['is_fraud'] + ['amt_scale']].reset_index(drop=True),\n",
    "    category_enc_val.reset_index(drop=True),\n",
    "    year_enc_val.reset_index(drop=True),\n",
    "    month_enc_val.reset_index(drop=True),\n",
    "], axis=1)"
   ]
  },
  {
   "cell_type": "code",
   "execution_count": 80,
   "id": "184bdccb",
   "metadata": {},
   "outputs": [
    {
     "data": {
      "text/plain": [
       "0.9937117024357942"
      ]
     },
     "execution_count": 80,
     "metadata": {},
     "output_type": "execute_result"
    }
   ],
   "source": [
    "base_log.score(log_base_val_dat.drop('is_fraud', axis=1), log_base_val_dat['is_fraud'])"
   ]
  },
  {
   "cell_type": "code",
   "execution_count": 95,
   "id": "55a38dac",
   "metadata": {},
   "outputs": [
    {
     "data": {
      "text/plain": [
       "0.8483951017745216"
      ]
     },
     "execution_count": 95,
     "metadata": {},
     "output_type": "execute_result"
    }
   ],
   "source": [
    "roc_auc_score(log_base_val_dat['is_fraud'], base_log.predict_proba(log_base_val_dat.drop('is_fraud', axis=1))[:,1])"
   ]
  },
  {
   "cell_type": "markdown",
   "id": "a25a54e7",
   "metadata": {},
   "source": [
    "Check Feature Importance using coefficients"
   ]
  },
  {
   "cell_type": "code",
   "execution_count": 96,
   "id": "1dc3bc33",
   "metadata": {},
   "outputs": [
    {
     "data": {
      "text/plain": [
       "category.travel           -8.677426\n",
       "trans_year.2019           -1.918436\n",
       "trans_year.2020           -1.866376\n",
       "category.grocery_pos       1.555298\n",
       "category.misc_net          1.539183\n",
       "category.shopping_net      1.417961\n",
       "trans_month.7             -0.896123\n",
       "category.gas_transport     0.724323\n",
       "category.health_fitness   -0.563907\n",
       "trans_month.6             -0.523929\n",
       "trans_month.9             -0.497256\n",
       "amt_scale                  0.478363\n",
       "trans_month.8             -0.444815\n",
       "category.shopping_pos      0.411941\n",
       "category.food_dining      -0.387474\n",
       "trans_month.12            -0.375332\n",
       "trans_month.4             -0.264954\n",
       "trans_month.10            -0.237488\n",
       "trans_month.3             -0.228946\n",
       "trans_month.11            -0.203738\n",
       "category.personal_care     0.201641\n",
       "category.home             -0.178576\n",
       "category.misc_pos          0.156791\n",
       "category.kids_pets        -0.137749\n",
       "category.grocery_net       0.136614\n",
       "trans_month.5             -0.133860\n",
       "trans_month.2              0.094748\n",
       "trans_month.1             -0.073119\n",
       "category.entertainment     0.016571\n",
       "dtype: float64"
      ]
     },
     "execution_count": 96,
     "metadata": {},
     "output_type": "execute_result"
    }
   ],
   "source": [
    "# Get coefs and assign feature names as index\n",
    "base_coefs_labeled = pd.Series(base_log.coef_[0])\n",
    "\n",
    "base_feature_names = log_base_model_dat.columns.tolist()\n",
    "base_coefs_labeled.index = base_feature_names[1:]\n",
    "\n",
    "# Sort coefs by absolute value\n",
    "base_coefs_labeled = base_coefs_labeled.sort_values(ascending = False, key = lambda x: abs(x))\n",
    "base_coefs_labeled"
   ]
  },
  {
   "cell_type": "markdown",
   "id": "bfef6a7f",
   "metadata": {},
   "source": [
    "##### Model V1"
   ]
  },
  {
   "cell_type": "markdown",
   "id": "2a04456a",
   "metadata": {},
   "source": [
    "Add job bins"
   ]
  },
  {
   "cell_type": "code",
   "execution_count": 98,
   "id": "a9e4a25f",
   "metadata": {},
   "outputs": [],
   "source": [
    "log_v1 = LogisticRegression(penalty='none', max_iter = 500)"
   ]
  },
  {
   "cell_type": "code",
   "execution_count": 99,
   "id": "c9cb1742",
   "metadata": {},
   "outputs": [],
   "source": [
    "log_v1_model_dat = pd.concat([\n",
    "    dat_tr[['is_fraud'] + ['amt_scale']].reset_index(drop=True),\n",
    "    category_enc_tr.reset_index(drop=True),\n",
    "    year_enc_tr.reset_index(drop=True),\n",
    "    month_enc_tr.reset_index(drop=True),\n",
    "    job_bin_enc_tr.reset_index(drop=True)\n",
    "], axis=1)"
   ]
  },
  {
   "cell_type": "code",
   "execution_count": 100,
   "id": "ee476de1",
   "metadata": {},
   "outputs": [
    {
     "data": {
      "text/plain": [
       "0.8451278963018721"
      ]
     },
     "execution_count": 100,
     "metadata": {},
     "output_type": "execute_result"
    }
   ],
   "source": [
    "log_v1.fit(log_v1_model_dat.drop('is_fraud', axis=1), log_v1_model_dat['is_fraud'])\n",
    "roc_auc_score(log_v1_model_dat['is_fraud'], log_v1.predict_proba(log_v1_model_dat.drop('is_fraud', axis=1))[:,1])"
   ]
  },
  {
   "cell_type": "code",
   "execution_count": 101,
   "id": "f11f120c",
   "metadata": {},
   "outputs": [],
   "source": [
    "log_v1_val_dat = pd.concat([\n",
    "    dat_val[['is_fraud'] + ['amt_scale']].reset_index(drop=True),\n",
    "    category_enc_val.reset_index(drop=True),\n",
    "    year_enc_val.reset_index(drop=True),\n",
    "    month_enc_val.reset_index(drop=True),\n",
    "    job_bin_enc_val.reset_index(drop=True)\n",
    "], axis=1)"
   ]
  },
  {
   "cell_type": "code",
   "execution_count": 102,
   "id": "8c07f478",
   "metadata": {},
   "outputs": [
    {
     "data": {
      "text/plain": [
       "0.8583565088186512"
      ]
     },
     "execution_count": 102,
     "metadata": {},
     "output_type": "execute_result"
    }
   ],
   "source": [
    "roc_auc_score(log_v1_val_dat['is_fraud'], log_v1.predict_proba(log_v1_val_dat.drop('is_fraud', axis=1))[:,1])"
   ]
  },
  {
   "cell_type": "markdown",
   "id": "d78903f5",
   "metadata": {},
   "source": [
    "Job raises AUC-ROC"
   ]
  },
  {
   "cell_type": "markdown",
   "id": "a6897633",
   "metadata": {},
   "source": [
    "##### Model V2"
   ]
  },
  {
   "cell_type": "markdown",
   "id": "83fa2c37",
   "metadata": {},
   "source": [
    "Add age"
   ]
  },
  {
   "cell_type": "code",
   "execution_count": 103,
   "id": "be9710cb",
   "metadata": {},
   "outputs": [],
   "source": [
    "log_v2 = LogisticRegression(penalty='none', max_iter = 500)"
   ]
  },
  {
   "cell_type": "code",
   "execution_count": 104,
   "id": "8f94c608",
   "metadata": {},
   "outputs": [
    {
     "data": {
      "text/plain": [
       "['age_at_trans_scale', 'distance_scale', 'city_pop_scale', 'amt_scale']"
      ]
     },
     "execution_count": 104,
     "metadata": {},
     "output_type": "execute_result"
    }
   ],
   "source": [
    "scale_cols"
   ]
  },
  {
   "cell_type": "code",
   "execution_count": 106,
   "id": "f9aece52",
   "metadata": {},
   "outputs": [],
   "source": [
    "log_v2_model_dat = pd.concat([\n",
    "    dat_tr[['is_fraud'] + scale_cols[:1] + scale_cols[3:]].reset_index(drop=True),\n",
    "    category_enc_tr.reset_index(drop=True),\n",
    "    year_enc_tr.reset_index(drop=True),\n",
    "    month_enc_tr.reset_index(drop=True),\n",
    "    job_bin_enc_tr.reset_index(drop=True)\n",
    "], axis=1)"
   ]
  },
  {
   "cell_type": "code",
   "execution_count": 108,
   "id": "e4e9c996",
   "metadata": {},
   "outputs": [
    {
     "data": {
      "text/plain": [
       "0.8432609785069144"
      ]
     },
     "execution_count": 108,
     "metadata": {},
     "output_type": "execute_result"
    }
   ],
   "source": [
    "log_v2.fit(log_v2_model_dat.drop('is_fraud', axis=1), log_v2_model_dat['is_fraud'])\n",
    "roc_auc_score(log_v2_model_dat['is_fraud'], log_v2.predict_proba(log_v2_model_dat.drop('is_fraud', axis=1))[:,1])"
   ]
  },
  {
   "cell_type": "code",
   "execution_count": 109,
   "id": "6c7ed0c9",
   "metadata": {},
   "outputs": [],
   "source": [
    "log_v2_val_dat = pd.concat([\n",
    "    dat_val[['is_fraud'] + scale_cols[:1] + scale_cols[3:]].reset_index(drop=True),\n",
    "    category_enc_val.reset_index(drop=True),\n",
    "    year_enc_val.reset_index(drop=True),\n",
    "    month_enc_val.reset_index(drop=True),\n",
    "    job_bin_enc_val.reset_index(drop=True)\n",
    "], axis=1)"
   ]
  },
  {
   "cell_type": "code",
   "execution_count": 111,
   "id": "51b24be7",
   "metadata": {},
   "outputs": [
    {
     "data": {
      "text/plain": [
       "0.8580833208223283"
      ]
     },
     "execution_count": 111,
     "metadata": {},
     "output_type": "execute_result"
    }
   ],
   "source": [
    "roc_auc_score(log_v2_val_dat['is_fraud'], log_v2.predict_proba(log_v2_val_dat.drop('is_fraud', axis=1))[:,1])"
   ]
  },
  {
   "cell_type": "markdown",
   "id": "166664ab",
   "metadata": {},
   "source": [
    "Age brings ROC-AUC slightly down but overall comparable."
   ]
  },
  {
   "cell_type": "markdown",
   "id": "6a846355",
   "metadata": {},
   "source": [
    "##### Model V2.2"
   ]
  },
  {
   "cell_type": "markdown",
   "id": "f5e7040d",
   "metadata": {},
   "source": [
    "Add age but binned"
   ]
  },
  {
   "cell_type": "code",
   "execution_count": 31,
   "id": "b342affb",
   "metadata": {},
   "outputs": [],
   "source": [
    "log_v2_2 = LogisticRegression(penalty='none', max_iter = 500)"
   ]
  },
  {
   "cell_type": "code",
   "execution_count": 32,
   "id": "e9d916f4",
   "metadata": {},
   "outputs": [],
   "source": [
    "log_v2_2_model_dat = pd.concat([\n",
    "    dat_tr[['is_fraud'] + ['amt_scale']].reset_index(drop=True),\n",
    "    category_enc_tr.reset_index(drop=True),\n",
    "    year_enc_tr.reset_index(drop=True),\n",
    "    month_enc_tr.reset_index(drop=True),\n",
    "    job_bin_enc_tr.reset_index(drop=True),\n",
    "    age_bin_enc_tr.reset_index(drop=True)\n",
    "], axis=1)"
   ]
  },
  {
   "cell_type": "code",
   "execution_count": 34,
   "id": "bd1fde82",
   "metadata": {},
   "outputs": [
    {
     "data": {
      "text/plain": [
       "0.8430384415571361"
      ]
     },
     "execution_count": 34,
     "metadata": {},
     "output_type": "execute_result"
    }
   ],
   "source": [
    "log_v2_2.fit(log_v2_2_model_dat.drop('is_fraud', axis=1), log_v2_2_model_dat['is_fraud'])\n",
    "roc_auc_score(log_v2_2_model_dat['is_fraud'], log_v2_2.predict_proba(log_v2_2_model_dat.drop('is_fraud', axis=1))[:,1])"
   ]
  },
  {
   "cell_type": "code",
   "execution_count": 35,
   "id": "293d09ea",
   "metadata": {},
   "outputs": [],
   "source": [
    "log_v2_2_val_dat = pd.concat([\n",
    "    dat_val[['is_fraud'] + ['amt_scale']].reset_index(drop=True),\n",
    "    category_enc_val.reset_index(drop=True),\n",
    "    year_enc_val.reset_index(drop=True),\n",
    "    month_enc_val.reset_index(drop=True),\n",
    "    job_bin_enc_val.reset_index(drop=True),\n",
    "    age_bin_enc_val.reset_index(drop=True)\n",
    "], axis=1)"
   ]
  },
  {
   "cell_type": "code",
   "execution_count": 36,
   "id": "4fe71527",
   "metadata": {},
   "outputs": [
    {
     "data": {
      "text/plain": [
       "0.8565792180985474"
      ]
     },
     "execution_count": 36,
     "metadata": {},
     "output_type": "execute_result"
    }
   ],
   "source": [
    "log_v2_2.fit(log_v2_2_val_dat.drop('is_fraud', axis=1), log_v2_2_val_dat['is_fraud'])\n",
    "roc_auc_score(log_v2_2_val_dat['is_fraud'], log_v2_2.predict_proba(log_v2_2_val_dat.drop('is_fraud', axis=1))[:,1])"
   ]
  },
  {
   "cell_type": "markdown",
   "id": "3ff15aa4",
   "metadata": {},
   "source": [
    "Age scaled performs better than age binned"
   ]
  },
  {
   "cell_type": "markdown",
   "id": "ee8e2256",
   "metadata": {},
   "source": [
    "##### Model V3"
   ]
  },
  {
   "cell_type": "markdown",
   "id": "62dd9b0b",
   "metadata": {},
   "source": [
    "Add distance to model v1"
   ]
  },
  {
   "cell_type": "code",
   "execution_count": 38,
   "id": "9ace775b",
   "metadata": {},
   "outputs": [],
   "source": [
    "log_v3 = LogisticRegression(penalty='none', max_iter = 500)"
   ]
  },
  {
   "cell_type": "code",
   "execution_count": 37,
   "id": "31f1676c",
   "metadata": {},
   "outputs": [],
   "source": [
    "log_v3_model_dat = pd.concat([\n",
    "    dat_tr[['is_fraud'] + scale_cols[1:2] + scale_cols[3:]].reset_index(drop=True),\n",
    "    category_enc_tr.reset_index(drop=True),\n",
    "    year_enc_tr.reset_index(drop=True),\n",
    "    month_enc_tr.reset_index(drop=True),\n",
    "    job_bin_enc_tr.reset_index(drop=True)\n",
    "], axis=1)"
   ]
  },
  {
   "cell_type": "code",
   "execution_count": 39,
   "id": "c19aff95",
   "metadata": {},
   "outputs": [
    {
     "data": {
      "text/plain": [
       "0.8452662194996047"
      ]
     },
     "execution_count": 39,
     "metadata": {},
     "output_type": "execute_result"
    }
   ],
   "source": [
    "log_v3.fit(log_v3_model_dat.drop('is_fraud', axis=1), log_v3_model_dat['is_fraud'])\n",
    "roc_auc_score(log_v3_model_dat['is_fraud'], log_v3.predict_proba(log_v3_model_dat.drop('is_fraud', axis=1))[:,1])"
   ]
  },
  {
   "cell_type": "code",
   "execution_count": 40,
   "id": "70e40d4a",
   "metadata": {},
   "outputs": [],
   "source": [
    "log_v3_val_dat = pd.concat([\n",
    "    dat_val[['is_fraud'] + scale_cols[1:2] + scale_cols[3:]].reset_index(drop=True),\n",
    "    category_enc_val.reset_index(drop=True),\n",
    "    year_enc_val.reset_index(drop=True),\n",
    "    month_enc_val.reset_index(drop=True),\n",
    "    job_bin_enc_val.reset_index(drop=True)\n",
    "], axis=1)"
   ]
  },
  {
   "cell_type": "code",
   "execution_count": 41,
   "id": "7c59bdd5",
   "metadata": {},
   "outputs": [
    {
     "data": {
      "text/plain": [
       "0.8580264392928105"
      ]
     },
     "execution_count": 41,
     "metadata": {},
     "output_type": "execute_result"
    }
   ],
   "source": [
    "roc_auc_score(log_v3_val_dat['is_fraud'], log_v3.predict_proba(log_v3_val_dat.drop('is_fraud', axis=1))[:,1])"
   ]
  },
  {
   "cell_type": "markdown",
   "id": "d1d59a0a",
   "metadata": {},
   "source": [
    "Comparable to base model"
   ]
  },
  {
   "cell_type": "markdown",
   "id": "481e519f",
   "metadata": {},
   "source": [
    "##### Model V3.2"
   ]
  },
  {
   "cell_type": "markdown",
   "id": "23fe62bb",
   "metadata": {},
   "source": [
    "Add distance but binned"
   ]
  },
  {
   "cell_type": "code",
   "execution_count": 36,
   "id": "e59a9487",
   "metadata": {},
   "outputs": [],
   "source": [
    "log_v3_2 = LogisticRegression(penalty='none', max_iter = 500)"
   ]
  },
  {
   "cell_type": "code",
   "execution_count": 38,
   "id": "1de99ba6",
   "metadata": {},
   "outputs": [],
   "source": [
    "log_v3_2_model_dat = pd.concat([\n",
    "    dat_tr[['is_fraud'] + ['amt_scale']].reset_index(drop=True),\n",
    "    category_enc_tr.reset_index(drop=True),\n",
    "    year_enc_tr.reset_index(drop=True),\n",
    "    month_enc_tr.reset_index(drop=True),\n",
    "    job_bin_enc_tr.reset_index(drop=True),\n",
    "    dist_bin_enc_tr.reset_index(drop=True),\n",
    "], axis=1)"
   ]
  },
  {
   "cell_type": "code",
   "execution_count": 39,
   "id": "99c94f03",
   "metadata": {},
   "outputs": [
    {
     "data": {
      "text/plain": [
       "0.8454403897042153"
      ]
     },
     "execution_count": 39,
     "metadata": {},
     "output_type": "execute_result"
    }
   ],
   "source": [
    "log_v3_2.fit(log_v3_2_model_dat.drop('is_fraud', axis=1), log_v3_2_model_dat['is_fraud'])\n",
    "roc_auc_score(log_v3_2_model_dat['is_fraud'], log_v3_2.predict_proba(log_v3_2_model_dat.drop('is_fraud', axis=1))[:,1])"
   ]
  },
  {
   "cell_type": "code",
   "execution_count": 40,
   "id": "4b8cce0d",
   "metadata": {},
   "outputs": [],
   "source": [
    "log_v3_2_val_dat = pd.concat([\n",
    "    dat_val[['is_fraud'] + ['amt_scale']].reset_index(drop=True),\n",
    "    category_enc_val.reset_index(drop=True),\n",
    "    year_enc_val.reset_index(drop=True),\n",
    "    month_enc_val.reset_index(drop=True),\n",
    "    job_bin_enc_val.reset_index(drop=True),\n",
    "    dist_bin_enc_val.reset_index(drop=True),\n",
    "], axis=1)"
   ]
  },
  {
   "cell_type": "code",
   "execution_count": 42,
   "id": "87a90d04",
   "metadata": {},
   "outputs": [
    {
     "data": {
      "text/plain": [
       "0.8581212495947693"
      ]
     },
     "execution_count": 42,
     "metadata": {},
     "output_type": "execute_result"
    }
   ],
   "source": [
    "roc_auc_score(log_v3_2_val_dat['is_fraud'], log_v3_2.predict_proba(log_v3_2_val_dat.drop('is_fraud', axis=1))[:,1])"
   ]
  },
  {
   "cell_type": "markdown",
   "id": "7fec64f7",
   "metadata": {},
   "source": [
    "Binned comparable to distance scaled"
   ]
  },
  {
   "cell_type": "markdown",
   "id": "57b1248b",
   "metadata": {},
   "source": [
    "##### Model V4"
   ]
  },
  {
   "cell_type": "markdown",
   "id": "54884e0a",
   "metadata": {},
   "source": [
    "Add city_pop to model v1"
   ]
  },
  {
   "cell_type": "code",
   "execution_count": 42,
   "id": "e412b255",
   "metadata": {},
   "outputs": [],
   "source": [
    "log_v4 = LogisticRegression(penalty='none', max_iter = 500)"
   ]
  },
  {
   "cell_type": "code",
   "execution_count": 43,
   "id": "f1a453a4",
   "metadata": {},
   "outputs": [],
   "source": [
    "log_v4_model_dat = pd.concat([\n",
    "    dat_tr[['is_fraud'] + scale_cols[2:]].reset_index(drop=True),\n",
    "    category_enc_tr.reset_index(drop=True),\n",
    "    year_enc_tr.reset_index(drop=True),\n",
    "    month_enc_tr.reset_index(drop=True),\n",
    "    job_bin_enc_tr.reset_index(drop=True)\n",
    "], axis=1)"
   ]
  },
  {
   "cell_type": "code",
   "execution_count": 44,
   "id": "854195cb",
   "metadata": {},
   "outputs": [
    {
     "data": {
      "text/plain": [
       "0.845168915829817"
      ]
     },
     "execution_count": 44,
     "metadata": {},
     "output_type": "execute_result"
    }
   ],
   "source": [
    "log_v4.fit(log_v4_model_dat.drop('is_fraud', axis=1), log_v4_model_dat['is_fraud'])\n",
    "roc_auc_score(log_v4_model_dat['is_fraud'], log_v4.predict_proba(log_v4_model_dat.drop('is_fraud', axis=1))[:,1])"
   ]
  },
  {
   "cell_type": "code",
   "execution_count": 46,
   "id": "c225cc0c",
   "metadata": {},
   "outputs": [],
   "source": [
    "log_v4_val_dat = pd.concat([\n",
    "    dat_val[['is_fraud'] + scale_cols[2:]].reset_index(drop=True),\n",
    "    category_enc_val.reset_index(drop=True),\n",
    "    year_enc_val.reset_index(drop=True),\n",
    "    month_enc_val.reset_index(drop=True),\n",
    "    job_bin_enc_val.reset_index(drop=True)\n",
    "], axis=1)"
   ]
  },
  {
   "cell_type": "code",
   "execution_count": 47,
   "id": "320e489a",
   "metadata": {},
   "outputs": [
    {
     "data": {
      "text/plain": [
       "0.8585324058426992"
      ]
     },
     "execution_count": 47,
     "metadata": {},
     "output_type": "execute_result"
    }
   ],
   "source": [
    "roc_auc_score(log_v4_val_dat['is_fraud'], log_v4.predict_proba(log_v4_val_dat.drop('is_fraud', axis=1))[:,1])"
   ]
  },
  {
   "cell_type": "markdown",
   "id": "0ef6c68f",
   "metadata": {},
   "source": [
    "Comparable to model v1"
   ]
  },
  {
   "cell_type": "markdown",
   "id": "85d5413c",
   "metadata": {},
   "source": [
    "##### Model V4.2"
   ]
  },
  {
   "cell_type": "markdown",
   "id": "0a1f5162",
   "metadata": {},
   "source": [
    "Add city_pop but binned"
   ]
  },
  {
   "cell_type": "code",
   "execution_count": 46,
   "id": "67c2e4eb",
   "metadata": {},
   "outputs": [],
   "source": [
    "log_v4_2 = LogisticRegression(penalty='none', max_iter = 500)"
   ]
  },
  {
   "cell_type": "code",
   "execution_count": 44,
   "id": "fb5e9fd1",
   "metadata": {},
   "outputs": [],
   "source": [
    "log_v4_2_model_dat = pd.concat([\n",
    "    dat_tr[['is_fraud'] + ['amt_scale']].reset_index(drop=True),\n",
    "    category_enc_tr.reset_index(drop=True),\n",
    "    year_enc_tr.reset_index(drop=True),\n",
    "    month_enc_tr.reset_index(drop=True),\n",
    "    job_bin_enc_tr.reset_index(drop=True),\n",
    "    city_pop_bin_enc_tr.reset_index(drop=True)\n",
    "], axis=1)"
   ]
  },
  {
   "cell_type": "code",
   "execution_count": 47,
   "id": "86230b71",
   "metadata": {},
   "outputs": [
    {
     "data": {
      "text/plain": [
       "0.8451127318659162"
      ]
     },
     "execution_count": 47,
     "metadata": {},
     "output_type": "execute_result"
    }
   ],
   "source": [
    "log_v4_2.fit(log_v4_2_model_dat.drop('is_fraud', axis=1), log_v4_2_model_dat['is_fraud'])\n",
    "roc_auc_score(log_v4_2_model_dat['is_fraud'], log_v4_2.predict_proba(log_v4_2_model_dat.drop('is_fraud', axis=1))[:,1])"
   ]
  },
  {
   "cell_type": "code",
   "execution_count": 48,
   "id": "7eb2c889",
   "metadata": {},
   "outputs": [],
   "source": [
    "log_v4_2_val_dat = pd.concat([\n",
    "    dat_val[['is_fraud'] + ['amt_scale']].reset_index(drop=True),\n",
    "    category_enc_val.reset_index(drop=True),\n",
    "    year_enc_val.reset_index(drop=True),\n",
    "    month_enc_val.reset_index(drop=True),\n",
    "    job_bin_enc_val.reset_index(drop=True),\n",
    "    city_pop_bin_enc_val.reset_index(drop=True)\n",
    "], axis=1)"
   ]
  },
  {
   "cell_type": "code",
   "execution_count": 49,
   "id": "82da43a4",
   "metadata": {},
   "outputs": [
    {
     "data": {
      "text/plain": [
       "0.8578409104076578"
      ]
     },
     "execution_count": 49,
     "metadata": {},
     "output_type": "execute_result"
    }
   ],
   "source": [
    "roc_auc_score(log_v4_2_val_dat['is_fraud'], log_v4_2.predict_proba(log_v4_2_val_dat.drop('is_fraud', axis=1))[:,1])"
   ]
  },
  {
   "cell_type": "markdown",
   "id": "71c6dc5d",
   "metadata": {},
   "source": [
    "Binned comparable to city_pop scaled"
   ]
  },
  {
   "cell_type": "markdown",
   "id": "5e4fe527",
   "metadata": {},
   "source": [
    "##### Lasso Regression"
   ]
  },
  {
   "cell_type": "code",
   "execution_count": 53,
   "id": "5a1bd2e6",
   "metadata": {},
   "outputs": [],
   "source": [
    "lasso = LogisticRegression(penalty='l1', solver='liblinear', max_iter = 500)"
   ]
  },
  {
   "cell_type": "code",
   "execution_count": 54,
   "id": "bfed1095",
   "metadata": {},
   "outputs": [],
   "source": [
    "lasso_model_dat = pd.concat([\n",
    "    dat_tr[['is_fraud'] + scale_cols].reset_index(drop=True),\n",
    "    category_enc_tr.reset_index(drop=True),\n",
    "    year_enc_tr.reset_index(drop=True),\n",
    "    month_enc_tr.reset_index(drop=True),\n",
    "    job_bin_enc_tr.reset_index(drop=True)\n",
    "], axis=1)"
   ]
  },
  {
   "cell_type": "code",
   "execution_count": 55,
   "id": "e8671218",
   "metadata": {},
   "outputs": [
    {
     "data": {
      "text/plain": [
       "0.843551365141928"
      ]
     },
     "execution_count": 55,
     "metadata": {},
     "output_type": "execute_result"
    }
   ],
   "source": [
    "lasso.fit(lasso_model_dat.drop('is_fraud', axis=1), lasso_model_dat['is_fraud'])\n",
    "roc_auc_score(lasso_model_dat['is_fraud'], lasso.predict_proba(lasso_model_dat.drop('is_fraud', axis=1))[:,1])"
   ]
  },
  {
   "cell_type": "code",
   "execution_count": 57,
   "id": "6e1c848d",
   "metadata": {},
   "outputs": [],
   "source": [
    "lasso_val_dat = pd.concat([\n",
    "    dat_val[['is_fraud'] + scale_cols].reset_index(drop=True),\n",
    "    category_enc_val.reset_index(drop=True),\n",
    "    year_enc_val.reset_index(drop=True),\n",
    "    month_enc_val.reset_index(drop=True),\n",
    "    job_bin_enc_val.reset_index(drop=True)\n",
    "], axis=1)"
   ]
  },
  {
   "cell_type": "code",
   "execution_count": 58,
   "id": "adc6b583",
   "metadata": {},
   "outputs": [
    {
     "data": {
      "text/plain": [
       "0.8577418345907559"
      ]
     },
     "execution_count": 58,
     "metadata": {},
     "output_type": "execute_result"
    }
   ],
   "source": [
    "roc_auc_score(lasso_val_dat['is_fraud'], lasso.predict_proba(lasso_val_dat.drop('is_fraud', axis=1))[:,1])"
   ]
  },
  {
   "cell_type": "markdown",
   "id": "dfc11274",
   "metadata": {},
   "source": [
    "Check feature importance using coefficients"
   ]
  },
  {
   "cell_type": "code",
   "execution_count": 59,
   "id": "94c5d819",
   "metadata": {},
   "outputs": [
    {
     "data": {
      "text/plain": [
       "category.travel           -7.442394\n",
       "job_bin.0                  6.232661\n",
       "job_bin.1                 -2.174297\n",
       "category.grocery_pos       1.343006\n",
       "category.misc_net          1.300691\n",
       "category.shopping_net      1.220405\n",
       "job_bin.2                 -0.758421\n",
       "category.health_fitness   -0.706682\n",
       "trans_month.7             -0.580728\n",
       "category.food_dining      -0.569069\n",
       "category.gas_transport     0.479914\n",
       "amt_scale                  0.448844\n",
       "category.home             -0.350994\n",
       "trans_month.2              0.345668\n",
       "trans_month.9             -0.333556\n",
       "category.kids_pets        -0.315981\n",
       "category.shopping_pos      0.264764\n",
       "trans_month.6             -0.226691\n",
       "trans_month.12            -0.218030\n",
       "trans_month.1              0.196602\n",
       "category.entertainment    -0.151469\n",
       "trans_month.5              0.132291\n",
       "trans_month.8             -0.116762\n",
       "age_at_trans_scale         0.081101\n",
       "trans_month.4             -0.067059\n",
       "trans_year.2019           -0.066289\n",
       "distance_scale             0.055013\n",
       "trans_month.3              0.033629\n",
       "city_pop_scale            -0.018546\n",
       "category.grocery_net       0.000000\n",
       "trans_month.11             0.000000\n",
       "trans_year.2020            0.000000\n",
       "category.personal_care     0.000000\n",
       "category.misc_pos          0.000000\n",
       "trans_month.10             0.000000\n",
       "dtype: float64"
      ]
     },
     "execution_count": 59,
     "metadata": {},
     "output_type": "execute_result"
    }
   ],
   "source": [
    "# Get coefs and assign feature names as index\n",
    "lasso_coefs_labeled = pd.Series(lasso.coef_[0])\n",
    "\n",
    "lasso_feature_names = lasso_model_dat.columns.tolist()\n",
    "lasso_coefs_labeled.index = lasso_feature_names[1:]\n",
    "\n",
    "# Sort coefs by absolute value\n",
    "lasso_coefs_labeled = lasso_coefs_labeled.sort_values(ascending = False, key = lambda x: abs(x))\n",
    "lasso_coefs_labeled"
   ]
  },
  {
   "cell_type": "code",
   "execution_count": 60,
   "id": "01da7d51",
   "metadata": {},
   "outputs": [
    {
     "data": {
      "text/plain": [
       "array([False, False, False, False, False, False, False, False, False,\n",
       "       False, False, False, False, False, False, False, False, False,\n",
       "       False, False, False, False, False, False, False, False, False,\n",
       "       False, False,  True,  True,  True,  True,  True,  True])"
      ]
     },
     "execution_count": 60,
     "metadata": {},
     "output_type": "execute_result"
    }
   ],
   "source": [
    "lasso_coefs_labeled.values == 0"
   ]
  },
  {
   "cell_type": "code",
   "execution_count": 61,
   "id": "644dc440",
   "metadata": {},
   "outputs": [
    {
     "data": {
      "text/plain": [
       "category.grocery_net      0.0\n",
       "trans_month.11            0.0\n",
       "trans_year.2020           0.0\n",
       "category.personal_care    0.0\n",
       "category.misc_pos         0.0\n",
       "trans_month.10            0.0\n",
       "dtype: float64"
      ]
     },
     "execution_count": 61,
     "metadata": {},
     "output_type": "execute_result"
    }
   ],
   "source": [
    "lasso_coefs_labeled[-6:]"
   ]
  },
  {
   "cell_type": "markdown",
   "id": "d5684acb",
   "metadata": {},
   "source": [
    "No full variables are brought to 0 only specific categories. Selected all features."
   ]
  },
  {
   "cell_type": "markdown",
   "id": "416055a0",
   "metadata": {},
   "source": [
    "#### SVM"
   ]
  },
  {
   "cell_type": "markdown",
   "id": "84a2ad3a",
   "metadata": {},
   "source": [
    "scale features, < 100, use kernel, balance classes"
   ]
  },
  {
   "cell_type": "markdown",
   "id": "53446465",
   "metadata": {},
   "source": [
    "#### XGBoost"
   ]
  }
 ],
 "metadata": {
  "kernelspec": {
   "display_name": "base",
   "language": "python",
   "name": "python3"
  },
  "language_info": {
   "codemirror_mode": {
    "name": "ipython",
    "version": 3
   },
   "file_extension": ".py",
   "mimetype": "text/x-python",
   "name": "python",
   "nbconvert_exporter": "python",
   "pygments_lexer": "ipython3",
   "version": "3.9.12"
  }
 },
 "nbformat": 4,
 "nbformat_minor": 5
}
