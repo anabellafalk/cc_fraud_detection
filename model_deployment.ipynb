{
 "cells": [
  {
   "cell_type": "code",
   "execution_count": 1,
   "id": "3c5ea369",
   "metadata": {},
   "outputs": [],
   "source": [
    "import model_pipeline as mp"
   ]
  },
  {
   "cell_type": "markdown",
   "id": "d8f84990",
   "metadata": {},
   "source": [
    "Save model object for deployment"
   ]
  },
  {
   "cell_type": "code",
   "execution_count": 2,
   "id": "6d687f53",
   "metadata": {},
   "outputs": [
    {
     "name": "stdout",
     "output_type": "stream",
     "text": [
      "Path to dataset files: /Users/anabellafalk/.cache/kagglehub/datasets/kartik2112/fraud-detection/versions/1\n"
     ]
    }
   ],
   "source": [
    "mp.fit_save_model('rfc_model')"
   ]
  },
  {
   "cell_type": "code",
   "execution_count": null,
   "id": "39e3467b",
   "metadata": {},
   "outputs": [],
   "source": []
  }
 ],
 "metadata": {
  "kernelspec": {
   "display_name": "base",
   "language": "python",
   "name": "python3"
  },
  "language_info": {
   "codemirror_mode": {
    "name": "ipython",
    "version": 3
   },
   "file_extension": ".py",
   "mimetype": "text/x-python",
   "name": "python",
   "nbconvert_exporter": "python",
   "pygments_lexer": "ipython3",
   "version": "3.9.12"
  }
 },
 "nbformat": 4,
 "nbformat_minor": 5
}
